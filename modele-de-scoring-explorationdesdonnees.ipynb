{
 "cells": [
  {
   "cell_type": "code",
   "execution_count": 1,
   "id": "978321c8",
   "metadata": {
    "_cell_guid": "b1076dfc-b9ad-4769-8c92-a6c4dae69d19",
    "_uuid": "8f2839f25d086af736a60e9eeb907d3b93b6e0e5",
    "execution": {
     "iopub.execute_input": "2022-09-08T10:04:04.056611Z",
     "iopub.status.busy": "2022-09-08T10:04:04.056209Z",
     "iopub.status.idle": "2022-09-08T10:04:04.068284Z",
     "shell.execute_reply": "2022-09-08T10:04:04.067320Z"
    },
    "papermill": {
     "duration": 0.017533,
     "end_time": "2022-09-08T10:04:04.070077",
     "exception": false,
     "start_time": "2022-09-08T10:04:04.052544",
     "status": "completed"
    },
    "tags": []
   },
   "outputs": [
    {
     "name": "stdout",
     "output_type": "stream",
     "text": [
      "/kaggle/input/home-credit-default-risk/sample_submission.csv\n",
      "/kaggle/input/home-credit-default-risk/bureau_balance.csv\n",
      "/kaggle/input/home-credit-default-risk/POS_CASH_balance.csv\n",
      "/kaggle/input/home-credit-default-risk/application_train.csv\n",
      "/kaggle/input/home-credit-default-risk/HomeCredit_columns_description.csv\n",
      "/kaggle/input/home-credit-default-risk/application_test.csv\n",
      "/kaggle/input/home-credit-default-risk/previous_application.csv\n",
      "/kaggle/input/home-credit-default-risk/credit_card_balance.csv\n",
      "/kaggle/input/home-credit-default-risk/installments_payments.csv\n",
      "/kaggle/input/home-credit-default-risk/bureau.csv\n"
     ]
    }
   ],
   "source": [
    "# This Python 3 environment comes with many helpful analytics libraries installed\n",
    "# It is defined by the kaggle/python Docker image: https://github.com/kaggle/docker-python\n",
    "# For example, here's several helpful packages to load\n",
    "\n",
    "import numpy as np # linear algebra\n",
    "import pandas as pd # data processing, CSV file I/O (e.g. pd.read_csv)\n",
    "\n",
    "# Input data files are available in the read-only \"../input/\" directory\n",
    "# For example, running this (by clicking run or pressing Shift+Enter) will list all files under the input directory\n",
    "\n",
    "import os\n",
    "for dirname, _, filenames in os.walk('/kaggle/input'):\n",
    "    for filename in filenames:\n",
    "        print(os.path.join(dirname, filename))\n",
    "\n",
    "# You can write up to 20GB to the current directory (/kaggle/working/) that gets preserved as output when you create a version using \"Save & Run All\" \n",
    "# You can also write temporary files to /kaggle/temp/, but they won't be saved outside of the current session"
   ]
  },
  {
   "cell_type": "code",
   "execution_count": 2,
   "id": "ffc65037",
   "metadata": {
    "execution": {
     "iopub.execute_input": "2022-09-08T10:04:04.076083Z",
     "iopub.status.busy": "2022-09-08T10:04:04.074609Z",
     "iopub.status.idle": "2022-09-08T10:04:04.080100Z",
     "shell.execute_reply": "2022-09-08T10:04:04.079232Z"
    },
    "papermill": {
     "duration": 0.01005,
     "end_time": "2022-09-08T10:04:04.081889",
     "exception": false,
     "start_time": "2022-09-08T10:04:04.071839",
     "status": "completed"
    },
    "tags": []
   },
   "outputs": [],
   "source": [
    "chemin_des_fichiers = \"../input/home-credit-default-risk/\""
   ]
  },
  {
   "cell_type": "code",
   "execution_count": null,
   "id": "5608ec0a",
   "metadata": {
    "papermill": {
     "duration": 0.001178,
     "end_time": "2022-09-08T10:04:04.084619",
     "exception": false,
     "start_time": "2022-09-08T10:04:04.083441",
     "status": "completed"
    },
    "tags": []
   },
   "outputs": [],
   "source": []
  }
 ],
 "metadata": {
  "kernelspec": {
   "display_name": "Python 3",
   "language": "python",
   "name": "python3"
  },
  "language_info": {
   "codemirror_mode": {
    "name": "ipython",
    "version": 3
   },
   "file_extension": ".py",
   "mimetype": "text/x-python",
   "name": "python",
   "nbconvert_exporter": "python",
   "pygments_lexer": "ipython3",
   "version": "3.7.12"
  },
  "papermill": {
   "default_parameters": {},
   "duration": 8.055976,
   "end_time": "2022-09-08T10:04:04.606285",
   "environment_variables": {},
   "exception": null,
   "input_path": "__notebook__.ipynb",
   "output_path": "__notebook__.ipynb",
   "parameters": {},
   "start_time": "2022-09-08T10:03:56.550309",
   "version": "2.3.4"
  }
 },
 "nbformat": 4,
 "nbformat_minor": 5
}
