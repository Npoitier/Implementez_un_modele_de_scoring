{
  "cells": [
    {
      "cell_type": "markdown",
      "metadata": {
        "id": "view-in-github",
        "colab_type": "text"
      },
      "source": [
        "<a href=\"https://colab.research.google.com/github/Npoitier/Implementez_un_modele_de_scoring/blob/main/P7_choix_du_model.ipynb\" target=\"_parent\"><img src=\"https://colab.research.google.com/assets/colab-badge.svg\" alt=\"Open In Colab\"/></a>"
      ]
    },
    {
      "cell_type": "markdown",
      "id": "7b873ac3",
      "metadata": {
        "id": "7b873ac3"
      },
      "source": [
        "# <span id=\"rt\" style=\"font-family:Latin fonts;font-size:1.8em;\">Sommaire</span>\n",
        "0. [Ressources Projet](#s0) <br>\n",
        "    0.1. [Imports](#s0_1) <br>\n",
        "    0.2. [Constantes](#s0_2) <br>\n",
        "    0.3. [Fonctions](#s0_3) <br>\n",
        "    0.4. [Feature Engineering](#s0_4) <br>\n",
        "1. [Données déséquilibrées](#s1) <br>\n",
        "    1.1. [Undersampling / Tomek Links](#s1_1) <br>\n",
        "    1.2. [Oversampling / Smote](#s1_2) <br>\n",
        "    1.3. [Métriques](#s1_3) <br>\n",
        "2. [Classification supervisée](#s2) <br>\n",
        "3. [Fixer les hypers-paramètres](#s3) <br>\n",
        "4. [Choix de l'algorythme](#s4) <br>"
      ]
    },
    {
      "cell_type": "markdown",
      "source": [],
      "metadata": {
        "id": "d0W0weo8puuP"
      },
      "id": "d0W0weo8puuP"
    },
    {
      "cell_type": "markdown",
      "id": "cf860a7e",
      "metadata": {
        "id": "cf860a7e"
      },
      "source": [
        "# <span id=\"s0\" style=\"font-family:Latin fonts;font-size:1.8em;\"> 0. Ressources Projet</span><br>\n",
        "[Sommaire](#rt)"
      ]
    },
    {
      "cell_type": "raw",
      "id": "e8f924b6",
      "metadata": {
        "id": "e8f924b6"
      },
      "source": [
        "pip install imblearn"
      ]
    },
    {
      "cell_type": "markdown",
      "id": "f13b52dd",
      "metadata": {
        "id": "f13b52dd"
      },
      "source": [
        "## <span id=\"s0_1\" style=\"font-family:Latin fonts;font-size:1.6em;\">Imports</span><br>\n",
        "[Sommaire](#rt)"
      ]
    },
    {
      "cell_type": "code",
      "execution_count": 6,
      "id": "57d9e96f",
      "metadata": {
        "id": "57d9e96f"
      },
      "outputs": [],
      "source": [
        "import numpy as np\n",
        "import pandas as pd\n",
        "import gc\n",
        "import time\n",
        "from contextlib import contextmanager\n",
        "# from lightgbm import LGBMClassifier\n",
        "from sklearn.metrics import roc_auc_score, roc_curve\n",
        "from sklearn.model_selection import KFold, StratifiedKFold\n",
        "import matplotlib.pyplot as plt\n",
        "import seaborn as sns\n",
        "import warnings\n",
        "warnings.simplefilter(action='ignore', category=FutureWarning)\n",
        "\n",
        "from sklearn.model_selection import train_test_split\n",
        "\n",
        "#from sklearn.pipeline import make_pipeline\n",
        "from imblearn.under_sampling import TomekLinks\n",
        "from sklearn.preprocessing import RobustScaler, OneHotEncoder\n",
        "from sklearn.impute import SimpleImputer\n",
        "\n",
        "# from sklearn.pipeline import Pipeline\n",
        "from sklearn import set_config\n",
        "set_config(display='diagram') \n",
        "# from sklearn.compose import ColumnTransformer\n",
        "from sklearn.compose import ColumnTransformer\n",
        "from imblearn.pipeline import make_pipeline, Pipeline \n",
        "from sklearn.preprocessing import FunctionTransformer"
      ]
    },
    {
      "cell_type": "markdown",
      "source": [],
      "metadata": {
        "id": "GaKUsb5Um6k7"
      },
      "id": "GaKUsb5Um6k7"
    },
    {
      "cell_type": "code",
      "source": [
        "from google.colab import drive\n",
        "\n",
        "drive.mount('/content/drive')"
      ],
      "metadata": {
        "colab": {
          "base_uri": "https://localhost:8080/"
        },
        "id": "-BGE8wIZm8eJ",
        "outputId": "10dcaccd-b1d6-4100-fa3e-3d14e4b09854"
      },
      "id": "-BGE8wIZm8eJ",
      "execution_count": 7,
      "outputs": [
        {
          "output_type": "stream",
          "name": "stdout",
          "text": [
            "Mounted at /content/drive\n"
          ]
        }
      ]
    },
    {
      "cell_type": "markdown",
      "id": "35c4cf9c",
      "metadata": {
        "id": "35c4cf9c"
      },
      "source": [
        "## <span id=\"s0_2\" style=\"font-family:Latin fonts;font-size:1.6em;\">Constantes</span><br>\n",
        "[Sommaire](#rt)"
      ]
    },
    {
      "cell_type": "code",
      "execution_count": 8,
      "id": "8e2dedff",
      "metadata": {
        "id": "8e2dedff"
      },
      "outputs": [],
      "source": [
        "chemin = 'drive/My Drive/Colab Notebooks/input/'\n",
        "chemin_save = 'drive/My Drive/Colab Notebooks/'"
      ]
    },
    {
      "cell_type": "markdown",
      "id": "85e30090",
      "metadata": {
        "id": "85e30090"
      },
      "source": [
        "## <span id=\"s0_3\" style=\"font-family:Latin fonts;font-size:1.6em;\">Fonctions</span><br>\n",
        "[Sommaire](#rt)"
      ]
    },
    {
      "cell_type": "code",
      "execution_count": null,
      "id": "c89068dc",
      "metadata": {
        "id": "c89068dc"
      },
      "outputs": [],
      "source": [
        "# One-hot encoding for categorical columns with get_dummies\n",
        "def one_hot_encoder(df, nan_as_category = True):\n",
        "    original_columns = list(df.columns)\n",
        "    categorical_columns = [col for col in df.columns if df[col].dtype == 'object']\n",
        "    df = pd.get_dummies(df, columns= categorical_columns, dummy_na= nan_as_category)\n",
        "    new_columns = [c for c in df.columns if c not in original_columns]\n",
        "    return df, new_columns"
      ]
    },
    {
      "cell_type": "code",
      "source": [
        "def df_list_colonnes(df):\n",
        "  df = df.convert_dtypes()\n",
        "  categorical_columns = [col for col in df.columns if df[col].dtype == 'string']\n",
        "  discret_columns = [col for col in df.columns if df[col].dtype == 'Int64']\n",
        "  float_columns = [col for col in df.columns if df[col].dtype == 'Float64']\n",
        "  return categorical_columns, discret_columns, float_columns"
      ],
      "metadata": {
        "id": "4JiOWqIEgYy-"
      },
      "execution_count": 9,
      "outputs": [],
      "id": "4JiOWqIEgYy-"
    },
    {
      "cell_type": "markdown",
      "id": "8cc8b8d4",
      "metadata": {
        "id": "8cc8b8d4"
      },
      "source": [
        "## <span id=\"s0_4\" style=\"font-family:Latin fonts;font-size:1.6em;\">Feature Engineering</span><br>\n",
        "\n",
        "On reprend intégralement le code proposé sur le notebook [https://www.kaggle.com/code/jsaguiar/lightgbm-with-simple-features/script](https://www.kaggle.com/code/jsaguiar/lightgbm-with-simple-features/script) <br>\n",
        "On va juste différer les encodages catégoriels des catégories au niveau du client (application_train_test) pour l'application de Smote. <br>\n",
        "Les catégories des fichiers autres que client, sont utilisés comme des regroupements et ne sont donc pas exclusifs au niveau du client <br>\n",
        "[Sommaire](#rt)"
      ]
    },
    {
      "cell_type": "code",
      "execution_count": null,
      "id": "782e35e5",
      "metadata": {
        "id": "782e35e5"
      },
      "outputs": [],
      "source": [
        "@contextmanager\n",
        "def timer(title):\n",
        "    t0 = time.time()\n",
        "    yield\n",
        "    print(\"{} - done in {:.0f}s\".format(title, time.time() - t0))\n",
        "    \n",
        "# Preprocess application_train.csv and application_test.csv\n",
        "def application_train_test(num_rows = None, nan_as_category = False):\n",
        "    # Read data and merge\n",
        "    df = pd.read_csv(chemin+'application_train.csv', nrows= num_rows)\n",
        "    test_df = pd.read_csv(chemin+'application_test.csv', nrows= num_rows)\n",
        "    print(\"Train samples: {}, test samples: {}\".format(len(df), len(test_df)))\n",
        "    df = df.append(test_df).reset_index()\n",
        "    # Optional: Remove 4 applications with XNA CODE_GENDER (train set)\n",
        "    df = df[df['CODE_GENDER'] != 'XNA']\n",
        "    \n",
        "    # Categorical features with Binary encode (0 or 1; two categories)\n",
        "    # for bin_feature in ['CODE_GENDER', 'FLAG_OWN_CAR', 'FLAG_OWN_REALTY']:\n",
        "    #    df[bin_feature], uniques = pd.factorize(df[bin_feature])\n",
        "    # Categorical features with One-Hot encode\n",
        "    # df, cat_cols = one_hot_encoder(df, nan_as_category)\n",
        "    \n",
        "    # NaN values for DAYS_EMPLOYED: 365.243 -> nan\n",
        "    df['DAYS_EMPLOYED'].replace(365243, np.nan, inplace= True)\n",
        "    # Some simple new features (percentages)\n",
        "    df['DAYS_EMPLOYED_PERC'] = df['DAYS_EMPLOYED'] / df['DAYS_BIRTH']\n",
        "    df['INCOME_CREDIT_PERC'] = df['AMT_INCOME_TOTAL'] / df['AMT_CREDIT']\n",
        "    df['INCOME_PER_PERSON'] = df['AMT_INCOME_TOTAL'] / df['CNT_FAM_MEMBERS']\n",
        "    df['ANNUITY_INCOME_PERC'] = df['AMT_ANNUITY'] / df['AMT_INCOME_TOTAL']\n",
        "    df['PAYMENT_RATE'] = df['AMT_ANNUITY'] / df['AMT_CREDIT']\n",
        "    del test_df\n",
        "    gc.collect()\n",
        "    return df\n",
        "\n",
        "# Preprocess bureau.csv and bureau_balance.csv\n",
        "def bureau_and_balance(num_rows = None, nan_as_category = True):\n",
        "    bureau = pd.read_csv(chemin+'bureau.csv', nrows = num_rows)\n",
        "    bb = pd.read_csv(chemin+'bureau_balance.csv', nrows = num_rows)\n",
        "    bb, bb_cat = one_hot_encoder(bb, nan_as_category)\n",
        "    bureau, bureau_cat = one_hot_encoder(bureau, nan_as_category)\n",
        "    \n",
        "    # Bureau balance: Perform aggregations and merge with bureau.csv\n",
        "    bb_aggregations = {'MONTHS_BALANCE': ['min', 'max', 'size']}\n",
        "    for col in bb_cat:\n",
        "        bb_aggregations[col] = ['mean']\n",
        "    bb_agg = bb.groupby('SK_ID_BUREAU').agg(bb_aggregations)\n",
        "    bb_agg.columns = pd.Index([e[0] + \"_\" + e[1].upper() for e in bb_agg.columns.tolist()])\n",
        "    bureau = bureau.join(bb_agg, how='left', on='SK_ID_BUREAU')\n",
        "    bureau.drop(['SK_ID_BUREAU'], axis=1, inplace= True)\n",
        "    del bb, bb_agg\n",
        "    gc.collect()\n",
        "    \n",
        "    # Bureau and bureau_balance numeric features\n",
        "    num_aggregations = {\n",
        "        'DAYS_CREDIT': ['min', 'max', 'mean', 'var'],\n",
        "        'DAYS_CREDIT_ENDDATE': ['min', 'max', 'mean'],\n",
        "        'DAYS_CREDIT_UPDATE': ['mean'],\n",
        "        'CREDIT_DAY_OVERDUE': ['max', 'mean'],\n",
        "        'AMT_CREDIT_MAX_OVERDUE': ['mean'],\n",
        "        'AMT_CREDIT_SUM': ['max', 'mean', 'sum'],\n",
        "        'AMT_CREDIT_SUM_DEBT': ['max', 'mean', 'sum'],\n",
        "        'AMT_CREDIT_SUM_OVERDUE': ['mean'],\n",
        "        'AMT_CREDIT_SUM_LIMIT': ['mean', 'sum'],\n",
        "        'AMT_ANNUITY': ['max', 'mean'],\n",
        "        'CNT_CREDIT_PROLONG': ['sum'],\n",
        "        'MONTHS_BALANCE_MIN': ['min'],\n",
        "        'MONTHS_BALANCE_MAX': ['max'],\n",
        "        'MONTHS_BALANCE_SIZE': ['mean', 'sum']\n",
        "    }\n",
        "    # Bureau and bureau_balance categorical features\n",
        "    cat_aggregations = {}\n",
        "    for cat in bureau_cat: cat_aggregations[cat] = ['mean']\n",
        "    for cat in bb_cat: cat_aggregations[cat + \"_MEAN\"] = ['mean']\n",
        "    \n",
        "    bureau_agg = bureau.groupby('SK_ID_CURR').agg({**num_aggregations, **cat_aggregations})\n",
        "    bureau_agg.columns = pd.Index(['BURO_' + e[0] + \"_\" + e[1].upper() for e in bureau_agg.columns.tolist()])\n",
        "    # Bureau: Active credits - using only numerical aggregations\n",
        "    active = bureau[bureau['CREDIT_ACTIVE_Active'] == 1]\n",
        "    active_agg = active.groupby('SK_ID_CURR').agg(num_aggregations)\n",
        "    active_agg.columns = pd.Index(['ACTIVE_' + e[0] + \"_\" + e[1].upper() for e in active_agg.columns.tolist()])\n",
        "    bureau_agg = bureau_agg.join(active_agg, how='left', on='SK_ID_CURR')\n",
        "    del active, active_agg\n",
        "    gc.collect()\n",
        "    # Bureau: Closed credits - using only numerical aggregations\n",
        "    closed = bureau[bureau['CREDIT_ACTIVE_Closed'] == 1]\n",
        "    closed_agg = closed.groupby('SK_ID_CURR').agg(num_aggregations)\n",
        "    closed_agg.columns = pd.Index(['CLOSED_' + e[0] + \"_\" + e[1].upper() for e in closed_agg.columns.tolist()])\n",
        "    bureau_agg = bureau_agg.join(closed_agg, how='left', on='SK_ID_CURR')\n",
        "    del closed, closed_agg, bureau\n",
        "    gc.collect()\n",
        "    return bureau_agg\n",
        "\n",
        "# Preprocess previous_applications.csv\n",
        "def previous_applications(num_rows = None, nan_as_category = True):\n",
        "    prev = pd.read_csv(chemin+'previous_application.csv', nrows = num_rows)\n",
        "    prev, cat_cols = one_hot_encoder(prev, nan_as_category= True)\n",
        "    # Days 365.243 values -> nan\n",
        "    prev['DAYS_FIRST_DRAWING'].replace(365243, np.nan, inplace= True)\n",
        "    prev['DAYS_FIRST_DUE'].replace(365243, np.nan, inplace= True)\n",
        "    prev['DAYS_LAST_DUE_1ST_VERSION'].replace(365243, np.nan, inplace= True)\n",
        "    prev['DAYS_LAST_DUE'].replace(365243, np.nan, inplace= True)\n",
        "    prev['DAYS_TERMINATION'].replace(365243, np.nan, inplace= True)\n",
        "    # Add feature: value ask / value received percentage\n",
        "    prev['APP_CREDIT_PERC'] = prev['AMT_APPLICATION'] / prev['AMT_CREDIT']\n",
        "    # Previous applications numeric features\n",
        "    num_aggregations = {\n",
        "        'AMT_ANNUITY': ['min', 'max', 'mean'],\n",
        "        'AMT_APPLICATION': ['min', 'max', 'mean'],\n",
        "        'AMT_CREDIT': ['min', 'max', 'mean'],\n",
        "        'APP_CREDIT_PERC': ['min', 'max', 'mean', 'var'],\n",
        "        'AMT_DOWN_PAYMENT': ['min', 'max', 'mean'],\n",
        "        'AMT_GOODS_PRICE': ['min', 'max', 'mean'],\n",
        "        'HOUR_APPR_PROCESS_START': ['min', 'max', 'mean'],\n",
        "        'RATE_DOWN_PAYMENT': ['min', 'max', 'mean'],\n",
        "        'DAYS_DECISION': ['min', 'max', 'mean'],\n",
        "        'CNT_PAYMENT': ['mean', 'sum'],\n",
        "    }\n",
        "    # Previous applications categorical features\n",
        "    cat_aggregations = {}\n",
        "    for cat in cat_cols:\n",
        "        cat_aggregations[cat] = ['mean']\n",
        "    \n",
        "    prev_agg = prev.groupby('SK_ID_CURR').agg({**num_aggregations, **cat_aggregations})\n",
        "    prev_agg.columns = pd.Index(['PREV_' + e[0] + \"_\" + e[1].upper() for e in prev_agg.columns.tolist()])\n",
        "    # Previous Applications: Approved Applications - only numerical features\n",
        "    approved = prev[prev['NAME_CONTRACT_STATUS_Approved'] == 1]\n",
        "    approved_agg = approved.groupby('SK_ID_CURR').agg(num_aggregations)\n",
        "    approved_agg.columns = pd.Index(['APPROVED_' + e[0] + \"_\" + e[1].upper() for e in approved_agg.columns.tolist()])\n",
        "    prev_agg = prev_agg.join(approved_agg, how='left', on='SK_ID_CURR')\n",
        "    # Previous Applications: Refused Applications - only numerical features\n",
        "    refused = prev[prev['NAME_CONTRACT_STATUS_Refused'] == 1]\n",
        "    refused_agg = refused.groupby('SK_ID_CURR').agg(num_aggregations)\n",
        "    refused_agg.columns = pd.Index(['REFUSED_' + e[0] + \"_\" + e[1].upper() for e in refused_agg.columns.tolist()])\n",
        "    prev_agg = prev_agg.join(refused_agg, how='left', on='SK_ID_CURR')\n",
        "    del refused, refused_agg, approved, approved_agg, prev\n",
        "    gc.collect()\n",
        "    return prev_agg\n",
        "\n",
        "# Preprocess POS_CASH_balance.csv\n",
        "def pos_cash(num_rows = None, nan_as_category = True):\n",
        "    pos = pd.read_csv(chemin+'POS_CASH_balance.csv', nrows = num_rows)\n",
        "    pos, cat_cols = one_hot_encoder(pos, nan_as_category= True)\n",
        "    # Features\n",
        "    aggregations = {\n",
        "        'MONTHS_BALANCE': ['max', 'mean', 'size'],\n",
        "        'SK_DPD': ['max', 'mean'],\n",
        "        'SK_DPD_DEF': ['max', 'mean']\n",
        "    }\n",
        "    for cat in cat_cols:\n",
        "        aggregations[cat] = ['mean']\n",
        "    \n",
        "    pos_agg = pos.groupby('SK_ID_CURR').agg(aggregations)\n",
        "    pos_agg.columns = pd.Index(['POS_' + e[0] + \"_\" + e[1].upper() for e in pos_agg.columns.tolist()])\n",
        "    # Count pos cash accounts\n",
        "    pos_agg['POS_COUNT'] = pos.groupby('SK_ID_CURR').size()\n",
        "    del pos\n",
        "    gc.collect()\n",
        "    return pos_agg\n",
        "    \n",
        "# Preprocess installments_payments.csv\n",
        "def installments_payments(num_rows = None, nan_as_category = True):\n",
        "    ins = pd.read_csv(chemin+'installments_payments.csv', nrows = num_rows)\n",
        "    ins, cat_cols = one_hot_encoder(ins, nan_as_category= True)\n",
        "    # Percentage and difference paid in each installment (amount paid and installment value)\n",
        "    ins['PAYMENT_PERC'] = ins['AMT_PAYMENT'] / ins['AMT_INSTALMENT']\n",
        "    ins['PAYMENT_DIFF'] = ins['AMT_INSTALMENT'] - ins['AMT_PAYMENT']\n",
        "    # Days past due and days before due (no negative values)\n",
        "    ins['DPD'] = ins['DAYS_ENTRY_PAYMENT'] - ins['DAYS_INSTALMENT']\n",
        "    ins['DBD'] = ins['DAYS_INSTALMENT'] - ins['DAYS_ENTRY_PAYMENT']\n",
        "    ins['DPD'] = ins['DPD'].apply(lambda x: x if x > 0 else 0)\n",
        "    ins['DBD'] = ins['DBD'].apply(lambda x: x if x > 0 else 0)\n",
        "    # Features: Perform aggregations\n",
        "    aggregations = {\n",
        "        'NUM_INSTALMENT_VERSION': ['nunique'],\n",
        "        'DPD': ['max', 'mean', 'sum'],\n",
        "        'DBD': ['max', 'mean', 'sum'],\n",
        "        'PAYMENT_PERC': ['max', 'mean', 'sum', 'var'],\n",
        "        'PAYMENT_DIFF': ['max', 'mean', 'sum', 'var'],\n",
        "        'AMT_INSTALMENT': ['max', 'mean', 'sum'],\n",
        "        'AMT_PAYMENT': ['min', 'max', 'mean', 'sum'],\n",
        "        'DAYS_ENTRY_PAYMENT': ['max', 'mean', 'sum']\n",
        "    }\n",
        "    for cat in cat_cols:\n",
        "        aggregations[cat] = ['mean']\n",
        "    ins_agg = ins.groupby('SK_ID_CURR').agg(aggregations)\n",
        "    ins_agg.columns = pd.Index(['INSTAL_' + e[0] + \"_\" + e[1].upper() for e in ins_agg.columns.tolist()])\n",
        "    # Count installments accounts\n",
        "    ins_agg['INSTAL_COUNT'] = ins.groupby('SK_ID_CURR').size()\n",
        "    del ins\n",
        "    gc.collect()\n",
        "    return ins_agg\n",
        "\n",
        "# Preprocess credit_card_balance.csv\n",
        "def credit_card_balance(num_rows = None, nan_as_category = True):\n",
        "    cc = pd.read_csv(chemin+'credit_card_balance.csv', nrows = num_rows)\n",
        "    cc, cat_cols = one_hot_encoder(cc, nan_as_category= True)\n",
        "    # General aggregations\n",
        "    cc.drop(['SK_ID_PREV'], axis= 1, inplace = True)\n",
        "    cc_agg = cc.groupby('SK_ID_CURR').agg(['min', 'max', 'mean', 'sum', 'var'])\n",
        "    cc_agg.columns = pd.Index(['CC_' + e[0] + \"_\" + e[1].upper() for e in cc_agg.columns.tolist()])\n",
        "    # Count credit card lines\n",
        "    cc_agg['CC_COUNT'] = cc.groupby('SK_ID_CURR').size()\n",
        "    del cc\n",
        "    gc.collect()\n",
        "    return cc_agg\n",
        "\n",
        "    \n",
        "\n",
        "def main(debug = False):\n",
        "    num_rows = 10000 if debug else None\n",
        "    df = application_train_test(num_rows)\n",
        "    with timer(\"Process bureau and bureau_balance\"):\n",
        "        bureau = bureau_and_balance(num_rows)\n",
        "        print(\"Bureau df shape:\", bureau.shape)\n",
        "        df = df.join(bureau, how='left', on='SK_ID_CURR')\n",
        "        del bureau\n",
        "        gc.collect()\n",
        "    with timer(\"Process previous_applications\"):\n",
        "        prev = previous_applications(num_rows)\n",
        "        print(\"Previous applications df shape:\", prev.shape)\n",
        "        df = df.join(prev, how='left', on='SK_ID_CURR')\n",
        "        del prev\n",
        "        gc.collect()\n",
        "    with timer(\"Process POS-CASH balance\"):\n",
        "        pos = pos_cash(num_rows)\n",
        "        print(\"Pos-cash balance df shape:\", pos.shape)\n",
        "        df = df.join(pos, how='left', on='SK_ID_CURR')\n",
        "        del pos\n",
        "        gc.collect()\n",
        "    with timer(\"Process installments payments\"):\n",
        "        ins = installments_payments(num_rows)\n",
        "        print(\"Installments payments df shape:\", ins.shape)\n",
        "        df = df.join(ins, how='left', on='SK_ID_CURR')\n",
        "        del ins\n",
        "        gc.collect()\n",
        "    with timer(\"Process credit card balance\"):\n",
        "        cc = credit_card_balance(num_rows)\n",
        "        print(\"Credit card balance df shape:\", cc.shape)\n",
        "        df = df.join(cc, how='left', on='SK_ID_CURR')\n",
        "        del cc\n",
        "        gc.collect()    \n",
        "    return df\n"
      ]
    },
    {
      "cell_type": "code",
      "execution_count": null,
      "id": "04e22615",
      "metadata": {
        "id": "04e22615",
        "outputId": "869e2a07-118d-45c9-d71f-5c1dd9468f19",
        "colab": {
          "base_uri": "https://localhost:8080/"
        }
      },
      "outputs": [
        {
          "output_type": "stream",
          "name": "stdout",
          "text": [
            "Train samples: 307511, test samples: 48744\n",
            "Bureau df shape: (305811, 116)\n",
            "Process bureau and bureau_balance - done in 40s\n",
            "Previous applications df shape: (338857, 249)\n",
            "Process previous_applications - done in 30s\n",
            "Pos-cash balance df shape: (337252, 18)\n",
            "Process POS-CASH balance - done in 17s\n",
            "Installments payments df shape: (339587, 26)\n",
            "Process installments payments - done in 41s\n",
            "Credit card balance df shape: (103558, 141)\n",
            "Process credit card balance - done in 28s\n"
          ]
        }
      ],
      "source": [
        "df = main()\n",
        "# traitement des valeurs infini\n",
        "df.replace([np.inf, -np.inf], np.nan, inplace=True)\n",
        "# re-typage des colonnes\n",
        "df = df.convert_dtypes()\n",
        "# sauvegarde\n",
        "df.to_csv(chemin_save+\"df_final.csv\")\n"
      ]
    },
    {
      "cell_type": "code",
      "source": [
        "df.to_csv(chemin_save+\"df_final.csv\")"
      ],
      "metadata": {
        "id": "ou8v01PwvgHy"
      },
      "id": "ou8v01PwvgHy",
      "execution_count": null,
      "outputs": []
    },
    {
      "cell_type": "code",
      "execution_count": null,
      "id": "9b0a798d",
      "metadata": {
        "id": "9b0a798d",
        "colab": {
          "base_uri": "https://localhost:8080/"
        },
        "outputId": "685bcf35-f02d-410d-f0ad-5c16a0170bea"
      },
      "outputs": [
        {
          "output_type": "stream",
          "name": "stdout",
          "text": [
            "Int64\n",
            "string\n",
            "Float64\n",
            "[Int64Dtype(), string[python], Float64Dtype()]\n"
          ]
        }
      ],
      "source": [
        "listype = df.dtypes.unique().tolist()\n",
        "listetypename = []\n",
        "for i in listype:\n",
        "    print(i.name)\n",
        "    listetypename.append(i.name)\n",
        "print(df.dtypes.unique().tolist())"
      ]
    },
    {
      "cell_type": "code",
      "execution_count": null,
      "id": "6c898a29",
      "metadata": {
        "id": "6c898a29"
      },
      "outputs": [],
      "source": [
        "df = pd.read_csv(chemin_save+\"df_final.csv\",index_col=0)"
      ]
    },
    {
      "cell_type": "code",
      "execution_count": null,
      "id": "6b88b621",
      "metadata": {
        "id": "6b88b621",
        "outputId": "75a5a698-ae6d-4661-f9a8-c5f1b5a67bd9",
        "colab": {
          "base_uri": "https://localhost:8080/"
        }
      },
      "outputs": [
        {
          "output_type": "stream",
          "name": "stdout",
          "text": [
            "total 356251\n",
            "nule 48744\n",
            "non nule 307507 vérif 307507\n",
            "valeur 0 282682 0.9192701304360551 %\n",
            "valeur 1 24825 0.08072986956394489 %\n"
          ]
        }
      ],
      "source": [
        "df_target_null = df.loc[df[\"TARGET\"].isnull()]\n",
        "df_target_null.to_csv(chemin_save+\"df_null.csv\")\n",
        "df_target_0 = df.loc[df[\"TARGET\"] == 0]\n",
        "df_target_0.to_csv(chemin_save+\"df_0.csv\")\n",
        "df_target_1 = df.loc[df[\"TARGET\"] == 1]\n",
        "df_target_1.to_csv(chemin_save+\"df_1.csv\")\n",
        "print('total',df.shape[0])\n",
        "print('nule',df_target_null.shape[0])\n",
        "non_null = df_target_0.shape[0] + df_target_1.shape[0]\n",
        "print('non nule',non_null,'vérif',df.shape[0]-df_target_null.shape[0])\n",
        "pourcent_0 = df_target_0.shape[0] / (df_target_0.shape[0]+df_target_1.shape[0])\n",
        "pourcent_1 = df_target_1.shape[0] / (df_target_0.shape[0]+df_target_1.shape[0])\n",
        "print('valeur 0',df_target_0.shape[0],pourcent_0,'%')\n",
        "print('valeur 1',df_target_1.shape[0],pourcent_1,'%')"
      ]
    },
    {
      "cell_type": "code",
      "execution_count": null,
      "id": "cb306fad",
      "metadata": {
        "id": "cb306fad"
      },
      "outputs": [],
      "source": [
        "# rechargement\n",
        "df_target_null = pd.read_csv(chemin_save+\"df_null.csv\",index_col=0)\n",
        "df_target_0 = pd.read_csv(chemin_save+\"df_0.csv\",index_col=0)\n",
        "df_target_1 = pd.read_csv(chemin_save+\"df_1.csv\",index_col=0)\n",
        "pourcent_0 = df_target_0.shape[0] / (df_target_0.shape[0]+df_target_1.shape[0])\n",
        "pourcent_1 = df_target_1.shape[0] / (df_target_0.shape[0]+df_target_1.shape[0])\n"
      ]
    },
    {
      "cell_type": "code",
      "source": [
        "# établissement des listes de colonnes\n",
        "categorical_columns, discret_columns, float_columns = df_list_colonnes(df_target_null)\n",
        "print(len(categorical_columns))\n",
        "print(len(discret_columns))\n",
        "print(len(float_columns))\n",
        "print(len(df_target_null.columns))"
      ],
      "metadata": {
        "colab": {
          "base_uri": "https://localhost:8080/"
        },
        "id": "YReXgQmXikfa",
        "outputId": "55f461ac-f223-4aa9-d6a5-e95e957ed8eb"
      },
      "id": "YReXgQmXikfa",
      "execution_count": null,
      "outputs": [
        {
          "output_type": "stream",
          "name": "stdout",
          "text": [
            "16\n",
            "194\n",
            "468\n",
            "678\n"
          ]
        }
      ]
    },
    {
      "cell_type": "markdown",
      "id": "92e1b944",
      "metadata": {
        "id": "92e1b944"
      },
      "source": [
        "# <span id=\"s1\" style=\"font-family:Latin fonts;font-size:1.8em;\"> 1. Données déséquilibrées</span><br>\n",
        "[https://www.youtube.com/watch?v=R5YVj-_d5AI&ab_channel=LarevueIA](https://www.youtube.com/watch?v=R5YVj-_d5AI&ab_channel=LarevueIA)<br>\n",
        "[https://www.youtube.com/watch?v=EheO1scMXkQ&ab_channel=MASTER2SISEDATASCIENCE](https://www.youtube.com/watch?v=EheO1scMXkQ&ab_channel=MASTER2SISEDATASCIENCE) <br>\n",
        "[https://mlr.mlr-org.com/articles/tutorial/over_and_undersampling.html](https://mlr.mlr-org.com/articles/tutorial/over_and_undersampling.html)<br>\n",
        "[Sommaire](#rt)"
      ]
    },
    {
      "cell_type": "code",
      "execution_count": null,
      "id": "d10e4fc9",
      "metadata": {
        "id": "d10e4fc9",
        "outputId": "43b16d84-e203-4eba-d840-5ae1622521a8",
        "colab": {
          "base_uri": "https://localhost:8080/"
        }
      },
      "outputs": [
        {
          "output_type": "stream",
          "name": "stdout",
          "text": [
            "X_train 246005\n",
            "X_test 61502\n",
            "y_train 246005\n",
            "y_test 61502\n"
          ]
        }
      ],
      "source": [
        "# on enleve TARGET de la liste des colonnes\n",
        "y_cols = ['TARGET']\n",
        "X_cols = [col for col in df_target_0.columns.tolist() if col != 'TARGET']\n",
        "\n",
        "# on sépare\n",
        "y = df_target_0[y_cols]\n",
        "X = df_target_0[X_cols]\n",
        "X_train0, X_test0, y_train0, y_test0 = train_test_split(X, y, test_size=0.2, random_state=0)\n",
        "\n",
        "y = df_target_1[y_cols]\n",
        "X = df_target_1[X_cols]\n",
        "X_train1, X_test1, y_train1, y_test1 = train_test_split(X, y, test_size=0.2, random_state=0)\n",
        "\n",
        "X_train = X_train0.append(X_train1)\n",
        "print('X_train',X_train.shape[0])\n",
        "X_test = X_test0.append(X_test1)\n",
        "print('X_test',X_test.shape[0])\n",
        "y_train = y_train0.append(y_train1)\n",
        "print('y_train',y_train.shape[0])\n",
        "y_test = y_test0.append(y_test1)\n",
        "print('y_test',y_test.shape[0])"
      ]
    },
    {
      "cell_type": "code",
      "execution_count": null,
      "id": "e7f431d2",
      "metadata": {
        "id": "e7f431d2"
      },
      "outputs": [],
      "source": [
        "# save\n",
        "X_train.to_csv(chemin_save+\"X_train.csv\")\n",
        "X_test.to_csv(chemin_save+\"X_test.csv\")\n",
        "y_train.to_csv(chemin_save+\"y_train.csv\")\n",
        "y_test .to_csv(chemin_save+\"y_test .csv\")\n"
      ]
    },
    {
      "cell_type": "code",
      "execution_count": null,
      "id": "5742c755",
      "metadata": {
        "id": "5742c755"
      },
      "outputs": [],
      "source": [
        "X_train = pd.read_csv(chemin_save+\"X_train.csv\",index_col=0)\n",
        "# X_test = pd.read_csv(chemin_save+\"X_test.csv\",index_col=0)\n",
        "y_train = pd.read_csv(chemin_save+\"y_train.csv\",index_col=0)\n",
        "# y_test  = pd.read_csv(chemin_save+\"y_test .csv\",index_col=0)\n"
      ]
    },
    {
      "cell_type": "code",
      "source": [
        "# on triche pour des problèmes de mémoire\n",
        "X_train =  pd.read_csv(chemin_save+\"X_test.csv\",index_col=0)\n",
        "y_train = pd.read_csv(chemin_save+\"y_test .csv\",index_col=0)"
      ],
      "metadata": {
        "id": "iVs4L7ATAueA"
      },
      "id": "iVs4L7ATAueA",
      "execution_count": 12,
      "outputs": []
    },
    {
      "cell_type": "markdown",
      "id": "b9b2c924",
      "metadata": {
        "id": "b9b2c924"
      },
      "source": [
        "## <span id=\"s1_1\" style=\"font-family:Latin fonts;font-size:1.6em;\">Undersampling / Tomek Links</span><br>\n",
        "Le sous-échantillonnage (undersampling) consiste à rééquilibrer le jeu de données en diminuant le nombre d’instances de la classe majoritaire.<br>\n",
        "Dans le cas de Tomek Links, il s'agit de supprimer les points les plus proches de la classe minoritaire. <br>\n",
        "[Sommaire](#rt)"
      ]
    },
    {
      "cell_type": "code",
      "source": [
        "# on sépare données catégorielles des données numériques\n",
        "X_train_categorical_columns, X_train_discret_columns, X_train_float_columns = df_list_colonnes(X_train)\n",
        "X_train_numeric_colonnes = X_train_discret_columns + X_train_float_columns\n",
        "print(len(X_train_categorical_columns))\n",
        "print(len(X_train_numeric_colonnes))"
      ],
      "metadata": {
        "colab": {
          "base_uri": "https://localhost:8080/"
        },
        "id": "DTpnDJd1J9G4",
        "outputId": "68cf2058-9b88-4c9a-e6dc-9a30f2d181fa"
      },
      "id": "DTpnDJd1J9G4",
      "execution_count": 13,
      "outputs": [
        {
          "output_type": "stream",
          "name": "stdout",
          "text": [
            "16\n",
            "661\n"
          ]
        }
      ]
    },
    {
      "cell_type": "code",
      "source": [
        "# fonction TomekLinks\n",
        "def tl_df(df):\n",
        "  # dans le pipeline, les colonnes sont permutées\n",
        "  df_num = df[:,range(len(X_train_numeric_colonnes))]\n",
        "  df_categ = df[:,range(len(num_col),len(X_train_categorical_columns+X_train_numeric_colonnes))]\n",
        "  Tomek_Sampling = TomekLinks()\n",
        "  X_res, y_res = Tomek_Sampling.fit_resample(df_num, y_train)\n",
        "  idx = Tomek_Sampling.sample_indices_\n",
        "\n",
        "  X_res = pd.DataFrame(X_res,columns= X_train_numeric_colonnes)\n",
        "  X_res.index = idx\n",
        "\n",
        "  X_cat = pd.DataFrame(df_categ,columns= X_train_categorical_columns)\n",
        "  X_cat.index = X_train.index\n",
        "\n",
        "  X_res = X_res.join(X_cat)\n",
        "  return X_res\n",
        "under_fonction = FunctionTransformer(tl_df)"
      ],
      "metadata": {
        "id": "rKysAjXIVmAW"
      },
      "id": "rKysAjXIVmAW",
      "execution_count": 10,
      "outputs": []
    },
    {
      "cell_type": "code",
      "source": [
        "# construction du pipeline TomekLinks\n",
        "\n",
        "\n",
        "\n",
        "\n",
        "transfo_quanti = Pipeline(steps=[\n",
        "    ('imputation', SimpleImputer(strategy='median')),\n",
        "    ('standard', RobustScaler()) \n",
        "    ])\n",
        "\n",
        "transfo_quali = Pipeline(steps=[\n",
        "    ('imputation', SimpleImputer(strategy='constant', fill_value='manquant')) #,\n",
        "    #('onehot', OneHotEncoder(handle_unknown='ignore'))\n",
        "    ])\n",
        "\n",
        "preparation = ColumnTransformer(\n",
        "    transformers=[\n",
        "        ('quanti', transfo_quanti , X_train_numeric_colonnes),\n",
        "        ('quali', transfo_quali , X_train_categorical_columns)\n",
        "        ])\n",
        "encode_cat = ColumnTransformer(\n",
        "    transformers=[\n",
        "        ('quanti',OneHotEncoder(handle_unknown='ignore'),X_train_categorical_columns )\n",
        "        ], remainder ='passthrough')\n",
        "\n",
        "\n",
        "\n",
        "TL_pipe = Pipeline(\n",
        "    steps=[\n",
        "        ('preparation',preparation) ,\n",
        "        ('under', under_fonction),\n",
        "        ('encode', encode_cat)\n",
        "    ]\n",
        ")\n",
        "\n"
      ],
      "metadata": {
        "id": "JOoaXplh5zMK"
      },
      "id": "JOoaXplh5zMK",
      "execution_count": 14,
      "outputs": []
    },
    {
      "cell_type": "code",
      "source": [
        "TL_pipe"
      ],
      "metadata": {
        "colab": {
          "base_uri": "https://localhost:8080/",
          "height": 328
        },
        "id": "xUuB8YMyASMv",
        "outputId": "bd20c3d0-ee34-404e-e020-e1e22a72e505"
      },
      "id": "xUuB8YMyASMv",
      "execution_count": 21,
      "outputs": [
        {
          "output_type": "execute_result",
          "data": {
            "text/plain": [
              "Pipeline(steps=[('preparation',\n",
              "                 ColumnTransformer(transformers=[('quanti',\n",
              "                                                  Pipeline(steps=[('imputation',\n",
              "                                                                   SimpleImputer(strategy='median')),\n",
              "                                                                  ('standard',\n",
              "                                                                   RobustScaler())]),\n",
              "                                                  ['index', 'SK_ID_CURR',\n",
              "                                                   'CNT_CHILDREN', 'DAYS_BIRTH',\n",
              "                                                   'DAYS_EMPLOYED',\n",
              "                                                   'DAYS_REGISTRATION',\n",
              "                                                   'DAYS_ID_PUBLISH',\n",
              "                                                   'OWN_CAR_AGE', 'FLAG_MOBIL',\n",
              "                                                   'FLAG_EMP_PHONE',\n",
              "                                                   'FLAG_WORK_PHONE',\n",
              "                                                   'FLAG_CONT_MOBILE...\n",
              "                                                  OneHotEncoder(handle_unknown='ignore'),\n",
              "                                                  ['NAME_CONTRACT_TYPE',\n",
              "                                                   'CODE_GENDER',\n",
              "                                                   'FLAG_OWN_CAR',\n",
              "                                                   'FLAG_OWN_REALTY',\n",
              "                                                   'NAME_TYPE_SUITE',\n",
              "                                                   'NAME_INCOME_TYPE',\n",
              "                                                   'NAME_EDUCATION_TYPE',\n",
              "                                                   'NAME_FAMILY_STATUS',\n",
              "                                                   'NAME_HOUSING_TYPE',\n",
              "                                                   'OCCUPATION_TYPE',\n",
              "                                                   'WEEKDAY_APPR_PROCESS_START',\n",
              "                                                   'ORGANIZATION_TYPE',\n",
              "                                                   'FONDKAPREMONT_MODE',\n",
              "                                                   'HOUSETYPE_MODE',\n",
              "                                                   'WALLSMATERIAL_MODE',\n",
              "                                                   'EMERGENCYSTATE_MODE'])]))])"
            ],
            "text/html": [
              "<style>#sk-4ca26964-b5b2-4aac-a6ad-97d853e92bee {color: black;background-color: white;}#sk-4ca26964-b5b2-4aac-a6ad-97d853e92bee pre{padding: 0;}#sk-4ca26964-b5b2-4aac-a6ad-97d853e92bee div.sk-toggleable {background-color: white;}#sk-4ca26964-b5b2-4aac-a6ad-97d853e92bee label.sk-toggleable__label {cursor: pointer;display: block;width: 100%;margin-bottom: 0;padding: 0.3em;box-sizing: border-box;text-align: center;}#sk-4ca26964-b5b2-4aac-a6ad-97d853e92bee label.sk-toggleable__label-arrow:before {content: \"▸\";float: left;margin-right: 0.25em;color: #696969;}#sk-4ca26964-b5b2-4aac-a6ad-97d853e92bee label.sk-toggleable__label-arrow:hover:before {color: black;}#sk-4ca26964-b5b2-4aac-a6ad-97d853e92bee div.sk-estimator:hover label.sk-toggleable__label-arrow:before {color: black;}#sk-4ca26964-b5b2-4aac-a6ad-97d853e92bee div.sk-toggleable__content {max-height: 0;max-width: 0;overflow: hidden;text-align: left;background-color: #f0f8ff;}#sk-4ca26964-b5b2-4aac-a6ad-97d853e92bee div.sk-toggleable__content pre {margin: 0.2em;color: black;border-radius: 0.25em;background-color: #f0f8ff;}#sk-4ca26964-b5b2-4aac-a6ad-97d853e92bee input.sk-toggleable__control:checked~div.sk-toggleable__content {max-height: 200px;max-width: 100%;overflow: auto;}#sk-4ca26964-b5b2-4aac-a6ad-97d853e92bee input.sk-toggleable__control:checked~label.sk-toggleable__label-arrow:before {content: \"▾\";}#sk-4ca26964-b5b2-4aac-a6ad-97d853e92bee div.sk-estimator input.sk-toggleable__control:checked~label.sk-toggleable__label {background-color: #d4ebff;}#sk-4ca26964-b5b2-4aac-a6ad-97d853e92bee div.sk-label input.sk-toggleable__control:checked~label.sk-toggleable__label {background-color: #d4ebff;}#sk-4ca26964-b5b2-4aac-a6ad-97d853e92bee input.sk-hidden--visually {border: 0;clip: rect(1px 1px 1px 1px);clip: rect(1px, 1px, 1px, 1px);height: 1px;margin: -1px;overflow: hidden;padding: 0;position: absolute;width: 1px;}#sk-4ca26964-b5b2-4aac-a6ad-97d853e92bee div.sk-estimator {font-family: monospace;background-color: #f0f8ff;border: 1px dotted black;border-radius: 0.25em;box-sizing: border-box;margin-bottom: 0.5em;}#sk-4ca26964-b5b2-4aac-a6ad-97d853e92bee div.sk-estimator:hover {background-color: #d4ebff;}#sk-4ca26964-b5b2-4aac-a6ad-97d853e92bee div.sk-parallel-item::after {content: \"\";width: 100%;border-bottom: 1px solid gray;flex-grow: 1;}#sk-4ca26964-b5b2-4aac-a6ad-97d853e92bee div.sk-label:hover label.sk-toggleable__label {background-color: #d4ebff;}#sk-4ca26964-b5b2-4aac-a6ad-97d853e92bee div.sk-serial::before {content: \"\";position: absolute;border-left: 1px solid gray;box-sizing: border-box;top: 2em;bottom: 0;left: 50%;}#sk-4ca26964-b5b2-4aac-a6ad-97d853e92bee div.sk-serial {display: flex;flex-direction: column;align-items: center;background-color: white;padding-right: 0.2em;padding-left: 0.2em;}#sk-4ca26964-b5b2-4aac-a6ad-97d853e92bee div.sk-item {z-index: 1;}#sk-4ca26964-b5b2-4aac-a6ad-97d853e92bee div.sk-parallel {display: flex;align-items: stretch;justify-content: center;background-color: white;}#sk-4ca26964-b5b2-4aac-a6ad-97d853e92bee div.sk-parallel::before {content: \"\";position: absolute;border-left: 1px solid gray;box-sizing: border-box;top: 2em;bottom: 0;left: 50%;}#sk-4ca26964-b5b2-4aac-a6ad-97d853e92bee div.sk-parallel-item {display: flex;flex-direction: column;position: relative;background-color: white;}#sk-4ca26964-b5b2-4aac-a6ad-97d853e92bee div.sk-parallel-item:first-child::after {align-self: flex-end;width: 50%;}#sk-4ca26964-b5b2-4aac-a6ad-97d853e92bee div.sk-parallel-item:last-child::after {align-self: flex-start;width: 50%;}#sk-4ca26964-b5b2-4aac-a6ad-97d853e92bee div.sk-parallel-item:only-child::after {width: 0;}#sk-4ca26964-b5b2-4aac-a6ad-97d853e92bee div.sk-dashed-wrapped {border: 1px dashed gray;margin: 0 0.4em 0.5em 0.4em;box-sizing: border-box;padding-bottom: 0.4em;background-color: white;position: relative;}#sk-4ca26964-b5b2-4aac-a6ad-97d853e92bee div.sk-label label {font-family: monospace;font-weight: bold;background-color: white;display: inline-block;line-height: 1.2em;}#sk-4ca26964-b5b2-4aac-a6ad-97d853e92bee div.sk-label-container {position: relative;z-index: 2;text-align: center;}#sk-4ca26964-b5b2-4aac-a6ad-97d853e92bee div.sk-container {/* jupyter's `normalize.less` sets `[hidden] { display: none; }` but bootstrap.min.css set `[hidden] { display: none !important; }` so we also need the `!important` here to be able to override the default hidden behavior on the sphinx rendered scikit-learn.org. See: https://github.com/scikit-learn/scikit-learn/issues/21755 */display: inline-block !important;position: relative;}#sk-4ca26964-b5b2-4aac-a6ad-97d853e92bee div.sk-text-repr-fallback {display: none;}</style><div id=\"sk-4ca26964-b5b2-4aac-a6ad-97d853e92bee\" class=\"sk-top-container\"><div class=\"sk-text-repr-fallback\"><pre>Pipeline(steps=[(&#x27;preparation&#x27;,\n",
              "                 ColumnTransformer(transformers=[(&#x27;quanti&#x27;,\n",
              "                                                  Pipeline(steps=[(&#x27;imputation&#x27;,\n",
              "                                                                   SimpleImputer(strategy=&#x27;median&#x27;)),\n",
              "                                                                  (&#x27;standard&#x27;,\n",
              "                                                                   RobustScaler())]),\n",
              "                                                  [&#x27;index&#x27;, &#x27;SK_ID_CURR&#x27;,\n",
              "                                                   &#x27;CNT_CHILDREN&#x27;, &#x27;DAYS_BIRTH&#x27;,\n",
              "                                                   &#x27;DAYS_EMPLOYED&#x27;,\n",
              "                                                   &#x27;DAYS_REGISTRATION&#x27;,\n",
              "                                                   &#x27;DAYS_ID_PUBLISH&#x27;,\n",
              "                                                   &#x27;OWN_CAR_AGE&#x27;, &#x27;FLAG_MOBIL&#x27;,\n",
              "                                                   &#x27;FLAG_EMP_PHONE&#x27;,\n",
              "                                                   &#x27;FLAG_WORK_PHONE&#x27;,\n",
              "                                                   &#x27;FLAG_CONT_MOBILE...\n",
              "                                                  OneHotEncoder(handle_unknown=&#x27;ignore&#x27;),\n",
              "                                                  [&#x27;NAME_CONTRACT_TYPE&#x27;,\n",
              "                                                   &#x27;CODE_GENDER&#x27;,\n",
              "                                                   &#x27;FLAG_OWN_CAR&#x27;,\n",
              "                                                   &#x27;FLAG_OWN_REALTY&#x27;,\n",
              "                                                   &#x27;NAME_TYPE_SUITE&#x27;,\n",
              "                                                   &#x27;NAME_INCOME_TYPE&#x27;,\n",
              "                                                   &#x27;NAME_EDUCATION_TYPE&#x27;,\n",
              "                                                   &#x27;NAME_FAMILY_STATUS&#x27;,\n",
              "                                                   &#x27;NAME_HOUSING_TYPE&#x27;,\n",
              "                                                   &#x27;OCCUPATION_TYPE&#x27;,\n",
              "                                                   &#x27;WEEKDAY_APPR_PROCESS_START&#x27;,\n",
              "                                                   &#x27;ORGANIZATION_TYPE&#x27;,\n",
              "                                                   &#x27;FONDKAPREMONT_MODE&#x27;,\n",
              "                                                   &#x27;HOUSETYPE_MODE&#x27;,\n",
              "                                                   &#x27;WALLSMATERIAL_MODE&#x27;,\n",
              "                                                   &#x27;EMERGENCYSTATE_MODE&#x27;])]))])</pre><b>Please rerun this cell to show the HTML repr or trust the notebook.</b></div><div class=\"sk-container\" hidden><div class=\"sk-item sk-dashed-wrapped\"><div class=\"sk-label-container\"><div class=\"sk-label sk-toggleable\"><input class=\"sk-toggleable__control sk-hidden--visually\" id=\"3eb63157-540a-427e-8279-b92fec3f320b\" type=\"checkbox\" ><label for=\"3eb63157-540a-427e-8279-b92fec3f320b\" class=\"sk-toggleable__label sk-toggleable__label-arrow\">Pipeline</label><div class=\"sk-toggleable__content\"><pre>Pipeline(steps=[(&#x27;preparation&#x27;,\n",
              "                 ColumnTransformer(transformers=[(&#x27;quanti&#x27;,\n",
              "                                                  Pipeline(steps=[(&#x27;imputation&#x27;,\n",
              "                                                                   SimpleImputer(strategy=&#x27;median&#x27;)),\n",
              "                                                                  (&#x27;standard&#x27;,\n",
              "                                                                   RobustScaler())]),\n",
              "                                                  [&#x27;index&#x27;, &#x27;SK_ID_CURR&#x27;,\n",
              "                                                   &#x27;CNT_CHILDREN&#x27;, &#x27;DAYS_BIRTH&#x27;,\n",
              "                                                   &#x27;DAYS_EMPLOYED&#x27;,\n",
              "                                                   &#x27;DAYS_REGISTRATION&#x27;,\n",
              "                                                   &#x27;DAYS_ID_PUBLISH&#x27;,\n",
              "                                                   &#x27;OWN_CAR_AGE&#x27;, &#x27;FLAG_MOBIL&#x27;,\n",
              "                                                   &#x27;FLAG_EMP_PHONE&#x27;,\n",
              "                                                   &#x27;FLAG_WORK_PHONE&#x27;,\n",
              "                                                   &#x27;FLAG_CONT_MOBILE...\n",
              "                                                  OneHotEncoder(handle_unknown=&#x27;ignore&#x27;),\n",
              "                                                  [&#x27;NAME_CONTRACT_TYPE&#x27;,\n",
              "                                                   &#x27;CODE_GENDER&#x27;,\n",
              "                                                   &#x27;FLAG_OWN_CAR&#x27;,\n",
              "                                                   &#x27;FLAG_OWN_REALTY&#x27;,\n",
              "                                                   &#x27;NAME_TYPE_SUITE&#x27;,\n",
              "                                                   &#x27;NAME_INCOME_TYPE&#x27;,\n",
              "                                                   &#x27;NAME_EDUCATION_TYPE&#x27;,\n",
              "                                                   &#x27;NAME_FAMILY_STATUS&#x27;,\n",
              "                                                   &#x27;NAME_HOUSING_TYPE&#x27;,\n",
              "                                                   &#x27;OCCUPATION_TYPE&#x27;,\n",
              "                                                   &#x27;WEEKDAY_APPR_PROCESS_START&#x27;,\n",
              "                                                   &#x27;ORGANIZATION_TYPE&#x27;,\n",
              "                                                   &#x27;FONDKAPREMONT_MODE&#x27;,\n",
              "                                                   &#x27;HOUSETYPE_MODE&#x27;,\n",
              "                                                   &#x27;WALLSMATERIAL_MODE&#x27;,\n",
              "                                                   &#x27;EMERGENCYSTATE_MODE&#x27;])]))])</pre></div></div></div><div class=\"sk-serial\"><div class=\"sk-item sk-dashed-wrapped\"><div class=\"sk-label-container\"><div class=\"sk-label sk-toggleable\"><input class=\"sk-toggleable__control sk-hidden--visually\" id=\"7f5472a8-0ab6-4642-bd9d-89e23a262c03\" type=\"checkbox\" ><label for=\"7f5472a8-0ab6-4642-bd9d-89e23a262c03\" class=\"sk-toggleable__label sk-toggleable__label-arrow\">preparation: ColumnTransformer</label><div class=\"sk-toggleable__content\"><pre>ColumnTransformer(transformers=[(&#x27;quanti&#x27;,\n",
              "                                 Pipeline(steps=[(&#x27;imputation&#x27;,\n",
              "                                                  SimpleImputer(strategy=&#x27;median&#x27;)),\n",
              "                                                 (&#x27;standard&#x27;, RobustScaler())]),\n",
              "                                 [&#x27;index&#x27;, &#x27;SK_ID_CURR&#x27;, &#x27;CNT_CHILDREN&#x27;,\n",
              "                                  &#x27;DAYS_BIRTH&#x27;, &#x27;DAYS_EMPLOYED&#x27;,\n",
              "                                  &#x27;DAYS_REGISTRATION&#x27;, &#x27;DAYS_ID_PUBLISH&#x27;,\n",
              "                                  &#x27;OWN_CAR_AGE&#x27;, &#x27;FLAG_MOBIL&#x27;, &#x27;FLAG_EMP_PHONE&#x27;,\n",
              "                                  &#x27;FLAG_WORK_PHONE&#x27;, &#x27;FLAG_CONT_MOBILE&#x27;,\n",
              "                                  &#x27;FLAG_PHONE&#x27;, &#x27;FLAG_EMAIL&#x27;, &#x27;CN...\n",
              "                                                  SimpleImputer(fill_value=&#x27;manquant&#x27;,\n",
              "                                                                strategy=&#x27;constant&#x27;))]),\n",
              "                                 [&#x27;NAME_CONTRACT_TYPE&#x27;, &#x27;CODE_GENDER&#x27;,\n",
              "                                  &#x27;FLAG_OWN_CAR&#x27;, &#x27;FLAG_OWN_REALTY&#x27;,\n",
              "                                  &#x27;NAME_TYPE_SUITE&#x27;, &#x27;NAME_INCOME_TYPE&#x27;,\n",
              "                                  &#x27;NAME_EDUCATION_TYPE&#x27;, &#x27;NAME_FAMILY_STATUS&#x27;,\n",
              "                                  &#x27;NAME_HOUSING_TYPE&#x27;, &#x27;OCCUPATION_TYPE&#x27;,\n",
              "                                  &#x27;WEEKDAY_APPR_PROCESS_START&#x27;,\n",
              "                                  &#x27;ORGANIZATION_TYPE&#x27;, &#x27;FONDKAPREMONT_MODE&#x27;,\n",
              "                                  &#x27;HOUSETYPE_MODE&#x27;, &#x27;WALLSMATERIAL_MODE&#x27;,\n",
              "                                  &#x27;EMERGENCYSTATE_MODE&#x27;])])</pre></div></div></div><div class=\"sk-parallel\"><div class=\"sk-parallel-item\"><div class=\"sk-item\"><div class=\"sk-label-container\"><div class=\"sk-label sk-toggleable\"><input class=\"sk-toggleable__control sk-hidden--visually\" id=\"8a609a72-6341-42eb-817b-048afa08cc54\" type=\"checkbox\" ><label for=\"8a609a72-6341-42eb-817b-048afa08cc54\" class=\"sk-toggleable__label sk-toggleable__label-arrow\">quanti</label><div class=\"sk-toggleable__content\"><pre>[&#x27;index&#x27;, &#x27;SK_ID_CURR&#x27;, &#x27;CNT_CHILDREN&#x27;, &#x27;DAYS_BIRTH&#x27;, &#x27;DAYS_EMPLOYED&#x27;, &#x27;DAYS_REGISTRATION&#x27;, &#x27;DAYS_ID_PUBLISH&#x27;, &#x27;OWN_CAR_AGE&#x27;, &#x27;FLAG_MOBIL&#x27;, &#x27;FLAG_EMP_PHONE&#x27;, &#x27;FLAG_WORK_PHONE&#x27;, &#x27;FLAG_CONT_MOBILE&#x27;, &#x27;FLAG_PHONE&#x27;, &#x27;FLAG_EMAIL&#x27;, &#x27;CNT_FAM_MEMBERS&#x27;, &#x27;REGION_RATING_CLIENT&#x27;, &#x27;REGION_RATING_CLIENT_W_CITY&#x27;, &#x27;HOUR_APPR_PROCESS_START&#x27;, &#x27;REG_REGION_NOT_LIVE_REGION&#x27;, &#x27;REG_REGION_NOT_WORK_REGION&#x27;, &#x27;LIVE_REGION_NOT_WORK_REGION&#x27;, &#x27;REG_CITY_NOT_LIVE_CITY&#x27;, &#x27;REG_CITY_NOT_WORK_CITY&#x27;, &#x27;LIVE_CITY_NOT_WORK_CITY&#x27;, &#x27;OBS_30_CNT_SOCIAL_CIRCLE&#x27;, &#x27;DEF_30_CNT_SOCIAL_CIRCLE&#x27;, &#x27;OBS_60_CNT_SOCIAL_CIRCLE&#x27;, &#x27;DEF_60_CNT_SOCIAL_CIRCLE&#x27;, &#x27;DAYS_LAST_PHONE_CHANGE&#x27;, &#x27;FLAG_DOCUMENT_2&#x27;, &#x27;FLAG_DOCUMENT_3&#x27;, &#x27;FLAG_DOCUMENT_4&#x27;, &#x27;FLAG_DOCUMENT_5&#x27;, &#x27;FLAG_DOCUMENT_6&#x27;, &#x27;FLAG_DOCUMENT_7&#x27;, &#x27;FLAG_DOCUMENT_8&#x27;, &#x27;FLAG_DOCUMENT_9&#x27;, &#x27;FLAG_DOCUMENT_10&#x27;, &#x27;FLAG_DOCUMENT_11&#x27;, &#x27;FLAG_DOCUMENT_12&#x27;, &#x27;FLAG_DOCUMENT_13&#x27;, &#x27;FLAG_DOCUMENT_14&#x27;, &#x27;FLAG_DOCUMENT_15&#x27;, &#x27;FLAG_DOCUMENT_16&#x27;, &#x27;FLAG_DOCUMENT_17&#x27;, &#x27;FLAG_DOCUMENT_18&#x27;, &#x27;FLAG_DOCUMENT_19&#x27;, &#x27;FLAG_DOCUMENT_20&#x27;, &#x27;FLAG_DOCUMENT_21&#x27;, &#x27;AMT_REQ_CREDIT_BUREAU_HOUR&#x27;, &#x27;AMT_REQ_CREDIT_BUREAU_DAY&#x27;, &#x27;AMT_REQ_CREDIT_BUREAU_WEEK&#x27;, &#x27;AMT_REQ_CREDIT_BUREAU_MON&#x27;, &#x27;AMT_REQ_CREDIT_BUREAU_QRT&#x27;, &#x27;AMT_REQ_CREDIT_BUREAU_YEAR&#x27;, &#x27;BURO_DAYS_CREDIT_MIN&#x27;, &#x27;BURO_DAYS_CREDIT_MAX&#x27;, &#x27;BURO_DAYS_CREDIT_ENDDATE_MIN&#x27;, &#x27;BURO_DAYS_CREDIT_ENDDATE_MAX&#x27;, &#x27;BURO_CREDIT_DAY_OVERDUE_MAX&#x27;, &#x27;BURO_CNT_CREDIT_PROLONG_SUM&#x27;, &#x27;BURO_MONTHS_BALANCE_MIN_MIN&#x27;, &#x27;BURO_MONTHS_BALANCE_MAX_MAX&#x27;, &#x27;BURO_MONTHS_BALANCE_SIZE_SUM&#x27;, &#x27;BURO_CREDIT_ACTIVE_nan_MEAN&#x27;, &#x27;BURO_CREDIT_CURRENCY_nan_MEAN&#x27;, &#x27;BURO_CREDIT_TYPE_Mobile operator loan_MEAN&#x27;, &#x27;BURO_CREDIT_TYPE_nan_MEAN&#x27;, &#x27;BURO_STATUS_nan_MEAN_MEAN&#x27;, &#x27;ACTIVE_DAYS_CREDIT_MIN&#x27;, &#x27;ACTIVE_DAYS_CREDIT_MAX&#x27;, &#x27;ACTIVE_DAYS_CREDIT_ENDDATE_MIN&#x27;, &#x27;ACTIVE_DAYS_CREDIT_ENDDATE_MAX&#x27;, &#x27;ACTIVE_CREDIT_DAY_OVERDUE_MAX&#x27;, &#x27;ACTIVE_CNT_CREDIT_PROLONG_SUM&#x27;, &#x27;ACTIVE_MONTHS_BALANCE_MIN_MIN&#x27;, &#x27;ACTIVE_MONTHS_BALANCE_MAX_MAX&#x27;, &#x27;ACTIVE_MONTHS_BALANCE_SIZE_SUM&#x27;, &#x27;CLOSED_DAYS_CREDIT_MIN&#x27;, &#x27;CLOSED_DAYS_CREDIT_MAX&#x27;, &#x27;CLOSED_DAYS_CREDIT_ENDDATE_MIN&#x27;, &#x27;CLOSED_DAYS_CREDIT_ENDDATE_MAX&#x27;, &#x27;CLOSED_CREDIT_DAY_OVERDUE_MAX&#x27;, &#x27;CLOSED_CNT_CREDIT_PROLONG_SUM&#x27;, &#x27;CLOSED_MONTHS_BALANCE_MIN_MIN&#x27;, &#x27;CLOSED_MONTHS_BALANCE_MAX_MAX&#x27;, &#x27;CLOSED_MONTHS_BALANCE_SIZE_SUM&#x27;, &#x27;PREV_HOUR_APPR_PROCESS_START_MIN&#x27;, &#x27;PREV_HOUR_APPR_PROCESS_START_MAX&#x27;, &#x27;PREV_DAYS_DECISION_MIN&#x27;, &#x27;PREV_DAYS_DECISION_MAX&#x27;, &#x27;PREV_CNT_PAYMENT_SUM&#x27;, &#x27;PREV_NAME_CONTRACT_TYPE_nan_MEAN&#x27;, &#x27;PREV_WEEKDAY_APPR_PROCESS_START_nan_MEAN&#x27;, &#x27;PREV_FLAG_LAST_APPL_PER_CONTRACT_nan_MEAN&#x27;, &#x27;PREV_NAME_CASH_LOAN_PURPOSE_nan_MEAN&#x27;, &#x27;PREV_NAME_CONTRACT_STATUS_nan_MEAN&#x27;, &#x27;PREV_NAME_PAYMENT_TYPE_nan_MEAN&#x27;, &#x27;PREV_CODE_REJECT_REASON_nan_MEAN&#x27;, &#x27;PREV_NAME_CLIENT_TYPE_nan_MEAN&#x27;, &#x27;PREV_NAME_GOODS_CATEGORY_House Construction_MEAN&#x27;, &#x27;PREV_NAME_GOODS_CATEGORY_nan_MEAN&#x27;, &#x27;PREV_NAME_PORTFOLIO_nan_MEAN&#x27;, &#x27;PREV_NAME_PRODUCT_TYPE_nan_MEAN&#x27;, &#x27;PREV_CHANNEL_TYPE_nan_MEAN&#x27;, &#x27;PREV_NAME_SELLER_INDUSTRY_nan_MEAN&#x27;, &#x27;PREV_NAME_YIELD_GROUP_nan_MEAN&#x27;, &#x27;APPROVED_HOUR_APPR_PROCESS_START_MIN&#x27;, &#x27;APPROVED_HOUR_APPR_PROCESS_START_MAX&#x27;, &#x27;APPROVED_DAYS_DECISION_MIN&#x27;, &#x27;APPROVED_DAYS_DECISION_MAX&#x27;, &#x27;APPROVED_CNT_PAYMENT_SUM&#x27;, &#x27;REFUSED_HOUR_APPR_PROCESS_START_MIN&#x27;, &#x27;REFUSED_HOUR_APPR_PROCESS_START_MAX&#x27;, &#x27;REFUSED_DAYS_DECISION_MIN&#x27;, &#x27;REFUSED_DAYS_DECISION_MAX&#x27;, &#x27;REFUSED_CNT_PAYMENT_SUM&#x27;, &#x27;POS_MONTHS_BALANCE_MAX&#x27;, &#x27;POS_MONTHS_BALANCE_SIZE&#x27;, &#x27;POS_SK_DPD_MAX&#x27;, &#x27;POS_SK_DPD_DEF_MAX&#x27;, &#x27;POS_NAME_CONTRACT_STATUS_XNA_MEAN&#x27;, &#x27;POS_NAME_CONTRACT_STATUS_nan_MEAN&#x27;, &#x27;POS_COUNT&#x27;, &#x27;INSTAL_NUM_INSTALMENT_VERSION_NUNIQUE&#x27;, &#x27;INSTAL_DPD_MAX&#x27;, &#x27;INSTAL_DPD_SUM&#x27;, &#x27;INSTAL_DBD_MAX&#x27;, &#x27;INSTAL_DBD_SUM&#x27;, &#x27;INSTAL_DAYS_ENTRY_PAYMENT_MAX&#x27;, &#x27;INSTAL_DAYS_ENTRY_PAYMENT_SUM&#x27;, &#x27;INSTAL_COUNT&#x27;, &#x27;CC_MONTHS_BALANCE_MIN&#x27;, &#x27;CC_MONTHS_BALANCE_MAX&#x27;, &#x27;CC_MONTHS_BALANCE_SUM&#x27;, &#x27;CC_AMT_CREDIT_LIMIT_ACTUAL_MIN&#x27;, &#x27;CC_AMT_CREDIT_LIMIT_ACTUAL_MAX&#x27;, &#x27;CC_AMT_CREDIT_LIMIT_ACTUAL_SUM&#x27;, &#x27;CC_AMT_DRAWINGS_ATM_CURRENT_MIN&#x27;, &#x27;CC_AMT_DRAWINGS_OTHER_CURRENT_MIN&#x27;, &#x27;CC_CNT_DRAWINGS_ATM_CURRENT_MIN&#x27;, &#x27;CC_CNT_DRAWINGS_ATM_CURRENT_MAX&#x27;, &#x27;CC_CNT_DRAWINGS_ATM_CURRENT_SUM&#x27;, &#x27;CC_CNT_DRAWINGS_CURRENT_MIN&#x27;, &#x27;CC_CNT_DRAWINGS_CURRENT_MAX&#x27;, &#x27;CC_CNT_DRAWINGS_CURRENT_SUM&#x27;, &#x27;CC_CNT_DRAWINGS_OTHER_CURRENT_MIN&#x27;, &#x27;CC_CNT_DRAWINGS_OTHER_CURRENT_MAX&#x27;, &#x27;CC_CNT_DRAWINGS_OTHER_CURRENT_SUM&#x27;, &#x27;CC_CNT_DRAWINGS_POS_CURRENT_MIN&#x27;, &#x27;CC_CNT_DRAWINGS_POS_CURRENT_MAX&#x27;, &#x27;CC_CNT_DRAWINGS_POS_CURRENT_SUM&#x27;, &#x27;CC_CNT_INSTALMENT_MATURE_CUM_MIN&#x27;, &#x27;CC_CNT_INSTALMENT_MATURE_CUM_MAX&#x27;, &#x27;CC_CNT_INSTALMENT_MATURE_CUM_SUM&#x27;, &#x27;CC_SK_DPD_MIN&#x27;, &#x27;CC_SK_DPD_MAX&#x27;, &#x27;CC_SK_DPD_SUM&#x27;, &#x27;CC_SK_DPD_DEF_MIN&#x27;, &#x27;CC_SK_DPD_DEF_MAX&#x27;, &#x27;CC_SK_DPD_DEF_SUM&#x27;, &#x27;CC_NAME_CONTRACT_STATUS_Active_MIN&#x27;, &#x27;CC_NAME_CONTRACT_STATUS_Active_MAX&#x27;, &#x27;CC_NAME_CONTRACT_STATUS_Active_SUM&#x27;, &#x27;CC_NAME_CONTRACT_STATUS_Approved_MIN&#x27;, &#x27;CC_NAME_CONTRACT_STATUS_Approved_MAX&#x27;, &#x27;CC_NAME_CONTRACT_STATUS_Approved_SUM&#x27;, &#x27;CC_NAME_CONTRACT_STATUS_Completed_MIN&#x27;, &#x27;CC_NAME_CONTRACT_STATUS_Completed_MAX&#x27;, &#x27;CC_NAME_CONTRACT_STATUS_Completed_SUM&#x27;, &#x27;CC_NAME_CONTRACT_STATUS_Demand_MIN&#x27;, &#x27;CC_NAME_CONTRACT_STATUS_Demand_MAX&#x27;, &#x27;CC_NAME_CONTRACT_STATUS_Demand_SUM&#x27;, &#x27;CC_NAME_CONTRACT_STATUS_Refused_MIN&#x27;, &#x27;CC_NAME_CONTRACT_STATUS_Refused_MAX&#x27;, &#x27;CC_NAME_CONTRACT_STATUS_Refused_SUM&#x27;, &#x27;CC_NAME_CONTRACT_STATUS_Sent proposal_MIN&#x27;, &#x27;CC_NAME_CONTRACT_STATUS_Sent proposal_MAX&#x27;, &#x27;CC_NAME_CONTRACT_STATUS_Sent proposal_SUM&#x27;, &#x27;CC_NAME_CONTRACT_STATUS_Signed_MIN&#x27;, &#x27;CC_NAME_CONTRACT_STATUS_Signed_MAX&#x27;, &#x27;CC_NAME_CONTRACT_STATUS_Signed_SUM&#x27;, &#x27;CC_NAME_CONTRACT_STATUS_nan_MIN&#x27;, &#x27;CC_NAME_CONTRACT_STATUS_nan_MAX&#x27;, &#x27;CC_NAME_CONTRACT_STATUS_nan_MEAN&#x27;, &#x27;CC_NAME_CONTRACT_STATUS_nan_SUM&#x27;, &#x27;CC_NAME_CONTRACT_STATUS_nan_VAR&#x27;, &#x27;CC_COUNT&#x27;, &#x27;AMT_INCOME_TOTAL&#x27;, &#x27;AMT_CREDIT&#x27;, &#x27;AMT_ANNUITY&#x27;, &#x27;AMT_GOODS_PRICE&#x27;, &#x27;REGION_POPULATION_RELATIVE&#x27;, &#x27;EXT_SOURCE_1&#x27;, &#x27;EXT_SOURCE_2&#x27;, &#x27;EXT_SOURCE_3&#x27;, &#x27;APARTMENTS_AVG&#x27;, &#x27;BASEMENTAREA_AVG&#x27;, &#x27;YEARS_BEGINEXPLUATATION_AVG&#x27;, &#x27;YEARS_BUILD_AVG&#x27;, &#x27;COMMONAREA_AVG&#x27;, &#x27;ELEVATORS_AVG&#x27;, &#x27;ENTRANCES_AVG&#x27;, &#x27;FLOORSMAX_AVG&#x27;, &#x27;FLOORSMIN_AVG&#x27;, &#x27;LANDAREA_AVG&#x27;, &#x27;LIVINGAPARTMENTS_AVG&#x27;, &#x27;LIVINGAREA_AVG&#x27;, &#x27;NONLIVINGAPARTMENTS_AVG&#x27;, &#x27;NONLIVINGAREA_AVG&#x27;, &#x27;APARTMENTS_MODE&#x27;, &#x27;BASEMENTAREA_MODE&#x27;, &#x27;YEARS_BEGINEXPLUATATION_MODE&#x27;, &#x27;YEARS_BUILD_MODE&#x27;, &#x27;COMMONAREA_MODE&#x27;, &#x27;ELEVATORS_MODE&#x27;, &#x27;ENTRANCES_MODE&#x27;, &#x27;FLOORSMAX_MODE&#x27;, &#x27;FLOORSMIN_MODE&#x27;, &#x27;LANDAREA_MODE&#x27;, &#x27;LIVINGAPARTMENTS_MODE&#x27;, &#x27;LIVINGAREA_MODE&#x27;, &#x27;NONLIVINGAPARTMENTS_MODE&#x27;, &#x27;NONLIVINGAREA_MODE&#x27;, &#x27;APARTMENTS_MEDI&#x27;, &#x27;BASEMENTAREA_MEDI&#x27;, &#x27;YEARS_BEGINEXPLUATATION_MEDI&#x27;, &#x27;YEARS_BUILD_MEDI&#x27;, &#x27;COMMONAREA_MEDI&#x27;, &#x27;ELEVATORS_MEDI&#x27;, &#x27;ENTRANCES_MEDI&#x27;, &#x27;FLOORSMAX_MEDI&#x27;, &#x27;FLOORSMIN_MEDI&#x27;, &#x27;LANDAREA_MEDI&#x27;, &#x27;LIVINGAPARTMENTS_MEDI&#x27;, &#x27;LIVINGAREA_MEDI&#x27;, &#x27;NONLIVINGAPARTMENTS_MEDI&#x27;, &#x27;NONLIVINGAREA_MEDI&#x27;, &#x27;TOTALAREA_MODE&#x27;, &#x27;DAYS_EMPLOYED_PERC&#x27;, &#x27;INCOME_CREDIT_PERC&#x27;, &#x27;INCOME_PER_PERSON&#x27;, &#x27;ANNUITY_INCOME_PERC&#x27;, &#x27;PAYMENT_RATE&#x27;, &#x27;BURO_DAYS_CREDIT_MEAN&#x27;, &#x27;BURO_DAYS_CREDIT_VAR&#x27;, &#x27;BURO_DAYS_CREDIT_ENDDATE_MEAN&#x27;, &#x27;BURO_DAYS_CREDIT_UPDATE_MEAN&#x27;, &#x27;BURO_CREDIT_DAY_OVERDUE_MEAN&#x27;, &#x27;BURO_AMT_CREDIT_MAX_OVERDUE_MEAN&#x27;, &#x27;BURO_AMT_CREDIT_SUM_MAX&#x27;, &#x27;BURO_AMT_CREDIT_SUM_MEAN&#x27;, &#x27;BURO_AMT_CREDIT_SUM_SUM&#x27;, &#x27;BURO_AMT_CREDIT_SUM_DEBT_MAX&#x27;, &#x27;BURO_AMT_CREDIT_SUM_DEBT_MEAN&#x27;, &#x27;BURO_AMT_CREDIT_SUM_DEBT_SUM&#x27;, &#x27;BURO_AMT_CREDIT_SUM_OVERDUE_MEAN&#x27;, &#x27;BURO_AMT_CREDIT_SUM_LIMIT_MEAN&#x27;, &#x27;BURO_AMT_CREDIT_SUM_LIMIT_SUM&#x27;, &#x27;BURO_AMT_ANNUITY_MAX&#x27;, &#x27;BURO_AMT_ANNUITY_MEAN&#x27;, &#x27;BURO_MONTHS_BALANCE_SIZE_MEAN&#x27;, &#x27;BURO_CREDIT_ACTIVE_Active_MEAN&#x27;, &#x27;BURO_CREDIT_ACTIVE_Bad debt_MEAN&#x27;, &#x27;BURO_CREDIT_ACTIVE_Closed_MEAN&#x27;, &#x27;BURO_CREDIT_ACTIVE_Sold_MEAN&#x27;, &#x27;BURO_CREDIT_CURRENCY_currency 1_MEAN&#x27;, &#x27;BURO_CREDIT_CURRENCY_currency 2_MEAN&#x27;, &#x27;BURO_CREDIT_CURRENCY_currency 3_MEAN&#x27;, &#x27;BURO_CREDIT_CURRENCY_currency 4_MEAN&#x27;, &#x27;BURO_CREDIT_TYPE_Another type of loan_MEAN&#x27;, &#x27;BURO_CREDIT_TYPE_Car loan_MEAN&#x27;, &#x27;BURO_CREDIT_TYPE_Cash loan (non-earmarked)_MEAN&#x27;, &#x27;BURO_CREDIT_TYPE_Consumer credit_MEAN&#x27;, &#x27;BURO_CREDIT_TYPE_Credit card_MEAN&#x27;, &#x27;BURO_CREDIT_TYPE_Interbank credit_MEAN&#x27;, &#x27;BURO_CREDIT_TYPE_Loan for business development_MEAN&#x27;, &#x27;BURO_CREDIT_TYPE_Loan for purchase of shares (margin lending)_MEAN&#x27;, &#x27;BURO_CREDIT_TYPE_Loan for the purchase of equipment_MEAN&#x27;, &#x27;BURO_CREDIT_TYPE_Loan for working capital replenishment_MEAN&#x27;, &#x27;BURO_CREDIT_TYPE_Microloan_MEAN&#x27;, &#x27;BURO_CREDIT_TYPE_Mortgage_MEAN&#x27;, &#x27;BURO_CREDIT_TYPE_Real estate loan_MEAN&#x27;, &#x27;BURO_CREDIT_TYPE_Unknown type of loan_MEAN&#x27;, &#x27;BURO_STATUS_0_MEAN_MEAN&#x27;, &#x27;BURO_STATUS_1_MEAN_MEAN&#x27;, &#x27;BURO_STATUS_2_MEAN_MEAN&#x27;, &#x27;BURO_STATUS_3_MEAN_MEAN&#x27;, &#x27;BURO_STATUS_4_MEAN_MEAN&#x27;, &#x27;BURO_STATUS_5_MEAN_MEAN&#x27;, &#x27;BURO_STATUS_C_MEAN_MEAN&#x27;, &#x27;BURO_STATUS_X_MEAN_MEAN&#x27;, &#x27;ACTIVE_DAYS_CREDIT_MEAN&#x27;, &#x27;ACTIVE_DAYS_CREDIT_VAR&#x27;, &#x27;ACTIVE_DAYS_CREDIT_ENDDATE_MEAN&#x27;, &#x27;ACTIVE_DAYS_CREDIT_UPDATE_MEAN&#x27;, &#x27;ACTIVE_CREDIT_DAY_OVERDUE_MEAN&#x27;, &#x27;ACTIVE_AMT_CREDIT_MAX_OVERDUE_MEAN&#x27;, &#x27;ACTIVE_AMT_CREDIT_SUM_MAX&#x27;, &#x27;ACTIVE_AMT_CREDIT_SUM_MEAN&#x27;, &#x27;ACTIVE_AMT_CREDIT_SUM_SUM&#x27;, &#x27;ACTIVE_AMT_CREDIT_SUM_DEBT_MAX&#x27;, &#x27;ACTIVE_AMT_CREDIT_SUM_DEBT_MEAN&#x27;, &#x27;ACTIVE_AMT_CREDIT_SUM_DEBT_SUM&#x27;, &#x27;ACTIVE_AMT_CREDIT_SUM_OVERDUE_MEAN&#x27;, &#x27;ACTIVE_AMT_CREDIT_SUM_LIMIT_MEAN&#x27;, &#x27;ACTIVE_AMT_CREDIT_SUM_LIMIT_SUM&#x27;, &#x27;ACTIVE_AMT_ANNUITY_MAX&#x27;, &#x27;ACTIVE_AMT_ANNUITY_MEAN&#x27;, &#x27;ACTIVE_MONTHS_BALANCE_SIZE_MEAN&#x27;, &#x27;CLOSED_DAYS_CREDIT_MEAN&#x27;, &#x27;CLOSED_DAYS_CREDIT_VAR&#x27;, &#x27;CLOSED_DAYS_CREDIT_ENDDATE_MEAN&#x27;, &#x27;CLOSED_DAYS_CREDIT_UPDATE_MEAN&#x27;, &#x27;CLOSED_CREDIT_DAY_OVERDUE_MEAN&#x27;, &#x27;CLOSED_AMT_CREDIT_MAX_OVERDUE_MEAN&#x27;, &#x27;CLOSED_AMT_CREDIT_SUM_MAX&#x27;, &#x27;CLOSED_AMT_CREDIT_SUM_MEAN&#x27;, &#x27;CLOSED_AMT_CREDIT_SUM_SUM&#x27;, &#x27;CLOSED_AMT_CREDIT_SUM_DEBT_MAX&#x27;, &#x27;CLOSED_AMT_CREDIT_SUM_DEBT_MEAN&#x27;, &#x27;CLOSED_AMT_CREDIT_SUM_DEBT_SUM&#x27;, &#x27;CLOSED_AMT_CREDIT_SUM_OVERDUE_MEAN&#x27;, &#x27;CLOSED_AMT_CREDIT_SUM_LIMIT_MEAN&#x27;, &#x27;CLOSED_AMT_CREDIT_SUM_LIMIT_SUM&#x27;, &#x27;CLOSED_AMT_ANNUITY_MAX&#x27;, &#x27;CLOSED_AMT_ANNUITY_MEAN&#x27;, &#x27;CLOSED_MONTHS_BALANCE_SIZE_MEAN&#x27;, &#x27;PREV_AMT_ANNUITY_MIN&#x27;, &#x27;PREV_AMT_ANNUITY_MAX&#x27;, &#x27;PREV_AMT_ANNUITY_MEAN&#x27;, &#x27;PREV_AMT_APPLICATION_MIN&#x27;, &#x27;PREV_AMT_APPLICATION_MAX&#x27;, &#x27;PREV_AMT_APPLICATION_MEAN&#x27;, &#x27;PREV_AMT_CREDIT_MIN&#x27;, &#x27;PREV_AMT_CREDIT_MAX&#x27;, &#x27;PREV_AMT_CREDIT_MEAN&#x27;, &#x27;PREV_APP_CREDIT_PERC_MIN&#x27;, &#x27;PREV_APP_CREDIT_PERC_MAX&#x27;, &#x27;PREV_APP_CREDIT_PERC_MEAN&#x27;, &#x27;PREV_APP_CREDIT_PERC_VAR&#x27;, &#x27;PREV_AMT_DOWN_PAYMENT_MIN&#x27;, &#x27;PREV_AMT_DOWN_PAYMENT_MAX&#x27;, &#x27;PREV_AMT_DOWN_PAYMENT_MEAN&#x27;, &#x27;PREV_AMT_GOODS_PRICE_MIN&#x27;, &#x27;PREV_AMT_GOODS_PRICE_MAX&#x27;, &#x27;PREV_AMT_GOODS_PRICE_MEAN&#x27;, &#x27;PREV_HOUR_APPR_PROCESS_START_MEAN&#x27;, &#x27;PREV_RATE_DOWN_PAYMENT_MIN&#x27;, &#x27;PREV_RATE_DOWN_PAYMENT_MAX&#x27;, &#x27;PREV_RATE_DOWN_PAYMENT_MEAN&#x27;, &#x27;PREV_DAYS_DECISION_MEAN&#x27;, &#x27;PREV_CNT_PAYMENT_MEAN&#x27;, &#x27;PREV_NAME_CONTRACT_TYPE_Cash loans_MEAN&#x27;, &#x27;PREV_NAME_CONTRACT_TYPE_Consumer loans_MEAN&#x27;, &#x27;PREV_NAME_CONTRACT_TYPE_Revolving loans_MEAN&#x27;, &#x27;PREV_NAME_CONTRACT_TYPE_XNA_MEAN&#x27;, &#x27;PREV_WEEKDAY_APPR_PROCESS_START_FRIDAY_MEAN&#x27;, &#x27;PREV_WEEKDAY_APPR_PROCESS_START_MONDAY_MEAN&#x27;, &#x27;PREV_WEEKDAY_APPR_PROCESS_START_SATURDAY_MEAN&#x27;, &#x27;PREV_WEEKDAY_APPR_PROCESS_START_SUNDAY_MEAN&#x27;, &#x27;PREV_WEEKDAY_APPR_PROCESS_START_THURSDAY_MEAN&#x27;, &#x27;PREV_WEEKDAY_APPR_PROCESS_START_TUESDAY_MEAN&#x27;, &#x27;PREV_WEEKDAY_APPR_PROCESS_START_WEDNESDAY_MEAN&#x27;, &#x27;PREV_FLAG_LAST_APPL_PER_CONTRACT_N_MEAN&#x27;, &#x27;PREV_FLAG_LAST_APPL_PER_CONTRACT_Y_MEAN&#x27;, &#x27;PREV_NAME_CASH_LOAN_PURPOSE_Building a house or an annex_MEAN&#x27;, &#x27;PREV_NAME_CASH_LOAN_PURPOSE_Business development_MEAN&#x27;, &#x27;PREV_NAME_CASH_LOAN_PURPOSE_Buying a garage_MEAN&#x27;, &#x27;PREV_NAME_CASH_LOAN_PURPOSE_Buying a holiday home / land_MEAN&#x27;, &#x27;PREV_NAME_CASH_LOAN_PURPOSE_Buying a home_MEAN&#x27;, &#x27;PREV_NAME_CASH_LOAN_PURPOSE_Buying a new car_MEAN&#x27;, &#x27;PREV_NAME_CASH_LOAN_PURPOSE_Buying a used car_MEAN&#x27;, &#x27;PREV_NAME_CASH_LOAN_PURPOSE_Car repairs_MEAN&#x27;, &#x27;PREV_NAME_CASH_LOAN_PURPOSE_Education_MEAN&#x27;, &#x27;PREV_NAME_CASH_LOAN_PURPOSE_Everyday expenses_MEAN&#x27;, &#x27;PREV_NAME_CASH_LOAN_PURPOSE_Furniture_MEAN&#x27;, &#x27;PREV_NAME_CASH_LOAN_PURPOSE_Gasification / water supply_MEAN&#x27;, &#x27;PREV_NAME_CASH_LOAN_PURPOSE_Hobby_MEAN&#x27;, &#x27;PREV_NAME_CASH_LOAN_PURPOSE_Journey_MEAN&#x27;, &#x27;PREV_NAME_CASH_LOAN_PURPOSE_Medicine_MEAN&#x27;, &#x27;PREV_NAME_CASH_LOAN_PURPOSE_Money for a third person_MEAN&#x27;, &#x27;PREV_NAME_CASH_LOAN_PURPOSE_Other_MEAN&#x27;, &#x27;PREV_NAME_CASH_LOAN_PURPOSE_Payments on other loans_MEAN&#x27;, &#x27;PREV_NAME_CASH_LOAN_PURPOSE_Purchase of electronic equipment_MEAN&#x27;, &#x27;PREV_NAME_CASH_LOAN_PURPOSE_Refusal to name the goal_MEAN&#x27;, &#x27;PREV_NAME_CASH_LOAN_PURPOSE_Repairs_MEAN&#x27;, &#x27;PREV_NAME_CASH_LOAN_PURPOSE_Urgent needs_MEAN&#x27;, &#x27;PREV_NAME_CASH_LOAN_PURPOSE_Wedding / gift / holiday_MEAN&#x27;, &#x27;PREV_NAME_CASH_LOAN_PURPOSE_XAP_MEAN&#x27;, &#x27;PREV_NAME_CASH_LOAN_PURPOSE_XNA_MEAN&#x27;, &#x27;PREV_NAME_CONTRACT_STATUS_Approved_MEAN&#x27;, &#x27;PREV_NAME_CONTRACT_STATUS_Canceled_MEAN&#x27;, &#x27;PREV_NAME_CONTRACT_STATUS_Refused_MEAN&#x27;, &#x27;PREV_NAME_CONTRACT_STATUS_Unused offer_MEAN&#x27;, &#x27;PREV_NAME_PAYMENT_TYPE_Cash through the bank_MEAN&#x27;, &#x27;PREV_NAME_PAYMENT_TYPE_Cashless from the account of the employer_MEAN&#x27;, &#x27;PREV_NAME_PAYMENT_TYPE_Non-cash from your account_MEAN&#x27;, &#x27;PREV_NAME_PAYMENT_TYPE_XNA_MEAN&#x27;, &#x27;PREV_CODE_REJECT_REASON_CLIENT_MEAN&#x27;, &#x27;PREV_CODE_REJECT_REASON_HC_MEAN&#x27;, &#x27;PREV_CODE_REJECT_REASON_LIMIT_MEAN&#x27;, &#x27;PREV_CODE_REJECT_REASON_SCO_MEAN&#x27;, &#x27;PREV_CODE_REJECT_REASON_SCOFR_MEAN&#x27;, &#x27;PREV_CODE_REJECT_REASON_SYSTEM_MEAN&#x27;, &#x27;PREV_CODE_REJECT_REASON_VERIF_MEAN&#x27;, &#x27;PREV_CODE_REJECT_REASON_XAP_MEAN&#x27;, &#x27;PREV_CODE_REJECT_REASON_XNA_MEAN&#x27;, &#x27;PREV_NAME_TYPE_SUITE_Children_MEAN&#x27;, &#x27;PREV_NAME_TYPE_SUITE_Family_MEAN&#x27;, &#x27;PREV_NAME_TYPE_SUITE_Group of people_MEAN&#x27;, &#x27;PREV_NAME_TYPE_SUITE_Other_A_MEAN&#x27;, &#x27;PREV_NAME_TYPE_SUITE_Other_B_MEAN&#x27;, &#x27;PREV_NAME_TYPE_SUITE_Spouse, partner_MEAN&#x27;, &#x27;PREV_NAME_TYPE_SUITE_Unaccompanied_MEAN&#x27;, &#x27;PREV_NAME_TYPE_SUITE_nan_MEAN&#x27;, &#x27;PREV_NAME_CLIENT_TYPE_New_MEAN&#x27;, &#x27;PREV_NAME_CLIENT_TYPE_Refreshed_MEAN&#x27;, &#x27;PREV_NAME_CLIENT_TYPE_Repeater_MEAN&#x27;, &#x27;PREV_NAME_CLIENT_TYPE_XNA_MEAN&#x27;, &#x27;PREV_NAME_GOODS_CATEGORY_Additional Service_MEAN&#x27;, &#x27;PREV_NAME_GOODS_CATEGORY_Animals_MEAN&#x27;, &#x27;PREV_NAME_GOODS_CATEGORY_Audio/Video_MEAN&#x27;, &#x27;PREV_NAME_GOODS_CATEGORY_Auto Accessories_MEAN&#x27;, &#x27;PREV_NAME_GOODS_CATEGORY_Clothing and Accessories_MEAN&#x27;, &#x27;PREV_NAME_GOODS_CATEGORY_Computers_MEAN&#x27;, &#x27;PREV_NAME_GOODS_CATEGORY_Construction Materials_MEAN&#x27;, &#x27;PREV_NAME_GOODS_CATEGORY_Consumer Electronics_MEAN&#x27;, &#x27;PREV_NAME_GOODS_CATEGORY_Direct Sales_MEAN&#x27;, &#x27;PREV_NAME_GOODS_CATEGORY_Education_MEAN&#x27;, &#x27;PREV_NAME_GOODS_CATEGORY_Fitness_MEAN&#x27;, &#x27;PREV_NAME_GOODS_CATEGORY_Furniture_MEAN&#x27;, &#x27;PREV_NAME_GOODS_CATEGORY_Gardening_MEAN&#x27;, &#x27;PREV_NAME_GOODS_CATEGORY_Homewares_MEAN&#x27;, &#x27;PREV_NAME_GOODS_CATEGORY_Insurance_MEAN&#x27;, &#x27;PREV_NAME_GOODS_CATEGORY_Jewelry_MEAN&#x27;, &#x27;PREV_NAME_GOODS_CATEGORY_Medical Supplies_MEAN&#x27;, &#x27;PREV_NAME_GOODS_CATEGORY_Medicine_MEAN&#x27;, &#x27;PREV_NAME_GOODS_CATEGORY_Mobile_MEAN&#x27;, &#x27;PREV_NAME_GOODS_CATEGORY_Office Appliances_MEAN&#x27;, &#x27;PREV_NAME_GOODS_CATEGORY_Other_MEAN&#x27;, &#x27;PREV_NAME_GOODS_CATEGORY_Photo / Cinema Equipment_MEAN&#x27;, &#x27;PREV_NAME_GOODS_CATEGORY_Sport and Leisure_MEAN&#x27;, &#x27;PREV_NAME_GOODS_CATEGORY_Tourism_MEAN&#x27;, &#x27;PREV_NAME_GOODS_CATEGORY_Vehicles_MEAN&#x27;, &#x27;PREV_NAME_GOODS_CATEGORY_Weapon_MEAN&#x27;, &#x27;PREV_NAME_GOODS_CATEGORY_XNA_MEAN&#x27;, &#x27;PREV_NAME_PORTFOLIO_Cards_MEAN&#x27;, &#x27;PREV_NAME_PORTFOLIO_Cars_MEAN&#x27;, &#x27;PREV_NAME_PORTFOLIO_Cash_MEAN&#x27;, &#x27;PREV_NAME_PORTFOLIO_POS_MEAN&#x27;, &#x27;PREV_NAME_PORTFOLIO_XNA_MEAN&#x27;, &#x27;PREV_NAME_PRODUCT_TYPE_XNA_MEAN&#x27;, &#x27;PREV_NAME_PRODUCT_TYPE_walk-in_MEAN&#x27;, &#x27;PREV_NAME_PRODUCT_TYPE_x-sell_MEAN&#x27;, &#x27;PREV_CHANNEL_TYPE_AP+ (Cash loan)_MEAN&#x27;, &#x27;PREV_CHANNEL_TYPE_Car dealer_MEAN&#x27;, &#x27;PREV_CHANNEL_TYPE_Channel of corporate sales_MEAN&#x27;, &#x27;PREV_CHANNEL_TYPE_Contact center_MEAN&#x27;, &#x27;PREV_CHANNEL_TYPE_Country-wide_MEAN&#x27;, &#x27;PREV_CHANNEL_TYPE_Credit and cash offices_MEAN&#x27;, &#x27;PREV_CHANNEL_TYPE_Regional / Local_MEAN&#x27;, &#x27;PREV_CHANNEL_TYPE_Stone_MEAN&#x27;, &#x27;PREV_NAME_SELLER_INDUSTRY_Auto technology_MEAN&#x27;, &#x27;PREV_NAME_SELLER_INDUSTRY_Clothing_MEAN&#x27;, &#x27;PREV_NAME_SELLER_INDUSTRY_Connectivity_MEAN&#x27;, &#x27;PREV_NAME_SELLER_INDUSTRY_Construction_MEAN&#x27;, &#x27;PREV_NAME_SELLER_INDUSTRY_Consumer electronics_MEAN&#x27;, &#x27;PREV_NAME_SELLER_INDUSTRY_Furniture_MEAN&#x27;, &#x27;PREV_NAME_SELLER_INDUSTRY_Industry_MEAN&#x27;, &#x27;PREV_NAME_SELLER_INDUSTRY_Jewelry_MEAN&#x27;, &#x27;PREV_NAME_SELLER_INDUSTRY_MLM partners_MEAN&#x27;, &#x27;PREV_NAME_SELLER_INDUSTRY_Tourism_MEAN&#x27;, &#x27;PREV_NAME_SELLER_INDUSTRY_XNA_MEAN&#x27;, &#x27;PREV_NAME_YIELD_GROUP_XNA_MEAN&#x27;, &#x27;PREV_NAME_YIELD_GROUP_high_MEAN&#x27;, &#x27;PREV_NAME_YIELD_GROUP_low_action_MEAN&#x27;, &#x27;PREV_NAME_YIELD_GROUP_low_normal_MEAN&#x27;, &#x27;PREV_NAME_YIELD_GROUP_middle_MEAN&#x27;, &#x27;PREV_PRODUCT_COMBINATION_Card Street_MEAN&#x27;, &#x27;PREV_PRODUCT_COMBINATION_Card X-Sell_MEAN&#x27;, &#x27;PREV_PRODUCT_COMBINATION_Cash_MEAN&#x27;, &#x27;PREV_PRODUCT_COMBINATION_Cash Street: high_MEAN&#x27;, &#x27;PREV_PRODUCT_COMBINATION_Cash Street: low_MEAN&#x27;, &#x27;PREV_PRODUCT_COMBINATION_Cash Street: middle_MEAN&#x27;, &#x27;PREV_PRODUCT_COMBINATION_Cash X-Sell: high_MEAN&#x27;, &#x27;PREV_PRODUCT_COMBINATION_Cash X-Sell: low_MEAN&#x27;, &#x27;PREV_PRODUCT_COMBINATION_Cash X-Sell: middle_MEAN&#x27;, &#x27;PREV_PRODUCT_COMBINATION_POS household with interest_MEAN&#x27;, &#x27;PREV_PRODUCT_COMBINATION_POS household without interest_MEAN&#x27;, &#x27;PREV_PRODUCT_COMBINATION_POS industry with interest_MEAN&#x27;, &#x27;PREV_PRODUCT_COMBINATION_POS industry without interest_MEAN&#x27;, &#x27;PREV_PRODUCT_COMBINATION_POS mobile with interest_MEAN&#x27;, &#x27;PREV_PRODUCT_COMBINATION_POS mobile without interest_MEAN&#x27;, &#x27;PREV_PRODUCT_COMBINATION_POS other with interest_MEAN&#x27;, &#x27;PREV_PRODUCT_COMBINATION_POS others without interest_MEAN&#x27;, &#x27;PREV_PRODUCT_COMBINATION_nan_MEAN&#x27;, &#x27;APPROVED_AMT_ANNUITY_MIN&#x27;, &#x27;APPROVED_AMT_ANNUITY_MAX&#x27;, &#x27;APPROVED_AMT_ANNUITY_MEAN&#x27;, &#x27;APPROVED_AMT_APPLICATION_MIN&#x27;, &#x27;APPROVED_AMT_APPLICATION_MAX&#x27;, &#x27;APPROVED_AMT_APPLICATION_MEAN&#x27;, &#x27;APPROVED_AMT_CREDIT_MIN&#x27;, &#x27;APPROVED_AMT_CREDIT_MAX&#x27;, &#x27;APPROVED_AMT_CREDIT_MEAN&#x27;, &#x27;APPROVED_APP_CREDIT_PERC_MIN&#x27;, &#x27;APPROVED_APP_CREDIT_PERC_MAX&#x27;, &#x27;APPROVED_APP_CREDIT_PERC_MEAN&#x27;, &#x27;APPROVED_APP_CREDIT_PERC_VAR&#x27;, &#x27;APPROVED_AMT_DOWN_PAYMENT_MIN&#x27;, &#x27;APPROVED_AMT_DOWN_PAYMENT_MAX&#x27;, &#x27;APPROVED_AMT_DOWN_PAYMENT_MEAN&#x27;, &#x27;APPROVED_AMT_GOODS_PRICE_MIN&#x27;, &#x27;APPROVED_AMT_GOODS_PRICE_MAX&#x27;, &#x27;APPROVED_AMT_GOODS_PRICE_MEAN&#x27;, &#x27;APPROVED_HOUR_APPR_PROCESS_START_MEAN&#x27;, &#x27;APPROVED_RATE_DOWN_PAYMENT_MIN&#x27;, &#x27;APPROVED_RATE_DOWN_PAYMENT_MAX&#x27;, &#x27;APPROVED_RATE_DOWN_PAYMENT_MEAN&#x27;, &#x27;APPROVED_DAYS_DECISION_MEAN&#x27;, &#x27;APPROVED_CNT_PAYMENT_MEAN&#x27;, &#x27;REFUSED_AMT_ANNUITY_MIN&#x27;, &#x27;REFUSED_AMT_ANNUITY_MAX&#x27;, &#x27;REFUSED_AMT_ANNUITY_MEAN&#x27;, &#x27;REFUSED_AMT_APPLICATION_MIN&#x27;, &#x27;REFUSED_AMT_APPLICATION_MAX&#x27;, &#x27;REFUSED_AMT_APPLICATION_MEAN&#x27;, &#x27;REFUSED_AMT_CREDIT_MIN&#x27;, &#x27;REFUSED_AMT_CREDIT_MAX&#x27;, &#x27;REFUSED_AMT_CREDIT_MEAN&#x27;, &#x27;REFUSED_APP_CREDIT_PERC_MIN&#x27;, &#x27;REFUSED_APP_CREDIT_PERC_MAX&#x27;, &#x27;REFUSED_APP_CREDIT_PERC_MEAN&#x27;, &#x27;REFUSED_APP_CREDIT_PERC_VAR&#x27;, &#x27;REFUSED_AMT_DOWN_PAYMENT_MIN&#x27;, &#x27;REFUSED_AMT_DOWN_PAYMENT_MAX&#x27;, &#x27;REFUSED_AMT_DOWN_PAYMENT_MEAN&#x27;, &#x27;REFUSED_AMT_GOODS_PRICE_MIN&#x27;, &#x27;REFUSED_AMT_GOODS_PRICE_MAX&#x27;, &#x27;REFUSED_AMT_GOODS_PRICE_MEAN&#x27;, &#x27;REFUSED_HOUR_APPR_PROCESS_START_MEAN&#x27;, &#x27;REFUSED_RATE_DOWN_PAYMENT_MIN&#x27;, &#x27;REFUSED_RATE_DOWN_PAYMENT_MAX&#x27;, &#x27;REFUSED_RATE_DOWN_PAYMENT_MEAN&#x27;, &#x27;REFUSED_DAYS_DECISION_MEAN&#x27;, &#x27;REFUSED_CNT_PAYMENT_MEAN&#x27;, &#x27;POS_MONTHS_BALANCE_MEAN&#x27;, &#x27;POS_SK_DPD_MEAN&#x27;, &#x27;POS_SK_DPD_DEF_MEAN&#x27;, &#x27;POS_NAME_CONTRACT_STATUS_Active_MEAN&#x27;, &#x27;POS_NAME_CONTRACT_STATUS_Amortized debt_MEAN&#x27;, &#x27;POS_NAME_CONTRACT_STATUS_Approved_MEAN&#x27;, &#x27;POS_NAME_CONTRACT_STATUS_Canceled_MEAN&#x27;, &#x27;POS_NAME_CONTRACT_STATUS_Completed_MEAN&#x27;, &#x27;POS_NAME_CONTRACT_STATUS_Demand_MEAN&#x27;, &#x27;POS_NAME_CONTRACT_STATUS_Returned to the store_MEAN&#x27;, &#x27;POS_NAME_CONTRACT_STATUS_Signed_MEAN&#x27;, &#x27;INSTAL_DPD_MEAN&#x27;, &#x27;INSTAL_DBD_MEAN&#x27;, &#x27;INSTAL_PAYMENT_PERC_MAX&#x27;, &#x27;INSTAL_PAYMENT_PERC_MEAN&#x27;, &#x27;INSTAL_PAYMENT_PERC_SUM&#x27;, &#x27;INSTAL_PAYMENT_PERC_VAR&#x27;, &#x27;INSTAL_PAYMENT_DIFF_MAX&#x27;, &#x27;INSTAL_PAYMENT_DIFF_MEAN&#x27;, &#x27;INSTAL_PAYMENT_DIFF_SUM&#x27;, &#x27;INSTAL_PAYMENT_DIFF_VAR&#x27;, &#x27;INSTAL_AMT_INSTALMENT_MAX&#x27;, &#x27;INSTAL_AMT_INSTALMENT_MEAN&#x27;, &#x27;INSTAL_AMT_INSTALMENT_SUM&#x27;, &#x27;INSTAL_AMT_PAYMENT_MIN&#x27;, &#x27;INSTAL_AMT_PAYMENT_MAX&#x27;, &#x27;INSTAL_AMT_PAYMENT_MEAN&#x27;, &#x27;INSTAL_AMT_PAYMENT_SUM&#x27;, &#x27;INSTAL_DAYS_ENTRY_PAYMENT_MEAN&#x27;, &#x27;CC_MONTHS_BALANCE_MEAN&#x27;, &#x27;CC_MONTHS_BALANCE_VAR&#x27;, &#x27;CC_AMT_BALANCE_MIN&#x27;, &#x27;CC_AMT_BALANCE_MAX&#x27;, &#x27;CC_AMT_BALANCE_MEAN&#x27;, &#x27;CC_AMT_BALANCE_SUM&#x27;, &#x27;CC_AMT_BALANCE_VAR&#x27;, &#x27;CC_AMT_CREDIT_LIMIT_ACTUAL_MEAN&#x27;, &#x27;CC_AMT_CREDIT_LIMIT_ACTUAL_VAR&#x27;, &#x27;CC_AMT_DRAWINGS_ATM_CURRENT_MAX&#x27;, &#x27;CC_AMT_DRAWINGS_ATM_CURRENT_MEAN&#x27;, &#x27;CC_AMT_DRAWINGS_ATM_CURRENT_SUM&#x27;, &#x27;CC_AMT_DRAWINGS_ATM_CURRENT_VAR&#x27;, &#x27;CC_AMT_DRAWINGS_CURRENT_MIN&#x27;, &#x27;CC_AMT_DRAWINGS_CURRENT_MAX&#x27;, &#x27;CC_AMT_DRAWINGS_CURRENT_MEAN&#x27;, &#x27;CC_AMT_DRAWINGS_CURRENT_SUM&#x27;, &#x27;CC_AMT_DRAWINGS_CURRENT_VAR&#x27;, &#x27;CC_AMT_DRAWINGS_OTHER_CURRENT_MAX&#x27;, &#x27;CC_AMT_DRAWINGS_OTHER_CURRENT_MEAN&#x27;, &#x27;CC_AMT_DRAWINGS_OTHER_CURRENT_SUM&#x27;, &#x27;CC_AMT_DRAWINGS_OTHER_CURRENT_VAR&#x27;, &#x27;CC_AMT_DRAWINGS_POS_CURRENT_MIN&#x27;, &#x27;CC_AMT_DRAWINGS_POS_CURRENT_MAX&#x27;, &#x27;CC_AMT_DRAWINGS_POS_CURRENT_MEAN&#x27;, &#x27;CC_AMT_DRAWINGS_POS_CURRENT_SUM&#x27;, &#x27;CC_AMT_DRAWINGS_POS_CURRENT_VAR&#x27;, &#x27;CC_AMT_INST_MIN_REGULARITY_MIN&#x27;, &#x27;CC_AMT_INST_MIN_REGULARITY_MAX&#x27;, &#x27;CC_AMT_INST_MIN_REGULARITY_MEAN&#x27;, &#x27;CC_AMT_INST_MIN_REGULARITY_SUM&#x27;, &#x27;CC_AMT_INST_MIN_REGULARITY_VAR&#x27;, &#x27;CC_AMT_PAYMENT_CURRENT_MIN&#x27;, &#x27;CC_AMT_PAYMENT_CURRENT_MAX&#x27;, &#x27;CC_AMT_PAYMENT_CURRENT_MEAN&#x27;, &#x27;CC_AMT_PAYMENT_CURRENT_SUM&#x27;, &#x27;CC_AMT_PAYMENT_CURRENT_VAR&#x27;, &#x27;CC_AMT_PAYMENT_TOTAL_CURRENT_MIN&#x27;, &#x27;CC_AMT_PAYMENT_TOTAL_CURRENT_MAX&#x27;, &#x27;CC_AMT_PAYMENT_TOTAL_CURRENT_MEAN&#x27;, &#x27;CC_AMT_PAYMENT_TOTAL_CURRENT_SUM&#x27;, &#x27;CC_AMT_PAYMENT_TOTAL_CURRENT_VAR&#x27;, &#x27;CC_AMT_RECEIVABLE_PRINCIPAL_MIN&#x27;, &#x27;CC_AMT_RECEIVABLE_PRINCIPAL_MAX&#x27;, &#x27;CC_AMT_RECEIVABLE_PRINCIPAL_MEAN&#x27;, &#x27;CC_AMT_RECEIVABLE_PRINCIPAL_SUM&#x27;, &#x27;CC_AMT_RECEIVABLE_PRINCIPAL_VAR&#x27;, &#x27;CC_AMT_RECIVABLE_MIN&#x27;, &#x27;CC_AMT_RECIVABLE_MAX&#x27;, &#x27;CC_AMT_RECIVABLE_MEAN&#x27;, &#x27;CC_AMT_RECIVABLE_SUM&#x27;, &#x27;CC_AMT_RECIVABLE_VAR&#x27;, &#x27;CC_AMT_TOTAL_RECEIVABLE_MIN&#x27;, &#x27;CC_AMT_TOTAL_RECEIVABLE_MAX&#x27;, &#x27;CC_AMT_TOTAL_RECEIVABLE_MEAN&#x27;, &#x27;CC_AMT_TOTAL_RECEIVABLE_SUM&#x27;, &#x27;CC_AMT_TOTAL_RECEIVABLE_VAR&#x27;, &#x27;CC_CNT_DRAWINGS_ATM_CURRENT_MEAN&#x27;, &#x27;CC_CNT_DRAWINGS_ATM_CURRENT_VAR&#x27;, &#x27;CC_CNT_DRAWINGS_CURRENT_MEAN&#x27;, &#x27;CC_CNT_DRAWINGS_CURRENT_VAR&#x27;, &#x27;CC_CNT_DRAWINGS_OTHER_CURRENT_MEAN&#x27;, &#x27;CC_CNT_DRAWINGS_OTHER_CURRENT_VAR&#x27;, &#x27;CC_CNT_DRAWINGS_POS_CURRENT_MEAN&#x27;, &#x27;CC_CNT_DRAWINGS_POS_CURRENT_VAR&#x27;, &#x27;CC_CNT_INSTALMENT_MATURE_CUM_MEAN&#x27;, &#x27;CC_CNT_INSTALMENT_MATURE_CUM_VAR&#x27;, &#x27;CC_SK_DPD_MEAN&#x27;, &#x27;CC_SK_DPD_VAR&#x27;, &#x27;CC_SK_DPD_DEF_MEAN&#x27;, &#x27;CC_SK_DPD_DEF_VAR&#x27;, &#x27;CC_NAME_CONTRACT_STATUS_Active_MEAN&#x27;, &#x27;CC_NAME_CONTRACT_STATUS_Active_VAR&#x27;, &#x27;CC_NAME_CONTRACT_STATUS_Approved_MEAN&#x27;, &#x27;CC_NAME_CONTRACT_STATUS_Approved_VAR&#x27;, &#x27;CC_NAME_CONTRACT_STATUS_Completed_MEAN&#x27;, &#x27;CC_NAME_CONTRACT_STATUS_Completed_VAR&#x27;, &#x27;CC_NAME_CONTRACT_STATUS_Demand_MEAN&#x27;, &#x27;CC_NAME_CONTRACT_STATUS_Demand_VAR&#x27;, &#x27;CC_NAME_CONTRACT_STATUS_Refused_MEAN&#x27;, &#x27;CC_NAME_CONTRACT_STATUS_Refused_VAR&#x27;, &#x27;CC_NAME_CONTRACT_STATUS_Sent proposal_MEAN&#x27;, &#x27;CC_NAME_CONTRACT_STATUS_Sent proposal_VAR&#x27;, &#x27;CC_NAME_CONTRACT_STATUS_Signed_MEAN&#x27;, &#x27;CC_NAME_CONTRACT_STATUS_Signed_VAR&#x27;]</pre></div></div></div><div class=\"sk-serial\"><div class=\"sk-item\"><div class=\"sk-serial\"><div class=\"sk-item\"><div class=\"sk-estimator sk-toggleable\"><input class=\"sk-toggleable__control sk-hidden--visually\" id=\"b2798a06-c75f-4e42-9822-b4c71a43df6e\" type=\"checkbox\" ><label for=\"b2798a06-c75f-4e42-9822-b4c71a43df6e\" class=\"sk-toggleable__label sk-toggleable__label-arrow\">SimpleImputer</label><div class=\"sk-toggleable__content\"><pre>SimpleImputer(strategy=&#x27;median&#x27;)</pre></div></div></div><div class=\"sk-item\"><div class=\"sk-estimator sk-toggleable\"><input class=\"sk-toggleable__control sk-hidden--visually\" id=\"149ad9ba-82d5-4a50-a340-daa0fd1a8f05\" type=\"checkbox\" ><label for=\"149ad9ba-82d5-4a50-a340-daa0fd1a8f05\" class=\"sk-toggleable__label sk-toggleable__label-arrow\">RobustScaler</label><div class=\"sk-toggleable__content\"><pre>RobustScaler()</pre></div></div></div></div></div></div></div></div><div class=\"sk-parallel-item\"><div class=\"sk-item\"><div class=\"sk-label-container\"><div class=\"sk-label sk-toggleable\"><input class=\"sk-toggleable__control sk-hidden--visually\" id=\"e0cfe96e-23c1-423c-a7d2-239a6390d6d9\" type=\"checkbox\" ><label for=\"e0cfe96e-23c1-423c-a7d2-239a6390d6d9\" class=\"sk-toggleable__label sk-toggleable__label-arrow\">quali</label><div class=\"sk-toggleable__content\"><pre>[&#x27;NAME_CONTRACT_TYPE&#x27;, &#x27;CODE_GENDER&#x27;, &#x27;FLAG_OWN_CAR&#x27;, &#x27;FLAG_OWN_REALTY&#x27;, &#x27;NAME_TYPE_SUITE&#x27;, &#x27;NAME_INCOME_TYPE&#x27;, &#x27;NAME_EDUCATION_TYPE&#x27;, &#x27;NAME_FAMILY_STATUS&#x27;, &#x27;NAME_HOUSING_TYPE&#x27;, &#x27;OCCUPATION_TYPE&#x27;, &#x27;WEEKDAY_APPR_PROCESS_START&#x27;, &#x27;ORGANIZATION_TYPE&#x27;, &#x27;FONDKAPREMONT_MODE&#x27;, &#x27;HOUSETYPE_MODE&#x27;, &#x27;WALLSMATERIAL_MODE&#x27;, &#x27;EMERGENCYSTATE_MODE&#x27;]</pre></div></div></div><div class=\"sk-serial\"><div class=\"sk-item\"><div class=\"sk-serial\"><div class=\"sk-item\"><div class=\"sk-estimator sk-toggleable\"><input class=\"sk-toggleable__control sk-hidden--visually\" id=\"2b1da900-bf84-48eb-8c37-2ebeb1683fe9\" type=\"checkbox\" ><label for=\"2b1da900-bf84-48eb-8c37-2ebeb1683fe9\" class=\"sk-toggleable__label sk-toggleable__label-arrow\">SimpleImputer</label><div class=\"sk-toggleable__content\"><pre>SimpleImputer(fill_value=&#x27;manquant&#x27;, strategy=&#x27;constant&#x27;)</pre></div></div></div></div></div></div></div></div></div></div><div class=\"sk-item\"><div class=\"sk-estimator sk-toggleable\"><input class=\"sk-toggleable__control sk-hidden--visually\" id=\"26dd35a2-f132-425f-9ee1-3a0cb5792f7d\" type=\"checkbox\" ><label for=\"26dd35a2-f132-425f-9ee1-3a0cb5792f7d\" class=\"sk-toggleable__label sk-toggleable__label-arrow\">FunctionTransformer</label><div class=\"sk-toggleable__content\"><pre>FunctionTransformer(func=&lt;function tl_df at 0x7f23fa46d200&gt;)</pre></div></div></div><div class=\"sk-item sk-dashed-wrapped\"><div class=\"sk-label-container\"><div class=\"sk-label sk-toggleable\"><input class=\"sk-toggleable__control sk-hidden--visually\" id=\"348d68c4-a1a3-4476-ad53-802950f5d640\" type=\"checkbox\" ><label for=\"348d68c4-a1a3-4476-ad53-802950f5d640\" class=\"sk-toggleable__label sk-toggleable__label-arrow\">encode: ColumnTransformer</label><div class=\"sk-toggleable__content\"><pre>ColumnTransformer(remainder=&#x27;passthrough&#x27;,\n",
              "                  transformers=[(&#x27;quanti&#x27;,\n",
              "                                 OneHotEncoder(handle_unknown=&#x27;ignore&#x27;),\n",
              "                                 [&#x27;NAME_CONTRACT_TYPE&#x27;, &#x27;CODE_GENDER&#x27;,\n",
              "                                  &#x27;FLAG_OWN_CAR&#x27;, &#x27;FLAG_OWN_REALTY&#x27;,\n",
              "                                  &#x27;NAME_TYPE_SUITE&#x27;, &#x27;NAME_INCOME_TYPE&#x27;,\n",
              "                                  &#x27;NAME_EDUCATION_TYPE&#x27;, &#x27;NAME_FAMILY_STATUS&#x27;,\n",
              "                                  &#x27;NAME_HOUSING_TYPE&#x27;, &#x27;OCCUPATION_TYPE&#x27;,\n",
              "                                  &#x27;WEEKDAY_APPR_PROCESS_START&#x27;,\n",
              "                                  &#x27;ORGANIZATION_TYPE&#x27;, &#x27;FONDKAPREMONT_MODE&#x27;,\n",
              "                                  &#x27;HOUSETYPE_MODE&#x27;, &#x27;WALLSMATERIAL_MODE&#x27;,\n",
              "                                  &#x27;EMERGENCYSTATE_MODE&#x27;])])</pre></div></div></div><div class=\"sk-parallel\"><div class=\"sk-parallel-item\"><div class=\"sk-item\"><div class=\"sk-label-container\"><div class=\"sk-label sk-toggleable\"><input class=\"sk-toggleable__control sk-hidden--visually\" id=\"d50047f9-6f29-4f5c-a3c9-fc1594c6730d\" type=\"checkbox\" ><label for=\"d50047f9-6f29-4f5c-a3c9-fc1594c6730d\" class=\"sk-toggleable__label sk-toggleable__label-arrow\">quanti</label><div class=\"sk-toggleable__content\"><pre>[&#x27;NAME_CONTRACT_TYPE&#x27;, &#x27;CODE_GENDER&#x27;, &#x27;FLAG_OWN_CAR&#x27;, &#x27;FLAG_OWN_REALTY&#x27;, &#x27;NAME_TYPE_SUITE&#x27;, &#x27;NAME_INCOME_TYPE&#x27;, &#x27;NAME_EDUCATION_TYPE&#x27;, &#x27;NAME_FAMILY_STATUS&#x27;, &#x27;NAME_HOUSING_TYPE&#x27;, &#x27;OCCUPATION_TYPE&#x27;, &#x27;WEEKDAY_APPR_PROCESS_START&#x27;, &#x27;ORGANIZATION_TYPE&#x27;, &#x27;FONDKAPREMONT_MODE&#x27;, &#x27;HOUSETYPE_MODE&#x27;, &#x27;WALLSMATERIAL_MODE&#x27;, &#x27;EMERGENCYSTATE_MODE&#x27;]</pre></div></div></div><div class=\"sk-serial\"><div class=\"sk-item\"><div class=\"sk-estimator sk-toggleable\"><input class=\"sk-toggleable__control sk-hidden--visually\" id=\"5ac35d8e-5fe5-4f7b-ad61-fcdc16b2a030\" type=\"checkbox\" ><label for=\"5ac35d8e-5fe5-4f7b-ad61-fcdc16b2a030\" class=\"sk-toggleable__label sk-toggleable__label-arrow\">OneHotEncoder</label><div class=\"sk-toggleable__content\"><pre>OneHotEncoder(handle_unknown=&#x27;ignore&#x27;)</pre></div></div></div></div></div></div><div class=\"sk-parallel-item\"><div class=\"sk-item\"><div class=\"sk-label-container\"><div class=\"sk-label sk-toggleable\"><input class=\"sk-toggleable__control sk-hidden--visually\" id=\"e542bb6e-5964-404d-aff3-a47a7b1866ce\" type=\"checkbox\" ><label for=\"e542bb6e-5964-404d-aff3-a47a7b1866ce\" class=\"sk-toggleable__label sk-toggleable__label-arrow\">remainder</label><div class=\"sk-toggleable__content\"><pre>[&#x27;index&#x27;, &#x27;SK_ID_CURR&#x27;, &#x27;CNT_CHILDREN&#x27;, &#x27;DAYS_BIRTH&#x27;, &#x27;DAYS_EMPLOYED&#x27;, &#x27;DAYS_REGISTRATION&#x27;, &#x27;DAYS_ID_PUBLISH&#x27;, &#x27;OWN_CAR_AGE&#x27;, &#x27;FLAG_MOBIL&#x27;, &#x27;FLAG_EMP_PHONE&#x27;, &#x27;FLAG_WORK_PHONE&#x27;, &#x27;FLAG_CONT_MOBILE&#x27;, &#x27;FLAG_PHONE&#x27;, &#x27;FLAG_EMAIL&#x27;, &#x27;CNT_FAM_MEMBERS&#x27;, &#x27;REGION_RATING_CLIENT&#x27;, &#x27;REGION_RATING_CLIENT_W_CITY&#x27;, &#x27;HOUR_APPR_PROCESS_START&#x27;, &#x27;REG_REGION_NOT_LIVE_REGION&#x27;, &#x27;REG_REGION_NOT_WORK_REGION&#x27;, &#x27;LIVE_REGION_NOT_WORK_REGION&#x27;, &#x27;REG_CITY_NOT_LIVE_CITY&#x27;, &#x27;REG_CITY_NOT_WORK_CITY&#x27;, &#x27;LIVE_CITY_NOT_WORK_CITY&#x27;, &#x27;OBS_30_CNT_SOCIAL_CIRCLE&#x27;, &#x27;DEF_30_CNT_SOCIAL_CIRCLE&#x27;, &#x27;OBS_60_CNT_SOCIAL_CIRCLE&#x27;, &#x27;DEF_60_CNT_SOCIAL_CIRCLE&#x27;, &#x27;DAYS_LAST_PHONE_CHANGE&#x27;, &#x27;FLAG_DOCUMENT_2&#x27;, &#x27;FLAG_DOCUMENT_3&#x27;, &#x27;FLAG_DOCUMENT_4&#x27;, &#x27;FLAG_DOCUMENT_5&#x27;, &#x27;FLAG_DOCUMENT_6&#x27;, &#x27;FLAG_DOCUMENT_7&#x27;, &#x27;FLAG_DOCUMENT_8&#x27;, &#x27;FLAG_DOCUMENT_9&#x27;, &#x27;FLAG_DOCUMENT_10&#x27;, &#x27;FLAG_DOCUMENT_11&#x27;, &#x27;FLAG_DOCUMENT_12&#x27;, &#x27;FLAG_DOCUMENT_13&#x27;, &#x27;FLAG_DOCUMENT_14&#x27;, &#x27;FLAG_DOCUMENT_15&#x27;, &#x27;FLAG_DOCUMENT_16&#x27;, &#x27;FLAG_DOCUMENT_17&#x27;, &#x27;FLAG_DOCUMENT_18&#x27;, &#x27;FLAG_DOCUMENT_19&#x27;, &#x27;FLAG_DOCUMENT_20&#x27;, &#x27;FLAG_DOCUMENT_21&#x27;, &#x27;AMT_REQ_CREDIT_BUREAU_HOUR&#x27;, &#x27;AMT_REQ_CREDIT_BUREAU_DAY&#x27;, &#x27;AMT_REQ_CREDIT_BUREAU_WEEK&#x27;, &#x27;AMT_REQ_CREDIT_BUREAU_MON&#x27;, &#x27;AMT_REQ_CREDIT_BUREAU_QRT&#x27;, &#x27;AMT_REQ_CREDIT_BUREAU_YEAR&#x27;, &#x27;BURO_DAYS_CREDIT_MIN&#x27;, &#x27;BURO_DAYS_CREDIT_MAX&#x27;, &#x27;BURO_DAYS_CREDIT_ENDDATE_MIN&#x27;, &#x27;BURO_DAYS_CREDIT_ENDDATE_MAX&#x27;, &#x27;BURO_CREDIT_DAY_OVERDUE_MAX&#x27;, &#x27;BURO_CNT_CREDIT_PROLONG_SUM&#x27;, &#x27;BURO_MONTHS_BALANCE_MIN_MIN&#x27;, &#x27;BURO_MONTHS_BALANCE_MAX_MAX&#x27;, &#x27;BURO_MONTHS_BALANCE_SIZE_SUM&#x27;, &#x27;BURO_CREDIT_ACTIVE_nan_MEAN&#x27;, &#x27;BURO_CREDIT_CURRENCY_nan_MEAN&#x27;, &#x27;BURO_CREDIT_TYPE_Mobile operator loan_MEAN&#x27;, &#x27;BURO_CREDIT_TYPE_nan_MEAN&#x27;, &#x27;BURO_STATUS_nan_MEAN_MEAN&#x27;, &#x27;ACTIVE_DAYS_CREDIT_MIN&#x27;, &#x27;ACTIVE_DAYS_CREDIT_MAX&#x27;, &#x27;ACTIVE_DAYS_CREDIT_ENDDATE_MIN&#x27;, &#x27;ACTIVE_DAYS_CREDIT_ENDDATE_MAX&#x27;, &#x27;ACTIVE_CREDIT_DAY_OVERDUE_MAX&#x27;, &#x27;ACTIVE_CNT_CREDIT_PROLONG_SUM&#x27;, &#x27;ACTIVE_MONTHS_BALANCE_MIN_MIN&#x27;, &#x27;ACTIVE_MONTHS_BALANCE_MAX_MAX&#x27;, &#x27;ACTIVE_MONTHS_BALANCE_SIZE_SUM&#x27;, &#x27;CLOSED_DAYS_CREDIT_MIN&#x27;, &#x27;CLOSED_DAYS_CREDIT_MAX&#x27;, &#x27;CLOSED_DAYS_CREDIT_ENDDATE_MIN&#x27;, &#x27;CLOSED_DAYS_CREDIT_ENDDATE_MAX&#x27;, &#x27;CLOSED_CREDIT_DAY_OVERDUE_MAX&#x27;, &#x27;CLOSED_CNT_CREDIT_PROLONG_SUM&#x27;, &#x27;CLOSED_MONTHS_BALANCE_MIN_MIN&#x27;, &#x27;CLOSED_MONTHS_BALANCE_MAX_MAX&#x27;, &#x27;CLOSED_MONTHS_BALANCE_SIZE_SUM&#x27;, &#x27;PREV_HOUR_APPR_PROCESS_START_MIN&#x27;, &#x27;PREV_HOUR_APPR_PROCESS_START_MAX&#x27;, &#x27;PREV_DAYS_DECISION_MIN&#x27;, &#x27;PREV_DAYS_DECISION_MAX&#x27;, &#x27;PREV_CNT_PAYMENT_SUM&#x27;, &#x27;PREV_NAME_CONTRACT_TYPE_nan_MEAN&#x27;, &#x27;PREV_WEEKDAY_APPR_PROCESS_START_nan_MEAN&#x27;, &#x27;PREV_FLAG_LAST_APPL_PER_CONTRACT_nan_MEAN&#x27;, &#x27;PREV_NAME_CASH_LOAN_PURPOSE_nan_MEAN&#x27;, &#x27;PREV_NAME_CONTRACT_STATUS_nan_MEAN&#x27;, &#x27;PREV_NAME_PAYMENT_TYPE_nan_MEAN&#x27;, &#x27;PREV_CODE_REJECT_REASON_nan_MEAN&#x27;, &#x27;PREV_NAME_CLIENT_TYPE_nan_MEAN&#x27;, &#x27;PREV_NAME_GOODS_CATEGORY_House Construction_MEAN&#x27;, &#x27;PREV_NAME_GOODS_CATEGORY_nan_MEAN&#x27;, &#x27;PREV_NAME_PORTFOLIO_nan_MEAN&#x27;, &#x27;PREV_NAME_PRODUCT_TYPE_nan_MEAN&#x27;, &#x27;PREV_CHANNEL_TYPE_nan_MEAN&#x27;, &#x27;PREV_NAME_SELLER_INDUSTRY_nan_MEAN&#x27;, &#x27;PREV_NAME_YIELD_GROUP_nan_MEAN&#x27;, &#x27;APPROVED_HOUR_APPR_PROCESS_START_MIN&#x27;, &#x27;APPROVED_HOUR_APPR_PROCESS_START_MAX&#x27;, &#x27;APPROVED_DAYS_DECISION_MIN&#x27;, &#x27;APPROVED_DAYS_DECISION_MAX&#x27;, &#x27;APPROVED_CNT_PAYMENT_SUM&#x27;, &#x27;REFUSED_HOUR_APPR_PROCESS_START_MIN&#x27;, &#x27;REFUSED_HOUR_APPR_PROCESS_START_MAX&#x27;, &#x27;REFUSED_DAYS_DECISION_MIN&#x27;, &#x27;REFUSED_DAYS_DECISION_MAX&#x27;, &#x27;REFUSED_CNT_PAYMENT_SUM&#x27;, &#x27;POS_MONTHS_BALANCE_MAX&#x27;, &#x27;POS_MONTHS_BALANCE_SIZE&#x27;, &#x27;POS_SK_DPD_MAX&#x27;, &#x27;POS_SK_DPD_DEF_MAX&#x27;, &#x27;POS_NAME_CONTRACT_STATUS_XNA_MEAN&#x27;, &#x27;POS_NAME_CONTRACT_STATUS_nan_MEAN&#x27;, &#x27;POS_COUNT&#x27;, &#x27;INSTAL_NUM_INSTALMENT_VERSION_NUNIQUE&#x27;, &#x27;INSTAL_DPD_MAX&#x27;, &#x27;INSTAL_DPD_SUM&#x27;, &#x27;INSTAL_DBD_MAX&#x27;, &#x27;INSTAL_DBD_SUM&#x27;, &#x27;INSTAL_DAYS_ENTRY_PAYMENT_MAX&#x27;, &#x27;INSTAL_DAYS_ENTRY_PAYMENT_SUM&#x27;, &#x27;INSTAL_COUNT&#x27;, &#x27;CC_MONTHS_BALANCE_MIN&#x27;, &#x27;CC_MONTHS_BALANCE_MAX&#x27;, &#x27;CC_MONTHS_BALANCE_SUM&#x27;, &#x27;CC_AMT_CREDIT_LIMIT_ACTUAL_MIN&#x27;, &#x27;CC_AMT_CREDIT_LIMIT_ACTUAL_MAX&#x27;, &#x27;CC_AMT_CREDIT_LIMIT_ACTUAL_SUM&#x27;, &#x27;CC_AMT_DRAWINGS_ATM_CURRENT_MIN&#x27;, &#x27;CC_AMT_DRAWINGS_OTHER_CURRENT_MIN&#x27;, &#x27;CC_CNT_DRAWINGS_ATM_CURRENT_MIN&#x27;, &#x27;CC_CNT_DRAWINGS_ATM_CURRENT_MAX&#x27;, &#x27;CC_CNT_DRAWINGS_ATM_CURRENT_SUM&#x27;, &#x27;CC_CNT_DRAWINGS_CURRENT_MIN&#x27;, &#x27;CC_CNT_DRAWINGS_CURRENT_MAX&#x27;, &#x27;CC_CNT_DRAWINGS_CURRENT_SUM&#x27;, &#x27;CC_CNT_DRAWINGS_OTHER_CURRENT_MIN&#x27;, &#x27;CC_CNT_DRAWINGS_OTHER_CURRENT_MAX&#x27;, &#x27;CC_CNT_DRAWINGS_OTHER_CURRENT_SUM&#x27;, &#x27;CC_CNT_DRAWINGS_POS_CURRENT_MIN&#x27;, &#x27;CC_CNT_DRAWINGS_POS_CURRENT_MAX&#x27;, &#x27;CC_CNT_DRAWINGS_POS_CURRENT_SUM&#x27;, &#x27;CC_CNT_INSTALMENT_MATURE_CUM_MIN&#x27;, &#x27;CC_CNT_INSTALMENT_MATURE_CUM_MAX&#x27;, &#x27;CC_CNT_INSTALMENT_MATURE_CUM_SUM&#x27;, &#x27;CC_SK_DPD_MIN&#x27;, &#x27;CC_SK_DPD_MAX&#x27;, &#x27;CC_SK_DPD_SUM&#x27;, &#x27;CC_SK_DPD_DEF_MIN&#x27;, &#x27;CC_SK_DPD_DEF_MAX&#x27;, &#x27;CC_SK_DPD_DEF_SUM&#x27;, &#x27;CC_NAME_CONTRACT_STATUS_Active_MIN&#x27;, &#x27;CC_NAME_CONTRACT_STATUS_Active_MAX&#x27;, &#x27;CC_NAME_CONTRACT_STATUS_Active_SUM&#x27;, &#x27;CC_NAME_CONTRACT_STATUS_Approved_MIN&#x27;, &#x27;CC_NAME_CONTRACT_STATUS_Approved_MAX&#x27;, &#x27;CC_NAME_CONTRACT_STATUS_Approved_SUM&#x27;, &#x27;CC_NAME_CONTRACT_STATUS_Completed_MIN&#x27;, &#x27;CC_NAME_CONTRACT_STATUS_Completed_MAX&#x27;, &#x27;CC_NAME_CONTRACT_STATUS_Completed_SUM&#x27;, &#x27;CC_NAME_CONTRACT_STATUS_Demand_MIN&#x27;, &#x27;CC_NAME_CONTRACT_STATUS_Demand_MAX&#x27;, &#x27;CC_NAME_CONTRACT_STATUS_Demand_SUM&#x27;, &#x27;CC_NAME_CONTRACT_STATUS_Refused_MIN&#x27;, &#x27;CC_NAME_CONTRACT_STATUS_Refused_MAX&#x27;, &#x27;CC_NAME_CONTRACT_STATUS_Refused_SUM&#x27;, &#x27;CC_NAME_CONTRACT_STATUS_Sent proposal_MIN&#x27;, &#x27;CC_NAME_CONTRACT_STATUS_Sent proposal_MAX&#x27;, &#x27;CC_NAME_CONTRACT_STATUS_Sent proposal_SUM&#x27;, &#x27;CC_NAME_CONTRACT_STATUS_Signed_MIN&#x27;, &#x27;CC_NAME_CONTRACT_STATUS_Signed_MAX&#x27;, &#x27;CC_NAME_CONTRACT_STATUS_Signed_SUM&#x27;, &#x27;CC_NAME_CONTRACT_STATUS_nan_MIN&#x27;, &#x27;CC_NAME_CONTRACT_STATUS_nan_MAX&#x27;, &#x27;CC_NAME_CONTRACT_STATUS_nan_MEAN&#x27;, &#x27;CC_NAME_CONTRACT_STATUS_nan_SUM&#x27;, &#x27;CC_NAME_CONTRACT_STATUS_nan_VAR&#x27;, &#x27;CC_COUNT&#x27;, &#x27;AMT_INCOME_TOTAL&#x27;, &#x27;AMT_CREDIT&#x27;, &#x27;AMT_ANNUITY&#x27;, &#x27;AMT_GOODS_PRICE&#x27;, &#x27;REGION_POPULATION_RELATIVE&#x27;, &#x27;EXT_SOURCE_1&#x27;, &#x27;EXT_SOURCE_2&#x27;, &#x27;EXT_SOURCE_3&#x27;, &#x27;APARTMENTS_AVG&#x27;, &#x27;BASEMENTAREA_AVG&#x27;, &#x27;YEARS_BEGINEXPLUATATION_AVG&#x27;, &#x27;YEARS_BUILD_AVG&#x27;, &#x27;COMMONAREA_AVG&#x27;, &#x27;ELEVATORS_AVG&#x27;, &#x27;ENTRANCES_AVG&#x27;, &#x27;FLOORSMAX_AVG&#x27;, &#x27;FLOORSMIN_AVG&#x27;, &#x27;LANDAREA_AVG&#x27;, &#x27;LIVINGAPARTMENTS_AVG&#x27;, &#x27;LIVINGAREA_AVG&#x27;, &#x27;NONLIVINGAPARTMENTS_AVG&#x27;, &#x27;NONLIVINGAREA_AVG&#x27;, &#x27;APARTMENTS_MODE&#x27;, &#x27;BASEMENTAREA_MODE&#x27;, &#x27;YEARS_BEGINEXPLUATATION_MODE&#x27;, &#x27;YEARS_BUILD_MODE&#x27;, &#x27;COMMONAREA_MODE&#x27;, &#x27;ELEVATORS_MODE&#x27;, &#x27;ENTRANCES_MODE&#x27;, &#x27;FLOORSMAX_MODE&#x27;, &#x27;FLOORSMIN_MODE&#x27;, &#x27;LANDAREA_MODE&#x27;, &#x27;LIVINGAPARTMENTS_MODE&#x27;, &#x27;LIVINGAREA_MODE&#x27;, &#x27;NONLIVINGAPARTMENTS_MODE&#x27;, &#x27;NONLIVINGAREA_MODE&#x27;, &#x27;APARTMENTS_MEDI&#x27;, &#x27;BASEMENTAREA_MEDI&#x27;, &#x27;YEARS_BEGINEXPLUATATION_MEDI&#x27;, &#x27;YEARS_BUILD_MEDI&#x27;, &#x27;COMMONAREA_MEDI&#x27;, &#x27;ELEVATORS_MEDI&#x27;, &#x27;ENTRANCES_MEDI&#x27;, &#x27;FLOORSMAX_MEDI&#x27;, &#x27;FLOORSMIN_MEDI&#x27;, &#x27;LANDAREA_MEDI&#x27;, &#x27;LIVINGAPARTMENTS_MEDI&#x27;, &#x27;LIVINGAREA_MEDI&#x27;, &#x27;NONLIVINGAPARTMENTS_MEDI&#x27;, &#x27;NONLIVINGAREA_MEDI&#x27;, &#x27;TOTALAREA_MODE&#x27;, &#x27;DAYS_EMPLOYED_PERC&#x27;, &#x27;INCOME_CREDIT_PERC&#x27;, &#x27;INCOME_PER_PERSON&#x27;, &#x27;ANNUITY_INCOME_PERC&#x27;, &#x27;PAYMENT_RATE&#x27;, &#x27;BURO_DAYS_CREDIT_MEAN&#x27;, &#x27;BURO_DAYS_CREDIT_VAR&#x27;, &#x27;BURO_DAYS_CREDIT_ENDDATE_MEAN&#x27;, &#x27;BURO_DAYS_CREDIT_UPDATE_MEAN&#x27;, &#x27;BURO_CREDIT_DAY_OVERDUE_MEAN&#x27;, &#x27;BURO_AMT_CREDIT_MAX_OVERDUE_MEAN&#x27;, &#x27;BURO_AMT_CREDIT_SUM_MAX&#x27;, &#x27;BURO_AMT_CREDIT_SUM_MEAN&#x27;, &#x27;BURO_AMT_CREDIT_SUM_SUM&#x27;, &#x27;BURO_AMT_CREDIT_SUM_DEBT_MAX&#x27;, &#x27;BURO_AMT_CREDIT_SUM_DEBT_MEAN&#x27;, &#x27;BURO_AMT_CREDIT_SUM_DEBT_SUM&#x27;, &#x27;BURO_AMT_CREDIT_SUM_OVERDUE_MEAN&#x27;, &#x27;BURO_AMT_CREDIT_SUM_LIMIT_MEAN&#x27;, &#x27;BURO_AMT_CREDIT_SUM_LIMIT_SUM&#x27;, &#x27;BURO_AMT_ANNUITY_MAX&#x27;, &#x27;BURO_AMT_ANNUITY_MEAN&#x27;, &#x27;BURO_MONTHS_BALANCE_SIZE_MEAN&#x27;, &#x27;BURO_CREDIT_ACTIVE_Active_MEAN&#x27;, &#x27;BURO_CREDIT_ACTIVE_Bad debt_MEAN&#x27;, &#x27;BURO_CREDIT_ACTIVE_Closed_MEAN&#x27;, &#x27;BURO_CREDIT_ACTIVE_Sold_MEAN&#x27;, &#x27;BURO_CREDIT_CURRENCY_currency 1_MEAN&#x27;, &#x27;BURO_CREDIT_CURRENCY_currency 2_MEAN&#x27;, &#x27;BURO_CREDIT_CURRENCY_currency 3_MEAN&#x27;, &#x27;BURO_CREDIT_CURRENCY_currency 4_MEAN&#x27;, &#x27;BURO_CREDIT_TYPE_Another type of loan_MEAN&#x27;, &#x27;BURO_CREDIT_TYPE_Car loan_MEAN&#x27;, &#x27;BURO_CREDIT_TYPE_Cash loan (non-earmarked)_MEAN&#x27;, &#x27;BURO_CREDIT_TYPE_Consumer credit_MEAN&#x27;, &#x27;BURO_CREDIT_TYPE_Credit card_MEAN&#x27;, &#x27;BURO_CREDIT_TYPE_Interbank credit_MEAN&#x27;, &#x27;BURO_CREDIT_TYPE_Loan for business development_MEAN&#x27;, &#x27;BURO_CREDIT_TYPE_Loan for purchase of shares (margin lending)_MEAN&#x27;, &#x27;BURO_CREDIT_TYPE_Loan for the purchase of equipment_MEAN&#x27;, &#x27;BURO_CREDIT_TYPE_Loan for working capital replenishment_MEAN&#x27;, &#x27;BURO_CREDIT_TYPE_Microloan_MEAN&#x27;, &#x27;BURO_CREDIT_TYPE_Mortgage_MEAN&#x27;, &#x27;BURO_CREDIT_TYPE_Real estate loan_MEAN&#x27;, &#x27;BURO_CREDIT_TYPE_Unknown type of loan_MEAN&#x27;, &#x27;BURO_STATUS_0_MEAN_MEAN&#x27;, &#x27;BURO_STATUS_1_MEAN_MEAN&#x27;, &#x27;BURO_STATUS_2_MEAN_MEAN&#x27;, &#x27;BURO_STATUS_3_MEAN_MEAN&#x27;, &#x27;BURO_STATUS_4_MEAN_MEAN&#x27;, &#x27;BURO_STATUS_5_MEAN_MEAN&#x27;, &#x27;BURO_STATUS_C_MEAN_MEAN&#x27;, &#x27;BURO_STATUS_X_MEAN_MEAN&#x27;, &#x27;ACTIVE_DAYS_CREDIT_MEAN&#x27;, &#x27;ACTIVE_DAYS_CREDIT_VAR&#x27;, &#x27;ACTIVE_DAYS_CREDIT_ENDDATE_MEAN&#x27;, &#x27;ACTIVE_DAYS_CREDIT_UPDATE_MEAN&#x27;, &#x27;ACTIVE_CREDIT_DAY_OVERDUE_MEAN&#x27;, &#x27;ACTIVE_AMT_CREDIT_MAX_OVERDUE_MEAN&#x27;, &#x27;ACTIVE_AMT_CREDIT_SUM_MAX&#x27;, &#x27;ACTIVE_AMT_CREDIT_SUM_MEAN&#x27;, &#x27;ACTIVE_AMT_CREDIT_SUM_SUM&#x27;, &#x27;ACTIVE_AMT_CREDIT_SUM_DEBT_MAX&#x27;, &#x27;ACTIVE_AMT_CREDIT_SUM_DEBT_MEAN&#x27;, &#x27;ACTIVE_AMT_CREDIT_SUM_DEBT_SUM&#x27;, &#x27;ACTIVE_AMT_CREDIT_SUM_OVERDUE_MEAN&#x27;, &#x27;ACTIVE_AMT_CREDIT_SUM_LIMIT_MEAN&#x27;, &#x27;ACTIVE_AMT_CREDIT_SUM_LIMIT_SUM&#x27;, &#x27;ACTIVE_AMT_ANNUITY_MAX&#x27;, &#x27;ACTIVE_AMT_ANNUITY_MEAN&#x27;, &#x27;ACTIVE_MONTHS_BALANCE_SIZE_MEAN&#x27;, &#x27;CLOSED_DAYS_CREDIT_MEAN&#x27;, &#x27;CLOSED_DAYS_CREDIT_VAR&#x27;, &#x27;CLOSED_DAYS_CREDIT_ENDDATE_MEAN&#x27;, &#x27;CLOSED_DAYS_CREDIT_UPDATE_MEAN&#x27;, &#x27;CLOSED_CREDIT_DAY_OVERDUE_MEAN&#x27;, &#x27;CLOSED_AMT_CREDIT_MAX_OVERDUE_MEAN&#x27;, &#x27;CLOSED_AMT_CREDIT_SUM_MAX&#x27;, &#x27;CLOSED_AMT_CREDIT_SUM_MEAN&#x27;, &#x27;CLOSED_AMT_CREDIT_SUM_SUM&#x27;, &#x27;CLOSED_AMT_CREDIT_SUM_DEBT_MAX&#x27;, &#x27;CLOSED_AMT_CREDIT_SUM_DEBT_MEAN&#x27;, &#x27;CLOSED_AMT_CREDIT_SUM_DEBT_SUM&#x27;, &#x27;CLOSED_AMT_CREDIT_SUM_OVERDUE_MEAN&#x27;, &#x27;CLOSED_AMT_CREDIT_SUM_LIMIT_MEAN&#x27;, &#x27;CLOSED_AMT_CREDIT_SUM_LIMIT_SUM&#x27;, &#x27;CLOSED_AMT_ANNUITY_MAX&#x27;, &#x27;CLOSED_AMT_ANNUITY_MEAN&#x27;, &#x27;CLOSED_MONTHS_BALANCE_SIZE_MEAN&#x27;, &#x27;PREV_AMT_ANNUITY_MIN&#x27;, &#x27;PREV_AMT_ANNUITY_MAX&#x27;, &#x27;PREV_AMT_ANNUITY_MEAN&#x27;, &#x27;PREV_AMT_APPLICATION_MIN&#x27;, &#x27;PREV_AMT_APPLICATION_MAX&#x27;, &#x27;PREV_AMT_APPLICATION_MEAN&#x27;, &#x27;PREV_AMT_CREDIT_MIN&#x27;, &#x27;PREV_AMT_CREDIT_MAX&#x27;, &#x27;PREV_AMT_CREDIT_MEAN&#x27;, &#x27;PREV_APP_CREDIT_PERC_MIN&#x27;, &#x27;PREV_APP_CREDIT_PERC_MAX&#x27;, &#x27;PREV_APP_CREDIT_PERC_MEAN&#x27;, &#x27;PREV_APP_CREDIT_PERC_VAR&#x27;, &#x27;PREV_AMT_DOWN_PAYMENT_MIN&#x27;, &#x27;PREV_AMT_DOWN_PAYMENT_MAX&#x27;, &#x27;PREV_AMT_DOWN_PAYMENT_MEAN&#x27;, &#x27;PREV_AMT_GOODS_PRICE_MIN&#x27;, &#x27;PREV_AMT_GOODS_PRICE_MAX&#x27;, &#x27;PREV_AMT_GOODS_PRICE_MEAN&#x27;, &#x27;PREV_HOUR_APPR_PROCESS_START_MEAN&#x27;, &#x27;PREV_RATE_DOWN_PAYMENT_MIN&#x27;, &#x27;PREV_RATE_DOWN_PAYMENT_MAX&#x27;, &#x27;PREV_RATE_DOWN_PAYMENT_MEAN&#x27;, &#x27;PREV_DAYS_DECISION_MEAN&#x27;, &#x27;PREV_CNT_PAYMENT_MEAN&#x27;, &#x27;PREV_NAME_CONTRACT_TYPE_Cash loans_MEAN&#x27;, &#x27;PREV_NAME_CONTRACT_TYPE_Consumer loans_MEAN&#x27;, &#x27;PREV_NAME_CONTRACT_TYPE_Revolving loans_MEAN&#x27;, &#x27;PREV_NAME_CONTRACT_TYPE_XNA_MEAN&#x27;, &#x27;PREV_WEEKDAY_APPR_PROCESS_START_FRIDAY_MEAN&#x27;, &#x27;PREV_WEEKDAY_APPR_PROCESS_START_MONDAY_MEAN&#x27;, &#x27;PREV_WEEKDAY_APPR_PROCESS_START_SATURDAY_MEAN&#x27;, &#x27;PREV_WEEKDAY_APPR_PROCESS_START_SUNDAY_MEAN&#x27;, &#x27;PREV_WEEKDAY_APPR_PROCESS_START_THURSDAY_MEAN&#x27;, &#x27;PREV_WEEKDAY_APPR_PROCESS_START_TUESDAY_MEAN&#x27;, &#x27;PREV_WEEKDAY_APPR_PROCESS_START_WEDNESDAY_MEAN&#x27;, &#x27;PREV_FLAG_LAST_APPL_PER_CONTRACT_N_MEAN&#x27;, &#x27;PREV_FLAG_LAST_APPL_PER_CONTRACT_Y_MEAN&#x27;, &#x27;PREV_NAME_CASH_LOAN_PURPOSE_Building a house or an annex_MEAN&#x27;, &#x27;PREV_NAME_CASH_LOAN_PURPOSE_Business development_MEAN&#x27;, &#x27;PREV_NAME_CASH_LOAN_PURPOSE_Buying a garage_MEAN&#x27;, &#x27;PREV_NAME_CASH_LOAN_PURPOSE_Buying a holiday home / land_MEAN&#x27;, &#x27;PREV_NAME_CASH_LOAN_PURPOSE_Buying a home_MEAN&#x27;, &#x27;PREV_NAME_CASH_LOAN_PURPOSE_Buying a new car_MEAN&#x27;, &#x27;PREV_NAME_CASH_LOAN_PURPOSE_Buying a used car_MEAN&#x27;, &#x27;PREV_NAME_CASH_LOAN_PURPOSE_Car repairs_MEAN&#x27;, &#x27;PREV_NAME_CASH_LOAN_PURPOSE_Education_MEAN&#x27;, &#x27;PREV_NAME_CASH_LOAN_PURPOSE_Everyday expenses_MEAN&#x27;, &#x27;PREV_NAME_CASH_LOAN_PURPOSE_Furniture_MEAN&#x27;, &#x27;PREV_NAME_CASH_LOAN_PURPOSE_Gasification / water supply_MEAN&#x27;, &#x27;PREV_NAME_CASH_LOAN_PURPOSE_Hobby_MEAN&#x27;, &#x27;PREV_NAME_CASH_LOAN_PURPOSE_Journey_MEAN&#x27;, &#x27;PREV_NAME_CASH_LOAN_PURPOSE_Medicine_MEAN&#x27;, &#x27;PREV_NAME_CASH_LOAN_PURPOSE_Money for a third person_MEAN&#x27;, &#x27;PREV_NAME_CASH_LOAN_PURPOSE_Other_MEAN&#x27;, &#x27;PREV_NAME_CASH_LOAN_PURPOSE_Payments on other loans_MEAN&#x27;, &#x27;PREV_NAME_CASH_LOAN_PURPOSE_Purchase of electronic equipment_MEAN&#x27;, &#x27;PREV_NAME_CASH_LOAN_PURPOSE_Refusal to name the goal_MEAN&#x27;, &#x27;PREV_NAME_CASH_LOAN_PURPOSE_Repairs_MEAN&#x27;, &#x27;PREV_NAME_CASH_LOAN_PURPOSE_Urgent needs_MEAN&#x27;, &#x27;PREV_NAME_CASH_LOAN_PURPOSE_Wedding / gift / holiday_MEAN&#x27;, &#x27;PREV_NAME_CASH_LOAN_PURPOSE_XAP_MEAN&#x27;, &#x27;PREV_NAME_CASH_LOAN_PURPOSE_XNA_MEAN&#x27;, &#x27;PREV_NAME_CONTRACT_STATUS_Approved_MEAN&#x27;, &#x27;PREV_NAME_CONTRACT_STATUS_Canceled_MEAN&#x27;, &#x27;PREV_NAME_CONTRACT_STATUS_Refused_MEAN&#x27;, &#x27;PREV_NAME_CONTRACT_STATUS_Unused offer_MEAN&#x27;, &#x27;PREV_NAME_PAYMENT_TYPE_Cash through the bank_MEAN&#x27;, &#x27;PREV_NAME_PAYMENT_TYPE_Cashless from the account of the employer_MEAN&#x27;, &#x27;PREV_NAME_PAYMENT_TYPE_Non-cash from your account_MEAN&#x27;, &#x27;PREV_NAME_PAYMENT_TYPE_XNA_MEAN&#x27;, &#x27;PREV_CODE_REJECT_REASON_CLIENT_MEAN&#x27;, &#x27;PREV_CODE_REJECT_REASON_HC_MEAN&#x27;, &#x27;PREV_CODE_REJECT_REASON_LIMIT_MEAN&#x27;, &#x27;PREV_CODE_REJECT_REASON_SCO_MEAN&#x27;, &#x27;PREV_CODE_REJECT_REASON_SCOFR_MEAN&#x27;, &#x27;PREV_CODE_REJECT_REASON_SYSTEM_MEAN&#x27;, &#x27;PREV_CODE_REJECT_REASON_VERIF_MEAN&#x27;, &#x27;PREV_CODE_REJECT_REASON_XAP_MEAN&#x27;, &#x27;PREV_CODE_REJECT_REASON_XNA_MEAN&#x27;, &#x27;PREV_NAME_TYPE_SUITE_Children_MEAN&#x27;, &#x27;PREV_NAME_TYPE_SUITE_Family_MEAN&#x27;, &#x27;PREV_NAME_TYPE_SUITE_Group of people_MEAN&#x27;, &#x27;PREV_NAME_TYPE_SUITE_Other_A_MEAN&#x27;, &#x27;PREV_NAME_TYPE_SUITE_Other_B_MEAN&#x27;, &#x27;PREV_NAME_TYPE_SUITE_Spouse, partner_MEAN&#x27;, &#x27;PREV_NAME_TYPE_SUITE_Unaccompanied_MEAN&#x27;, &#x27;PREV_NAME_TYPE_SUITE_nan_MEAN&#x27;, &#x27;PREV_NAME_CLIENT_TYPE_New_MEAN&#x27;, &#x27;PREV_NAME_CLIENT_TYPE_Refreshed_MEAN&#x27;, &#x27;PREV_NAME_CLIENT_TYPE_Repeater_MEAN&#x27;, &#x27;PREV_NAME_CLIENT_TYPE_XNA_MEAN&#x27;, &#x27;PREV_NAME_GOODS_CATEGORY_Additional Service_MEAN&#x27;, &#x27;PREV_NAME_GOODS_CATEGORY_Animals_MEAN&#x27;, &#x27;PREV_NAME_GOODS_CATEGORY_Audio/Video_MEAN&#x27;, &#x27;PREV_NAME_GOODS_CATEGORY_Auto Accessories_MEAN&#x27;, &#x27;PREV_NAME_GOODS_CATEGORY_Clothing and Accessories_MEAN&#x27;, &#x27;PREV_NAME_GOODS_CATEGORY_Computers_MEAN&#x27;, &#x27;PREV_NAME_GOODS_CATEGORY_Construction Materials_MEAN&#x27;, &#x27;PREV_NAME_GOODS_CATEGORY_Consumer Electronics_MEAN&#x27;, &#x27;PREV_NAME_GOODS_CATEGORY_Direct Sales_MEAN&#x27;, &#x27;PREV_NAME_GOODS_CATEGORY_Education_MEAN&#x27;, &#x27;PREV_NAME_GOODS_CATEGORY_Fitness_MEAN&#x27;, &#x27;PREV_NAME_GOODS_CATEGORY_Furniture_MEAN&#x27;, &#x27;PREV_NAME_GOODS_CATEGORY_Gardening_MEAN&#x27;, &#x27;PREV_NAME_GOODS_CATEGORY_Homewares_MEAN&#x27;, &#x27;PREV_NAME_GOODS_CATEGORY_Insurance_MEAN&#x27;, &#x27;PREV_NAME_GOODS_CATEGORY_Jewelry_MEAN&#x27;, &#x27;PREV_NAME_GOODS_CATEGORY_Medical Supplies_MEAN&#x27;, &#x27;PREV_NAME_GOODS_CATEGORY_Medicine_MEAN&#x27;, &#x27;PREV_NAME_GOODS_CATEGORY_Mobile_MEAN&#x27;, &#x27;PREV_NAME_GOODS_CATEGORY_Office Appliances_MEAN&#x27;, &#x27;PREV_NAME_GOODS_CATEGORY_Other_MEAN&#x27;, &#x27;PREV_NAME_GOODS_CATEGORY_Photo / Cinema Equipment_MEAN&#x27;, &#x27;PREV_NAME_GOODS_CATEGORY_Sport and Leisure_MEAN&#x27;, &#x27;PREV_NAME_GOODS_CATEGORY_Tourism_MEAN&#x27;, &#x27;PREV_NAME_GOODS_CATEGORY_Vehicles_MEAN&#x27;, &#x27;PREV_NAME_GOODS_CATEGORY_Weapon_MEAN&#x27;, &#x27;PREV_NAME_GOODS_CATEGORY_XNA_MEAN&#x27;, &#x27;PREV_NAME_PORTFOLIO_Cards_MEAN&#x27;, &#x27;PREV_NAME_PORTFOLIO_Cars_MEAN&#x27;, &#x27;PREV_NAME_PORTFOLIO_Cash_MEAN&#x27;, &#x27;PREV_NAME_PORTFOLIO_POS_MEAN&#x27;, &#x27;PREV_NAME_PORTFOLIO_XNA_MEAN&#x27;, &#x27;PREV_NAME_PRODUCT_TYPE_XNA_MEAN&#x27;, &#x27;PREV_NAME_PRODUCT_TYPE_walk-in_MEAN&#x27;, &#x27;PREV_NAME_PRODUCT_TYPE_x-sell_MEAN&#x27;, &#x27;PREV_CHANNEL_TYPE_AP+ (Cash loan)_MEAN&#x27;, &#x27;PREV_CHANNEL_TYPE_Car dealer_MEAN&#x27;, &#x27;PREV_CHANNEL_TYPE_Channel of corporate sales_MEAN&#x27;, &#x27;PREV_CHANNEL_TYPE_Contact center_MEAN&#x27;, &#x27;PREV_CHANNEL_TYPE_Country-wide_MEAN&#x27;, &#x27;PREV_CHANNEL_TYPE_Credit and cash offices_MEAN&#x27;, &#x27;PREV_CHANNEL_TYPE_Regional / Local_MEAN&#x27;, &#x27;PREV_CHANNEL_TYPE_Stone_MEAN&#x27;, &#x27;PREV_NAME_SELLER_INDUSTRY_Auto technology_MEAN&#x27;, &#x27;PREV_NAME_SELLER_INDUSTRY_Clothing_MEAN&#x27;, &#x27;PREV_NAME_SELLER_INDUSTRY_Connectivity_MEAN&#x27;, &#x27;PREV_NAME_SELLER_INDUSTRY_Construction_MEAN&#x27;, &#x27;PREV_NAME_SELLER_INDUSTRY_Consumer electronics_MEAN&#x27;, &#x27;PREV_NAME_SELLER_INDUSTRY_Furniture_MEAN&#x27;, &#x27;PREV_NAME_SELLER_INDUSTRY_Industry_MEAN&#x27;, &#x27;PREV_NAME_SELLER_INDUSTRY_Jewelry_MEAN&#x27;, &#x27;PREV_NAME_SELLER_INDUSTRY_MLM partners_MEAN&#x27;, &#x27;PREV_NAME_SELLER_INDUSTRY_Tourism_MEAN&#x27;, &#x27;PREV_NAME_SELLER_INDUSTRY_XNA_MEAN&#x27;, &#x27;PREV_NAME_YIELD_GROUP_XNA_MEAN&#x27;, &#x27;PREV_NAME_YIELD_GROUP_high_MEAN&#x27;, &#x27;PREV_NAME_YIELD_GROUP_low_action_MEAN&#x27;, &#x27;PREV_NAME_YIELD_GROUP_low_normal_MEAN&#x27;, &#x27;PREV_NAME_YIELD_GROUP_middle_MEAN&#x27;, &#x27;PREV_PRODUCT_COMBINATION_Card Street_MEAN&#x27;, &#x27;PREV_PRODUCT_COMBINATION_Card X-Sell_MEAN&#x27;, &#x27;PREV_PRODUCT_COMBINATION_Cash_MEAN&#x27;, &#x27;PREV_PRODUCT_COMBINATION_Cash Street: high_MEAN&#x27;, &#x27;PREV_PRODUCT_COMBINATION_Cash Street: low_MEAN&#x27;, &#x27;PREV_PRODUCT_COMBINATION_Cash Street: middle_MEAN&#x27;, &#x27;PREV_PRODUCT_COMBINATION_Cash X-Sell: high_MEAN&#x27;, &#x27;PREV_PRODUCT_COMBINATION_Cash X-Sell: low_MEAN&#x27;, &#x27;PREV_PRODUCT_COMBINATION_Cash X-Sell: middle_MEAN&#x27;, &#x27;PREV_PRODUCT_COMBINATION_POS household with interest_MEAN&#x27;, &#x27;PREV_PRODUCT_COMBINATION_POS household without interest_MEAN&#x27;, &#x27;PREV_PRODUCT_COMBINATION_POS industry with interest_MEAN&#x27;, &#x27;PREV_PRODUCT_COMBINATION_POS industry without interest_MEAN&#x27;, &#x27;PREV_PRODUCT_COMBINATION_POS mobile with interest_MEAN&#x27;, &#x27;PREV_PRODUCT_COMBINATION_POS mobile without interest_MEAN&#x27;, &#x27;PREV_PRODUCT_COMBINATION_POS other with interest_MEAN&#x27;, &#x27;PREV_PRODUCT_COMBINATION_POS others without interest_MEAN&#x27;, &#x27;PREV_PRODUCT_COMBINATION_nan_MEAN&#x27;, &#x27;APPROVED_AMT_ANNUITY_MIN&#x27;, &#x27;APPROVED_AMT_ANNUITY_MAX&#x27;, &#x27;APPROVED_AMT_ANNUITY_MEAN&#x27;, &#x27;APPROVED_AMT_APPLICATION_MIN&#x27;, &#x27;APPROVED_AMT_APPLICATION_MAX&#x27;, &#x27;APPROVED_AMT_APPLICATION_MEAN&#x27;, &#x27;APPROVED_AMT_CREDIT_MIN&#x27;, &#x27;APPROVED_AMT_CREDIT_MAX&#x27;, &#x27;APPROVED_AMT_CREDIT_MEAN&#x27;, &#x27;APPROVED_APP_CREDIT_PERC_MIN&#x27;, &#x27;APPROVED_APP_CREDIT_PERC_MAX&#x27;, &#x27;APPROVED_APP_CREDIT_PERC_MEAN&#x27;, &#x27;APPROVED_APP_CREDIT_PERC_VAR&#x27;, &#x27;APPROVED_AMT_DOWN_PAYMENT_MIN&#x27;, &#x27;APPROVED_AMT_DOWN_PAYMENT_MAX&#x27;, &#x27;APPROVED_AMT_DOWN_PAYMENT_MEAN&#x27;, &#x27;APPROVED_AMT_GOODS_PRICE_MIN&#x27;, &#x27;APPROVED_AMT_GOODS_PRICE_MAX&#x27;, &#x27;APPROVED_AMT_GOODS_PRICE_MEAN&#x27;, &#x27;APPROVED_HOUR_APPR_PROCESS_START_MEAN&#x27;, &#x27;APPROVED_RATE_DOWN_PAYMENT_MIN&#x27;, &#x27;APPROVED_RATE_DOWN_PAYMENT_MAX&#x27;, &#x27;APPROVED_RATE_DOWN_PAYMENT_MEAN&#x27;, &#x27;APPROVED_DAYS_DECISION_MEAN&#x27;, &#x27;APPROVED_CNT_PAYMENT_MEAN&#x27;, &#x27;REFUSED_AMT_ANNUITY_MIN&#x27;, &#x27;REFUSED_AMT_ANNUITY_MAX&#x27;, &#x27;REFUSED_AMT_ANNUITY_MEAN&#x27;, &#x27;REFUSED_AMT_APPLICATION_MIN&#x27;, &#x27;REFUSED_AMT_APPLICATION_MAX&#x27;, &#x27;REFUSED_AMT_APPLICATION_MEAN&#x27;, &#x27;REFUSED_AMT_CREDIT_MIN&#x27;, &#x27;REFUSED_AMT_CREDIT_MAX&#x27;, &#x27;REFUSED_AMT_CREDIT_MEAN&#x27;, &#x27;REFUSED_APP_CREDIT_PERC_MIN&#x27;, &#x27;REFUSED_APP_CREDIT_PERC_MAX&#x27;, &#x27;REFUSED_APP_CREDIT_PERC_MEAN&#x27;, &#x27;REFUSED_APP_CREDIT_PERC_VAR&#x27;, &#x27;REFUSED_AMT_DOWN_PAYMENT_MIN&#x27;, &#x27;REFUSED_AMT_DOWN_PAYMENT_MAX&#x27;, &#x27;REFUSED_AMT_DOWN_PAYMENT_MEAN&#x27;, &#x27;REFUSED_AMT_GOODS_PRICE_MIN&#x27;, &#x27;REFUSED_AMT_GOODS_PRICE_MAX&#x27;, &#x27;REFUSED_AMT_GOODS_PRICE_MEAN&#x27;, &#x27;REFUSED_HOUR_APPR_PROCESS_START_MEAN&#x27;, &#x27;REFUSED_RATE_DOWN_PAYMENT_MIN&#x27;, &#x27;REFUSED_RATE_DOWN_PAYMENT_MAX&#x27;, &#x27;REFUSED_RATE_DOWN_PAYMENT_MEAN&#x27;, &#x27;REFUSED_DAYS_DECISION_MEAN&#x27;, &#x27;REFUSED_CNT_PAYMENT_MEAN&#x27;, &#x27;POS_MONTHS_BALANCE_MEAN&#x27;, &#x27;POS_SK_DPD_MEAN&#x27;, &#x27;POS_SK_DPD_DEF_MEAN&#x27;, &#x27;POS_NAME_CONTRACT_STATUS_Active_MEAN&#x27;, &#x27;POS_NAME_CONTRACT_STATUS_Amortized debt_MEAN&#x27;, &#x27;POS_NAME_CONTRACT_STATUS_Approved_MEAN&#x27;, &#x27;POS_NAME_CONTRACT_STATUS_Canceled_MEAN&#x27;, &#x27;POS_NAME_CONTRACT_STATUS_Completed_MEAN&#x27;, &#x27;POS_NAME_CONTRACT_STATUS_Demand_MEAN&#x27;, &#x27;POS_NAME_CONTRACT_STATUS_Returned to the store_MEAN&#x27;, &#x27;POS_NAME_CONTRACT_STATUS_Signed_MEAN&#x27;, &#x27;INSTAL_DPD_MEAN&#x27;, &#x27;INSTAL_DBD_MEAN&#x27;, &#x27;INSTAL_PAYMENT_PERC_MAX&#x27;, &#x27;INSTAL_PAYMENT_PERC_MEAN&#x27;, &#x27;INSTAL_PAYMENT_PERC_SUM&#x27;, &#x27;INSTAL_PAYMENT_PERC_VAR&#x27;, &#x27;INSTAL_PAYMENT_DIFF_MAX&#x27;, &#x27;INSTAL_PAYMENT_DIFF_MEAN&#x27;, &#x27;INSTAL_PAYMENT_DIFF_SUM&#x27;, &#x27;INSTAL_PAYMENT_DIFF_VAR&#x27;, &#x27;INSTAL_AMT_INSTALMENT_MAX&#x27;, &#x27;INSTAL_AMT_INSTALMENT_MEAN&#x27;, &#x27;INSTAL_AMT_INSTALMENT_SUM&#x27;, &#x27;INSTAL_AMT_PAYMENT_MIN&#x27;, &#x27;INSTAL_AMT_PAYMENT_MAX&#x27;, &#x27;INSTAL_AMT_PAYMENT_MEAN&#x27;, &#x27;INSTAL_AMT_PAYMENT_SUM&#x27;, &#x27;INSTAL_DAYS_ENTRY_PAYMENT_MEAN&#x27;, &#x27;CC_MONTHS_BALANCE_MEAN&#x27;, &#x27;CC_MONTHS_BALANCE_VAR&#x27;, &#x27;CC_AMT_BALANCE_MIN&#x27;, &#x27;CC_AMT_BALANCE_MAX&#x27;, &#x27;CC_AMT_BALANCE_MEAN&#x27;, &#x27;CC_AMT_BALANCE_SUM&#x27;, &#x27;CC_AMT_BALANCE_VAR&#x27;, &#x27;CC_AMT_CREDIT_LIMIT_ACTUAL_MEAN&#x27;, &#x27;CC_AMT_CREDIT_LIMIT_ACTUAL_VAR&#x27;, &#x27;CC_AMT_DRAWINGS_ATM_CURRENT_MAX&#x27;, &#x27;CC_AMT_DRAWINGS_ATM_CURRENT_MEAN&#x27;, &#x27;CC_AMT_DRAWINGS_ATM_CURRENT_SUM&#x27;, &#x27;CC_AMT_DRAWINGS_ATM_CURRENT_VAR&#x27;, &#x27;CC_AMT_DRAWINGS_CURRENT_MIN&#x27;, &#x27;CC_AMT_DRAWINGS_CURRENT_MAX&#x27;, &#x27;CC_AMT_DRAWINGS_CURRENT_MEAN&#x27;, &#x27;CC_AMT_DRAWINGS_CURRENT_SUM&#x27;, &#x27;CC_AMT_DRAWINGS_CURRENT_VAR&#x27;, &#x27;CC_AMT_DRAWINGS_OTHER_CURRENT_MAX&#x27;, &#x27;CC_AMT_DRAWINGS_OTHER_CURRENT_MEAN&#x27;, &#x27;CC_AMT_DRAWINGS_OTHER_CURRENT_SUM&#x27;, &#x27;CC_AMT_DRAWINGS_OTHER_CURRENT_VAR&#x27;, &#x27;CC_AMT_DRAWINGS_POS_CURRENT_MIN&#x27;, &#x27;CC_AMT_DRAWINGS_POS_CURRENT_MAX&#x27;, &#x27;CC_AMT_DRAWINGS_POS_CURRENT_MEAN&#x27;, &#x27;CC_AMT_DRAWINGS_POS_CURRENT_SUM&#x27;, &#x27;CC_AMT_DRAWINGS_POS_CURRENT_VAR&#x27;, &#x27;CC_AMT_INST_MIN_REGULARITY_MIN&#x27;, &#x27;CC_AMT_INST_MIN_REGULARITY_MAX&#x27;, &#x27;CC_AMT_INST_MIN_REGULARITY_MEAN&#x27;, &#x27;CC_AMT_INST_MIN_REGULARITY_SUM&#x27;, &#x27;CC_AMT_INST_MIN_REGULARITY_VAR&#x27;, &#x27;CC_AMT_PAYMENT_CURRENT_MIN&#x27;, &#x27;CC_AMT_PAYMENT_CURRENT_MAX&#x27;, &#x27;CC_AMT_PAYMENT_CURRENT_MEAN&#x27;, &#x27;CC_AMT_PAYMENT_CURRENT_SUM&#x27;, &#x27;CC_AMT_PAYMENT_CURRENT_VAR&#x27;, &#x27;CC_AMT_PAYMENT_TOTAL_CURRENT_MIN&#x27;, &#x27;CC_AMT_PAYMENT_TOTAL_CURRENT_MAX&#x27;, &#x27;CC_AMT_PAYMENT_TOTAL_CURRENT_MEAN&#x27;, &#x27;CC_AMT_PAYMENT_TOTAL_CURRENT_SUM&#x27;, &#x27;CC_AMT_PAYMENT_TOTAL_CURRENT_VAR&#x27;, &#x27;CC_AMT_RECEIVABLE_PRINCIPAL_MIN&#x27;, &#x27;CC_AMT_RECEIVABLE_PRINCIPAL_MAX&#x27;, &#x27;CC_AMT_RECEIVABLE_PRINCIPAL_MEAN&#x27;, &#x27;CC_AMT_RECEIVABLE_PRINCIPAL_SUM&#x27;, &#x27;CC_AMT_RECEIVABLE_PRINCIPAL_VAR&#x27;, &#x27;CC_AMT_RECIVABLE_MIN&#x27;, &#x27;CC_AMT_RECIVABLE_MAX&#x27;, &#x27;CC_AMT_RECIVABLE_MEAN&#x27;, &#x27;CC_AMT_RECIVABLE_SUM&#x27;, &#x27;CC_AMT_RECIVABLE_VAR&#x27;, &#x27;CC_AMT_TOTAL_RECEIVABLE_MIN&#x27;, &#x27;CC_AMT_TOTAL_RECEIVABLE_MAX&#x27;, &#x27;CC_AMT_TOTAL_RECEIVABLE_MEAN&#x27;, &#x27;CC_AMT_TOTAL_RECEIVABLE_SUM&#x27;, &#x27;CC_AMT_TOTAL_RECEIVABLE_VAR&#x27;, &#x27;CC_CNT_DRAWINGS_ATM_CURRENT_MEAN&#x27;, &#x27;CC_CNT_DRAWINGS_ATM_CURRENT_VAR&#x27;, &#x27;CC_CNT_DRAWINGS_CURRENT_MEAN&#x27;, &#x27;CC_CNT_DRAWINGS_CURRENT_VAR&#x27;, &#x27;CC_CNT_DRAWINGS_OTHER_CURRENT_MEAN&#x27;, &#x27;CC_CNT_DRAWINGS_OTHER_CURRENT_VAR&#x27;, &#x27;CC_CNT_DRAWINGS_POS_CURRENT_MEAN&#x27;, &#x27;CC_CNT_DRAWINGS_POS_CURRENT_VAR&#x27;, &#x27;CC_CNT_INSTALMENT_MATURE_CUM_MEAN&#x27;, &#x27;CC_CNT_INSTALMENT_MATURE_CUM_VAR&#x27;, &#x27;CC_SK_DPD_MEAN&#x27;, &#x27;CC_SK_DPD_VAR&#x27;, &#x27;CC_SK_DPD_DEF_MEAN&#x27;, &#x27;CC_SK_DPD_DEF_VAR&#x27;, &#x27;CC_NAME_CONTRACT_STATUS_Active_MEAN&#x27;, &#x27;CC_NAME_CONTRACT_STATUS_Active_VAR&#x27;, &#x27;CC_NAME_CONTRACT_STATUS_Approved_MEAN&#x27;, &#x27;CC_NAME_CONTRACT_STATUS_Approved_VAR&#x27;, &#x27;CC_NAME_CONTRACT_STATUS_Completed_MEAN&#x27;, &#x27;CC_NAME_CONTRACT_STATUS_Completed_VAR&#x27;, &#x27;CC_NAME_CONTRACT_STATUS_Demand_MEAN&#x27;, &#x27;CC_NAME_CONTRACT_STATUS_Demand_VAR&#x27;, &#x27;CC_NAME_CONTRACT_STATUS_Refused_MEAN&#x27;, &#x27;CC_NAME_CONTRACT_STATUS_Refused_VAR&#x27;, &#x27;CC_NAME_CONTRACT_STATUS_Sent proposal_MEAN&#x27;, &#x27;CC_NAME_CONTRACT_STATUS_Sent proposal_VAR&#x27;, &#x27;CC_NAME_CONTRACT_STATUS_Signed_MEAN&#x27;, &#x27;CC_NAME_CONTRACT_STATUS_Signed_VAR&#x27;]</pre></div></div></div><div class=\"sk-serial\"><div class=\"sk-item\"><div class=\"sk-estimator sk-toggleable\"><input class=\"sk-toggleable__control sk-hidden--visually\" id=\"2b4b6012-a128-4851-9890-e0ac70aa6876\" type=\"checkbox\" ><label for=\"2b4b6012-a128-4851-9890-e0ac70aa6876\" class=\"sk-toggleable__label sk-toggleable__label-arrow\">passthrough</label><div class=\"sk-toggleable__content\"><pre>passthrough</pre></div></div></div></div></div></div></div></div></div></div></div></div>"
            ]
          },
          "metadata": {},
          "execution_count": 21
        }
      ]
    },
    {
      "cell_type": "code",
      "source": [
        "TL_transfo = TL_pipe.fit(X_train)"
      ],
      "metadata": {
        "id": "jCmwiwPoBl14"
      },
      "id": "jCmwiwPoBl14",
      "execution_count": null,
      "outputs": []
    },
    {
      "cell_type": "code",
      "source": [
        "df = TL_transfo.transform(X_train)\n",
        "\n"
      ],
      "metadata": {
        "id": "3PIyws66LKoo"
      },
      "id": "3PIyws66LKoo",
      "execution_count": null,
      "outputs": []
    },
    {
      "cell_type": "code",
      "source": [
        "print(df.shape)\n",
        "df"
      ],
      "metadata": {
        "colab": {
          "base_uri": "https://localhost:8080/"
        },
        "id": "wvdAo4EhL1mL",
        "outputId": "3963e586-1199-40ea-cd30-6b205106ab89"
      },
      "id": "wvdAo4EhL1mL",
      "execution_count": null,
      "outputs": [
        {
          "output_type": "stream",
          "name": "stdout",
          "text": [
            "(59557, 818)\n"
          ]
        },
        {
          "output_type": "execute_result",
          "data": {
            "text/plain": [
              "array([[0., 0., 1., ..., 0., 0., 0.],\n",
              "       [0., 0., 1., ..., 0., 0., 0.],\n",
              "       [0., 0., 1., ..., 0., 0., 0.],\n",
              "       ...,\n",
              "       [0., 0., 1., ..., 0., 0., 0.],\n",
              "       [0., 0., 1., ..., 0., 0., 0.],\n",
              "       [0., 0., 1., ..., 0., 0., 0.]])"
            ]
          },
          "metadata": {},
          "execution_count": 66
        }
      ]
    },
    {
      "cell_type": "code",
      "source": [
        "list_cols = pd.Series(TL_transfo['encode'].get_feature_names_out().tolist())\n",
        "# print(list_cols)\n",
        "list_cols = list_cols.str.replace('quanti__','').str.replace('remainder__','')\n",
        "list_cols = list_cols.tolist()\n",
        "print(list_cols)"
      ],
      "metadata": {
        "colab": {
          "base_uri": "https://localhost:8080/"
        },
        "id": "BGYQGBHJUPNf",
        "outputId": "43dbcf52-c93f-4298-f50e-a5f46cd33cb0"
      },
      "id": "BGYQGBHJUPNf",
      "execution_count": null,
      "outputs": [
        {
          "output_type": "stream",
          "name": "stdout",
          "text": [
            "['NAME_CONTRACT_TYPE_Cash loans', 'NAME_CONTRACT_TYPE_Revolving loans', 'NAME_CONTRACT_TYPE_nan', 'CODE_GENDER_F', 'CODE_GENDER_M', 'CODE_GENDER_nan', 'FLAG_OWN_CAR_N', 'FLAG_OWN_CAR_Y', 'FLAG_OWN_CAR_nan', 'FLAG_OWN_REALTY_N', 'FLAG_OWN_REALTY_Y', 'FLAG_OWN_REALTY_nan', 'NAME_TYPE_SUITE_Children', 'NAME_TYPE_SUITE_Family', 'NAME_TYPE_SUITE_Group of people', 'NAME_TYPE_SUITE_Other_A', 'NAME_TYPE_SUITE_Other_B', 'NAME_TYPE_SUITE_Spouse, partner', 'NAME_TYPE_SUITE_Unaccompanied', 'NAME_TYPE_SUITE_manquant', 'NAME_TYPE_SUITE_nan', 'NAME_INCOME_TYPE_Commercial associate', 'NAME_INCOME_TYPE_Pensioner', 'NAME_INCOME_TYPE_State servant', 'NAME_INCOME_TYPE_Student', 'NAME_INCOME_TYPE_Unemployed', 'NAME_INCOME_TYPE_Working', 'NAME_INCOME_TYPE_nan', 'NAME_EDUCATION_TYPE_Academic degree', 'NAME_EDUCATION_TYPE_Higher education', 'NAME_EDUCATION_TYPE_Incomplete higher', 'NAME_EDUCATION_TYPE_Lower secondary', 'NAME_EDUCATION_TYPE_Secondary / secondary special', 'NAME_EDUCATION_TYPE_nan', 'NAME_FAMILY_STATUS_Civil marriage', 'NAME_FAMILY_STATUS_Married', 'NAME_FAMILY_STATUS_Separated', 'NAME_FAMILY_STATUS_Single / not married', 'NAME_FAMILY_STATUS_Widow', 'NAME_FAMILY_STATUS_nan', 'NAME_HOUSING_TYPE_Co-op apartment', 'NAME_HOUSING_TYPE_House / apartment', 'NAME_HOUSING_TYPE_Municipal apartment', 'NAME_HOUSING_TYPE_Office apartment', 'NAME_HOUSING_TYPE_Rented apartment', 'NAME_HOUSING_TYPE_With parents', 'NAME_HOUSING_TYPE_nan', 'OCCUPATION_TYPE_Accountants', 'OCCUPATION_TYPE_Cleaning staff', 'OCCUPATION_TYPE_Cooking staff', 'OCCUPATION_TYPE_Core staff', 'OCCUPATION_TYPE_Drivers', 'OCCUPATION_TYPE_HR staff', 'OCCUPATION_TYPE_High skill tech staff', 'OCCUPATION_TYPE_IT staff', 'OCCUPATION_TYPE_Laborers', 'OCCUPATION_TYPE_Low-skill Laborers', 'OCCUPATION_TYPE_Managers', 'OCCUPATION_TYPE_Medicine staff', 'OCCUPATION_TYPE_Private service staff', 'OCCUPATION_TYPE_Realty agents', 'OCCUPATION_TYPE_Sales staff', 'OCCUPATION_TYPE_Secretaries', 'OCCUPATION_TYPE_Security staff', 'OCCUPATION_TYPE_Waiters/barmen staff', 'OCCUPATION_TYPE_manquant', 'OCCUPATION_TYPE_nan', 'WEEKDAY_APPR_PROCESS_START_FRIDAY', 'WEEKDAY_APPR_PROCESS_START_MONDAY', 'WEEKDAY_APPR_PROCESS_START_SATURDAY', 'WEEKDAY_APPR_PROCESS_START_SUNDAY', 'WEEKDAY_APPR_PROCESS_START_THURSDAY', 'WEEKDAY_APPR_PROCESS_START_TUESDAY', 'WEEKDAY_APPR_PROCESS_START_WEDNESDAY', 'WEEKDAY_APPR_PROCESS_START_nan', 'ORGANIZATION_TYPE_Advertising', 'ORGANIZATION_TYPE_Agriculture', 'ORGANIZATION_TYPE_Bank', 'ORGANIZATION_TYPE_Business Entity Type 1', 'ORGANIZATION_TYPE_Business Entity Type 2', 'ORGANIZATION_TYPE_Business Entity Type 3', 'ORGANIZATION_TYPE_Cleaning', 'ORGANIZATION_TYPE_Construction', 'ORGANIZATION_TYPE_Culture', 'ORGANIZATION_TYPE_Electricity', 'ORGANIZATION_TYPE_Emergency', 'ORGANIZATION_TYPE_Government', 'ORGANIZATION_TYPE_Hotel', 'ORGANIZATION_TYPE_Housing', 'ORGANIZATION_TYPE_Industry: type 1', 'ORGANIZATION_TYPE_Industry: type 10', 'ORGANIZATION_TYPE_Industry: type 11', 'ORGANIZATION_TYPE_Industry: type 12', 'ORGANIZATION_TYPE_Industry: type 13', 'ORGANIZATION_TYPE_Industry: type 2', 'ORGANIZATION_TYPE_Industry: type 3', 'ORGANIZATION_TYPE_Industry: type 4', 'ORGANIZATION_TYPE_Industry: type 5', 'ORGANIZATION_TYPE_Industry: type 6', 'ORGANIZATION_TYPE_Industry: type 7', 'ORGANIZATION_TYPE_Industry: type 9', 'ORGANIZATION_TYPE_Insurance', 'ORGANIZATION_TYPE_Kindergarten', 'ORGANIZATION_TYPE_Legal Services', 'ORGANIZATION_TYPE_Medicine', 'ORGANIZATION_TYPE_Military', 'ORGANIZATION_TYPE_Mobile', 'ORGANIZATION_TYPE_Other', 'ORGANIZATION_TYPE_Police', 'ORGANIZATION_TYPE_Postal', 'ORGANIZATION_TYPE_Realtor', 'ORGANIZATION_TYPE_Religion', 'ORGANIZATION_TYPE_Restaurant', 'ORGANIZATION_TYPE_School', 'ORGANIZATION_TYPE_Security', 'ORGANIZATION_TYPE_Security Ministries', 'ORGANIZATION_TYPE_Self-employed', 'ORGANIZATION_TYPE_Services', 'ORGANIZATION_TYPE_Telecom', 'ORGANIZATION_TYPE_Trade: type 1', 'ORGANIZATION_TYPE_Trade: type 2', 'ORGANIZATION_TYPE_Trade: type 3', 'ORGANIZATION_TYPE_Trade: type 4', 'ORGANIZATION_TYPE_Trade: type 5', 'ORGANIZATION_TYPE_Trade: type 6', 'ORGANIZATION_TYPE_Trade: type 7', 'ORGANIZATION_TYPE_Transport: type 1', 'ORGANIZATION_TYPE_Transport: type 2', 'ORGANIZATION_TYPE_Transport: type 3', 'ORGANIZATION_TYPE_Transport: type 4', 'ORGANIZATION_TYPE_University', 'ORGANIZATION_TYPE_XNA', 'ORGANIZATION_TYPE_nan', 'FONDKAPREMONT_MODE_manquant', 'FONDKAPREMONT_MODE_not specified', 'FONDKAPREMONT_MODE_org spec account', 'FONDKAPREMONT_MODE_reg oper account', 'FONDKAPREMONT_MODE_reg oper spec account', 'FONDKAPREMONT_MODE_nan', 'HOUSETYPE_MODE_block of flats', 'HOUSETYPE_MODE_manquant', 'HOUSETYPE_MODE_specific housing', 'HOUSETYPE_MODE_terraced house', 'HOUSETYPE_MODE_nan', 'WALLSMATERIAL_MODE_Block', 'WALLSMATERIAL_MODE_Mixed', 'WALLSMATERIAL_MODE_Monolithic', 'WALLSMATERIAL_MODE_Others', 'WALLSMATERIAL_MODE_Panel', 'WALLSMATERIAL_MODE_Stone, brick', 'WALLSMATERIAL_MODE_Wooden', 'WALLSMATERIAL_MODE_manquant', 'WALLSMATERIAL_MODE_nan', 'EMERGENCYSTATE_MODE_No', 'EMERGENCYSTATE_MODE_Yes', 'EMERGENCYSTATE_MODE_manquant', 'EMERGENCYSTATE_MODE_nan', 'index', 'SK_ID_CURR', 'CNT_CHILDREN', 'DAYS_BIRTH', 'DAYS_EMPLOYED', 'DAYS_REGISTRATION', 'DAYS_ID_PUBLISH', 'OWN_CAR_AGE', 'FLAG_MOBIL', 'FLAG_EMP_PHONE', 'FLAG_WORK_PHONE', 'FLAG_CONT_MOBILE', 'FLAG_PHONE', 'FLAG_EMAIL', 'CNT_FAM_MEMBERS', 'REGION_RATING_CLIENT', 'REGION_RATING_CLIENT_W_CITY', 'HOUR_APPR_PROCESS_START', 'REG_REGION_NOT_LIVE_REGION', 'REG_REGION_NOT_WORK_REGION', 'LIVE_REGION_NOT_WORK_REGION', 'REG_CITY_NOT_LIVE_CITY', 'REG_CITY_NOT_WORK_CITY', 'LIVE_CITY_NOT_WORK_CITY', 'OBS_30_CNT_SOCIAL_CIRCLE', 'DEF_30_CNT_SOCIAL_CIRCLE', 'OBS_60_CNT_SOCIAL_CIRCLE', 'DEF_60_CNT_SOCIAL_CIRCLE', 'DAYS_LAST_PHONE_CHANGE', 'FLAG_DOCUMENT_2', 'FLAG_DOCUMENT_3', 'FLAG_DOCUMENT_4', 'FLAG_DOCUMENT_5', 'FLAG_DOCUMENT_6', 'FLAG_DOCUMENT_7', 'FLAG_DOCUMENT_8', 'FLAG_DOCUMENT_9', 'FLAG_DOCUMENT_10', 'FLAG_DOCUMENT_11', 'FLAG_DOCUMENT_12', 'FLAG_DOCUMENT_13', 'FLAG_DOCUMENT_14', 'FLAG_DOCUMENT_15', 'FLAG_DOCUMENT_16', 'FLAG_DOCUMENT_17', 'FLAG_DOCUMENT_18', 'FLAG_DOCUMENT_19', 'FLAG_DOCUMENT_20', 'FLAG_DOCUMENT_21', 'AMT_REQ_CREDIT_BUREAU_HOUR', 'AMT_REQ_CREDIT_BUREAU_DAY', 'AMT_REQ_CREDIT_BUREAU_WEEK', 'AMT_REQ_CREDIT_BUREAU_MON', 'AMT_REQ_CREDIT_BUREAU_QRT', 'AMT_REQ_CREDIT_BUREAU_YEAR', 'BURO_DAYS_CREDIT_MIN', 'BURO_DAYS_CREDIT_MAX', 'BURO_DAYS_CREDIT_ENDDATE_MIN', 'BURO_DAYS_CREDIT_ENDDATE_MAX', 'BURO_CREDIT_DAY_OVERDUE_MAX', 'BURO_CNT_CREDIT_PROLONG_SUM', 'BURO_MONTHS_BALANCE_MIN_MIN', 'BURO_MONTHS_BALANCE_MAX_MAX', 'BURO_MONTHS_BALANCE_SIZE_SUM', 'BURO_CREDIT_ACTIVE_nan_MEAN', 'BURO_CREDIT_CURRENCY_nan_MEAN', 'BURO_CREDIT_TYPE_Mobile operator loan_MEAN', 'BURO_CREDIT_TYPE_nan_MEAN', 'BURO_STATUS_nan_MEAN_MEAN', 'ACTIVE_DAYS_CREDIT_MIN', 'ACTIVE_DAYS_CREDIT_MAX', 'ACTIVE_DAYS_CREDIT_ENDDATE_MIN', 'ACTIVE_DAYS_CREDIT_ENDDATE_MAX', 'ACTIVE_CREDIT_DAY_OVERDUE_MAX', 'ACTIVE_CNT_CREDIT_PROLONG_SUM', 'ACTIVE_MONTHS_BALANCE_MIN_MIN', 'ACTIVE_MONTHS_BALANCE_MAX_MAX', 'ACTIVE_MONTHS_BALANCE_SIZE_SUM', 'CLOSED_DAYS_CREDIT_MIN', 'CLOSED_DAYS_CREDIT_MAX', 'CLOSED_DAYS_CREDIT_ENDDATE_MIN', 'CLOSED_DAYS_CREDIT_ENDDATE_MAX', 'CLOSED_CREDIT_DAY_OVERDUE_MAX', 'CLOSED_CNT_CREDIT_PROLONG_SUM', 'CLOSED_MONTHS_BALANCE_MIN_MIN', 'CLOSED_MONTHS_BALANCE_MAX_MAX', 'CLOSED_MONTHS_BALANCE_SIZE_SUM', 'PREV_HOUR_APPR_PROCESS_START_MIN', 'PREV_HOUR_APPR_PROCESS_START_MAX', 'PREV_DAYS_DECISION_MIN', 'PREV_DAYS_DECISION_MAX', 'PREV_CNT_PAYMENT_SUM', 'PREV_NAME_CONTRACT_TYPE_nan_MEAN', 'PREV_WEEKDAY_APPR_PROCESS_START_nan_MEAN', 'PREV_FLAG_LAST_APPL_PER_CONTRACT_nan_MEAN', 'PREV_NAME_CASH_LOAN_PURPOSE_nan_MEAN', 'PREV_NAME_CONTRACT_STATUS_nan_MEAN', 'PREV_NAME_PAYMENT_TYPE_nan_MEAN', 'PREV_CODE_REJECT_REASON_nan_MEAN', 'PREV_NAME_CLIENT_TYPE_nan_MEAN', 'PREV_NAME_GOODS_CATEGORY_House Construction_MEAN', 'PREV_NAME_GOODS_CATEGORY_nan_MEAN', 'PREV_NAME_PORTFOLIO_nan_MEAN', 'PREV_NAME_PRODUCT_TYPE_nan_MEAN', 'PREV_CHANNEL_TYPE_nan_MEAN', 'PREV_NAME_SELLER_INDUSTRY_nan_MEAN', 'PREV_NAME_YIELD_GROUP_nan_MEAN', 'APPROVED_HOUR_APPR_PROCESS_START_MIN', 'APPROVED_HOUR_APPR_PROCESS_START_MAX', 'APPROVED_DAYS_DECISION_MIN', 'APPROVED_DAYS_DECISION_MAX', 'APPROVED_CNT_PAYMENT_SUM', 'REFUSED_HOUR_APPR_PROCESS_START_MIN', 'REFUSED_HOUR_APPR_PROCESS_START_MAX', 'REFUSED_DAYS_DECISION_MIN', 'REFUSED_DAYS_DECISION_MAX', 'REFUSED_CNT_PAYMENT_SUM', 'POS_MONTHS_BALANCE_MAX', 'POS_MONTHS_BALANCE_SIZE', 'POS_SK_DPD_MAX', 'POS_SK_DPD_DEF_MAX', 'POS_NAME_CONTRACT_STATUS_XNA_MEAN', 'POS_NAME_CONTRACT_STATUS_nan_MEAN', 'POS_COUNT', 'INSTAL_NUM_INSTALMENT_VERSION_NUNIQUE', 'INSTAL_DPD_MAX', 'INSTAL_DPD_SUM', 'INSTAL_DBD_MAX', 'INSTAL_DBD_SUM', 'INSTAL_DAYS_ENTRY_PAYMENT_MAX', 'INSTAL_DAYS_ENTRY_PAYMENT_SUM', 'INSTAL_COUNT', 'CC_MONTHS_BALANCE_MIN', 'CC_MONTHS_BALANCE_MAX', 'CC_MONTHS_BALANCE_SUM', 'CC_AMT_CREDIT_LIMIT_ACTUAL_MIN', 'CC_AMT_CREDIT_LIMIT_ACTUAL_MAX', 'CC_AMT_CREDIT_LIMIT_ACTUAL_SUM', 'CC_AMT_DRAWINGS_ATM_CURRENT_MIN', 'CC_AMT_DRAWINGS_OTHER_CURRENT_MIN', 'CC_CNT_DRAWINGS_ATM_CURRENT_MIN', 'CC_CNT_DRAWINGS_ATM_CURRENT_MAX', 'CC_CNT_DRAWINGS_ATM_CURRENT_SUM', 'CC_CNT_DRAWINGS_CURRENT_MIN', 'CC_CNT_DRAWINGS_CURRENT_MAX', 'CC_CNT_DRAWINGS_CURRENT_SUM', 'CC_CNT_DRAWINGS_OTHER_CURRENT_MIN', 'CC_CNT_DRAWINGS_OTHER_CURRENT_MAX', 'CC_CNT_DRAWINGS_OTHER_CURRENT_SUM', 'CC_CNT_DRAWINGS_POS_CURRENT_MIN', 'CC_CNT_DRAWINGS_POS_CURRENT_MAX', 'CC_CNT_DRAWINGS_POS_CURRENT_SUM', 'CC_CNT_INSTALMENT_MATURE_CUM_MIN', 'CC_CNT_INSTALMENT_MATURE_CUM_MAX', 'CC_CNT_INSTALMENT_MATURE_CUM_SUM', 'CC_SK_DPD_MIN', 'CC_SK_DPD_MAX', 'CC_SK_DPD_SUM', 'CC_SK_DPD_DEF_MIN', 'CC_SK_DPD_DEF_MAX', 'CC_SK_DPD_DEF_SUM', 'CC_NAME_CONTRACT_STATUS_Active_MIN', 'CC_NAME_CONTRACT_STATUS_Active_MAX', 'CC_NAME_CONTRACT_STATUS_Active_SUM', 'CC_NAME_CONTRACT_STATUS_Approved_MIN', 'CC_NAME_CONTRACT_STATUS_Approved_MAX', 'CC_NAME_CONTRACT_STATUS_Approved_SUM', 'CC_NAME_CONTRACT_STATUS_Completed_MIN', 'CC_NAME_CONTRACT_STATUS_Completed_MAX', 'CC_NAME_CONTRACT_STATUS_Completed_SUM', 'CC_NAME_CONTRACT_STATUS_Demand_MIN', 'CC_NAME_CONTRACT_STATUS_Demand_MAX', 'CC_NAME_CONTRACT_STATUS_Demand_SUM', 'CC_NAME_CONTRACT_STATUS_Refused_MIN', 'CC_NAME_CONTRACT_STATUS_Refused_MAX', 'CC_NAME_CONTRACT_STATUS_Refused_SUM', 'CC_NAME_CONTRACT_STATUS_Sent proposal_MIN', 'CC_NAME_CONTRACT_STATUS_Sent proposal_MAX', 'CC_NAME_CONTRACT_STATUS_Sent proposal_SUM', 'CC_NAME_CONTRACT_STATUS_Signed_MIN', 'CC_NAME_CONTRACT_STATUS_Signed_MAX', 'CC_NAME_CONTRACT_STATUS_Signed_SUM', 'CC_NAME_CONTRACT_STATUS_nan_MIN', 'CC_NAME_CONTRACT_STATUS_nan_MAX', 'CC_NAME_CONTRACT_STATUS_nan_MEAN', 'CC_NAME_CONTRACT_STATUS_nan_SUM', 'CC_NAME_CONTRACT_STATUS_nan_VAR', 'CC_COUNT', 'AMT_INCOME_TOTAL', 'AMT_CREDIT', 'AMT_ANNUITY', 'AMT_GOODS_PRICE', 'REGION_POPULATION_RELATIVE', 'EXT_SOURCE_1', 'EXT_SOURCE_2', 'EXT_SOURCE_3', 'APARTMENTS_AVG', 'BASEMENTAREA_AVG', 'YEARS_BEGINEXPLUATATION_AVG', 'YEARS_BUILD_AVG', 'COMMONAREA_AVG', 'ELEVATORS_AVG', 'ENTRANCES_AVG', 'FLOORSMAX_AVG', 'FLOORSMIN_AVG', 'LANDAREA_AVG', 'LIVINGAPARTMENTS_AVG', 'LIVINGAREA_AVG', 'NONLIVINGAPARTMENTS_AVG', 'NONLIVINGAREA_AVG', 'APARTMENTS_MODE', 'BASEMENTAREA_MODE', 'YEARS_BEGINEXPLUATATION_MODE', 'YEARS_BUILD_MODE', 'COMMONAREA_MODE', 'ELEVATORS_MODE', 'ENTRANCES_MODE', 'FLOORSMAX_MODE', 'FLOORSMIN_MODE', 'LANDAREA_MODE', 'LIVINGAPARTMENTS_MODE', 'LIVINGAREA_MODE', 'NONLIVINGAPARTMENTS_MODE', 'NONLIVINGAREA_MODE', 'APARTMENTS_MEDI', 'BASEMENTAREA_MEDI', 'YEARS_BEGINEXPLUATATION_MEDI', 'YEARS_BUILD_MEDI', 'COMMONAREA_MEDI', 'ELEVATORS_MEDI', 'ENTRANCES_MEDI', 'FLOORSMAX_MEDI', 'FLOORSMIN_MEDI', 'LANDAREA_MEDI', 'LIVINGAPARTMENTS_MEDI', 'LIVINGAREA_MEDI', 'NONLIVINGAPARTMENTS_MEDI', 'NONLIVINGAREA_MEDI', 'TOTALAREA_MODE', 'DAYS_EMPLOYED_PERC', 'INCOME_CREDIT_PERC', 'INCOME_PER_PERSON', 'ANNUITY_INCOME_PERC', 'PAYMENT_RATE', 'BURO_DAYS_CREDIT_MEAN', 'BURO_DAYS_CREDIT_VAR', 'BURO_DAYS_CREDIT_ENDDATE_MEAN', 'BURO_DAYS_CREDIT_UPDATE_MEAN', 'BURO_CREDIT_DAY_OVERDUE_MEAN', 'BURO_AMT_CREDIT_MAX_OVERDUE_MEAN', 'BURO_AMT_CREDIT_SUM_MAX', 'BURO_AMT_CREDIT_SUM_MEAN', 'BURO_AMT_CREDIT_SUM_SUM', 'BURO_AMT_CREDIT_SUM_DEBT_MAX', 'BURO_AMT_CREDIT_SUM_DEBT_MEAN', 'BURO_AMT_CREDIT_SUM_DEBT_SUM', 'BURO_AMT_CREDIT_SUM_OVERDUE_MEAN', 'BURO_AMT_CREDIT_SUM_LIMIT_MEAN', 'BURO_AMT_CREDIT_SUM_LIMIT_SUM', 'BURO_AMT_ANNUITY_MAX', 'BURO_AMT_ANNUITY_MEAN', 'BURO_MONTHS_BALANCE_SIZE_MEAN', 'BURO_CREDIT_ACTIVE_Active_MEAN', 'BURO_CREDIT_ACTIVE_Bad debt_MEAN', 'BURO_CREDIT_ACTIVE_Closed_MEAN', 'BURO_CREDIT_ACTIVE_Sold_MEAN', 'BURO_CREDIT_CURRENCY_currency 1_MEAN', 'BURO_CREDIT_CURRENCY_currency 2_MEAN', 'BURO_CREDIT_CURRENCY_currency 3_MEAN', 'BURO_CREDIT_CURRENCY_currency 4_MEAN', 'BURO_CREDIT_TYPE_Another type of loan_MEAN', 'BURO_CREDIT_TYPE_Car loan_MEAN', 'BURO_CREDIT_TYPE_Cash loan (non-earmarked)_MEAN', 'BURO_CREDIT_TYPE_Consumer credit_MEAN', 'BURO_CREDIT_TYPE_Credit card_MEAN', 'BURO_CREDIT_TYPE_Interbank credit_MEAN', 'BURO_CREDIT_TYPE_Loan for business development_MEAN', 'BURO_CREDIT_TYPE_Loan for purchase of shares (margin lending)_MEAN', 'BURO_CREDIT_TYPE_Loan for the purchase of equipment_MEAN', 'BURO_CREDIT_TYPE_Loan for working capital replenishment_MEAN', 'BURO_CREDIT_TYPE_Microloan_MEAN', 'BURO_CREDIT_TYPE_Mortgage_MEAN', 'BURO_CREDIT_TYPE_Real estate loan_MEAN', 'BURO_CREDIT_TYPE_Unknown type of loan_MEAN', 'BURO_STATUS_0_MEAN_MEAN', 'BURO_STATUS_1_MEAN_MEAN', 'BURO_STATUS_2_MEAN_MEAN', 'BURO_STATUS_3_MEAN_MEAN', 'BURO_STATUS_4_MEAN_MEAN', 'BURO_STATUS_5_MEAN_MEAN', 'BURO_STATUS_C_MEAN_MEAN', 'BURO_STATUS_X_MEAN_MEAN', 'ACTIVE_DAYS_CREDIT_MEAN', 'ACTIVE_DAYS_CREDIT_VAR', 'ACTIVE_DAYS_CREDIT_ENDDATE_MEAN', 'ACTIVE_DAYS_CREDIT_UPDATE_MEAN', 'ACTIVE_CREDIT_DAY_OVERDUE_MEAN', 'ACTIVE_AMT_CREDIT_MAX_OVERDUE_MEAN', 'ACTIVE_AMT_CREDIT_SUM_MAX', 'ACTIVE_AMT_CREDIT_SUM_MEAN', 'ACTIVE_AMT_CREDIT_SUM_SUM', 'ACTIVE_AMT_CREDIT_SUM_DEBT_MAX', 'ACTIVE_AMT_CREDIT_SUM_DEBT_MEAN', 'ACTIVE_AMT_CREDIT_SUM_DEBT_SUM', 'ACTIVE_AMT_CREDIT_SUM_OVERDUE_MEAN', 'ACTIVE_AMT_CREDIT_SUM_LIMIT_MEAN', 'ACTIVE_AMT_CREDIT_SUM_LIMIT_SUM', 'ACTIVE_AMT_ANNUITY_MAX', 'ACTIVE_AMT_ANNUITY_MEAN', 'ACTIVE_MONTHS_BALANCE_SIZE_MEAN', 'CLOSED_DAYS_CREDIT_MEAN', 'CLOSED_DAYS_CREDIT_VAR', 'CLOSED_DAYS_CREDIT_ENDDATE_MEAN', 'CLOSED_DAYS_CREDIT_UPDATE_MEAN', 'CLOSED_CREDIT_DAY_OVERDUE_MEAN', 'CLOSED_AMT_CREDIT_MAX_OVERDUE_MEAN', 'CLOSED_AMT_CREDIT_SUM_MAX', 'CLOSED_AMT_CREDIT_SUM_MEAN', 'CLOSED_AMT_CREDIT_SUM_SUM', 'CLOSED_AMT_CREDIT_SUM_DEBT_MAX', 'CLOSED_AMT_CREDIT_SUM_DEBT_MEAN', 'CLOSED_AMT_CREDIT_SUM_DEBT_SUM', 'CLOSED_AMT_CREDIT_SUM_OVERDUE_MEAN', 'CLOSED_AMT_CREDIT_SUM_LIMIT_MEAN', 'CLOSED_AMT_CREDIT_SUM_LIMIT_SUM', 'CLOSED_AMT_ANNUITY_MAX', 'CLOSED_AMT_ANNUITY_MEAN', 'CLOSED_MONTHS_BALANCE_SIZE_MEAN', 'PREV_AMT_ANNUITY_MIN', 'PREV_AMT_ANNUITY_MAX', 'PREV_AMT_ANNUITY_MEAN', 'PREV_AMT_APPLICATION_MIN', 'PREV_AMT_APPLICATION_MAX', 'PREV_AMT_APPLICATION_MEAN', 'PREV_AMT_CREDIT_MIN', 'PREV_AMT_CREDIT_MAX', 'PREV_AMT_CREDIT_MEAN', 'PREV_APP_CREDIT_PERC_MIN', 'PREV_APP_CREDIT_PERC_MAX', 'PREV_APP_CREDIT_PERC_MEAN', 'PREV_APP_CREDIT_PERC_VAR', 'PREV_AMT_DOWN_PAYMENT_MIN', 'PREV_AMT_DOWN_PAYMENT_MAX', 'PREV_AMT_DOWN_PAYMENT_MEAN', 'PREV_AMT_GOODS_PRICE_MIN', 'PREV_AMT_GOODS_PRICE_MAX', 'PREV_AMT_GOODS_PRICE_MEAN', 'PREV_HOUR_APPR_PROCESS_START_MEAN', 'PREV_RATE_DOWN_PAYMENT_MIN', 'PREV_RATE_DOWN_PAYMENT_MAX', 'PREV_RATE_DOWN_PAYMENT_MEAN', 'PREV_DAYS_DECISION_MEAN', 'PREV_CNT_PAYMENT_MEAN', 'PREV_NAME_CONTRACT_TYPE_Cash loans_MEAN', 'PREV_NAME_CONTRACT_TYPE_Consumer loans_MEAN', 'PREV_NAME_CONTRACT_TYPE_Revolving loans_MEAN', 'PREV_NAME_CONTRACT_TYPE_XNA_MEAN', 'PREV_WEEKDAY_APPR_PROCESS_START_FRIDAY_MEAN', 'PREV_WEEKDAY_APPR_PROCESS_START_MONDAY_MEAN', 'PREV_WEEKDAY_APPR_PROCESS_START_SATURDAY_MEAN', 'PREV_WEEKDAY_APPR_PROCESS_START_SUNDAY_MEAN', 'PREV_WEEKDAY_APPR_PROCESS_START_THURSDAY_MEAN', 'PREV_WEEKDAY_APPR_PROCESS_START_TUESDAY_MEAN', 'PREV_WEEKDAY_APPR_PROCESS_START_WEDNESDAY_MEAN', 'PREV_FLAG_LAST_APPL_PER_CONTRACT_N_MEAN', 'PREV_FLAG_LAST_APPL_PER_CONTRACT_Y_MEAN', 'PREV_NAME_CASH_LOAN_PURPOSE_Building a house or an annex_MEAN', 'PREV_NAME_CASH_LOAN_PURPOSE_Business development_MEAN', 'PREV_NAME_CASH_LOAN_PURPOSE_Buying a garage_MEAN', 'PREV_NAME_CASH_LOAN_PURPOSE_Buying a holiday home / land_MEAN', 'PREV_NAME_CASH_LOAN_PURPOSE_Buying a home_MEAN', 'PREV_NAME_CASH_LOAN_PURPOSE_Buying a new car_MEAN', 'PREV_NAME_CASH_LOAN_PURPOSE_Buying a used car_MEAN', 'PREV_NAME_CASH_LOAN_PURPOSE_Car repairs_MEAN', 'PREV_NAME_CASH_LOAN_PURPOSE_Education_MEAN', 'PREV_NAME_CASH_LOAN_PURPOSE_Everyday expenses_MEAN', 'PREV_NAME_CASH_LOAN_PURPOSE_Furniture_MEAN', 'PREV_NAME_CASH_LOAN_PURPOSE_Gasification / water supply_MEAN', 'PREV_NAME_CASH_LOAN_PURPOSE_Hobby_MEAN', 'PREV_NAME_CASH_LOAN_PURPOSE_Journey_MEAN', 'PREV_NAME_CASH_LOAN_PURPOSE_Medicine_MEAN', 'PREV_NAME_CASH_LOAN_PURPOSE_Money for a third person_MEAN', 'PREV_NAME_CASH_LOAN_PURPOSE_Other_MEAN', 'PREV_NAME_CASH_LOAN_PURPOSE_Payments on other loans_MEAN', 'PREV_NAME_CASH_LOAN_PURPOSE_Purchase of electronic equipment_MEAN', 'PREV_NAME_CASH_LOAN_PURPOSE_Refusal to name the goal_MEAN', 'PREV_NAME_CASH_LOAN_PURPOSE_Repairs_MEAN', 'PREV_NAME_CASH_LOAN_PURPOSE_Urgent needs_MEAN', 'PREV_NAME_CASH_LOAN_PURPOSE_Wedding / gift / holiday_MEAN', 'PREV_NAME_CASH_LOAN_PURPOSE_XAP_MEAN', 'PREV_NAME_CASH_LOAN_PURPOSE_XNA_MEAN', 'PREV_NAME_CONTRACT_STATUS_Approved_MEAN', 'PREV_NAME_CONTRACT_STATUS_Canceled_MEAN', 'PREV_NAME_CONTRACT_STATUS_Refused_MEAN', 'PREV_NAME_CONTRACT_STATUS_Unused offer_MEAN', 'PREV_NAME_PAYMENT_TYPE_Cash through the bank_MEAN', 'PREV_NAME_PAYMENT_TYPE_Cashless from the account of the employer_MEAN', 'PREV_NAME_PAYMENT_TYPE_Non-cash from your account_MEAN', 'PREV_NAME_PAYMENT_TYPE_XNA_MEAN', 'PREV_CODE_REJECT_REASON_CLIENT_MEAN', 'PREV_CODE_REJECT_REASON_HC_MEAN', 'PREV_CODE_REJECT_REASON_LIMIT_MEAN', 'PREV_CODE_REJECT_REASON_SCO_MEAN', 'PREV_CODE_REJECT_REASON_SCOFR_MEAN', 'PREV_CODE_REJECT_REASON_SYSTEM_MEAN', 'PREV_CODE_REJECT_REASON_VERIF_MEAN', 'PREV_CODE_REJECT_REASON_XAP_MEAN', 'PREV_CODE_REJECT_REASON_XNA_MEAN', 'PREV_NAME_TYPE_SUITE_Children_MEAN', 'PREV_NAME_TYPE_SUITE_Family_MEAN', 'PREV_NAME_TYPE_SUITE_Group of people_MEAN', 'PREV_NAME_TYPE_SUITE_Other_A_MEAN', 'PREV_NAME_TYPE_SUITE_Other_B_MEAN', 'PREV_NAME_TYPE_SUITE_Spouse, partner_MEAN', 'PREV_NAME_TYPE_SUITE_Unaccompanied_MEAN', 'PREV_NAME_TYPE_SUITE_nan_MEAN', 'PREV_NAME_CLIENT_TYPE_New_MEAN', 'PREV_NAME_CLIENT_TYPE_Refreshed_MEAN', 'PREV_NAME_CLIENT_TYPE_Repeater_MEAN', 'PREV_NAME_CLIENT_TYPE_XNA_MEAN', 'PREV_NAME_GOODS_CATEGORY_Additional Service_MEAN', 'PREV_NAME_GOODS_CATEGORY_Animals_MEAN', 'PREV_NAME_GOODS_CATEGORY_Audio/Video_MEAN', 'PREV_NAME_GOODS_CATEGORY_Auto Accessories_MEAN', 'PREV_NAME_GOODS_CATEGORY_Clothing and Accessories_MEAN', 'PREV_NAME_GOODS_CATEGORY_Computers_MEAN', 'PREV_NAME_GOODS_CATEGORY_Construction Materials_MEAN', 'PREV_NAME_GOODS_CATEGORY_Consumer Electronics_MEAN', 'PREV_NAME_GOODS_CATEGORY_Direct Sales_MEAN', 'PREV_NAME_GOODS_CATEGORY_Education_MEAN', 'PREV_NAME_GOODS_CATEGORY_Fitness_MEAN', 'PREV_NAME_GOODS_CATEGORY_Furniture_MEAN', 'PREV_NAME_GOODS_CATEGORY_Gardening_MEAN', 'PREV_NAME_GOODS_CATEGORY_Homewares_MEAN', 'PREV_NAME_GOODS_CATEGORY_Insurance_MEAN', 'PREV_NAME_GOODS_CATEGORY_Jewelry_MEAN', 'PREV_NAME_GOODS_CATEGORY_Medical Supplies_MEAN', 'PREV_NAME_GOODS_CATEGORY_Medicine_MEAN', 'PREV_NAME_GOODS_CATEGORY_Mobile_MEAN', 'PREV_NAME_GOODS_CATEGORY_Office Appliances_MEAN', 'PREV_NAME_GOODS_CATEGORY_Other_MEAN', 'PREV_NAME_GOODS_CATEGORY_Photo / Cinema Equipment_MEAN', 'PREV_NAME_GOODS_CATEGORY_Sport and Leisure_MEAN', 'PREV_NAME_GOODS_CATEGORY_Tourism_MEAN', 'PREV_NAME_GOODS_CATEGORY_Vehicles_MEAN', 'PREV_NAME_GOODS_CATEGORY_Weapon_MEAN', 'PREV_NAME_GOODS_CATEGORY_XNA_MEAN', 'PREV_NAME_PORTFOLIO_Cards_MEAN', 'PREV_NAME_PORTFOLIO_Cars_MEAN', 'PREV_NAME_PORTFOLIO_Cash_MEAN', 'PREV_NAME_PORTFOLIO_POS_MEAN', 'PREV_NAME_PORTFOLIO_XNA_MEAN', 'PREV_NAME_PRODUCT_TYPE_XNA_MEAN', 'PREV_NAME_PRODUCT_TYPE_walk-in_MEAN', 'PREV_NAME_PRODUCT_TYPE_x-sell_MEAN', 'PREV_CHANNEL_TYPE_AP+ (Cash loan)_MEAN', 'PREV_CHANNEL_TYPE_Car dealer_MEAN', 'PREV_CHANNEL_TYPE_Channel of corporate sales_MEAN', 'PREV_CHANNEL_TYPE_Contact center_MEAN', 'PREV_CHANNEL_TYPE_Country-wide_MEAN', 'PREV_CHANNEL_TYPE_Credit and cash offices_MEAN', 'PREV_CHANNEL_TYPE_Regional / Local_MEAN', 'PREV_CHANNEL_TYPE_Stone_MEAN', 'PREV_NAME_SELLER_INDUSTRY_Auto technology_MEAN', 'PREV_NAME_SELLER_INDUSTRY_Clothing_MEAN', 'PREV_NAME_SELLER_INDUSTRY_Connectivity_MEAN', 'PREV_NAME_SELLER_INDUSTRY_Construction_MEAN', 'PREV_NAME_SELLER_INDUSTRY_Consumer electronics_MEAN', 'PREV_NAME_SELLER_INDUSTRY_Furniture_MEAN', 'PREV_NAME_SELLER_INDUSTRY_Industry_MEAN', 'PREV_NAME_SELLER_INDUSTRY_Jewelry_MEAN', 'PREV_NAME_SELLER_INDUSTRY_MLM partners_MEAN', 'PREV_NAME_SELLER_INDUSTRY_Tourism_MEAN', 'PREV_NAME_SELLER_INDUSTRY_XNA_MEAN', 'PREV_NAME_YIELD_GROUP_XNA_MEAN', 'PREV_NAME_YIELD_GROUP_high_MEAN', 'PREV_NAME_YIELD_GROUP_low_action_MEAN', 'PREV_NAME_YIELD_GROUP_low_normal_MEAN', 'PREV_NAME_YIELD_GROUP_middle_MEAN', 'PREV_PRODUCT_COMBINATION_Card Street_MEAN', 'PREV_PRODUCT_COMBINATION_Card X-Sell_MEAN', 'PREV_PRODUCT_COMBINATION_Cash_MEAN', 'PREV_PRODUCT_COMBINATION_Cash Street: high_MEAN', 'PREV_PRODUCT_COMBINATION_Cash Street: low_MEAN', 'PREV_PRODUCT_COMBINATION_Cash Street: middle_MEAN', 'PREV_PRODUCT_COMBINATION_Cash X-Sell: high_MEAN', 'PREV_PRODUCT_COMBINATION_Cash X-Sell: low_MEAN', 'PREV_PRODUCT_COMBINATION_Cash X-Sell: middle_MEAN', 'PREV_PRODUCT_COMBINATION_POS household with interest_MEAN', 'PREV_PRODUCT_COMBINATION_POS household without interest_MEAN', 'PREV_PRODUCT_COMBINATION_POS industry with interest_MEAN', 'PREV_PRODUCT_COMBINATION_POS industry without interest_MEAN', 'PREV_PRODUCT_COMBINATION_POS mobile with interest_MEAN', 'PREV_PRODUCT_COMBINATION_POS mobile without interest_MEAN', 'PREV_PRODUCT_COMBINATION_POS other with interest_MEAN', 'PREV_PRODUCT_COMBINATION_POS others without interest_MEAN', 'PREV_PRODUCT_COMBINATION_nan_MEAN', 'APPROVED_AMT_ANNUITY_MIN', 'APPROVED_AMT_ANNUITY_MAX', 'APPROVED_AMT_ANNUITY_MEAN', 'APPROVED_AMT_APPLICATION_MIN', 'APPROVED_AMT_APPLICATION_MAX', 'APPROVED_AMT_APPLICATION_MEAN', 'APPROVED_AMT_CREDIT_MIN', 'APPROVED_AMT_CREDIT_MAX', 'APPROVED_AMT_CREDIT_MEAN', 'APPROVED_APP_CREDIT_PERC_MIN', 'APPROVED_APP_CREDIT_PERC_MAX', 'APPROVED_APP_CREDIT_PERC_MEAN', 'APPROVED_APP_CREDIT_PERC_VAR', 'APPROVED_AMT_DOWN_PAYMENT_MIN', 'APPROVED_AMT_DOWN_PAYMENT_MAX', 'APPROVED_AMT_DOWN_PAYMENT_MEAN', 'APPROVED_AMT_GOODS_PRICE_MIN', 'APPROVED_AMT_GOODS_PRICE_MAX', 'APPROVED_AMT_GOODS_PRICE_MEAN', 'APPROVED_HOUR_APPR_PROCESS_START_MEAN', 'APPROVED_RATE_DOWN_PAYMENT_MIN', 'APPROVED_RATE_DOWN_PAYMENT_MAX', 'APPROVED_RATE_DOWN_PAYMENT_MEAN', 'APPROVED_DAYS_DECISION_MEAN', 'APPROVED_CNT_PAYMENT_MEAN', 'REFUSED_AMT_ANNUITY_MIN', 'REFUSED_AMT_ANNUITY_MAX', 'REFUSED_AMT_ANNUITY_MEAN', 'REFUSED_AMT_APPLICATION_MIN', 'REFUSED_AMT_APPLICATION_MAX', 'REFUSED_AMT_APPLICATION_MEAN', 'REFUSED_AMT_CREDIT_MIN', 'REFUSED_AMT_CREDIT_MAX', 'REFUSED_AMT_CREDIT_MEAN', 'REFUSED_APP_CREDIT_PERC_MIN', 'REFUSED_APP_CREDIT_PERC_MAX', 'REFUSED_APP_CREDIT_PERC_MEAN', 'REFUSED_APP_CREDIT_PERC_VAR', 'REFUSED_AMT_DOWN_PAYMENT_MIN', 'REFUSED_AMT_DOWN_PAYMENT_MAX', 'REFUSED_AMT_DOWN_PAYMENT_MEAN', 'REFUSED_AMT_GOODS_PRICE_MIN', 'REFUSED_AMT_GOODS_PRICE_MAX', 'REFUSED_AMT_GOODS_PRICE_MEAN', 'REFUSED_HOUR_APPR_PROCESS_START_MEAN', 'REFUSED_RATE_DOWN_PAYMENT_MIN', 'REFUSED_RATE_DOWN_PAYMENT_MAX', 'REFUSED_RATE_DOWN_PAYMENT_MEAN', 'REFUSED_DAYS_DECISION_MEAN', 'REFUSED_CNT_PAYMENT_MEAN', 'POS_MONTHS_BALANCE_MEAN', 'POS_SK_DPD_MEAN', 'POS_SK_DPD_DEF_MEAN', 'POS_NAME_CONTRACT_STATUS_Active_MEAN', 'POS_NAME_CONTRACT_STATUS_Amortized debt_MEAN', 'POS_NAME_CONTRACT_STATUS_Approved_MEAN', 'POS_NAME_CONTRACT_STATUS_Canceled_MEAN', 'POS_NAME_CONTRACT_STATUS_Completed_MEAN', 'POS_NAME_CONTRACT_STATUS_Demand_MEAN', 'POS_NAME_CONTRACT_STATUS_Returned to the store_MEAN', 'POS_NAME_CONTRACT_STATUS_Signed_MEAN', 'INSTAL_DPD_MEAN', 'INSTAL_DBD_MEAN', 'INSTAL_PAYMENT_PERC_MAX', 'INSTAL_PAYMENT_PERC_MEAN', 'INSTAL_PAYMENT_PERC_SUM', 'INSTAL_PAYMENT_PERC_VAR', 'INSTAL_PAYMENT_DIFF_MAX', 'INSTAL_PAYMENT_DIFF_MEAN', 'INSTAL_PAYMENT_DIFF_SUM', 'INSTAL_PAYMENT_DIFF_VAR', 'INSTAL_AMT_INSTALMENT_MAX', 'INSTAL_AMT_INSTALMENT_MEAN', 'INSTAL_AMT_INSTALMENT_SUM', 'INSTAL_AMT_PAYMENT_MIN', 'INSTAL_AMT_PAYMENT_MAX', 'INSTAL_AMT_PAYMENT_MEAN', 'INSTAL_AMT_PAYMENT_SUM', 'INSTAL_DAYS_ENTRY_PAYMENT_MEAN', 'CC_MONTHS_BALANCE_MEAN', 'CC_MONTHS_BALANCE_VAR', 'CC_AMT_BALANCE_MIN', 'CC_AMT_BALANCE_MAX', 'CC_AMT_BALANCE_MEAN', 'CC_AMT_BALANCE_SUM', 'CC_AMT_BALANCE_VAR', 'CC_AMT_CREDIT_LIMIT_ACTUAL_MEAN', 'CC_AMT_CREDIT_LIMIT_ACTUAL_VAR', 'CC_AMT_DRAWINGS_ATM_CURRENT_MAX', 'CC_AMT_DRAWINGS_ATM_CURRENT_MEAN', 'CC_AMT_DRAWINGS_ATM_CURRENT_SUM', 'CC_AMT_DRAWINGS_ATM_CURRENT_VAR', 'CC_AMT_DRAWINGS_CURRENT_MIN', 'CC_AMT_DRAWINGS_CURRENT_MAX', 'CC_AMT_DRAWINGS_CURRENT_MEAN', 'CC_AMT_DRAWINGS_CURRENT_SUM', 'CC_AMT_DRAWINGS_CURRENT_VAR', 'CC_AMT_DRAWINGS_OTHER_CURRENT_MAX', 'CC_AMT_DRAWINGS_OTHER_CURRENT_MEAN', 'CC_AMT_DRAWINGS_OTHER_CURRENT_SUM', 'CC_AMT_DRAWINGS_OTHER_CURRENT_VAR', 'CC_AMT_DRAWINGS_POS_CURRENT_MIN', 'CC_AMT_DRAWINGS_POS_CURRENT_MAX', 'CC_AMT_DRAWINGS_POS_CURRENT_MEAN', 'CC_AMT_DRAWINGS_POS_CURRENT_SUM', 'CC_AMT_DRAWINGS_POS_CURRENT_VAR', 'CC_AMT_INST_MIN_REGULARITY_MIN', 'CC_AMT_INST_MIN_REGULARITY_MAX', 'CC_AMT_INST_MIN_REGULARITY_MEAN', 'CC_AMT_INST_MIN_REGULARITY_SUM', 'CC_AMT_INST_MIN_REGULARITY_VAR', 'CC_AMT_PAYMENT_CURRENT_MIN', 'CC_AMT_PAYMENT_CURRENT_MAX', 'CC_AMT_PAYMENT_CURRENT_MEAN', 'CC_AMT_PAYMENT_CURRENT_SUM', 'CC_AMT_PAYMENT_CURRENT_VAR', 'CC_AMT_PAYMENT_TOTAL_CURRENT_MIN', 'CC_AMT_PAYMENT_TOTAL_CURRENT_MAX', 'CC_AMT_PAYMENT_TOTAL_CURRENT_MEAN', 'CC_AMT_PAYMENT_TOTAL_CURRENT_SUM', 'CC_AMT_PAYMENT_TOTAL_CURRENT_VAR', 'CC_AMT_RECEIVABLE_PRINCIPAL_MIN', 'CC_AMT_RECEIVABLE_PRINCIPAL_MAX', 'CC_AMT_RECEIVABLE_PRINCIPAL_MEAN', 'CC_AMT_RECEIVABLE_PRINCIPAL_SUM', 'CC_AMT_RECEIVABLE_PRINCIPAL_VAR', 'CC_AMT_RECIVABLE_MIN', 'CC_AMT_RECIVABLE_MAX', 'CC_AMT_RECIVABLE_MEAN', 'CC_AMT_RECIVABLE_SUM', 'CC_AMT_RECIVABLE_VAR', 'CC_AMT_TOTAL_RECEIVABLE_MIN', 'CC_AMT_TOTAL_RECEIVABLE_MAX', 'CC_AMT_TOTAL_RECEIVABLE_MEAN', 'CC_AMT_TOTAL_RECEIVABLE_SUM', 'CC_AMT_TOTAL_RECEIVABLE_VAR', 'CC_CNT_DRAWINGS_ATM_CURRENT_MEAN', 'CC_CNT_DRAWINGS_ATM_CURRENT_VAR', 'CC_CNT_DRAWINGS_CURRENT_MEAN', 'CC_CNT_DRAWINGS_CURRENT_VAR', 'CC_CNT_DRAWINGS_OTHER_CURRENT_MEAN', 'CC_CNT_DRAWINGS_OTHER_CURRENT_VAR', 'CC_CNT_DRAWINGS_POS_CURRENT_MEAN', 'CC_CNT_DRAWINGS_POS_CURRENT_VAR', 'CC_CNT_INSTALMENT_MATURE_CUM_MEAN', 'CC_CNT_INSTALMENT_MATURE_CUM_VAR', 'CC_SK_DPD_MEAN', 'CC_SK_DPD_VAR', 'CC_SK_DPD_DEF_MEAN', 'CC_SK_DPD_DEF_VAR', 'CC_NAME_CONTRACT_STATUS_Active_MEAN', 'CC_NAME_CONTRACT_STATUS_Active_VAR', 'CC_NAME_CONTRACT_STATUS_Approved_MEAN', 'CC_NAME_CONTRACT_STATUS_Approved_VAR', 'CC_NAME_CONTRACT_STATUS_Completed_MEAN', 'CC_NAME_CONTRACT_STATUS_Completed_VAR', 'CC_NAME_CONTRACT_STATUS_Demand_MEAN', 'CC_NAME_CONTRACT_STATUS_Demand_VAR', 'CC_NAME_CONTRACT_STATUS_Refused_MEAN', 'CC_NAME_CONTRACT_STATUS_Refused_VAR', 'CC_NAME_CONTRACT_STATUS_Sent proposal_MEAN', 'CC_NAME_CONTRACT_STATUS_Sent proposal_VAR', 'CC_NAME_CONTRACT_STATUS_Signed_MEAN', 'CC_NAME_CONTRACT_STATUS_Signed_VAR']\n"
          ]
        }
      ]
    },
    {
      "cell_type": "code",
      "execution_count": null,
      "id": "cc1529ce",
      "metadata": {
        "id": "cc1529ce",
        "outputId": "f0e048fe-9624-4a4d-b7a6-f43fabbe9122"
      },
      "outputs": [
        {
          "name": "stderr",
          "output_type": "stream",
          "text": [
            "C:\\Users\\nisae\\AppData\\Local\\Temp\\ipykernel_6588\\2476619508.py:7: SettingWithCopyWarning: \n",
            "A value is trying to be set on a copy of a slice from a DataFrame\n",
            "\n",
            "See the caveats in the documentation: https://pandas.pydata.org/pandas-docs/stable/user_guide/indexing.html#returning-a-view-versus-a-copy\n",
            "  X_train_num.replace([np.inf, -np.inf], np.nan, inplace=True)\n"
          ]
        }
      ],
      "source": [
        "\n",
        "\n",
        "# on sépare les colonnes catégorielles des autres\n",
        "X_train_categ = X_train[X_train_categorical_columns]\n",
        "X_train_num = X_train[X_train_other_columns]\n",
        "X_test_num = X_test[X_train_other_columns]\n",
        "\n",
        "# on impute la médiane du train aux valeurs manquantes\n",
        "impute = SimpleImputer(strategy='median')\n",
        "X_train_num = impute.fit_transform(X_train_num)\n",
        "X_test_num = impute.fit_transform(X_test_num)\n"
      ]
    },
    {
      "cell_type": "code",
      "execution_count": null,
      "id": "761519de",
      "metadata": {
        "id": "761519de"
      },
      "outputs": [],
      "source": [
        "stand = RobustScaler()\n",
        "# on entraine RobustScaler sur les données numériques du train\n",
        "stand.fit(X_train_num)\n",
        "# on remplace les données numérique du train\n",
        "X_train_num = stand.transform(X_train_num)\n",
        "# on remplace les données numérique du test à partir du modèle entrainé sur le train\n",
        "# X_test[listnum] = stand.transform(X_test[listnum])"
      ]
    },
    {
      "cell_type": "raw",
      "id": "7eee6a97",
      "metadata": {
        "id": "7eee6a97"
      },
      "source": [
        "https://imbalanced-learn.org/stable/references/generated/imblearn.under_sampling.TomekLinks.html\n",
        "sampling_strategy_dict\n",
        "Dictionary containing the information to sample the dataset. The keys corresponds to the class labels from which to sample and the values are the number of samples to sample."
      ]
    },
    {
      "cell_type": "markdown",
      "source": [],
      "metadata": {
        "id": "CMuOASvCQjhI"
      },
      "id": "CMuOASvCQjhI"
    },
    {
      "cell_type": "code",
      "execution_count": null,
      "id": "acc23433",
      "metadata": {
        "id": "acc23433",
        "outputId": "d99ffbf2-a98e-4fad-995b-d18416bdba9b"
      },
      "outputs": [
        {
          "name": "stdout",
          "output_type": "stream",
          "text": [
            "0.0    219090\n",
            "1.0     19860\n",
            "Name: TARGET, dtype: int64\n"
          ]
        }
      ],
      "source": [
        "# construction de la pipeline\n",
        "\n",
        "Tomek_Sampling = TomekLinks()\n",
        "X_res, y_res = Tomek_Sampling.fit_resample(X_train_num, y_train)\n",
        "print(y_res['TARGET'].value_counts())"
      ]
    },
    {
      "cell_type": "code",
      "execution_count": null,
      "id": "e90f33c0",
      "metadata": {
        "id": "e90f33c0",
        "outputId": "3f60d1b6-8b62-4f94-bf58-6e3a911339a9"
      },
      "outputs": [
        {
          "name": "stdout",
          "output_type": "stream",
          "text": [
            "0.0    226145\n",
            "1.0     19860\n",
            "Name: TARGET, dtype: int64\n"
          ]
        }
      ],
      "source": [
        "print(y_train['TARGET'].value_counts())"
      ]
    },
    {
      "cell_type": "code",
      "execution_count": null,
      "id": "65714502",
      "metadata": {
        "id": "65714502"
      },
      "outputs": [],
      "source": [
        "# encodage des données catégorielles\n",
        "enc = OneHotEncoder()\n",
        "enc = enc.fit(df[listobject])\n",
        "test = enc.transform(df[listobject]).toarray() \n",
        "Encode_df = pd.DataFrame(test, columns =enc.get_feature_names_out())\n",
        "Encode_df.shape"
      ]
    },
    {
      "cell_type": "markdown",
      "id": "3a6f9236",
      "metadata": {
        "id": "3a6f9236"
      },
      "source": [
        "## <span id=\"s1_2\" style=\"font-family:Latin fonts;font-size:1.6em;\">Oversampling / Smote</span><br>\n",
        "Le sur-échantillonnage (oversampling) consiste à rééquilibrer le jeu de données en augmentant artificiellement le nombre d’instances de la classe minoritaire. <br>\n",
        "[Sommaire](#rt)"
      ]
    },
    {
      "cell_type": "code",
      "source": [
        "# on triche pour des problèmes de mémoire\n",
        "X_train =  pd.read_csv(chemin_save+\"X_test.csv\",index_col=0)\n",
        "y_train = pd.read_csv(chemin_save+\"y_test .csv\",index_col=0)\n",
        "\n",
        "# on sépare données catégorielles des données numériques\n",
        "X_train_categorical_columns, X_train_discret_columns, X_train_float_columns = df_list_colonnes(X_train)\n",
        "X_train_numeric_colonnes = X_train_discret_columns + X_train_float_columns\n",
        "print(len(X_train_categorical_columns))\n",
        "print(len(X_train_numeric_colonnes))\n"
      ],
      "metadata": {
        "colab": {
          "base_uri": "https://localhost:8080/"
        },
        "id": "JQUrCvCVWQex",
        "outputId": "3dd370c0-ee00-41fe-f1bf-b27df1e9d48b"
      },
      "id": "JQUrCvCVWQex",
      "execution_count": 5,
      "outputs": [
        {
          "output_type": "stream",
          "name": "stdout",
          "text": [
            "16\n",
            "661\n"
          ]
        }
      ]
    },
    {
      "cell_type": "code",
      "source": [
        "# Importation du package\n",
        "from imblearn.over_sampling import SMOTENC\n",
        "\n",
        "# Définition de l'instance SMOTE où 1 désigne la colonne catégorielle\n",
        "# sm = SMOTENC(categorical_features=X_train_categorical_columns, sampling_strategy=0.1, k_neighbors=2)\n",
        "sm = SMOTENC(categorical_features=[i for i in range(661,677)], sampling_strategy=0.1, k_neighbors=2)\n",
        "# Application du SMOTE aux données\n",
        "#X_res_SMOTENC, y_res_SMOTENC = sm.fit_resample(X_train, y_train)"
      ],
      "metadata": {
        "id": "26w4rNdtTn17"
      },
      "id": "26w4rNdtTn17",
      "execution_count": 15,
      "outputs": []
    },
    {
      "cell_type": "code",
      "source": [
        "def SN_to_df(df):\n",
        "  new_liste_cols = X_train_numeric_colonnes + X_train_categorical_columns\n",
        "  df = pd.DataFrame(df,columns= new_liste_cols)\n",
        "  return df\n",
        "SN_to_df_step = FunctionTransformer(SN_to_df)"
      ],
      "metadata": {
        "id": "yS-O-zWKVMlx"
      },
      "id": "yS-O-zWKVMlx",
      "execution_count": 16,
      "outputs": []
    },
    {
      "cell_type": "code",
      "source": [
        "discrete_values = [1.3,25.6,3.6]\n",
        "values_to_discretize = [5,6,8,5,1,0]\n",
        "test = re_discretize(discrete_values, values_to_discretize)\n",
        "print(test)"
      ],
      "metadata": {
        "colab": {
          "base_uri": "https://localhost:8080/"
        },
        "id": "daEbSGtauUfk",
        "outputId": "39e24ae6-90b5-4951-c066-2a2b2e8c8031"
      },
      "id": "daEbSGtauUfk",
      "execution_count": 59,
      "outputs": [
        {
          "output_type": "stream",
          "name": "stdout",
          "text": [
            "0    1.3\n",
            "1    3.6\n",
            "2    3.6\n",
            "3    1.3\n",
            "4    1.3\n",
            "5    1.3\n",
            "dtype: float64\n"
          ]
        }
      ]
    },
    {
      "cell_type": "code",
      "execution_count": 17,
      "id": "520370aa",
      "metadata": {
        "id": "520370aa"
      },
      "outputs": [],
      "source": [
        "def re_discretize(discrete_values, values_to_discretize):\n",
        "    \"\"\" This function is useful for re-discretizing the values of\n",
        "    synthetic individuals after SMOTE in any numerical variable that\n",
        "    is originally discrete.\n",
        "    It rounds the values in the array values_to_discretize to the\n",
        "    closest value in the array discrete_values (which represents the\n",
        "    truly existing values of the discrete variable)\n",
        "\n",
        "    Parameters\n",
        "    ----------\n",
        "    discrete_values : Array-like\n",
        "        Original discrete values, sorted in ascending/descending order\n",
        "    values_to_discretize : Array-like\n",
        "        Values to be discretized\n",
        "\n",
        "    Returns\n",
        "    -------\n",
        "    np.ndarray\n",
        "        Same shape as values_to_discretize, rounded to the\n",
        "        nearest value found in discrete_values\n",
        "    \"\"\"\n",
        "    # The function searchsorted identifies for every value in\n",
        "    # values_to_discretize the index that should be used if inserting\n",
        "    # values, to maintain an ordered array\n",
        "    insertion_index = np.searchsorted(discrete_values, values_to_discretize)\n",
        "\n",
        "    # We use this index to get the closest lower index and the closest upper\n",
        "    # index\n",
        "    index_closest_lower = (insertion_index - 1).clip(min=0)\n",
        "    index_closest_upper = insertion_index.clip(max=len(discrete_values) - 1)\n",
        "\n",
        "    # We use these indexes to compute the distances between a value in\n",
        "    # values_to_discretize and its closest values (lower and upper) in\n",
        "    # discrete_values\n",
        "    closest_indexes = np.vstack((index_closest_lower, index_closest_upper))\n",
        "    closest_values = np.take(discrete_values, closest_indexes)\n",
        "    shortest_distances = abs(closest_values - values_to_discretize)\n",
        "\n",
        "    # We then use the value that is the nearest between these lower\n",
        "    # and upper bounds\n",
        "    nearest_value = shortest_distances.argmin(axis=0)\n",
        "    discretized_values = closest_values[\n",
        "        nearest_value, np.arange(len(values_to_discretize))\n",
        "    ]\n",
        "    discretized_values = pd.Series(discretized_values)\n",
        "    return discretized_values"
      ]
    },
    {
      "cell_type": "code",
      "source": [
        "def Discret_SN_result(df) :\n",
        "  new_liste_cols = X_train_numeric_colonnes + X_train_categorical_columns\n",
        "  df = pd.DataFrame(df,columns= new_liste_cols)\n",
        "  #categorical_columns, discret_columns, float_columns = df_list_colonnes(df)\n",
        "  for col in X_train_discret_columns :\n",
        "    df[col] = re_discretize(df[col].unique().tolist(), df[col].tolist())\n",
        "  return df\n",
        "Discret_SN_resultstep = FunctionTransformer(Discret_SN_result)\n",
        "\n",
        "\n"
      ],
      "metadata": {
        "id": "hFhue5VOoZbP"
      },
      "id": "hFhue5VOoZbP",
      "execution_count": 18,
      "outputs": []
    },
    {
      "cell_type": "code",
      "source": [
        "from sklearn.linear_model import LogisticRegression"
      ],
      "metadata": {
        "id": "llEVch4eS-TA"
      },
      "id": "llEVch4eS-TA",
      "execution_count": 1,
      "outputs": []
    },
    {
      "cell_type": "code",
      "source": [
        "SN_pipe = Pipeline(\n",
        "    steps=[\n",
        "        ('preparation',preparation),\n",
        "        ('smotenc', sm)        \n",
        "        ,('discret',Discret_SN_resultstep)\n",
        "        ,('encode', encode_cat)\n",
        "        ,('test', LogisticRegression())\n",
        "    ]\n",
        ")"
      ],
      "metadata": {
        "id": "XXMpRtdcW8SU"
      },
      "id": "XXMpRtdcW8SU",
      "execution_count": 27,
      "outputs": []
    },
    {
      "cell_type": "code",
      "source": [
        "SN_pipe"
      ],
      "metadata": {
        "colab": {
          "base_uri": "https://localhost:8080/",
          "height": 397
        },
        "id": "fBHJve0PXawR",
        "outputId": "556f95cd-6872-412a-86d1-9a32ce4e8cf1"
      },
      "id": "fBHJve0PXawR",
      "execution_count": 20,
      "outputs": [
        {
          "output_type": "execute_result",
          "data": {
            "text/plain": [
              "Pipeline(steps=[('preparation',\n",
              "                 ColumnTransformer(transformers=[('quanti',\n",
              "                                                  Pipeline(steps=[('imputation',\n",
              "                                                                   SimpleImputer(strategy='median')),\n",
              "                                                                  ('standard',\n",
              "                                                                   RobustScaler())]),\n",
              "                                                  ['index', 'SK_ID_CURR',\n",
              "                                                   'CNT_CHILDREN', 'DAYS_BIRTH',\n",
              "                                                   'DAYS_EMPLOYED',\n",
              "                                                   'DAYS_REGISTRATION',\n",
              "                                                   'DAYS_ID_PUBLISH',\n",
              "                                                   'OWN_CAR_AGE', 'FLAG_MOBIL',\n",
              "                                                   'FLAG_EMP_PHONE',\n",
              "                                                   'FLAG_WORK_PHONE',\n",
              "                                                   'FLAG_CONT_MOBILE...\n",
              "                                                  ['NAME_CONTRACT_TYPE',\n",
              "                                                   'CODE_GENDER',\n",
              "                                                   'FLAG_OWN_CAR',\n",
              "                                                   'FLAG_OWN_REALTY',\n",
              "                                                   'NAME_TYPE_SUITE',\n",
              "                                                   'NAME_INCOME_TYPE',\n",
              "                                                   'NAME_EDUCATION_TYPE',\n",
              "                                                   'NAME_FAMILY_STATUS',\n",
              "                                                   'NAME_HOUSING_TYPE',\n",
              "                                                   'OCCUPATION_TYPE',\n",
              "                                                   'WEEKDAY_APPR_PROCESS_START',\n",
              "                                                   'ORGANIZATION_TYPE',\n",
              "                                                   'FONDKAPREMONT_MODE',\n",
              "                                                   'HOUSETYPE_MODE',\n",
              "                                                   'WALLSMATERIAL_MODE',\n",
              "                                                   'EMERGENCYSTATE_MODE'])])),\n",
              "                ('test', LogisticRegression())])"
            ],
            "text/html": [
              "<style>#sk-d00772d9-382b-4ec6-92af-91831f73144c {color: black;background-color: white;}#sk-d00772d9-382b-4ec6-92af-91831f73144c pre{padding: 0;}#sk-d00772d9-382b-4ec6-92af-91831f73144c div.sk-toggleable {background-color: white;}#sk-d00772d9-382b-4ec6-92af-91831f73144c label.sk-toggleable__label {cursor: pointer;display: block;width: 100%;margin-bottom: 0;padding: 0.3em;box-sizing: border-box;text-align: center;}#sk-d00772d9-382b-4ec6-92af-91831f73144c label.sk-toggleable__label-arrow:before {content: \"▸\";float: left;margin-right: 0.25em;color: #696969;}#sk-d00772d9-382b-4ec6-92af-91831f73144c label.sk-toggleable__label-arrow:hover:before {color: black;}#sk-d00772d9-382b-4ec6-92af-91831f73144c div.sk-estimator:hover label.sk-toggleable__label-arrow:before {color: black;}#sk-d00772d9-382b-4ec6-92af-91831f73144c div.sk-toggleable__content {max-height: 0;max-width: 0;overflow: hidden;text-align: left;background-color: #f0f8ff;}#sk-d00772d9-382b-4ec6-92af-91831f73144c div.sk-toggleable__content pre {margin: 0.2em;color: black;border-radius: 0.25em;background-color: #f0f8ff;}#sk-d00772d9-382b-4ec6-92af-91831f73144c input.sk-toggleable__control:checked~div.sk-toggleable__content {max-height: 200px;max-width: 100%;overflow: auto;}#sk-d00772d9-382b-4ec6-92af-91831f73144c input.sk-toggleable__control:checked~label.sk-toggleable__label-arrow:before {content: \"▾\";}#sk-d00772d9-382b-4ec6-92af-91831f73144c div.sk-estimator input.sk-toggleable__control:checked~label.sk-toggleable__label {background-color: #d4ebff;}#sk-d00772d9-382b-4ec6-92af-91831f73144c div.sk-label input.sk-toggleable__control:checked~label.sk-toggleable__label {background-color: #d4ebff;}#sk-d00772d9-382b-4ec6-92af-91831f73144c input.sk-hidden--visually {border: 0;clip: rect(1px 1px 1px 1px);clip: rect(1px, 1px, 1px, 1px);height: 1px;margin: -1px;overflow: hidden;padding: 0;position: absolute;width: 1px;}#sk-d00772d9-382b-4ec6-92af-91831f73144c div.sk-estimator {font-family: monospace;background-color: #f0f8ff;border: 1px dotted black;border-radius: 0.25em;box-sizing: border-box;margin-bottom: 0.5em;}#sk-d00772d9-382b-4ec6-92af-91831f73144c div.sk-estimator:hover {background-color: #d4ebff;}#sk-d00772d9-382b-4ec6-92af-91831f73144c div.sk-parallel-item::after {content: \"\";width: 100%;border-bottom: 1px solid gray;flex-grow: 1;}#sk-d00772d9-382b-4ec6-92af-91831f73144c div.sk-label:hover label.sk-toggleable__label {background-color: #d4ebff;}#sk-d00772d9-382b-4ec6-92af-91831f73144c div.sk-serial::before {content: \"\";position: absolute;border-left: 1px solid gray;box-sizing: border-box;top: 2em;bottom: 0;left: 50%;}#sk-d00772d9-382b-4ec6-92af-91831f73144c div.sk-serial {display: flex;flex-direction: column;align-items: center;background-color: white;padding-right: 0.2em;padding-left: 0.2em;}#sk-d00772d9-382b-4ec6-92af-91831f73144c div.sk-item {z-index: 1;}#sk-d00772d9-382b-4ec6-92af-91831f73144c div.sk-parallel {display: flex;align-items: stretch;justify-content: center;background-color: white;}#sk-d00772d9-382b-4ec6-92af-91831f73144c div.sk-parallel::before {content: \"\";position: absolute;border-left: 1px solid gray;box-sizing: border-box;top: 2em;bottom: 0;left: 50%;}#sk-d00772d9-382b-4ec6-92af-91831f73144c div.sk-parallel-item {display: flex;flex-direction: column;position: relative;background-color: white;}#sk-d00772d9-382b-4ec6-92af-91831f73144c div.sk-parallel-item:first-child::after {align-self: flex-end;width: 50%;}#sk-d00772d9-382b-4ec6-92af-91831f73144c div.sk-parallel-item:last-child::after {align-self: flex-start;width: 50%;}#sk-d00772d9-382b-4ec6-92af-91831f73144c div.sk-parallel-item:only-child::after {width: 0;}#sk-d00772d9-382b-4ec6-92af-91831f73144c div.sk-dashed-wrapped {border: 1px dashed gray;margin: 0 0.4em 0.5em 0.4em;box-sizing: border-box;padding-bottom: 0.4em;background-color: white;position: relative;}#sk-d00772d9-382b-4ec6-92af-91831f73144c div.sk-label label {font-family: monospace;font-weight: bold;background-color: white;display: inline-block;line-height: 1.2em;}#sk-d00772d9-382b-4ec6-92af-91831f73144c div.sk-label-container {position: relative;z-index: 2;text-align: center;}#sk-d00772d9-382b-4ec6-92af-91831f73144c div.sk-container {/* jupyter's `normalize.less` sets `[hidden] { display: none; }` but bootstrap.min.css set `[hidden] { display: none !important; }` so we also need the `!important` here to be able to override the default hidden behavior on the sphinx rendered scikit-learn.org. See: https://github.com/scikit-learn/scikit-learn/issues/21755 */display: inline-block !important;position: relative;}#sk-d00772d9-382b-4ec6-92af-91831f73144c div.sk-text-repr-fallback {display: none;}</style><div id=\"sk-d00772d9-382b-4ec6-92af-91831f73144c\" class=\"sk-top-container\"><div class=\"sk-text-repr-fallback\"><pre>Pipeline(steps=[(&#x27;preparation&#x27;,\n",
              "                 ColumnTransformer(transformers=[(&#x27;quanti&#x27;,\n",
              "                                                  Pipeline(steps=[(&#x27;imputation&#x27;,\n",
              "                                                                   SimpleImputer(strategy=&#x27;median&#x27;)),\n",
              "                                                                  (&#x27;standard&#x27;,\n",
              "                                                                   RobustScaler())]),\n",
              "                                                  [&#x27;index&#x27;, &#x27;SK_ID_CURR&#x27;,\n",
              "                                                   &#x27;CNT_CHILDREN&#x27;, &#x27;DAYS_BIRTH&#x27;,\n",
              "                                                   &#x27;DAYS_EMPLOYED&#x27;,\n",
              "                                                   &#x27;DAYS_REGISTRATION&#x27;,\n",
              "                                                   &#x27;DAYS_ID_PUBLISH&#x27;,\n",
              "                                                   &#x27;OWN_CAR_AGE&#x27;, &#x27;FLAG_MOBIL&#x27;,\n",
              "                                                   &#x27;FLAG_EMP_PHONE&#x27;,\n",
              "                                                   &#x27;FLAG_WORK_PHONE&#x27;,\n",
              "                                                   &#x27;FLAG_CONT_MOBILE...\n",
              "                                                  [&#x27;NAME_CONTRACT_TYPE&#x27;,\n",
              "                                                   &#x27;CODE_GENDER&#x27;,\n",
              "                                                   &#x27;FLAG_OWN_CAR&#x27;,\n",
              "                                                   &#x27;FLAG_OWN_REALTY&#x27;,\n",
              "                                                   &#x27;NAME_TYPE_SUITE&#x27;,\n",
              "                                                   &#x27;NAME_INCOME_TYPE&#x27;,\n",
              "                                                   &#x27;NAME_EDUCATION_TYPE&#x27;,\n",
              "                                                   &#x27;NAME_FAMILY_STATUS&#x27;,\n",
              "                                                   &#x27;NAME_HOUSING_TYPE&#x27;,\n",
              "                                                   &#x27;OCCUPATION_TYPE&#x27;,\n",
              "                                                   &#x27;WEEKDAY_APPR_PROCESS_START&#x27;,\n",
              "                                                   &#x27;ORGANIZATION_TYPE&#x27;,\n",
              "                                                   &#x27;FONDKAPREMONT_MODE&#x27;,\n",
              "                                                   &#x27;HOUSETYPE_MODE&#x27;,\n",
              "                                                   &#x27;WALLSMATERIAL_MODE&#x27;,\n",
              "                                                   &#x27;EMERGENCYSTATE_MODE&#x27;])])),\n",
              "                (&#x27;test&#x27;, LogisticRegression())])</pre><b>Please rerun this cell to show the HTML repr or trust the notebook.</b></div><div class=\"sk-container\" hidden><div class=\"sk-item sk-dashed-wrapped\"><div class=\"sk-label-container\"><div class=\"sk-label sk-toggleable\"><input class=\"sk-toggleable__control sk-hidden--visually\" id=\"dac53585-ffc9-41af-85fa-e70a0d8c098c\" type=\"checkbox\" ><label for=\"dac53585-ffc9-41af-85fa-e70a0d8c098c\" class=\"sk-toggleable__label sk-toggleable__label-arrow\">Pipeline</label><div class=\"sk-toggleable__content\"><pre>Pipeline(steps=[(&#x27;preparation&#x27;,\n",
              "                 ColumnTransformer(transformers=[(&#x27;quanti&#x27;,\n",
              "                                                  Pipeline(steps=[(&#x27;imputation&#x27;,\n",
              "                                                                   SimpleImputer(strategy=&#x27;median&#x27;)),\n",
              "                                                                  (&#x27;standard&#x27;,\n",
              "                                                                   RobustScaler())]),\n",
              "                                                  [&#x27;index&#x27;, &#x27;SK_ID_CURR&#x27;,\n",
              "                                                   &#x27;CNT_CHILDREN&#x27;, &#x27;DAYS_BIRTH&#x27;,\n",
              "                                                   &#x27;DAYS_EMPLOYED&#x27;,\n",
              "                                                   &#x27;DAYS_REGISTRATION&#x27;,\n",
              "                                                   &#x27;DAYS_ID_PUBLISH&#x27;,\n",
              "                                                   &#x27;OWN_CAR_AGE&#x27;, &#x27;FLAG_MOBIL&#x27;,\n",
              "                                                   &#x27;FLAG_EMP_PHONE&#x27;,\n",
              "                                                   &#x27;FLAG_WORK_PHONE&#x27;,\n",
              "                                                   &#x27;FLAG_CONT_MOBILE...\n",
              "                                                  [&#x27;NAME_CONTRACT_TYPE&#x27;,\n",
              "                                                   &#x27;CODE_GENDER&#x27;,\n",
              "                                                   &#x27;FLAG_OWN_CAR&#x27;,\n",
              "                                                   &#x27;FLAG_OWN_REALTY&#x27;,\n",
              "                                                   &#x27;NAME_TYPE_SUITE&#x27;,\n",
              "                                                   &#x27;NAME_INCOME_TYPE&#x27;,\n",
              "                                                   &#x27;NAME_EDUCATION_TYPE&#x27;,\n",
              "                                                   &#x27;NAME_FAMILY_STATUS&#x27;,\n",
              "                                                   &#x27;NAME_HOUSING_TYPE&#x27;,\n",
              "                                                   &#x27;OCCUPATION_TYPE&#x27;,\n",
              "                                                   &#x27;WEEKDAY_APPR_PROCESS_START&#x27;,\n",
              "                                                   &#x27;ORGANIZATION_TYPE&#x27;,\n",
              "                                                   &#x27;FONDKAPREMONT_MODE&#x27;,\n",
              "                                                   &#x27;HOUSETYPE_MODE&#x27;,\n",
              "                                                   &#x27;WALLSMATERIAL_MODE&#x27;,\n",
              "                                                   &#x27;EMERGENCYSTATE_MODE&#x27;])])),\n",
              "                (&#x27;test&#x27;, LogisticRegression())])</pre></div></div></div><div class=\"sk-serial\"><div class=\"sk-item sk-dashed-wrapped\"><div class=\"sk-label-container\"><div class=\"sk-label sk-toggleable\"><input class=\"sk-toggleable__control sk-hidden--visually\" id=\"08abc86a-87d6-42b4-bedd-a8d9539b2852\" type=\"checkbox\" ><label for=\"08abc86a-87d6-42b4-bedd-a8d9539b2852\" class=\"sk-toggleable__label sk-toggleable__label-arrow\">preparation: ColumnTransformer</label><div class=\"sk-toggleable__content\"><pre>ColumnTransformer(transformers=[(&#x27;quanti&#x27;,\n",
              "                                 Pipeline(steps=[(&#x27;imputation&#x27;,\n",
              "                                                  SimpleImputer(strategy=&#x27;median&#x27;)),\n",
              "                                                 (&#x27;standard&#x27;, RobustScaler())]),\n",
              "                                 [&#x27;index&#x27;, &#x27;SK_ID_CURR&#x27;, &#x27;CNT_CHILDREN&#x27;,\n",
              "                                  &#x27;DAYS_BIRTH&#x27;, &#x27;DAYS_EMPLOYED&#x27;,\n",
              "                                  &#x27;DAYS_REGISTRATION&#x27;, &#x27;DAYS_ID_PUBLISH&#x27;,\n",
              "                                  &#x27;OWN_CAR_AGE&#x27;, &#x27;FLAG_MOBIL&#x27;, &#x27;FLAG_EMP_PHONE&#x27;,\n",
              "                                  &#x27;FLAG_WORK_PHONE&#x27;, &#x27;FLAG_CONT_MOBILE&#x27;,\n",
              "                                  &#x27;FLAG_PHONE&#x27;, &#x27;FLAG_EMAIL&#x27;, &#x27;CN...\n",
              "                                                  SimpleImputer(fill_value=&#x27;manquant&#x27;,\n",
              "                                                                strategy=&#x27;constant&#x27;))]),\n",
              "                                 [&#x27;NAME_CONTRACT_TYPE&#x27;, &#x27;CODE_GENDER&#x27;,\n",
              "                                  &#x27;FLAG_OWN_CAR&#x27;, &#x27;FLAG_OWN_REALTY&#x27;,\n",
              "                                  &#x27;NAME_TYPE_SUITE&#x27;, &#x27;NAME_INCOME_TYPE&#x27;,\n",
              "                                  &#x27;NAME_EDUCATION_TYPE&#x27;, &#x27;NAME_FAMILY_STATUS&#x27;,\n",
              "                                  &#x27;NAME_HOUSING_TYPE&#x27;, &#x27;OCCUPATION_TYPE&#x27;,\n",
              "                                  &#x27;WEEKDAY_APPR_PROCESS_START&#x27;,\n",
              "                                  &#x27;ORGANIZATION_TYPE&#x27;, &#x27;FONDKAPREMONT_MODE&#x27;,\n",
              "                                  &#x27;HOUSETYPE_MODE&#x27;, &#x27;WALLSMATERIAL_MODE&#x27;,\n",
              "                                  &#x27;EMERGENCYSTATE_MODE&#x27;])])</pre></div></div></div><div class=\"sk-parallel\"><div class=\"sk-parallel-item\"><div class=\"sk-item\"><div class=\"sk-label-container\"><div class=\"sk-label sk-toggleable\"><input class=\"sk-toggleable__control sk-hidden--visually\" id=\"42107889-92ff-4f6e-92e2-2a777b959744\" type=\"checkbox\" ><label for=\"42107889-92ff-4f6e-92e2-2a777b959744\" class=\"sk-toggleable__label sk-toggleable__label-arrow\">quanti</label><div class=\"sk-toggleable__content\"><pre>[&#x27;index&#x27;, &#x27;SK_ID_CURR&#x27;, &#x27;CNT_CHILDREN&#x27;, &#x27;DAYS_BIRTH&#x27;, &#x27;DAYS_EMPLOYED&#x27;, &#x27;DAYS_REGISTRATION&#x27;, &#x27;DAYS_ID_PUBLISH&#x27;, &#x27;OWN_CAR_AGE&#x27;, &#x27;FLAG_MOBIL&#x27;, &#x27;FLAG_EMP_PHONE&#x27;, &#x27;FLAG_WORK_PHONE&#x27;, &#x27;FLAG_CONT_MOBILE&#x27;, &#x27;FLAG_PHONE&#x27;, &#x27;FLAG_EMAIL&#x27;, &#x27;CNT_FAM_MEMBERS&#x27;, &#x27;REGION_RATING_CLIENT&#x27;, &#x27;REGION_RATING_CLIENT_W_CITY&#x27;, &#x27;HOUR_APPR_PROCESS_START&#x27;, &#x27;REG_REGION_NOT_LIVE_REGION&#x27;, &#x27;REG_REGION_NOT_WORK_REGION&#x27;, &#x27;LIVE_REGION_NOT_WORK_REGION&#x27;, &#x27;REG_CITY_NOT_LIVE_CITY&#x27;, &#x27;REG_CITY_NOT_WORK_CITY&#x27;, &#x27;LIVE_CITY_NOT_WORK_CITY&#x27;, &#x27;OBS_30_CNT_SOCIAL_CIRCLE&#x27;, &#x27;DEF_30_CNT_SOCIAL_CIRCLE&#x27;, &#x27;OBS_60_CNT_SOCIAL_CIRCLE&#x27;, &#x27;DEF_60_CNT_SOCIAL_CIRCLE&#x27;, &#x27;DAYS_LAST_PHONE_CHANGE&#x27;, &#x27;FLAG_DOCUMENT_2&#x27;, &#x27;FLAG_DOCUMENT_3&#x27;, &#x27;FLAG_DOCUMENT_4&#x27;, &#x27;FLAG_DOCUMENT_5&#x27;, &#x27;FLAG_DOCUMENT_6&#x27;, &#x27;FLAG_DOCUMENT_7&#x27;, &#x27;FLAG_DOCUMENT_8&#x27;, &#x27;FLAG_DOCUMENT_9&#x27;, &#x27;FLAG_DOCUMENT_10&#x27;, &#x27;FLAG_DOCUMENT_11&#x27;, &#x27;FLAG_DOCUMENT_12&#x27;, &#x27;FLAG_DOCUMENT_13&#x27;, &#x27;FLAG_DOCUMENT_14&#x27;, &#x27;FLAG_DOCUMENT_15&#x27;, &#x27;FLAG_DOCUMENT_16&#x27;, &#x27;FLAG_DOCUMENT_17&#x27;, &#x27;FLAG_DOCUMENT_18&#x27;, &#x27;FLAG_DOCUMENT_19&#x27;, &#x27;FLAG_DOCUMENT_20&#x27;, &#x27;FLAG_DOCUMENT_21&#x27;, &#x27;AMT_REQ_CREDIT_BUREAU_HOUR&#x27;, &#x27;AMT_REQ_CREDIT_BUREAU_DAY&#x27;, &#x27;AMT_REQ_CREDIT_BUREAU_WEEK&#x27;, &#x27;AMT_REQ_CREDIT_BUREAU_MON&#x27;, &#x27;AMT_REQ_CREDIT_BUREAU_QRT&#x27;, &#x27;AMT_REQ_CREDIT_BUREAU_YEAR&#x27;, &#x27;BURO_DAYS_CREDIT_MIN&#x27;, &#x27;BURO_DAYS_CREDIT_MAX&#x27;, &#x27;BURO_DAYS_CREDIT_ENDDATE_MIN&#x27;, &#x27;BURO_DAYS_CREDIT_ENDDATE_MAX&#x27;, &#x27;BURO_CREDIT_DAY_OVERDUE_MAX&#x27;, &#x27;BURO_CNT_CREDIT_PROLONG_SUM&#x27;, &#x27;BURO_MONTHS_BALANCE_MIN_MIN&#x27;, &#x27;BURO_MONTHS_BALANCE_MAX_MAX&#x27;, &#x27;BURO_MONTHS_BALANCE_SIZE_SUM&#x27;, &#x27;BURO_CREDIT_ACTIVE_nan_MEAN&#x27;, &#x27;BURO_CREDIT_CURRENCY_nan_MEAN&#x27;, &#x27;BURO_CREDIT_TYPE_Mobile operator loan_MEAN&#x27;, &#x27;BURO_CREDIT_TYPE_nan_MEAN&#x27;, &#x27;BURO_STATUS_nan_MEAN_MEAN&#x27;, &#x27;ACTIVE_DAYS_CREDIT_MIN&#x27;, &#x27;ACTIVE_DAYS_CREDIT_MAX&#x27;, &#x27;ACTIVE_DAYS_CREDIT_ENDDATE_MIN&#x27;, &#x27;ACTIVE_DAYS_CREDIT_ENDDATE_MAX&#x27;, &#x27;ACTIVE_CREDIT_DAY_OVERDUE_MAX&#x27;, &#x27;ACTIVE_CNT_CREDIT_PROLONG_SUM&#x27;, &#x27;ACTIVE_MONTHS_BALANCE_MIN_MIN&#x27;, &#x27;ACTIVE_MONTHS_BALANCE_MAX_MAX&#x27;, &#x27;ACTIVE_MONTHS_BALANCE_SIZE_SUM&#x27;, &#x27;CLOSED_DAYS_CREDIT_MIN&#x27;, &#x27;CLOSED_DAYS_CREDIT_MAX&#x27;, &#x27;CLOSED_DAYS_CREDIT_ENDDATE_MIN&#x27;, &#x27;CLOSED_DAYS_CREDIT_ENDDATE_MAX&#x27;, &#x27;CLOSED_CREDIT_DAY_OVERDUE_MAX&#x27;, &#x27;CLOSED_CNT_CREDIT_PROLONG_SUM&#x27;, &#x27;CLOSED_MONTHS_BALANCE_MIN_MIN&#x27;, &#x27;CLOSED_MONTHS_BALANCE_MAX_MAX&#x27;, &#x27;CLOSED_MONTHS_BALANCE_SIZE_SUM&#x27;, &#x27;PREV_HOUR_APPR_PROCESS_START_MIN&#x27;, &#x27;PREV_HOUR_APPR_PROCESS_START_MAX&#x27;, &#x27;PREV_DAYS_DECISION_MIN&#x27;, &#x27;PREV_DAYS_DECISION_MAX&#x27;, &#x27;PREV_CNT_PAYMENT_SUM&#x27;, &#x27;PREV_NAME_CONTRACT_TYPE_nan_MEAN&#x27;, &#x27;PREV_WEEKDAY_APPR_PROCESS_START_nan_MEAN&#x27;, &#x27;PREV_FLAG_LAST_APPL_PER_CONTRACT_nan_MEAN&#x27;, &#x27;PREV_NAME_CASH_LOAN_PURPOSE_nan_MEAN&#x27;, &#x27;PREV_NAME_CONTRACT_STATUS_nan_MEAN&#x27;, &#x27;PREV_NAME_PAYMENT_TYPE_nan_MEAN&#x27;, &#x27;PREV_CODE_REJECT_REASON_nan_MEAN&#x27;, &#x27;PREV_NAME_CLIENT_TYPE_nan_MEAN&#x27;, &#x27;PREV_NAME_GOODS_CATEGORY_House Construction_MEAN&#x27;, &#x27;PREV_NAME_GOODS_CATEGORY_nan_MEAN&#x27;, &#x27;PREV_NAME_PORTFOLIO_nan_MEAN&#x27;, &#x27;PREV_NAME_PRODUCT_TYPE_nan_MEAN&#x27;, &#x27;PREV_CHANNEL_TYPE_nan_MEAN&#x27;, &#x27;PREV_NAME_SELLER_INDUSTRY_nan_MEAN&#x27;, &#x27;PREV_NAME_YIELD_GROUP_nan_MEAN&#x27;, &#x27;APPROVED_HOUR_APPR_PROCESS_START_MIN&#x27;, &#x27;APPROVED_HOUR_APPR_PROCESS_START_MAX&#x27;, &#x27;APPROVED_DAYS_DECISION_MIN&#x27;, &#x27;APPROVED_DAYS_DECISION_MAX&#x27;, &#x27;APPROVED_CNT_PAYMENT_SUM&#x27;, &#x27;REFUSED_HOUR_APPR_PROCESS_START_MIN&#x27;, &#x27;REFUSED_HOUR_APPR_PROCESS_START_MAX&#x27;, &#x27;REFUSED_DAYS_DECISION_MIN&#x27;, &#x27;REFUSED_DAYS_DECISION_MAX&#x27;, &#x27;REFUSED_CNT_PAYMENT_SUM&#x27;, &#x27;POS_MONTHS_BALANCE_MAX&#x27;, &#x27;POS_MONTHS_BALANCE_SIZE&#x27;, &#x27;POS_SK_DPD_MAX&#x27;, &#x27;POS_SK_DPD_DEF_MAX&#x27;, &#x27;POS_NAME_CONTRACT_STATUS_XNA_MEAN&#x27;, &#x27;POS_NAME_CONTRACT_STATUS_nan_MEAN&#x27;, &#x27;POS_COUNT&#x27;, &#x27;INSTAL_NUM_INSTALMENT_VERSION_NUNIQUE&#x27;, &#x27;INSTAL_DPD_MAX&#x27;, &#x27;INSTAL_DPD_SUM&#x27;, &#x27;INSTAL_DBD_MAX&#x27;, &#x27;INSTAL_DBD_SUM&#x27;, &#x27;INSTAL_DAYS_ENTRY_PAYMENT_MAX&#x27;, &#x27;INSTAL_DAYS_ENTRY_PAYMENT_SUM&#x27;, &#x27;INSTAL_COUNT&#x27;, &#x27;CC_MONTHS_BALANCE_MIN&#x27;, &#x27;CC_MONTHS_BALANCE_MAX&#x27;, &#x27;CC_MONTHS_BALANCE_SUM&#x27;, &#x27;CC_AMT_CREDIT_LIMIT_ACTUAL_MIN&#x27;, &#x27;CC_AMT_CREDIT_LIMIT_ACTUAL_MAX&#x27;, &#x27;CC_AMT_CREDIT_LIMIT_ACTUAL_SUM&#x27;, &#x27;CC_AMT_DRAWINGS_ATM_CURRENT_MIN&#x27;, &#x27;CC_AMT_DRAWINGS_OTHER_CURRENT_MIN&#x27;, &#x27;CC_CNT_DRAWINGS_ATM_CURRENT_MIN&#x27;, &#x27;CC_CNT_DRAWINGS_ATM_CURRENT_MAX&#x27;, &#x27;CC_CNT_DRAWINGS_ATM_CURRENT_SUM&#x27;, &#x27;CC_CNT_DRAWINGS_CURRENT_MIN&#x27;, &#x27;CC_CNT_DRAWINGS_CURRENT_MAX&#x27;, &#x27;CC_CNT_DRAWINGS_CURRENT_SUM&#x27;, &#x27;CC_CNT_DRAWINGS_OTHER_CURRENT_MIN&#x27;, &#x27;CC_CNT_DRAWINGS_OTHER_CURRENT_MAX&#x27;, &#x27;CC_CNT_DRAWINGS_OTHER_CURRENT_SUM&#x27;, &#x27;CC_CNT_DRAWINGS_POS_CURRENT_MIN&#x27;, &#x27;CC_CNT_DRAWINGS_POS_CURRENT_MAX&#x27;, &#x27;CC_CNT_DRAWINGS_POS_CURRENT_SUM&#x27;, &#x27;CC_CNT_INSTALMENT_MATURE_CUM_MIN&#x27;, &#x27;CC_CNT_INSTALMENT_MATURE_CUM_MAX&#x27;, &#x27;CC_CNT_INSTALMENT_MATURE_CUM_SUM&#x27;, &#x27;CC_SK_DPD_MIN&#x27;, &#x27;CC_SK_DPD_MAX&#x27;, &#x27;CC_SK_DPD_SUM&#x27;, &#x27;CC_SK_DPD_DEF_MIN&#x27;, &#x27;CC_SK_DPD_DEF_MAX&#x27;, &#x27;CC_SK_DPD_DEF_SUM&#x27;, &#x27;CC_NAME_CONTRACT_STATUS_Active_MIN&#x27;, &#x27;CC_NAME_CONTRACT_STATUS_Active_MAX&#x27;, &#x27;CC_NAME_CONTRACT_STATUS_Active_SUM&#x27;, &#x27;CC_NAME_CONTRACT_STATUS_Approved_MIN&#x27;, &#x27;CC_NAME_CONTRACT_STATUS_Approved_MAX&#x27;, &#x27;CC_NAME_CONTRACT_STATUS_Approved_SUM&#x27;, &#x27;CC_NAME_CONTRACT_STATUS_Completed_MIN&#x27;, &#x27;CC_NAME_CONTRACT_STATUS_Completed_MAX&#x27;, &#x27;CC_NAME_CONTRACT_STATUS_Completed_SUM&#x27;, &#x27;CC_NAME_CONTRACT_STATUS_Demand_MIN&#x27;, &#x27;CC_NAME_CONTRACT_STATUS_Demand_MAX&#x27;, &#x27;CC_NAME_CONTRACT_STATUS_Demand_SUM&#x27;, &#x27;CC_NAME_CONTRACT_STATUS_Refused_MIN&#x27;, &#x27;CC_NAME_CONTRACT_STATUS_Refused_MAX&#x27;, &#x27;CC_NAME_CONTRACT_STATUS_Refused_SUM&#x27;, &#x27;CC_NAME_CONTRACT_STATUS_Sent proposal_MIN&#x27;, &#x27;CC_NAME_CONTRACT_STATUS_Sent proposal_MAX&#x27;, &#x27;CC_NAME_CONTRACT_STATUS_Sent proposal_SUM&#x27;, &#x27;CC_NAME_CONTRACT_STATUS_Signed_MIN&#x27;, &#x27;CC_NAME_CONTRACT_STATUS_Signed_MAX&#x27;, &#x27;CC_NAME_CONTRACT_STATUS_Signed_SUM&#x27;, &#x27;CC_NAME_CONTRACT_STATUS_nan_MIN&#x27;, &#x27;CC_NAME_CONTRACT_STATUS_nan_MAX&#x27;, &#x27;CC_NAME_CONTRACT_STATUS_nan_MEAN&#x27;, &#x27;CC_NAME_CONTRACT_STATUS_nan_SUM&#x27;, &#x27;CC_NAME_CONTRACT_STATUS_nan_VAR&#x27;, &#x27;CC_COUNT&#x27;, &#x27;AMT_INCOME_TOTAL&#x27;, &#x27;AMT_CREDIT&#x27;, &#x27;AMT_ANNUITY&#x27;, &#x27;AMT_GOODS_PRICE&#x27;, &#x27;REGION_POPULATION_RELATIVE&#x27;, &#x27;EXT_SOURCE_1&#x27;, &#x27;EXT_SOURCE_2&#x27;, &#x27;EXT_SOURCE_3&#x27;, &#x27;APARTMENTS_AVG&#x27;, &#x27;BASEMENTAREA_AVG&#x27;, &#x27;YEARS_BEGINEXPLUATATION_AVG&#x27;, &#x27;YEARS_BUILD_AVG&#x27;, &#x27;COMMONAREA_AVG&#x27;, &#x27;ELEVATORS_AVG&#x27;, &#x27;ENTRANCES_AVG&#x27;, &#x27;FLOORSMAX_AVG&#x27;, &#x27;FLOORSMIN_AVG&#x27;, &#x27;LANDAREA_AVG&#x27;, &#x27;LIVINGAPARTMENTS_AVG&#x27;, &#x27;LIVINGAREA_AVG&#x27;, &#x27;NONLIVINGAPARTMENTS_AVG&#x27;, &#x27;NONLIVINGAREA_AVG&#x27;, &#x27;APARTMENTS_MODE&#x27;, &#x27;BASEMENTAREA_MODE&#x27;, &#x27;YEARS_BEGINEXPLUATATION_MODE&#x27;, &#x27;YEARS_BUILD_MODE&#x27;, &#x27;COMMONAREA_MODE&#x27;, &#x27;ELEVATORS_MODE&#x27;, &#x27;ENTRANCES_MODE&#x27;, &#x27;FLOORSMAX_MODE&#x27;, &#x27;FLOORSMIN_MODE&#x27;, &#x27;LANDAREA_MODE&#x27;, &#x27;LIVINGAPARTMENTS_MODE&#x27;, &#x27;LIVINGAREA_MODE&#x27;, &#x27;NONLIVINGAPARTMENTS_MODE&#x27;, &#x27;NONLIVINGAREA_MODE&#x27;, &#x27;APARTMENTS_MEDI&#x27;, &#x27;BASEMENTAREA_MEDI&#x27;, &#x27;YEARS_BEGINEXPLUATATION_MEDI&#x27;, &#x27;YEARS_BUILD_MEDI&#x27;, &#x27;COMMONAREA_MEDI&#x27;, &#x27;ELEVATORS_MEDI&#x27;, &#x27;ENTRANCES_MEDI&#x27;, &#x27;FLOORSMAX_MEDI&#x27;, &#x27;FLOORSMIN_MEDI&#x27;, &#x27;LANDAREA_MEDI&#x27;, &#x27;LIVINGAPARTMENTS_MEDI&#x27;, &#x27;LIVINGAREA_MEDI&#x27;, &#x27;NONLIVINGAPARTMENTS_MEDI&#x27;, &#x27;NONLIVINGAREA_MEDI&#x27;, &#x27;TOTALAREA_MODE&#x27;, &#x27;DAYS_EMPLOYED_PERC&#x27;, &#x27;INCOME_CREDIT_PERC&#x27;, &#x27;INCOME_PER_PERSON&#x27;, &#x27;ANNUITY_INCOME_PERC&#x27;, &#x27;PAYMENT_RATE&#x27;, &#x27;BURO_DAYS_CREDIT_MEAN&#x27;, &#x27;BURO_DAYS_CREDIT_VAR&#x27;, &#x27;BURO_DAYS_CREDIT_ENDDATE_MEAN&#x27;, &#x27;BURO_DAYS_CREDIT_UPDATE_MEAN&#x27;, &#x27;BURO_CREDIT_DAY_OVERDUE_MEAN&#x27;, &#x27;BURO_AMT_CREDIT_MAX_OVERDUE_MEAN&#x27;, &#x27;BURO_AMT_CREDIT_SUM_MAX&#x27;, &#x27;BURO_AMT_CREDIT_SUM_MEAN&#x27;, &#x27;BURO_AMT_CREDIT_SUM_SUM&#x27;, &#x27;BURO_AMT_CREDIT_SUM_DEBT_MAX&#x27;, &#x27;BURO_AMT_CREDIT_SUM_DEBT_MEAN&#x27;, &#x27;BURO_AMT_CREDIT_SUM_DEBT_SUM&#x27;, &#x27;BURO_AMT_CREDIT_SUM_OVERDUE_MEAN&#x27;, &#x27;BURO_AMT_CREDIT_SUM_LIMIT_MEAN&#x27;, &#x27;BURO_AMT_CREDIT_SUM_LIMIT_SUM&#x27;, &#x27;BURO_AMT_ANNUITY_MAX&#x27;, &#x27;BURO_AMT_ANNUITY_MEAN&#x27;, &#x27;BURO_MONTHS_BALANCE_SIZE_MEAN&#x27;, &#x27;BURO_CREDIT_ACTIVE_Active_MEAN&#x27;, &#x27;BURO_CREDIT_ACTIVE_Bad debt_MEAN&#x27;, &#x27;BURO_CREDIT_ACTIVE_Closed_MEAN&#x27;, &#x27;BURO_CREDIT_ACTIVE_Sold_MEAN&#x27;, &#x27;BURO_CREDIT_CURRENCY_currency 1_MEAN&#x27;, &#x27;BURO_CREDIT_CURRENCY_currency 2_MEAN&#x27;, &#x27;BURO_CREDIT_CURRENCY_currency 3_MEAN&#x27;, &#x27;BURO_CREDIT_CURRENCY_currency 4_MEAN&#x27;, &#x27;BURO_CREDIT_TYPE_Another type of loan_MEAN&#x27;, &#x27;BURO_CREDIT_TYPE_Car loan_MEAN&#x27;, &#x27;BURO_CREDIT_TYPE_Cash loan (non-earmarked)_MEAN&#x27;, &#x27;BURO_CREDIT_TYPE_Consumer credit_MEAN&#x27;, &#x27;BURO_CREDIT_TYPE_Credit card_MEAN&#x27;, &#x27;BURO_CREDIT_TYPE_Interbank credit_MEAN&#x27;, &#x27;BURO_CREDIT_TYPE_Loan for business development_MEAN&#x27;, &#x27;BURO_CREDIT_TYPE_Loan for purchase of shares (margin lending)_MEAN&#x27;, &#x27;BURO_CREDIT_TYPE_Loan for the purchase of equipment_MEAN&#x27;, &#x27;BURO_CREDIT_TYPE_Loan for working capital replenishment_MEAN&#x27;, &#x27;BURO_CREDIT_TYPE_Microloan_MEAN&#x27;, &#x27;BURO_CREDIT_TYPE_Mortgage_MEAN&#x27;, &#x27;BURO_CREDIT_TYPE_Real estate loan_MEAN&#x27;, &#x27;BURO_CREDIT_TYPE_Unknown type of loan_MEAN&#x27;, &#x27;BURO_STATUS_0_MEAN_MEAN&#x27;, &#x27;BURO_STATUS_1_MEAN_MEAN&#x27;, &#x27;BURO_STATUS_2_MEAN_MEAN&#x27;, &#x27;BURO_STATUS_3_MEAN_MEAN&#x27;, &#x27;BURO_STATUS_4_MEAN_MEAN&#x27;, &#x27;BURO_STATUS_5_MEAN_MEAN&#x27;, &#x27;BURO_STATUS_C_MEAN_MEAN&#x27;, &#x27;BURO_STATUS_X_MEAN_MEAN&#x27;, &#x27;ACTIVE_DAYS_CREDIT_MEAN&#x27;, &#x27;ACTIVE_DAYS_CREDIT_VAR&#x27;, &#x27;ACTIVE_DAYS_CREDIT_ENDDATE_MEAN&#x27;, &#x27;ACTIVE_DAYS_CREDIT_UPDATE_MEAN&#x27;, &#x27;ACTIVE_CREDIT_DAY_OVERDUE_MEAN&#x27;, &#x27;ACTIVE_AMT_CREDIT_MAX_OVERDUE_MEAN&#x27;, &#x27;ACTIVE_AMT_CREDIT_SUM_MAX&#x27;, &#x27;ACTIVE_AMT_CREDIT_SUM_MEAN&#x27;, &#x27;ACTIVE_AMT_CREDIT_SUM_SUM&#x27;, &#x27;ACTIVE_AMT_CREDIT_SUM_DEBT_MAX&#x27;, &#x27;ACTIVE_AMT_CREDIT_SUM_DEBT_MEAN&#x27;, &#x27;ACTIVE_AMT_CREDIT_SUM_DEBT_SUM&#x27;, &#x27;ACTIVE_AMT_CREDIT_SUM_OVERDUE_MEAN&#x27;, &#x27;ACTIVE_AMT_CREDIT_SUM_LIMIT_MEAN&#x27;, &#x27;ACTIVE_AMT_CREDIT_SUM_LIMIT_SUM&#x27;, &#x27;ACTIVE_AMT_ANNUITY_MAX&#x27;, &#x27;ACTIVE_AMT_ANNUITY_MEAN&#x27;, &#x27;ACTIVE_MONTHS_BALANCE_SIZE_MEAN&#x27;, &#x27;CLOSED_DAYS_CREDIT_MEAN&#x27;, &#x27;CLOSED_DAYS_CREDIT_VAR&#x27;, &#x27;CLOSED_DAYS_CREDIT_ENDDATE_MEAN&#x27;, &#x27;CLOSED_DAYS_CREDIT_UPDATE_MEAN&#x27;, &#x27;CLOSED_CREDIT_DAY_OVERDUE_MEAN&#x27;, &#x27;CLOSED_AMT_CREDIT_MAX_OVERDUE_MEAN&#x27;, &#x27;CLOSED_AMT_CREDIT_SUM_MAX&#x27;, &#x27;CLOSED_AMT_CREDIT_SUM_MEAN&#x27;, &#x27;CLOSED_AMT_CREDIT_SUM_SUM&#x27;, &#x27;CLOSED_AMT_CREDIT_SUM_DEBT_MAX&#x27;, &#x27;CLOSED_AMT_CREDIT_SUM_DEBT_MEAN&#x27;, &#x27;CLOSED_AMT_CREDIT_SUM_DEBT_SUM&#x27;, &#x27;CLOSED_AMT_CREDIT_SUM_OVERDUE_MEAN&#x27;, &#x27;CLOSED_AMT_CREDIT_SUM_LIMIT_MEAN&#x27;, &#x27;CLOSED_AMT_CREDIT_SUM_LIMIT_SUM&#x27;, &#x27;CLOSED_AMT_ANNUITY_MAX&#x27;, &#x27;CLOSED_AMT_ANNUITY_MEAN&#x27;, &#x27;CLOSED_MONTHS_BALANCE_SIZE_MEAN&#x27;, &#x27;PREV_AMT_ANNUITY_MIN&#x27;, &#x27;PREV_AMT_ANNUITY_MAX&#x27;, &#x27;PREV_AMT_ANNUITY_MEAN&#x27;, &#x27;PREV_AMT_APPLICATION_MIN&#x27;, &#x27;PREV_AMT_APPLICATION_MAX&#x27;, &#x27;PREV_AMT_APPLICATION_MEAN&#x27;, &#x27;PREV_AMT_CREDIT_MIN&#x27;, &#x27;PREV_AMT_CREDIT_MAX&#x27;, &#x27;PREV_AMT_CREDIT_MEAN&#x27;, &#x27;PREV_APP_CREDIT_PERC_MIN&#x27;, &#x27;PREV_APP_CREDIT_PERC_MAX&#x27;, &#x27;PREV_APP_CREDIT_PERC_MEAN&#x27;, &#x27;PREV_APP_CREDIT_PERC_VAR&#x27;, &#x27;PREV_AMT_DOWN_PAYMENT_MIN&#x27;, &#x27;PREV_AMT_DOWN_PAYMENT_MAX&#x27;, &#x27;PREV_AMT_DOWN_PAYMENT_MEAN&#x27;, &#x27;PREV_AMT_GOODS_PRICE_MIN&#x27;, &#x27;PREV_AMT_GOODS_PRICE_MAX&#x27;, &#x27;PREV_AMT_GOODS_PRICE_MEAN&#x27;, &#x27;PREV_HOUR_APPR_PROCESS_START_MEAN&#x27;, &#x27;PREV_RATE_DOWN_PAYMENT_MIN&#x27;, &#x27;PREV_RATE_DOWN_PAYMENT_MAX&#x27;, &#x27;PREV_RATE_DOWN_PAYMENT_MEAN&#x27;, &#x27;PREV_DAYS_DECISION_MEAN&#x27;, &#x27;PREV_CNT_PAYMENT_MEAN&#x27;, &#x27;PREV_NAME_CONTRACT_TYPE_Cash loans_MEAN&#x27;, &#x27;PREV_NAME_CONTRACT_TYPE_Consumer loans_MEAN&#x27;, &#x27;PREV_NAME_CONTRACT_TYPE_Revolving loans_MEAN&#x27;, &#x27;PREV_NAME_CONTRACT_TYPE_XNA_MEAN&#x27;, &#x27;PREV_WEEKDAY_APPR_PROCESS_START_FRIDAY_MEAN&#x27;, &#x27;PREV_WEEKDAY_APPR_PROCESS_START_MONDAY_MEAN&#x27;, &#x27;PREV_WEEKDAY_APPR_PROCESS_START_SATURDAY_MEAN&#x27;, &#x27;PREV_WEEKDAY_APPR_PROCESS_START_SUNDAY_MEAN&#x27;, &#x27;PREV_WEEKDAY_APPR_PROCESS_START_THURSDAY_MEAN&#x27;, &#x27;PREV_WEEKDAY_APPR_PROCESS_START_TUESDAY_MEAN&#x27;, &#x27;PREV_WEEKDAY_APPR_PROCESS_START_WEDNESDAY_MEAN&#x27;, &#x27;PREV_FLAG_LAST_APPL_PER_CONTRACT_N_MEAN&#x27;, &#x27;PREV_FLAG_LAST_APPL_PER_CONTRACT_Y_MEAN&#x27;, &#x27;PREV_NAME_CASH_LOAN_PURPOSE_Building a house or an annex_MEAN&#x27;, &#x27;PREV_NAME_CASH_LOAN_PURPOSE_Business development_MEAN&#x27;, &#x27;PREV_NAME_CASH_LOAN_PURPOSE_Buying a garage_MEAN&#x27;, &#x27;PREV_NAME_CASH_LOAN_PURPOSE_Buying a holiday home / land_MEAN&#x27;, &#x27;PREV_NAME_CASH_LOAN_PURPOSE_Buying a home_MEAN&#x27;, &#x27;PREV_NAME_CASH_LOAN_PURPOSE_Buying a new car_MEAN&#x27;, &#x27;PREV_NAME_CASH_LOAN_PURPOSE_Buying a used car_MEAN&#x27;, &#x27;PREV_NAME_CASH_LOAN_PURPOSE_Car repairs_MEAN&#x27;, &#x27;PREV_NAME_CASH_LOAN_PURPOSE_Education_MEAN&#x27;, &#x27;PREV_NAME_CASH_LOAN_PURPOSE_Everyday expenses_MEAN&#x27;, &#x27;PREV_NAME_CASH_LOAN_PURPOSE_Furniture_MEAN&#x27;, &#x27;PREV_NAME_CASH_LOAN_PURPOSE_Gasification / water supply_MEAN&#x27;, &#x27;PREV_NAME_CASH_LOAN_PURPOSE_Hobby_MEAN&#x27;, &#x27;PREV_NAME_CASH_LOAN_PURPOSE_Journey_MEAN&#x27;, &#x27;PREV_NAME_CASH_LOAN_PURPOSE_Medicine_MEAN&#x27;, &#x27;PREV_NAME_CASH_LOAN_PURPOSE_Money for a third person_MEAN&#x27;, &#x27;PREV_NAME_CASH_LOAN_PURPOSE_Other_MEAN&#x27;, &#x27;PREV_NAME_CASH_LOAN_PURPOSE_Payments on other loans_MEAN&#x27;, &#x27;PREV_NAME_CASH_LOAN_PURPOSE_Purchase of electronic equipment_MEAN&#x27;, &#x27;PREV_NAME_CASH_LOAN_PURPOSE_Refusal to name the goal_MEAN&#x27;, &#x27;PREV_NAME_CASH_LOAN_PURPOSE_Repairs_MEAN&#x27;, &#x27;PREV_NAME_CASH_LOAN_PURPOSE_Urgent needs_MEAN&#x27;, &#x27;PREV_NAME_CASH_LOAN_PURPOSE_Wedding / gift / holiday_MEAN&#x27;, &#x27;PREV_NAME_CASH_LOAN_PURPOSE_XAP_MEAN&#x27;, &#x27;PREV_NAME_CASH_LOAN_PURPOSE_XNA_MEAN&#x27;, &#x27;PREV_NAME_CONTRACT_STATUS_Approved_MEAN&#x27;, &#x27;PREV_NAME_CONTRACT_STATUS_Canceled_MEAN&#x27;, &#x27;PREV_NAME_CONTRACT_STATUS_Refused_MEAN&#x27;, &#x27;PREV_NAME_CONTRACT_STATUS_Unused offer_MEAN&#x27;, &#x27;PREV_NAME_PAYMENT_TYPE_Cash through the bank_MEAN&#x27;, &#x27;PREV_NAME_PAYMENT_TYPE_Cashless from the account of the employer_MEAN&#x27;, &#x27;PREV_NAME_PAYMENT_TYPE_Non-cash from your account_MEAN&#x27;, &#x27;PREV_NAME_PAYMENT_TYPE_XNA_MEAN&#x27;, &#x27;PREV_CODE_REJECT_REASON_CLIENT_MEAN&#x27;, &#x27;PREV_CODE_REJECT_REASON_HC_MEAN&#x27;, &#x27;PREV_CODE_REJECT_REASON_LIMIT_MEAN&#x27;, &#x27;PREV_CODE_REJECT_REASON_SCO_MEAN&#x27;, &#x27;PREV_CODE_REJECT_REASON_SCOFR_MEAN&#x27;, &#x27;PREV_CODE_REJECT_REASON_SYSTEM_MEAN&#x27;, &#x27;PREV_CODE_REJECT_REASON_VERIF_MEAN&#x27;, &#x27;PREV_CODE_REJECT_REASON_XAP_MEAN&#x27;, &#x27;PREV_CODE_REJECT_REASON_XNA_MEAN&#x27;, &#x27;PREV_NAME_TYPE_SUITE_Children_MEAN&#x27;, &#x27;PREV_NAME_TYPE_SUITE_Family_MEAN&#x27;, &#x27;PREV_NAME_TYPE_SUITE_Group of people_MEAN&#x27;, &#x27;PREV_NAME_TYPE_SUITE_Other_A_MEAN&#x27;, &#x27;PREV_NAME_TYPE_SUITE_Other_B_MEAN&#x27;, &#x27;PREV_NAME_TYPE_SUITE_Spouse, partner_MEAN&#x27;, &#x27;PREV_NAME_TYPE_SUITE_Unaccompanied_MEAN&#x27;, &#x27;PREV_NAME_TYPE_SUITE_nan_MEAN&#x27;, &#x27;PREV_NAME_CLIENT_TYPE_New_MEAN&#x27;, &#x27;PREV_NAME_CLIENT_TYPE_Refreshed_MEAN&#x27;, &#x27;PREV_NAME_CLIENT_TYPE_Repeater_MEAN&#x27;, &#x27;PREV_NAME_CLIENT_TYPE_XNA_MEAN&#x27;, &#x27;PREV_NAME_GOODS_CATEGORY_Additional Service_MEAN&#x27;, &#x27;PREV_NAME_GOODS_CATEGORY_Animals_MEAN&#x27;, &#x27;PREV_NAME_GOODS_CATEGORY_Audio/Video_MEAN&#x27;, &#x27;PREV_NAME_GOODS_CATEGORY_Auto Accessories_MEAN&#x27;, &#x27;PREV_NAME_GOODS_CATEGORY_Clothing and Accessories_MEAN&#x27;, &#x27;PREV_NAME_GOODS_CATEGORY_Computers_MEAN&#x27;, &#x27;PREV_NAME_GOODS_CATEGORY_Construction Materials_MEAN&#x27;, &#x27;PREV_NAME_GOODS_CATEGORY_Consumer Electronics_MEAN&#x27;, &#x27;PREV_NAME_GOODS_CATEGORY_Direct Sales_MEAN&#x27;, &#x27;PREV_NAME_GOODS_CATEGORY_Education_MEAN&#x27;, &#x27;PREV_NAME_GOODS_CATEGORY_Fitness_MEAN&#x27;, &#x27;PREV_NAME_GOODS_CATEGORY_Furniture_MEAN&#x27;, &#x27;PREV_NAME_GOODS_CATEGORY_Gardening_MEAN&#x27;, &#x27;PREV_NAME_GOODS_CATEGORY_Homewares_MEAN&#x27;, &#x27;PREV_NAME_GOODS_CATEGORY_Insurance_MEAN&#x27;, &#x27;PREV_NAME_GOODS_CATEGORY_Jewelry_MEAN&#x27;, &#x27;PREV_NAME_GOODS_CATEGORY_Medical Supplies_MEAN&#x27;, &#x27;PREV_NAME_GOODS_CATEGORY_Medicine_MEAN&#x27;, &#x27;PREV_NAME_GOODS_CATEGORY_Mobile_MEAN&#x27;, &#x27;PREV_NAME_GOODS_CATEGORY_Office Appliances_MEAN&#x27;, &#x27;PREV_NAME_GOODS_CATEGORY_Other_MEAN&#x27;, &#x27;PREV_NAME_GOODS_CATEGORY_Photo / Cinema Equipment_MEAN&#x27;, &#x27;PREV_NAME_GOODS_CATEGORY_Sport and Leisure_MEAN&#x27;, &#x27;PREV_NAME_GOODS_CATEGORY_Tourism_MEAN&#x27;, &#x27;PREV_NAME_GOODS_CATEGORY_Vehicles_MEAN&#x27;, &#x27;PREV_NAME_GOODS_CATEGORY_Weapon_MEAN&#x27;, &#x27;PREV_NAME_GOODS_CATEGORY_XNA_MEAN&#x27;, &#x27;PREV_NAME_PORTFOLIO_Cards_MEAN&#x27;, &#x27;PREV_NAME_PORTFOLIO_Cars_MEAN&#x27;, &#x27;PREV_NAME_PORTFOLIO_Cash_MEAN&#x27;, &#x27;PREV_NAME_PORTFOLIO_POS_MEAN&#x27;, &#x27;PREV_NAME_PORTFOLIO_XNA_MEAN&#x27;, &#x27;PREV_NAME_PRODUCT_TYPE_XNA_MEAN&#x27;, &#x27;PREV_NAME_PRODUCT_TYPE_walk-in_MEAN&#x27;, &#x27;PREV_NAME_PRODUCT_TYPE_x-sell_MEAN&#x27;, &#x27;PREV_CHANNEL_TYPE_AP+ (Cash loan)_MEAN&#x27;, &#x27;PREV_CHANNEL_TYPE_Car dealer_MEAN&#x27;, &#x27;PREV_CHANNEL_TYPE_Channel of corporate sales_MEAN&#x27;, &#x27;PREV_CHANNEL_TYPE_Contact center_MEAN&#x27;, &#x27;PREV_CHANNEL_TYPE_Country-wide_MEAN&#x27;, &#x27;PREV_CHANNEL_TYPE_Credit and cash offices_MEAN&#x27;, &#x27;PREV_CHANNEL_TYPE_Regional / Local_MEAN&#x27;, &#x27;PREV_CHANNEL_TYPE_Stone_MEAN&#x27;, &#x27;PREV_NAME_SELLER_INDUSTRY_Auto technology_MEAN&#x27;, &#x27;PREV_NAME_SELLER_INDUSTRY_Clothing_MEAN&#x27;, &#x27;PREV_NAME_SELLER_INDUSTRY_Connectivity_MEAN&#x27;, &#x27;PREV_NAME_SELLER_INDUSTRY_Construction_MEAN&#x27;, &#x27;PREV_NAME_SELLER_INDUSTRY_Consumer electronics_MEAN&#x27;, &#x27;PREV_NAME_SELLER_INDUSTRY_Furniture_MEAN&#x27;, &#x27;PREV_NAME_SELLER_INDUSTRY_Industry_MEAN&#x27;, &#x27;PREV_NAME_SELLER_INDUSTRY_Jewelry_MEAN&#x27;, &#x27;PREV_NAME_SELLER_INDUSTRY_MLM partners_MEAN&#x27;, &#x27;PREV_NAME_SELLER_INDUSTRY_Tourism_MEAN&#x27;, &#x27;PREV_NAME_SELLER_INDUSTRY_XNA_MEAN&#x27;, &#x27;PREV_NAME_YIELD_GROUP_XNA_MEAN&#x27;, &#x27;PREV_NAME_YIELD_GROUP_high_MEAN&#x27;, &#x27;PREV_NAME_YIELD_GROUP_low_action_MEAN&#x27;, &#x27;PREV_NAME_YIELD_GROUP_low_normal_MEAN&#x27;, &#x27;PREV_NAME_YIELD_GROUP_middle_MEAN&#x27;, &#x27;PREV_PRODUCT_COMBINATION_Card Street_MEAN&#x27;, &#x27;PREV_PRODUCT_COMBINATION_Card X-Sell_MEAN&#x27;, &#x27;PREV_PRODUCT_COMBINATION_Cash_MEAN&#x27;, &#x27;PREV_PRODUCT_COMBINATION_Cash Street: high_MEAN&#x27;, &#x27;PREV_PRODUCT_COMBINATION_Cash Street: low_MEAN&#x27;, &#x27;PREV_PRODUCT_COMBINATION_Cash Street: middle_MEAN&#x27;, &#x27;PREV_PRODUCT_COMBINATION_Cash X-Sell: high_MEAN&#x27;, &#x27;PREV_PRODUCT_COMBINATION_Cash X-Sell: low_MEAN&#x27;, &#x27;PREV_PRODUCT_COMBINATION_Cash X-Sell: middle_MEAN&#x27;, &#x27;PREV_PRODUCT_COMBINATION_POS household with interest_MEAN&#x27;, &#x27;PREV_PRODUCT_COMBINATION_POS household without interest_MEAN&#x27;, &#x27;PREV_PRODUCT_COMBINATION_POS industry with interest_MEAN&#x27;, &#x27;PREV_PRODUCT_COMBINATION_POS industry without interest_MEAN&#x27;, &#x27;PREV_PRODUCT_COMBINATION_POS mobile with interest_MEAN&#x27;, &#x27;PREV_PRODUCT_COMBINATION_POS mobile without interest_MEAN&#x27;, &#x27;PREV_PRODUCT_COMBINATION_POS other with interest_MEAN&#x27;, &#x27;PREV_PRODUCT_COMBINATION_POS others without interest_MEAN&#x27;, &#x27;PREV_PRODUCT_COMBINATION_nan_MEAN&#x27;, &#x27;APPROVED_AMT_ANNUITY_MIN&#x27;, &#x27;APPROVED_AMT_ANNUITY_MAX&#x27;, &#x27;APPROVED_AMT_ANNUITY_MEAN&#x27;, &#x27;APPROVED_AMT_APPLICATION_MIN&#x27;, &#x27;APPROVED_AMT_APPLICATION_MAX&#x27;, &#x27;APPROVED_AMT_APPLICATION_MEAN&#x27;, &#x27;APPROVED_AMT_CREDIT_MIN&#x27;, &#x27;APPROVED_AMT_CREDIT_MAX&#x27;, &#x27;APPROVED_AMT_CREDIT_MEAN&#x27;, &#x27;APPROVED_APP_CREDIT_PERC_MIN&#x27;, &#x27;APPROVED_APP_CREDIT_PERC_MAX&#x27;, &#x27;APPROVED_APP_CREDIT_PERC_MEAN&#x27;, &#x27;APPROVED_APP_CREDIT_PERC_VAR&#x27;, &#x27;APPROVED_AMT_DOWN_PAYMENT_MIN&#x27;, &#x27;APPROVED_AMT_DOWN_PAYMENT_MAX&#x27;, &#x27;APPROVED_AMT_DOWN_PAYMENT_MEAN&#x27;, &#x27;APPROVED_AMT_GOODS_PRICE_MIN&#x27;, &#x27;APPROVED_AMT_GOODS_PRICE_MAX&#x27;, &#x27;APPROVED_AMT_GOODS_PRICE_MEAN&#x27;, &#x27;APPROVED_HOUR_APPR_PROCESS_START_MEAN&#x27;, &#x27;APPROVED_RATE_DOWN_PAYMENT_MIN&#x27;, &#x27;APPROVED_RATE_DOWN_PAYMENT_MAX&#x27;, &#x27;APPROVED_RATE_DOWN_PAYMENT_MEAN&#x27;, &#x27;APPROVED_DAYS_DECISION_MEAN&#x27;, &#x27;APPROVED_CNT_PAYMENT_MEAN&#x27;, &#x27;REFUSED_AMT_ANNUITY_MIN&#x27;, &#x27;REFUSED_AMT_ANNUITY_MAX&#x27;, &#x27;REFUSED_AMT_ANNUITY_MEAN&#x27;, &#x27;REFUSED_AMT_APPLICATION_MIN&#x27;, &#x27;REFUSED_AMT_APPLICATION_MAX&#x27;, &#x27;REFUSED_AMT_APPLICATION_MEAN&#x27;, &#x27;REFUSED_AMT_CREDIT_MIN&#x27;, &#x27;REFUSED_AMT_CREDIT_MAX&#x27;, &#x27;REFUSED_AMT_CREDIT_MEAN&#x27;, &#x27;REFUSED_APP_CREDIT_PERC_MIN&#x27;, &#x27;REFUSED_APP_CREDIT_PERC_MAX&#x27;, &#x27;REFUSED_APP_CREDIT_PERC_MEAN&#x27;, &#x27;REFUSED_APP_CREDIT_PERC_VAR&#x27;, &#x27;REFUSED_AMT_DOWN_PAYMENT_MIN&#x27;, &#x27;REFUSED_AMT_DOWN_PAYMENT_MAX&#x27;, &#x27;REFUSED_AMT_DOWN_PAYMENT_MEAN&#x27;, &#x27;REFUSED_AMT_GOODS_PRICE_MIN&#x27;, &#x27;REFUSED_AMT_GOODS_PRICE_MAX&#x27;, &#x27;REFUSED_AMT_GOODS_PRICE_MEAN&#x27;, &#x27;REFUSED_HOUR_APPR_PROCESS_START_MEAN&#x27;, &#x27;REFUSED_RATE_DOWN_PAYMENT_MIN&#x27;, &#x27;REFUSED_RATE_DOWN_PAYMENT_MAX&#x27;, &#x27;REFUSED_RATE_DOWN_PAYMENT_MEAN&#x27;, &#x27;REFUSED_DAYS_DECISION_MEAN&#x27;, &#x27;REFUSED_CNT_PAYMENT_MEAN&#x27;, &#x27;POS_MONTHS_BALANCE_MEAN&#x27;, &#x27;POS_SK_DPD_MEAN&#x27;, &#x27;POS_SK_DPD_DEF_MEAN&#x27;, &#x27;POS_NAME_CONTRACT_STATUS_Active_MEAN&#x27;, &#x27;POS_NAME_CONTRACT_STATUS_Amortized debt_MEAN&#x27;, &#x27;POS_NAME_CONTRACT_STATUS_Approved_MEAN&#x27;, &#x27;POS_NAME_CONTRACT_STATUS_Canceled_MEAN&#x27;, &#x27;POS_NAME_CONTRACT_STATUS_Completed_MEAN&#x27;, &#x27;POS_NAME_CONTRACT_STATUS_Demand_MEAN&#x27;, &#x27;POS_NAME_CONTRACT_STATUS_Returned to the store_MEAN&#x27;, &#x27;POS_NAME_CONTRACT_STATUS_Signed_MEAN&#x27;, &#x27;INSTAL_DPD_MEAN&#x27;, &#x27;INSTAL_DBD_MEAN&#x27;, &#x27;INSTAL_PAYMENT_PERC_MAX&#x27;, &#x27;INSTAL_PAYMENT_PERC_MEAN&#x27;, &#x27;INSTAL_PAYMENT_PERC_SUM&#x27;, &#x27;INSTAL_PAYMENT_PERC_VAR&#x27;, &#x27;INSTAL_PAYMENT_DIFF_MAX&#x27;, &#x27;INSTAL_PAYMENT_DIFF_MEAN&#x27;, &#x27;INSTAL_PAYMENT_DIFF_SUM&#x27;, &#x27;INSTAL_PAYMENT_DIFF_VAR&#x27;, &#x27;INSTAL_AMT_INSTALMENT_MAX&#x27;, &#x27;INSTAL_AMT_INSTALMENT_MEAN&#x27;, &#x27;INSTAL_AMT_INSTALMENT_SUM&#x27;, &#x27;INSTAL_AMT_PAYMENT_MIN&#x27;, &#x27;INSTAL_AMT_PAYMENT_MAX&#x27;, &#x27;INSTAL_AMT_PAYMENT_MEAN&#x27;, &#x27;INSTAL_AMT_PAYMENT_SUM&#x27;, &#x27;INSTAL_DAYS_ENTRY_PAYMENT_MEAN&#x27;, &#x27;CC_MONTHS_BALANCE_MEAN&#x27;, &#x27;CC_MONTHS_BALANCE_VAR&#x27;, &#x27;CC_AMT_BALANCE_MIN&#x27;, &#x27;CC_AMT_BALANCE_MAX&#x27;, &#x27;CC_AMT_BALANCE_MEAN&#x27;, &#x27;CC_AMT_BALANCE_SUM&#x27;, &#x27;CC_AMT_BALANCE_VAR&#x27;, &#x27;CC_AMT_CREDIT_LIMIT_ACTUAL_MEAN&#x27;, &#x27;CC_AMT_CREDIT_LIMIT_ACTUAL_VAR&#x27;, &#x27;CC_AMT_DRAWINGS_ATM_CURRENT_MAX&#x27;, &#x27;CC_AMT_DRAWINGS_ATM_CURRENT_MEAN&#x27;, &#x27;CC_AMT_DRAWINGS_ATM_CURRENT_SUM&#x27;, &#x27;CC_AMT_DRAWINGS_ATM_CURRENT_VAR&#x27;, &#x27;CC_AMT_DRAWINGS_CURRENT_MIN&#x27;, &#x27;CC_AMT_DRAWINGS_CURRENT_MAX&#x27;, &#x27;CC_AMT_DRAWINGS_CURRENT_MEAN&#x27;, &#x27;CC_AMT_DRAWINGS_CURRENT_SUM&#x27;, &#x27;CC_AMT_DRAWINGS_CURRENT_VAR&#x27;, &#x27;CC_AMT_DRAWINGS_OTHER_CURRENT_MAX&#x27;, &#x27;CC_AMT_DRAWINGS_OTHER_CURRENT_MEAN&#x27;, &#x27;CC_AMT_DRAWINGS_OTHER_CURRENT_SUM&#x27;, &#x27;CC_AMT_DRAWINGS_OTHER_CURRENT_VAR&#x27;, &#x27;CC_AMT_DRAWINGS_POS_CURRENT_MIN&#x27;, &#x27;CC_AMT_DRAWINGS_POS_CURRENT_MAX&#x27;, &#x27;CC_AMT_DRAWINGS_POS_CURRENT_MEAN&#x27;, &#x27;CC_AMT_DRAWINGS_POS_CURRENT_SUM&#x27;, &#x27;CC_AMT_DRAWINGS_POS_CURRENT_VAR&#x27;, &#x27;CC_AMT_INST_MIN_REGULARITY_MIN&#x27;, &#x27;CC_AMT_INST_MIN_REGULARITY_MAX&#x27;, &#x27;CC_AMT_INST_MIN_REGULARITY_MEAN&#x27;, &#x27;CC_AMT_INST_MIN_REGULARITY_SUM&#x27;, &#x27;CC_AMT_INST_MIN_REGULARITY_VAR&#x27;, &#x27;CC_AMT_PAYMENT_CURRENT_MIN&#x27;, &#x27;CC_AMT_PAYMENT_CURRENT_MAX&#x27;, &#x27;CC_AMT_PAYMENT_CURRENT_MEAN&#x27;, &#x27;CC_AMT_PAYMENT_CURRENT_SUM&#x27;, &#x27;CC_AMT_PAYMENT_CURRENT_VAR&#x27;, &#x27;CC_AMT_PAYMENT_TOTAL_CURRENT_MIN&#x27;, &#x27;CC_AMT_PAYMENT_TOTAL_CURRENT_MAX&#x27;, &#x27;CC_AMT_PAYMENT_TOTAL_CURRENT_MEAN&#x27;, &#x27;CC_AMT_PAYMENT_TOTAL_CURRENT_SUM&#x27;, &#x27;CC_AMT_PAYMENT_TOTAL_CURRENT_VAR&#x27;, &#x27;CC_AMT_RECEIVABLE_PRINCIPAL_MIN&#x27;, &#x27;CC_AMT_RECEIVABLE_PRINCIPAL_MAX&#x27;, &#x27;CC_AMT_RECEIVABLE_PRINCIPAL_MEAN&#x27;, &#x27;CC_AMT_RECEIVABLE_PRINCIPAL_SUM&#x27;, &#x27;CC_AMT_RECEIVABLE_PRINCIPAL_VAR&#x27;, &#x27;CC_AMT_RECIVABLE_MIN&#x27;, &#x27;CC_AMT_RECIVABLE_MAX&#x27;, &#x27;CC_AMT_RECIVABLE_MEAN&#x27;, &#x27;CC_AMT_RECIVABLE_SUM&#x27;, &#x27;CC_AMT_RECIVABLE_VAR&#x27;, &#x27;CC_AMT_TOTAL_RECEIVABLE_MIN&#x27;, &#x27;CC_AMT_TOTAL_RECEIVABLE_MAX&#x27;, &#x27;CC_AMT_TOTAL_RECEIVABLE_MEAN&#x27;, &#x27;CC_AMT_TOTAL_RECEIVABLE_SUM&#x27;, &#x27;CC_AMT_TOTAL_RECEIVABLE_VAR&#x27;, &#x27;CC_CNT_DRAWINGS_ATM_CURRENT_MEAN&#x27;, &#x27;CC_CNT_DRAWINGS_ATM_CURRENT_VAR&#x27;, &#x27;CC_CNT_DRAWINGS_CURRENT_MEAN&#x27;, &#x27;CC_CNT_DRAWINGS_CURRENT_VAR&#x27;, &#x27;CC_CNT_DRAWINGS_OTHER_CURRENT_MEAN&#x27;, &#x27;CC_CNT_DRAWINGS_OTHER_CURRENT_VAR&#x27;, &#x27;CC_CNT_DRAWINGS_POS_CURRENT_MEAN&#x27;, &#x27;CC_CNT_DRAWINGS_POS_CURRENT_VAR&#x27;, &#x27;CC_CNT_INSTALMENT_MATURE_CUM_MEAN&#x27;, &#x27;CC_CNT_INSTALMENT_MATURE_CUM_VAR&#x27;, &#x27;CC_SK_DPD_MEAN&#x27;, &#x27;CC_SK_DPD_VAR&#x27;, &#x27;CC_SK_DPD_DEF_MEAN&#x27;, &#x27;CC_SK_DPD_DEF_VAR&#x27;, &#x27;CC_NAME_CONTRACT_STATUS_Active_MEAN&#x27;, &#x27;CC_NAME_CONTRACT_STATUS_Active_VAR&#x27;, &#x27;CC_NAME_CONTRACT_STATUS_Approved_MEAN&#x27;, &#x27;CC_NAME_CONTRACT_STATUS_Approved_VAR&#x27;, &#x27;CC_NAME_CONTRACT_STATUS_Completed_MEAN&#x27;, &#x27;CC_NAME_CONTRACT_STATUS_Completed_VAR&#x27;, &#x27;CC_NAME_CONTRACT_STATUS_Demand_MEAN&#x27;, &#x27;CC_NAME_CONTRACT_STATUS_Demand_VAR&#x27;, &#x27;CC_NAME_CONTRACT_STATUS_Refused_MEAN&#x27;, &#x27;CC_NAME_CONTRACT_STATUS_Refused_VAR&#x27;, &#x27;CC_NAME_CONTRACT_STATUS_Sent proposal_MEAN&#x27;, &#x27;CC_NAME_CONTRACT_STATUS_Sent proposal_VAR&#x27;, &#x27;CC_NAME_CONTRACT_STATUS_Signed_MEAN&#x27;, &#x27;CC_NAME_CONTRACT_STATUS_Signed_VAR&#x27;]</pre></div></div></div><div class=\"sk-serial\"><div class=\"sk-item\"><div class=\"sk-serial\"><div class=\"sk-item\"><div class=\"sk-estimator sk-toggleable\"><input class=\"sk-toggleable__control sk-hidden--visually\" id=\"522ffbc9-dbe5-49a8-b8ad-b76d0bf89f63\" type=\"checkbox\" ><label for=\"522ffbc9-dbe5-49a8-b8ad-b76d0bf89f63\" class=\"sk-toggleable__label sk-toggleable__label-arrow\">SimpleImputer</label><div class=\"sk-toggleable__content\"><pre>SimpleImputer(strategy=&#x27;median&#x27;)</pre></div></div></div><div class=\"sk-item\"><div class=\"sk-estimator sk-toggleable\"><input class=\"sk-toggleable__control sk-hidden--visually\" id=\"02797755-1985-42b8-9c65-ba662dcfbfec\" type=\"checkbox\" ><label for=\"02797755-1985-42b8-9c65-ba662dcfbfec\" class=\"sk-toggleable__label sk-toggleable__label-arrow\">RobustScaler</label><div class=\"sk-toggleable__content\"><pre>RobustScaler()</pre></div></div></div></div></div></div></div></div><div class=\"sk-parallel-item\"><div class=\"sk-item\"><div class=\"sk-label-container\"><div class=\"sk-label sk-toggleable\"><input class=\"sk-toggleable__control sk-hidden--visually\" id=\"34973068-713a-4b25-ae03-5451ead970e2\" type=\"checkbox\" ><label for=\"34973068-713a-4b25-ae03-5451ead970e2\" class=\"sk-toggleable__label sk-toggleable__label-arrow\">quali</label><div class=\"sk-toggleable__content\"><pre>[&#x27;NAME_CONTRACT_TYPE&#x27;, &#x27;CODE_GENDER&#x27;, &#x27;FLAG_OWN_CAR&#x27;, &#x27;FLAG_OWN_REALTY&#x27;, &#x27;NAME_TYPE_SUITE&#x27;, &#x27;NAME_INCOME_TYPE&#x27;, &#x27;NAME_EDUCATION_TYPE&#x27;, &#x27;NAME_FAMILY_STATUS&#x27;, &#x27;NAME_HOUSING_TYPE&#x27;, &#x27;OCCUPATION_TYPE&#x27;, &#x27;WEEKDAY_APPR_PROCESS_START&#x27;, &#x27;ORGANIZATION_TYPE&#x27;, &#x27;FONDKAPREMONT_MODE&#x27;, &#x27;HOUSETYPE_MODE&#x27;, &#x27;WALLSMATERIAL_MODE&#x27;, &#x27;EMERGENCYSTATE_MODE&#x27;]</pre></div></div></div><div class=\"sk-serial\"><div class=\"sk-item\"><div class=\"sk-serial\"><div class=\"sk-item\"><div class=\"sk-estimator sk-toggleable\"><input class=\"sk-toggleable__control sk-hidden--visually\" id=\"f16170b2-cb5d-47fc-9a40-16872c735dcc\" type=\"checkbox\" ><label for=\"f16170b2-cb5d-47fc-9a40-16872c735dcc\" class=\"sk-toggleable__label sk-toggleable__label-arrow\">SimpleImputer</label><div class=\"sk-toggleable__content\"><pre>SimpleImputer(fill_value=&#x27;manquant&#x27;, strategy=&#x27;constant&#x27;)</pre></div></div></div></div></div></div></div></div></div></div><div class=\"sk-item\"><div class=\"sk-estimator sk-toggleable\"><input class=\"sk-toggleable__control sk-hidden--visually\" id=\"9bcf8cb6-aae0-43ab-ab26-488d2c236699\" type=\"checkbox\" ><label for=\"9bcf8cb6-aae0-43ab-ab26-488d2c236699\" class=\"sk-toggleable__label sk-toggleable__label-arrow\">SMOTENC</label><div class=\"sk-toggleable__content\"><pre>SMOTENC(categorical_features=[661, 662, 663, 664, 665, 666, 667, 668, 669, 670,\n",
              "                              671, 672, 673, 674, 675, 676],\n",
              "        k_neighbors=2, sampling_strategy=0.1)</pre></div></div></div><div class=\"sk-item\"><div class=\"sk-estimator sk-toggleable\"><input class=\"sk-toggleable__control sk-hidden--visually\" id=\"72a348ca-d7e1-4ed6-9c42-6bacfec6cf22\" type=\"checkbox\" ><label for=\"72a348ca-d7e1-4ed6-9c42-6bacfec6cf22\" class=\"sk-toggleable__label sk-toggleable__label-arrow\">FunctionTransformer</label><div class=\"sk-toggleable__content\"><pre>FunctionTransformer(func=&lt;function Discret_SN_result at 0x7f9caac3d9e0&gt;)</pre></div></div></div><div class=\"sk-item sk-dashed-wrapped\"><div class=\"sk-label-container\"><div class=\"sk-label sk-toggleable\"><input class=\"sk-toggleable__control sk-hidden--visually\" id=\"10d90f45-c069-4f80-a8dd-13500b3d2a2b\" type=\"checkbox\" ><label for=\"10d90f45-c069-4f80-a8dd-13500b3d2a2b\" class=\"sk-toggleable__label sk-toggleable__label-arrow\">encode: ColumnTransformer</label><div class=\"sk-toggleable__content\"><pre>ColumnTransformer(remainder=&#x27;passthrough&#x27;,\n",
              "                  transformers=[(&#x27;quanti&#x27;,\n",
              "                                 OneHotEncoder(handle_unknown=&#x27;ignore&#x27;),\n",
              "                                 [&#x27;NAME_CONTRACT_TYPE&#x27;, &#x27;CODE_GENDER&#x27;,\n",
              "                                  &#x27;FLAG_OWN_CAR&#x27;, &#x27;FLAG_OWN_REALTY&#x27;,\n",
              "                                  &#x27;NAME_TYPE_SUITE&#x27;, &#x27;NAME_INCOME_TYPE&#x27;,\n",
              "                                  &#x27;NAME_EDUCATION_TYPE&#x27;, &#x27;NAME_FAMILY_STATUS&#x27;,\n",
              "                                  &#x27;NAME_HOUSING_TYPE&#x27;, &#x27;OCCUPATION_TYPE&#x27;,\n",
              "                                  &#x27;WEEKDAY_APPR_PROCESS_START&#x27;,\n",
              "                                  &#x27;ORGANIZATION_TYPE&#x27;, &#x27;FONDKAPREMONT_MODE&#x27;,\n",
              "                                  &#x27;HOUSETYPE_MODE&#x27;, &#x27;WALLSMATERIAL_MODE&#x27;,\n",
              "                                  &#x27;EMERGENCYSTATE_MODE&#x27;])])</pre></div></div></div><div class=\"sk-parallel\"><div class=\"sk-parallel-item\"><div class=\"sk-item\"><div class=\"sk-label-container\"><div class=\"sk-label sk-toggleable\"><input class=\"sk-toggleable__control sk-hidden--visually\" id=\"30a60850-c402-4bb3-b03c-93901c71116c\" type=\"checkbox\" ><label for=\"30a60850-c402-4bb3-b03c-93901c71116c\" class=\"sk-toggleable__label sk-toggleable__label-arrow\">quanti</label><div class=\"sk-toggleable__content\"><pre>[&#x27;NAME_CONTRACT_TYPE&#x27;, &#x27;CODE_GENDER&#x27;, &#x27;FLAG_OWN_CAR&#x27;, &#x27;FLAG_OWN_REALTY&#x27;, &#x27;NAME_TYPE_SUITE&#x27;, &#x27;NAME_INCOME_TYPE&#x27;, &#x27;NAME_EDUCATION_TYPE&#x27;, &#x27;NAME_FAMILY_STATUS&#x27;, &#x27;NAME_HOUSING_TYPE&#x27;, &#x27;OCCUPATION_TYPE&#x27;, &#x27;WEEKDAY_APPR_PROCESS_START&#x27;, &#x27;ORGANIZATION_TYPE&#x27;, &#x27;FONDKAPREMONT_MODE&#x27;, &#x27;HOUSETYPE_MODE&#x27;, &#x27;WALLSMATERIAL_MODE&#x27;, &#x27;EMERGENCYSTATE_MODE&#x27;]</pre></div></div></div><div class=\"sk-serial\"><div class=\"sk-item\"><div class=\"sk-estimator sk-toggleable\"><input class=\"sk-toggleable__control sk-hidden--visually\" id=\"7575b820-b19c-4581-96e1-7f4d0e091b4d\" type=\"checkbox\" ><label for=\"7575b820-b19c-4581-96e1-7f4d0e091b4d\" class=\"sk-toggleable__label sk-toggleable__label-arrow\">OneHotEncoder</label><div class=\"sk-toggleable__content\"><pre>OneHotEncoder(handle_unknown=&#x27;ignore&#x27;)</pre></div></div></div></div></div></div><div class=\"sk-parallel-item\"><div class=\"sk-item\"><div class=\"sk-label-container\"><div class=\"sk-label sk-toggleable\"><input class=\"sk-toggleable__control sk-hidden--visually\" id=\"e63042ef-ebce-436e-93b6-3151057b84d3\" type=\"checkbox\" ><label for=\"e63042ef-ebce-436e-93b6-3151057b84d3\" class=\"sk-toggleable__label sk-toggleable__label-arrow\">remainder</label><div class=\"sk-toggleable__content\"><pre></pre></div></div></div><div class=\"sk-serial\"><div class=\"sk-item\"><div class=\"sk-estimator sk-toggleable\"><input class=\"sk-toggleable__control sk-hidden--visually\" id=\"b575e4be-220c-4ca6-b090-8fd527730037\" type=\"checkbox\" ><label for=\"b575e4be-220c-4ca6-b090-8fd527730037\" class=\"sk-toggleable__label sk-toggleable__label-arrow\">passthrough</label><div class=\"sk-toggleable__content\"><pre>passthrough</pre></div></div></div></div></div></div></div></div><div class=\"sk-item\"><div class=\"sk-estimator sk-toggleable\"><input class=\"sk-toggleable__control sk-hidden--visually\" id=\"18c0df0d-4a2b-4cfd-8b15-3341803d1cdf\" type=\"checkbox\" ><label for=\"18c0df0d-4a2b-4cfd-8b15-3341803d1cdf\" class=\"sk-toggleable__label sk-toggleable__label-arrow\">LogisticRegression</label><div class=\"sk-toggleable__content\"><pre>LogisticRegression()</pre></div></div></div></div></div></div></div>"
            ]
          },
          "metadata": {},
          "execution_count": 20
        }
      ]
    },
    {
      "cell_type": "code",
      "source": [
        "SN_transfo = SN_pipe.fit(X_train,y_train)"
      ],
      "metadata": {
        "colab": {
          "base_uri": "https://localhost:8080/"
        },
        "id": "Y3c_8PxPXr5L",
        "outputId": "2ad07bac-e37b-4f39-d80f-f77719ae9d44"
      },
      "id": "Y3c_8PxPXr5L",
      "execution_count": 21,
      "outputs": [
        {
          "output_type": "stream",
          "name": "stderr",
          "text": [
            "/usr/local/lib/python3.7/dist-packages/sklearn/utils/validation.py:993: DataConversionWarning: A column-vector y was passed when a 1d array was expected. Please change the shape of y to (n_samples, ), for example using ravel().\n",
            "  y = column_or_1d(y, warn=True)\n",
            "/usr/local/lib/python3.7/dist-packages/sklearn/linear_model/_logistic.py:818: ConvergenceWarning: lbfgs failed to converge (status=1):\n",
            "STOP: TOTAL NO. of ITERATIONS REACHED LIMIT.\n",
            "\n",
            "Increase the number of iterations (max_iter) or scale the data as shown in:\n",
            "    https://scikit-learn.org/stable/modules/preprocessing.html\n",
            "Please also refer to the documentation for alternative solver options:\n",
            "    https://scikit-learn.org/stable/modules/linear_model.html#logistic-regression\n",
            "  extra_warning_msg=_LOGISTIC_SOLVER_CONVERGENCE_MSG,\n"
          ]
        }
      ]
    },
    {
      "cell_type": "code",
      "source": [
        "SN_transfo"
      ],
      "metadata": {
        "colab": {
          "base_uri": "https://localhost:8080/",
          "height": 397
        },
        "id": "SKEQP0h0bb2h",
        "outputId": "1c7cd684-afd1-46fb-c606-6df6baa13716"
      },
      "id": "SKEQP0h0bb2h",
      "execution_count": 22,
      "outputs": [
        {
          "output_type": "execute_result",
          "data": {
            "text/plain": [
              "Pipeline(steps=[('preparation',\n",
              "                 ColumnTransformer(transformers=[('quanti',\n",
              "                                                  Pipeline(steps=[('imputation',\n",
              "                                                                   SimpleImputer(strategy='median')),\n",
              "                                                                  ('standard',\n",
              "                                                                   RobustScaler())]),\n",
              "                                                  ['index', 'SK_ID_CURR',\n",
              "                                                   'CNT_CHILDREN', 'DAYS_BIRTH',\n",
              "                                                   'DAYS_EMPLOYED',\n",
              "                                                   'DAYS_REGISTRATION',\n",
              "                                                   'DAYS_ID_PUBLISH',\n",
              "                                                   'OWN_CAR_AGE', 'FLAG_MOBIL',\n",
              "                                                   'FLAG_EMP_PHONE',\n",
              "                                                   'FLAG_WORK_PHONE',\n",
              "                                                   'FLAG_CONT_MOBILE...\n",
              "                                                  ['NAME_CONTRACT_TYPE',\n",
              "                                                   'CODE_GENDER',\n",
              "                                                   'FLAG_OWN_CAR',\n",
              "                                                   'FLAG_OWN_REALTY',\n",
              "                                                   'NAME_TYPE_SUITE',\n",
              "                                                   'NAME_INCOME_TYPE',\n",
              "                                                   'NAME_EDUCATION_TYPE',\n",
              "                                                   'NAME_FAMILY_STATUS',\n",
              "                                                   'NAME_HOUSING_TYPE',\n",
              "                                                   'OCCUPATION_TYPE',\n",
              "                                                   'WEEKDAY_APPR_PROCESS_START',\n",
              "                                                   'ORGANIZATION_TYPE',\n",
              "                                                   'FONDKAPREMONT_MODE',\n",
              "                                                   'HOUSETYPE_MODE',\n",
              "                                                   'WALLSMATERIAL_MODE',\n",
              "                                                   'EMERGENCYSTATE_MODE'])])),\n",
              "                ('test', LogisticRegression())])"
            ],
            "text/html": [
              "<style>#sk-e19a38bf-c0e6-4c71-a6b3-3ce150105ea4 {color: black;background-color: white;}#sk-e19a38bf-c0e6-4c71-a6b3-3ce150105ea4 pre{padding: 0;}#sk-e19a38bf-c0e6-4c71-a6b3-3ce150105ea4 div.sk-toggleable {background-color: white;}#sk-e19a38bf-c0e6-4c71-a6b3-3ce150105ea4 label.sk-toggleable__label {cursor: pointer;display: block;width: 100%;margin-bottom: 0;padding: 0.3em;box-sizing: border-box;text-align: center;}#sk-e19a38bf-c0e6-4c71-a6b3-3ce150105ea4 label.sk-toggleable__label-arrow:before {content: \"▸\";float: left;margin-right: 0.25em;color: #696969;}#sk-e19a38bf-c0e6-4c71-a6b3-3ce150105ea4 label.sk-toggleable__label-arrow:hover:before {color: black;}#sk-e19a38bf-c0e6-4c71-a6b3-3ce150105ea4 div.sk-estimator:hover label.sk-toggleable__label-arrow:before {color: black;}#sk-e19a38bf-c0e6-4c71-a6b3-3ce150105ea4 div.sk-toggleable__content {max-height: 0;max-width: 0;overflow: hidden;text-align: left;background-color: #f0f8ff;}#sk-e19a38bf-c0e6-4c71-a6b3-3ce150105ea4 div.sk-toggleable__content pre {margin: 0.2em;color: black;border-radius: 0.25em;background-color: #f0f8ff;}#sk-e19a38bf-c0e6-4c71-a6b3-3ce150105ea4 input.sk-toggleable__control:checked~div.sk-toggleable__content {max-height: 200px;max-width: 100%;overflow: auto;}#sk-e19a38bf-c0e6-4c71-a6b3-3ce150105ea4 input.sk-toggleable__control:checked~label.sk-toggleable__label-arrow:before {content: \"▾\";}#sk-e19a38bf-c0e6-4c71-a6b3-3ce150105ea4 div.sk-estimator input.sk-toggleable__control:checked~label.sk-toggleable__label {background-color: #d4ebff;}#sk-e19a38bf-c0e6-4c71-a6b3-3ce150105ea4 div.sk-label input.sk-toggleable__control:checked~label.sk-toggleable__label {background-color: #d4ebff;}#sk-e19a38bf-c0e6-4c71-a6b3-3ce150105ea4 input.sk-hidden--visually {border: 0;clip: rect(1px 1px 1px 1px);clip: rect(1px, 1px, 1px, 1px);height: 1px;margin: -1px;overflow: hidden;padding: 0;position: absolute;width: 1px;}#sk-e19a38bf-c0e6-4c71-a6b3-3ce150105ea4 div.sk-estimator {font-family: monospace;background-color: #f0f8ff;border: 1px dotted black;border-radius: 0.25em;box-sizing: border-box;margin-bottom: 0.5em;}#sk-e19a38bf-c0e6-4c71-a6b3-3ce150105ea4 div.sk-estimator:hover {background-color: #d4ebff;}#sk-e19a38bf-c0e6-4c71-a6b3-3ce150105ea4 div.sk-parallel-item::after {content: \"\";width: 100%;border-bottom: 1px solid gray;flex-grow: 1;}#sk-e19a38bf-c0e6-4c71-a6b3-3ce150105ea4 div.sk-label:hover label.sk-toggleable__label {background-color: #d4ebff;}#sk-e19a38bf-c0e6-4c71-a6b3-3ce150105ea4 div.sk-serial::before {content: \"\";position: absolute;border-left: 1px solid gray;box-sizing: border-box;top: 2em;bottom: 0;left: 50%;}#sk-e19a38bf-c0e6-4c71-a6b3-3ce150105ea4 div.sk-serial {display: flex;flex-direction: column;align-items: center;background-color: white;padding-right: 0.2em;padding-left: 0.2em;}#sk-e19a38bf-c0e6-4c71-a6b3-3ce150105ea4 div.sk-item {z-index: 1;}#sk-e19a38bf-c0e6-4c71-a6b3-3ce150105ea4 div.sk-parallel {display: flex;align-items: stretch;justify-content: center;background-color: white;}#sk-e19a38bf-c0e6-4c71-a6b3-3ce150105ea4 div.sk-parallel::before {content: \"\";position: absolute;border-left: 1px solid gray;box-sizing: border-box;top: 2em;bottom: 0;left: 50%;}#sk-e19a38bf-c0e6-4c71-a6b3-3ce150105ea4 div.sk-parallel-item {display: flex;flex-direction: column;position: relative;background-color: white;}#sk-e19a38bf-c0e6-4c71-a6b3-3ce150105ea4 div.sk-parallel-item:first-child::after {align-self: flex-end;width: 50%;}#sk-e19a38bf-c0e6-4c71-a6b3-3ce150105ea4 div.sk-parallel-item:last-child::after {align-self: flex-start;width: 50%;}#sk-e19a38bf-c0e6-4c71-a6b3-3ce150105ea4 div.sk-parallel-item:only-child::after {width: 0;}#sk-e19a38bf-c0e6-4c71-a6b3-3ce150105ea4 div.sk-dashed-wrapped {border: 1px dashed gray;margin: 0 0.4em 0.5em 0.4em;box-sizing: border-box;padding-bottom: 0.4em;background-color: white;position: relative;}#sk-e19a38bf-c0e6-4c71-a6b3-3ce150105ea4 div.sk-label label {font-family: monospace;font-weight: bold;background-color: white;display: inline-block;line-height: 1.2em;}#sk-e19a38bf-c0e6-4c71-a6b3-3ce150105ea4 div.sk-label-container {position: relative;z-index: 2;text-align: center;}#sk-e19a38bf-c0e6-4c71-a6b3-3ce150105ea4 div.sk-container {/* jupyter's `normalize.less` sets `[hidden] { display: none; }` but bootstrap.min.css set `[hidden] { display: none !important; }` so we also need the `!important` here to be able to override the default hidden behavior on the sphinx rendered scikit-learn.org. See: https://github.com/scikit-learn/scikit-learn/issues/21755 */display: inline-block !important;position: relative;}#sk-e19a38bf-c0e6-4c71-a6b3-3ce150105ea4 div.sk-text-repr-fallback {display: none;}</style><div id=\"sk-e19a38bf-c0e6-4c71-a6b3-3ce150105ea4\" class=\"sk-top-container\"><div class=\"sk-text-repr-fallback\"><pre>Pipeline(steps=[(&#x27;preparation&#x27;,\n",
              "                 ColumnTransformer(transformers=[(&#x27;quanti&#x27;,\n",
              "                                                  Pipeline(steps=[(&#x27;imputation&#x27;,\n",
              "                                                                   SimpleImputer(strategy=&#x27;median&#x27;)),\n",
              "                                                                  (&#x27;standard&#x27;,\n",
              "                                                                   RobustScaler())]),\n",
              "                                                  [&#x27;index&#x27;, &#x27;SK_ID_CURR&#x27;,\n",
              "                                                   &#x27;CNT_CHILDREN&#x27;, &#x27;DAYS_BIRTH&#x27;,\n",
              "                                                   &#x27;DAYS_EMPLOYED&#x27;,\n",
              "                                                   &#x27;DAYS_REGISTRATION&#x27;,\n",
              "                                                   &#x27;DAYS_ID_PUBLISH&#x27;,\n",
              "                                                   &#x27;OWN_CAR_AGE&#x27;, &#x27;FLAG_MOBIL&#x27;,\n",
              "                                                   &#x27;FLAG_EMP_PHONE&#x27;,\n",
              "                                                   &#x27;FLAG_WORK_PHONE&#x27;,\n",
              "                                                   &#x27;FLAG_CONT_MOBILE...\n",
              "                                                  [&#x27;NAME_CONTRACT_TYPE&#x27;,\n",
              "                                                   &#x27;CODE_GENDER&#x27;,\n",
              "                                                   &#x27;FLAG_OWN_CAR&#x27;,\n",
              "                                                   &#x27;FLAG_OWN_REALTY&#x27;,\n",
              "                                                   &#x27;NAME_TYPE_SUITE&#x27;,\n",
              "                                                   &#x27;NAME_INCOME_TYPE&#x27;,\n",
              "                                                   &#x27;NAME_EDUCATION_TYPE&#x27;,\n",
              "                                                   &#x27;NAME_FAMILY_STATUS&#x27;,\n",
              "                                                   &#x27;NAME_HOUSING_TYPE&#x27;,\n",
              "                                                   &#x27;OCCUPATION_TYPE&#x27;,\n",
              "                                                   &#x27;WEEKDAY_APPR_PROCESS_START&#x27;,\n",
              "                                                   &#x27;ORGANIZATION_TYPE&#x27;,\n",
              "                                                   &#x27;FONDKAPREMONT_MODE&#x27;,\n",
              "                                                   &#x27;HOUSETYPE_MODE&#x27;,\n",
              "                                                   &#x27;WALLSMATERIAL_MODE&#x27;,\n",
              "                                                   &#x27;EMERGENCYSTATE_MODE&#x27;])])),\n",
              "                (&#x27;test&#x27;, LogisticRegression())])</pre><b>Please rerun this cell to show the HTML repr or trust the notebook.</b></div><div class=\"sk-container\" hidden><div class=\"sk-item sk-dashed-wrapped\"><div class=\"sk-label-container\"><div class=\"sk-label sk-toggleable\"><input class=\"sk-toggleable__control sk-hidden--visually\" id=\"2a6d17e6-d832-4467-9dea-2322825c3213\" type=\"checkbox\" ><label for=\"2a6d17e6-d832-4467-9dea-2322825c3213\" class=\"sk-toggleable__label sk-toggleable__label-arrow\">Pipeline</label><div class=\"sk-toggleable__content\"><pre>Pipeline(steps=[(&#x27;preparation&#x27;,\n",
              "                 ColumnTransformer(transformers=[(&#x27;quanti&#x27;,\n",
              "                                                  Pipeline(steps=[(&#x27;imputation&#x27;,\n",
              "                                                                   SimpleImputer(strategy=&#x27;median&#x27;)),\n",
              "                                                                  (&#x27;standard&#x27;,\n",
              "                                                                   RobustScaler())]),\n",
              "                                                  [&#x27;index&#x27;, &#x27;SK_ID_CURR&#x27;,\n",
              "                                                   &#x27;CNT_CHILDREN&#x27;, &#x27;DAYS_BIRTH&#x27;,\n",
              "                                                   &#x27;DAYS_EMPLOYED&#x27;,\n",
              "                                                   &#x27;DAYS_REGISTRATION&#x27;,\n",
              "                                                   &#x27;DAYS_ID_PUBLISH&#x27;,\n",
              "                                                   &#x27;OWN_CAR_AGE&#x27;, &#x27;FLAG_MOBIL&#x27;,\n",
              "                                                   &#x27;FLAG_EMP_PHONE&#x27;,\n",
              "                                                   &#x27;FLAG_WORK_PHONE&#x27;,\n",
              "                                                   &#x27;FLAG_CONT_MOBILE...\n",
              "                                                  [&#x27;NAME_CONTRACT_TYPE&#x27;,\n",
              "                                                   &#x27;CODE_GENDER&#x27;,\n",
              "                                                   &#x27;FLAG_OWN_CAR&#x27;,\n",
              "                                                   &#x27;FLAG_OWN_REALTY&#x27;,\n",
              "                                                   &#x27;NAME_TYPE_SUITE&#x27;,\n",
              "                                                   &#x27;NAME_INCOME_TYPE&#x27;,\n",
              "                                                   &#x27;NAME_EDUCATION_TYPE&#x27;,\n",
              "                                                   &#x27;NAME_FAMILY_STATUS&#x27;,\n",
              "                                                   &#x27;NAME_HOUSING_TYPE&#x27;,\n",
              "                                                   &#x27;OCCUPATION_TYPE&#x27;,\n",
              "                                                   &#x27;WEEKDAY_APPR_PROCESS_START&#x27;,\n",
              "                                                   &#x27;ORGANIZATION_TYPE&#x27;,\n",
              "                                                   &#x27;FONDKAPREMONT_MODE&#x27;,\n",
              "                                                   &#x27;HOUSETYPE_MODE&#x27;,\n",
              "                                                   &#x27;WALLSMATERIAL_MODE&#x27;,\n",
              "                                                   &#x27;EMERGENCYSTATE_MODE&#x27;])])),\n",
              "                (&#x27;test&#x27;, LogisticRegression())])</pre></div></div></div><div class=\"sk-serial\"><div class=\"sk-item sk-dashed-wrapped\"><div class=\"sk-label-container\"><div class=\"sk-label sk-toggleable\"><input class=\"sk-toggleable__control sk-hidden--visually\" id=\"05ca29ac-9891-4131-b77e-f6e380ef1839\" type=\"checkbox\" ><label for=\"05ca29ac-9891-4131-b77e-f6e380ef1839\" class=\"sk-toggleable__label sk-toggleable__label-arrow\">preparation: ColumnTransformer</label><div class=\"sk-toggleable__content\"><pre>ColumnTransformer(transformers=[(&#x27;quanti&#x27;,\n",
              "                                 Pipeline(steps=[(&#x27;imputation&#x27;,\n",
              "                                                  SimpleImputer(strategy=&#x27;median&#x27;)),\n",
              "                                                 (&#x27;standard&#x27;, RobustScaler())]),\n",
              "                                 [&#x27;index&#x27;, &#x27;SK_ID_CURR&#x27;, &#x27;CNT_CHILDREN&#x27;,\n",
              "                                  &#x27;DAYS_BIRTH&#x27;, &#x27;DAYS_EMPLOYED&#x27;,\n",
              "                                  &#x27;DAYS_REGISTRATION&#x27;, &#x27;DAYS_ID_PUBLISH&#x27;,\n",
              "                                  &#x27;OWN_CAR_AGE&#x27;, &#x27;FLAG_MOBIL&#x27;, &#x27;FLAG_EMP_PHONE&#x27;,\n",
              "                                  &#x27;FLAG_WORK_PHONE&#x27;, &#x27;FLAG_CONT_MOBILE&#x27;,\n",
              "                                  &#x27;FLAG_PHONE&#x27;, &#x27;FLAG_EMAIL&#x27;, &#x27;CN...\n",
              "                                                  SimpleImputer(fill_value=&#x27;manquant&#x27;,\n",
              "                                                                strategy=&#x27;constant&#x27;))]),\n",
              "                                 [&#x27;NAME_CONTRACT_TYPE&#x27;, &#x27;CODE_GENDER&#x27;,\n",
              "                                  &#x27;FLAG_OWN_CAR&#x27;, &#x27;FLAG_OWN_REALTY&#x27;,\n",
              "                                  &#x27;NAME_TYPE_SUITE&#x27;, &#x27;NAME_INCOME_TYPE&#x27;,\n",
              "                                  &#x27;NAME_EDUCATION_TYPE&#x27;, &#x27;NAME_FAMILY_STATUS&#x27;,\n",
              "                                  &#x27;NAME_HOUSING_TYPE&#x27;, &#x27;OCCUPATION_TYPE&#x27;,\n",
              "                                  &#x27;WEEKDAY_APPR_PROCESS_START&#x27;,\n",
              "                                  &#x27;ORGANIZATION_TYPE&#x27;, &#x27;FONDKAPREMONT_MODE&#x27;,\n",
              "                                  &#x27;HOUSETYPE_MODE&#x27;, &#x27;WALLSMATERIAL_MODE&#x27;,\n",
              "                                  &#x27;EMERGENCYSTATE_MODE&#x27;])])</pre></div></div></div><div class=\"sk-parallel\"><div class=\"sk-parallel-item\"><div class=\"sk-item\"><div class=\"sk-label-container\"><div class=\"sk-label sk-toggleable\"><input class=\"sk-toggleable__control sk-hidden--visually\" id=\"c8292aa9-523b-4fda-a4ef-6387806eec0c\" type=\"checkbox\" ><label for=\"c8292aa9-523b-4fda-a4ef-6387806eec0c\" class=\"sk-toggleable__label sk-toggleable__label-arrow\">quanti</label><div class=\"sk-toggleable__content\"><pre>[&#x27;index&#x27;, &#x27;SK_ID_CURR&#x27;, &#x27;CNT_CHILDREN&#x27;, &#x27;DAYS_BIRTH&#x27;, &#x27;DAYS_EMPLOYED&#x27;, &#x27;DAYS_REGISTRATION&#x27;, &#x27;DAYS_ID_PUBLISH&#x27;, &#x27;OWN_CAR_AGE&#x27;, &#x27;FLAG_MOBIL&#x27;, &#x27;FLAG_EMP_PHONE&#x27;, &#x27;FLAG_WORK_PHONE&#x27;, &#x27;FLAG_CONT_MOBILE&#x27;, &#x27;FLAG_PHONE&#x27;, &#x27;FLAG_EMAIL&#x27;, &#x27;CNT_FAM_MEMBERS&#x27;, &#x27;REGION_RATING_CLIENT&#x27;, &#x27;REGION_RATING_CLIENT_W_CITY&#x27;, &#x27;HOUR_APPR_PROCESS_START&#x27;, &#x27;REG_REGION_NOT_LIVE_REGION&#x27;, &#x27;REG_REGION_NOT_WORK_REGION&#x27;, &#x27;LIVE_REGION_NOT_WORK_REGION&#x27;, &#x27;REG_CITY_NOT_LIVE_CITY&#x27;, &#x27;REG_CITY_NOT_WORK_CITY&#x27;, &#x27;LIVE_CITY_NOT_WORK_CITY&#x27;, &#x27;OBS_30_CNT_SOCIAL_CIRCLE&#x27;, &#x27;DEF_30_CNT_SOCIAL_CIRCLE&#x27;, &#x27;OBS_60_CNT_SOCIAL_CIRCLE&#x27;, &#x27;DEF_60_CNT_SOCIAL_CIRCLE&#x27;, &#x27;DAYS_LAST_PHONE_CHANGE&#x27;, &#x27;FLAG_DOCUMENT_2&#x27;, &#x27;FLAG_DOCUMENT_3&#x27;, &#x27;FLAG_DOCUMENT_4&#x27;, &#x27;FLAG_DOCUMENT_5&#x27;, &#x27;FLAG_DOCUMENT_6&#x27;, &#x27;FLAG_DOCUMENT_7&#x27;, &#x27;FLAG_DOCUMENT_8&#x27;, &#x27;FLAG_DOCUMENT_9&#x27;, &#x27;FLAG_DOCUMENT_10&#x27;, &#x27;FLAG_DOCUMENT_11&#x27;, &#x27;FLAG_DOCUMENT_12&#x27;, &#x27;FLAG_DOCUMENT_13&#x27;, &#x27;FLAG_DOCUMENT_14&#x27;, &#x27;FLAG_DOCUMENT_15&#x27;, &#x27;FLAG_DOCUMENT_16&#x27;, &#x27;FLAG_DOCUMENT_17&#x27;, &#x27;FLAG_DOCUMENT_18&#x27;, &#x27;FLAG_DOCUMENT_19&#x27;, &#x27;FLAG_DOCUMENT_20&#x27;, &#x27;FLAG_DOCUMENT_21&#x27;, &#x27;AMT_REQ_CREDIT_BUREAU_HOUR&#x27;, &#x27;AMT_REQ_CREDIT_BUREAU_DAY&#x27;, &#x27;AMT_REQ_CREDIT_BUREAU_WEEK&#x27;, &#x27;AMT_REQ_CREDIT_BUREAU_MON&#x27;, &#x27;AMT_REQ_CREDIT_BUREAU_QRT&#x27;, &#x27;AMT_REQ_CREDIT_BUREAU_YEAR&#x27;, &#x27;BURO_DAYS_CREDIT_MIN&#x27;, &#x27;BURO_DAYS_CREDIT_MAX&#x27;, &#x27;BURO_DAYS_CREDIT_ENDDATE_MIN&#x27;, &#x27;BURO_DAYS_CREDIT_ENDDATE_MAX&#x27;, &#x27;BURO_CREDIT_DAY_OVERDUE_MAX&#x27;, &#x27;BURO_CNT_CREDIT_PROLONG_SUM&#x27;, &#x27;BURO_MONTHS_BALANCE_MIN_MIN&#x27;, &#x27;BURO_MONTHS_BALANCE_MAX_MAX&#x27;, &#x27;BURO_MONTHS_BALANCE_SIZE_SUM&#x27;, &#x27;BURO_CREDIT_ACTIVE_nan_MEAN&#x27;, &#x27;BURO_CREDIT_CURRENCY_nan_MEAN&#x27;, &#x27;BURO_CREDIT_TYPE_Mobile operator loan_MEAN&#x27;, &#x27;BURO_CREDIT_TYPE_nan_MEAN&#x27;, &#x27;BURO_STATUS_nan_MEAN_MEAN&#x27;, &#x27;ACTIVE_DAYS_CREDIT_MIN&#x27;, &#x27;ACTIVE_DAYS_CREDIT_MAX&#x27;, &#x27;ACTIVE_DAYS_CREDIT_ENDDATE_MIN&#x27;, &#x27;ACTIVE_DAYS_CREDIT_ENDDATE_MAX&#x27;, &#x27;ACTIVE_CREDIT_DAY_OVERDUE_MAX&#x27;, &#x27;ACTIVE_CNT_CREDIT_PROLONG_SUM&#x27;, &#x27;ACTIVE_MONTHS_BALANCE_MIN_MIN&#x27;, &#x27;ACTIVE_MONTHS_BALANCE_MAX_MAX&#x27;, &#x27;ACTIVE_MONTHS_BALANCE_SIZE_SUM&#x27;, &#x27;CLOSED_DAYS_CREDIT_MIN&#x27;, &#x27;CLOSED_DAYS_CREDIT_MAX&#x27;, &#x27;CLOSED_DAYS_CREDIT_ENDDATE_MIN&#x27;, &#x27;CLOSED_DAYS_CREDIT_ENDDATE_MAX&#x27;, &#x27;CLOSED_CREDIT_DAY_OVERDUE_MAX&#x27;, &#x27;CLOSED_CNT_CREDIT_PROLONG_SUM&#x27;, &#x27;CLOSED_MONTHS_BALANCE_MIN_MIN&#x27;, &#x27;CLOSED_MONTHS_BALANCE_MAX_MAX&#x27;, &#x27;CLOSED_MONTHS_BALANCE_SIZE_SUM&#x27;, &#x27;PREV_HOUR_APPR_PROCESS_START_MIN&#x27;, &#x27;PREV_HOUR_APPR_PROCESS_START_MAX&#x27;, &#x27;PREV_DAYS_DECISION_MIN&#x27;, &#x27;PREV_DAYS_DECISION_MAX&#x27;, &#x27;PREV_CNT_PAYMENT_SUM&#x27;, &#x27;PREV_NAME_CONTRACT_TYPE_nan_MEAN&#x27;, &#x27;PREV_WEEKDAY_APPR_PROCESS_START_nan_MEAN&#x27;, &#x27;PREV_FLAG_LAST_APPL_PER_CONTRACT_nan_MEAN&#x27;, &#x27;PREV_NAME_CASH_LOAN_PURPOSE_nan_MEAN&#x27;, &#x27;PREV_NAME_CONTRACT_STATUS_nan_MEAN&#x27;, &#x27;PREV_NAME_PAYMENT_TYPE_nan_MEAN&#x27;, &#x27;PREV_CODE_REJECT_REASON_nan_MEAN&#x27;, &#x27;PREV_NAME_CLIENT_TYPE_nan_MEAN&#x27;, &#x27;PREV_NAME_GOODS_CATEGORY_House Construction_MEAN&#x27;, &#x27;PREV_NAME_GOODS_CATEGORY_nan_MEAN&#x27;, &#x27;PREV_NAME_PORTFOLIO_nan_MEAN&#x27;, &#x27;PREV_NAME_PRODUCT_TYPE_nan_MEAN&#x27;, &#x27;PREV_CHANNEL_TYPE_nan_MEAN&#x27;, &#x27;PREV_NAME_SELLER_INDUSTRY_nan_MEAN&#x27;, &#x27;PREV_NAME_YIELD_GROUP_nan_MEAN&#x27;, &#x27;APPROVED_HOUR_APPR_PROCESS_START_MIN&#x27;, &#x27;APPROVED_HOUR_APPR_PROCESS_START_MAX&#x27;, &#x27;APPROVED_DAYS_DECISION_MIN&#x27;, &#x27;APPROVED_DAYS_DECISION_MAX&#x27;, &#x27;APPROVED_CNT_PAYMENT_SUM&#x27;, &#x27;REFUSED_HOUR_APPR_PROCESS_START_MIN&#x27;, &#x27;REFUSED_HOUR_APPR_PROCESS_START_MAX&#x27;, &#x27;REFUSED_DAYS_DECISION_MIN&#x27;, &#x27;REFUSED_DAYS_DECISION_MAX&#x27;, &#x27;REFUSED_CNT_PAYMENT_SUM&#x27;, &#x27;POS_MONTHS_BALANCE_MAX&#x27;, &#x27;POS_MONTHS_BALANCE_SIZE&#x27;, &#x27;POS_SK_DPD_MAX&#x27;, &#x27;POS_SK_DPD_DEF_MAX&#x27;, &#x27;POS_NAME_CONTRACT_STATUS_XNA_MEAN&#x27;, &#x27;POS_NAME_CONTRACT_STATUS_nan_MEAN&#x27;, &#x27;POS_COUNT&#x27;, &#x27;INSTAL_NUM_INSTALMENT_VERSION_NUNIQUE&#x27;, &#x27;INSTAL_DPD_MAX&#x27;, &#x27;INSTAL_DPD_SUM&#x27;, &#x27;INSTAL_DBD_MAX&#x27;, &#x27;INSTAL_DBD_SUM&#x27;, &#x27;INSTAL_DAYS_ENTRY_PAYMENT_MAX&#x27;, &#x27;INSTAL_DAYS_ENTRY_PAYMENT_SUM&#x27;, &#x27;INSTAL_COUNT&#x27;, &#x27;CC_MONTHS_BALANCE_MIN&#x27;, &#x27;CC_MONTHS_BALANCE_MAX&#x27;, &#x27;CC_MONTHS_BALANCE_SUM&#x27;, &#x27;CC_AMT_CREDIT_LIMIT_ACTUAL_MIN&#x27;, &#x27;CC_AMT_CREDIT_LIMIT_ACTUAL_MAX&#x27;, &#x27;CC_AMT_CREDIT_LIMIT_ACTUAL_SUM&#x27;, &#x27;CC_AMT_DRAWINGS_ATM_CURRENT_MIN&#x27;, &#x27;CC_AMT_DRAWINGS_OTHER_CURRENT_MIN&#x27;, &#x27;CC_CNT_DRAWINGS_ATM_CURRENT_MIN&#x27;, &#x27;CC_CNT_DRAWINGS_ATM_CURRENT_MAX&#x27;, &#x27;CC_CNT_DRAWINGS_ATM_CURRENT_SUM&#x27;, &#x27;CC_CNT_DRAWINGS_CURRENT_MIN&#x27;, &#x27;CC_CNT_DRAWINGS_CURRENT_MAX&#x27;, &#x27;CC_CNT_DRAWINGS_CURRENT_SUM&#x27;, &#x27;CC_CNT_DRAWINGS_OTHER_CURRENT_MIN&#x27;, &#x27;CC_CNT_DRAWINGS_OTHER_CURRENT_MAX&#x27;, &#x27;CC_CNT_DRAWINGS_OTHER_CURRENT_SUM&#x27;, &#x27;CC_CNT_DRAWINGS_POS_CURRENT_MIN&#x27;, &#x27;CC_CNT_DRAWINGS_POS_CURRENT_MAX&#x27;, &#x27;CC_CNT_DRAWINGS_POS_CURRENT_SUM&#x27;, &#x27;CC_CNT_INSTALMENT_MATURE_CUM_MIN&#x27;, &#x27;CC_CNT_INSTALMENT_MATURE_CUM_MAX&#x27;, &#x27;CC_CNT_INSTALMENT_MATURE_CUM_SUM&#x27;, &#x27;CC_SK_DPD_MIN&#x27;, &#x27;CC_SK_DPD_MAX&#x27;, &#x27;CC_SK_DPD_SUM&#x27;, &#x27;CC_SK_DPD_DEF_MIN&#x27;, &#x27;CC_SK_DPD_DEF_MAX&#x27;, &#x27;CC_SK_DPD_DEF_SUM&#x27;, &#x27;CC_NAME_CONTRACT_STATUS_Active_MIN&#x27;, &#x27;CC_NAME_CONTRACT_STATUS_Active_MAX&#x27;, &#x27;CC_NAME_CONTRACT_STATUS_Active_SUM&#x27;, &#x27;CC_NAME_CONTRACT_STATUS_Approved_MIN&#x27;, &#x27;CC_NAME_CONTRACT_STATUS_Approved_MAX&#x27;, &#x27;CC_NAME_CONTRACT_STATUS_Approved_SUM&#x27;, &#x27;CC_NAME_CONTRACT_STATUS_Completed_MIN&#x27;, &#x27;CC_NAME_CONTRACT_STATUS_Completed_MAX&#x27;, &#x27;CC_NAME_CONTRACT_STATUS_Completed_SUM&#x27;, &#x27;CC_NAME_CONTRACT_STATUS_Demand_MIN&#x27;, &#x27;CC_NAME_CONTRACT_STATUS_Demand_MAX&#x27;, &#x27;CC_NAME_CONTRACT_STATUS_Demand_SUM&#x27;, &#x27;CC_NAME_CONTRACT_STATUS_Refused_MIN&#x27;, &#x27;CC_NAME_CONTRACT_STATUS_Refused_MAX&#x27;, &#x27;CC_NAME_CONTRACT_STATUS_Refused_SUM&#x27;, &#x27;CC_NAME_CONTRACT_STATUS_Sent proposal_MIN&#x27;, &#x27;CC_NAME_CONTRACT_STATUS_Sent proposal_MAX&#x27;, &#x27;CC_NAME_CONTRACT_STATUS_Sent proposal_SUM&#x27;, &#x27;CC_NAME_CONTRACT_STATUS_Signed_MIN&#x27;, &#x27;CC_NAME_CONTRACT_STATUS_Signed_MAX&#x27;, &#x27;CC_NAME_CONTRACT_STATUS_Signed_SUM&#x27;, &#x27;CC_NAME_CONTRACT_STATUS_nan_MIN&#x27;, &#x27;CC_NAME_CONTRACT_STATUS_nan_MAX&#x27;, &#x27;CC_NAME_CONTRACT_STATUS_nan_MEAN&#x27;, &#x27;CC_NAME_CONTRACT_STATUS_nan_SUM&#x27;, &#x27;CC_NAME_CONTRACT_STATUS_nan_VAR&#x27;, &#x27;CC_COUNT&#x27;, &#x27;AMT_INCOME_TOTAL&#x27;, &#x27;AMT_CREDIT&#x27;, &#x27;AMT_ANNUITY&#x27;, &#x27;AMT_GOODS_PRICE&#x27;, &#x27;REGION_POPULATION_RELATIVE&#x27;, &#x27;EXT_SOURCE_1&#x27;, &#x27;EXT_SOURCE_2&#x27;, &#x27;EXT_SOURCE_3&#x27;, &#x27;APARTMENTS_AVG&#x27;, &#x27;BASEMENTAREA_AVG&#x27;, &#x27;YEARS_BEGINEXPLUATATION_AVG&#x27;, &#x27;YEARS_BUILD_AVG&#x27;, &#x27;COMMONAREA_AVG&#x27;, &#x27;ELEVATORS_AVG&#x27;, &#x27;ENTRANCES_AVG&#x27;, &#x27;FLOORSMAX_AVG&#x27;, &#x27;FLOORSMIN_AVG&#x27;, &#x27;LANDAREA_AVG&#x27;, &#x27;LIVINGAPARTMENTS_AVG&#x27;, &#x27;LIVINGAREA_AVG&#x27;, &#x27;NONLIVINGAPARTMENTS_AVG&#x27;, &#x27;NONLIVINGAREA_AVG&#x27;, &#x27;APARTMENTS_MODE&#x27;, &#x27;BASEMENTAREA_MODE&#x27;, &#x27;YEARS_BEGINEXPLUATATION_MODE&#x27;, &#x27;YEARS_BUILD_MODE&#x27;, &#x27;COMMONAREA_MODE&#x27;, &#x27;ELEVATORS_MODE&#x27;, &#x27;ENTRANCES_MODE&#x27;, &#x27;FLOORSMAX_MODE&#x27;, &#x27;FLOORSMIN_MODE&#x27;, &#x27;LANDAREA_MODE&#x27;, &#x27;LIVINGAPARTMENTS_MODE&#x27;, &#x27;LIVINGAREA_MODE&#x27;, &#x27;NONLIVINGAPARTMENTS_MODE&#x27;, &#x27;NONLIVINGAREA_MODE&#x27;, &#x27;APARTMENTS_MEDI&#x27;, &#x27;BASEMENTAREA_MEDI&#x27;, &#x27;YEARS_BEGINEXPLUATATION_MEDI&#x27;, &#x27;YEARS_BUILD_MEDI&#x27;, &#x27;COMMONAREA_MEDI&#x27;, &#x27;ELEVATORS_MEDI&#x27;, &#x27;ENTRANCES_MEDI&#x27;, &#x27;FLOORSMAX_MEDI&#x27;, &#x27;FLOORSMIN_MEDI&#x27;, &#x27;LANDAREA_MEDI&#x27;, &#x27;LIVINGAPARTMENTS_MEDI&#x27;, &#x27;LIVINGAREA_MEDI&#x27;, &#x27;NONLIVINGAPARTMENTS_MEDI&#x27;, &#x27;NONLIVINGAREA_MEDI&#x27;, &#x27;TOTALAREA_MODE&#x27;, &#x27;DAYS_EMPLOYED_PERC&#x27;, &#x27;INCOME_CREDIT_PERC&#x27;, &#x27;INCOME_PER_PERSON&#x27;, &#x27;ANNUITY_INCOME_PERC&#x27;, &#x27;PAYMENT_RATE&#x27;, &#x27;BURO_DAYS_CREDIT_MEAN&#x27;, &#x27;BURO_DAYS_CREDIT_VAR&#x27;, &#x27;BURO_DAYS_CREDIT_ENDDATE_MEAN&#x27;, &#x27;BURO_DAYS_CREDIT_UPDATE_MEAN&#x27;, &#x27;BURO_CREDIT_DAY_OVERDUE_MEAN&#x27;, &#x27;BURO_AMT_CREDIT_MAX_OVERDUE_MEAN&#x27;, &#x27;BURO_AMT_CREDIT_SUM_MAX&#x27;, &#x27;BURO_AMT_CREDIT_SUM_MEAN&#x27;, &#x27;BURO_AMT_CREDIT_SUM_SUM&#x27;, &#x27;BURO_AMT_CREDIT_SUM_DEBT_MAX&#x27;, &#x27;BURO_AMT_CREDIT_SUM_DEBT_MEAN&#x27;, &#x27;BURO_AMT_CREDIT_SUM_DEBT_SUM&#x27;, &#x27;BURO_AMT_CREDIT_SUM_OVERDUE_MEAN&#x27;, &#x27;BURO_AMT_CREDIT_SUM_LIMIT_MEAN&#x27;, &#x27;BURO_AMT_CREDIT_SUM_LIMIT_SUM&#x27;, &#x27;BURO_AMT_ANNUITY_MAX&#x27;, &#x27;BURO_AMT_ANNUITY_MEAN&#x27;, &#x27;BURO_MONTHS_BALANCE_SIZE_MEAN&#x27;, &#x27;BURO_CREDIT_ACTIVE_Active_MEAN&#x27;, &#x27;BURO_CREDIT_ACTIVE_Bad debt_MEAN&#x27;, &#x27;BURO_CREDIT_ACTIVE_Closed_MEAN&#x27;, &#x27;BURO_CREDIT_ACTIVE_Sold_MEAN&#x27;, &#x27;BURO_CREDIT_CURRENCY_currency 1_MEAN&#x27;, &#x27;BURO_CREDIT_CURRENCY_currency 2_MEAN&#x27;, &#x27;BURO_CREDIT_CURRENCY_currency 3_MEAN&#x27;, &#x27;BURO_CREDIT_CURRENCY_currency 4_MEAN&#x27;, &#x27;BURO_CREDIT_TYPE_Another type of loan_MEAN&#x27;, &#x27;BURO_CREDIT_TYPE_Car loan_MEAN&#x27;, &#x27;BURO_CREDIT_TYPE_Cash loan (non-earmarked)_MEAN&#x27;, &#x27;BURO_CREDIT_TYPE_Consumer credit_MEAN&#x27;, &#x27;BURO_CREDIT_TYPE_Credit card_MEAN&#x27;, &#x27;BURO_CREDIT_TYPE_Interbank credit_MEAN&#x27;, &#x27;BURO_CREDIT_TYPE_Loan for business development_MEAN&#x27;, &#x27;BURO_CREDIT_TYPE_Loan for purchase of shares (margin lending)_MEAN&#x27;, &#x27;BURO_CREDIT_TYPE_Loan for the purchase of equipment_MEAN&#x27;, &#x27;BURO_CREDIT_TYPE_Loan for working capital replenishment_MEAN&#x27;, &#x27;BURO_CREDIT_TYPE_Microloan_MEAN&#x27;, &#x27;BURO_CREDIT_TYPE_Mortgage_MEAN&#x27;, &#x27;BURO_CREDIT_TYPE_Real estate loan_MEAN&#x27;, &#x27;BURO_CREDIT_TYPE_Unknown type of loan_MEAN&#x27;, &#x27;BURO_STATUS_0_MEAN_MEAN&#x27;, &#x27;BURO_STATUS_1_MEAN_MEAN&#x27;, &#x27;BURO_STATUS_2_MEAN_MEAN&#x27;, &#x27;BURO_STATUS_3_MEAN_MEAN&#x27;, &#x27;BURO_STATUS_4_MEAN_MEAN&#x27;, &#x27;BURO_STATUS_5_MEAN_MEAN&#x27;, &#x27;BURO_STATUS_C_MEAN_MEAN&#x27;, &#x27;BURO_STATUS_X_MEAN_MEAN&#x27;, &#x27;ACTIVE_DAYS_CREDIT_MEAN&#x27;, &#x27;ACTIVE_DAYS_CREDIT_VAR&#x27;, &#x27;ACTIVE_DAYS_CREDIT_ENDDATE_MEAN&#x27;, &#x27;ACTIVE_DAYS_CREDIT_UPDATE_MEAN&#x27;, &#x27;ACTIVE_CREDIT_DAY_OVERDUE_MEAN&#x27;, &#x27;ACTIVE_AMT_CREDIT_MAX_OVERDUE_MEAN&#x27;, &#x27;ACTIVE_AMT_CREDIT_SUM_MAX&#x27;, &#x27;ACTIVE_AMT_CREDIT_SUM_MEAN&#x27;, &#x27;ACTIVE_AMT_CREDIT_SUM_SUM&#x27;, &#x27;ACTIVE_AMT_CREDIT_SUM_DEBT_MAX&#x27;, &#x27;ACTIVE_AMT_CREDIT_SUM_DEBT_MEAN&#x27;, &#x27;ACTIVE_AMT_CREDIT_SUM_DEBT_SUM&#x27;, &#x27;ACTIVE_AMT_CREDIT_SUM_OVERDUE_MEAN&#x27;, &#x27;ACTIVE_AMT_CREDIT_SUM_LIMIT_MEAN&#x27;, &#x27;ACTIVE_AMT_CREDIT_SUM_LIMIT_SUM&#x27;, &#x27;ACTIVE_AMT_ANNUITY_MAX&#x27;, &#x27;ACTIVE_AMT_ANNUITY_MEAN&#x27;, &#x27;ACTIVE_MONTHS_BALANCE_SIZE_MEAN&#x27;, &#x27;CLOSED_DAYS_CREDIT_MEAN&#x27;, &#x27;CLOSED_DAYS_CREDIT_VAR&#x27;, &#x27;CLOSED_DAYS_CREDIT_ENDDATE_MEAN&#x27;, &#x27;CLOSED_DAYS_CREDIT_UPDATE_MEAN&#x27;, &#x27;CLOSED_CREDIT_DAY_OVERDUE_MEAN&#x27;, &#x27;CLOSED_AMT_CREDIT_MAX_OVERDUE_MEAN&#x27;, &#x27;CLOSED_AMT_CREDIT_SUM_MAX&#x27;, &#x27;CLOSED_AMT_CREDIT_SUM_MEAN&#x27;, &#x27;CLOSED_AMT_CREDIT_SUM_SUM&#x27;, &#x27;CLOSED_AMT_CREDIT_SUM_DEBT_MAX&#x27;, &#x27;CLOSED_AMT_CREDIT_SUM_DEBT_MEAN&#x27;, &#x27;CLOSED_AMT_CREDIT_SUM_DEBT_SUM&#x27;, &#x27;CLOSED_AMT_CREDIT_SUM_OVERDUE_MEAN&#x27;, &#x27;CLOSED_AMT_CREDIT_SUM_LIMIT_MEAN&#x27;, &#x27;CLOSED_AMT_CREDIT_SUM_LIMIT_SUM&#x27;, &#x27;CLOSED_AMT_ANNUITY_MAX&#x27;, &#x27;CLOSED_AMT_ANNUITY_MEAN&#x27;, &#x27;CLOSED_MONTHS_BALANCE_SIZE_MEAN&#x27;, &#x27;PREV_AMT_ANNUITY_MIN&#x27;, &#x27;PREV_AMT_ANNUITY_MAX&#x27;, &#x27;PREV_AMT_ANNUITY_MEAN&#x27;, &#x27;PREV_AMT_APPLICATION_MIN&#x27;, &#x27;PREV_AMT_APPLICATION_MAX&#x27;, &#x27;PREV_AMT_APPLICATION_MEAN&#x27;, &#x27;PREV_AMT_CREDIT_MIN&#x27;, &#x27;PREV_AMT_CREDIT_MAX&#x27;, &#x27;PREV_AMT_CREDIT_MEAN&#x27;, &#x27;PREV_APP_CREDIT_PERC_MIN&#x27;, &#x27;PREV_APP_CREDIT_PERC_MAX&#x27;, &#x27;PREV_APP_CREDIT_PERC_MEAN&#x27;, &#x27;PREV_APP_CREDIT_PERC_VAR&#x27;, &#x27;PREV_AMT_DOWN_PAYMENT_MIN&#x27;, &#x27;PREV_AMT_DOWN_PAYMENT_MAX&#x27;, &#x27;PREV_AMT_DOWN_PAYMENT_MEAN&#x27;, &#x27;PREV_AMT_GOODS_PRICE_MIN&#x27;, &#x27;PREV_AMT_GOODS_PRICE_MAX&#x27;, &#x27;PREV_AMT_GOODS_PRICE_MEAN&#x27;, &#x27;PREV_HOUR_APPR_PROCESS_START_MEAN&#x27;, &#x27;PREV_RATE_DOWN_PAYMENT_MIN&#x27;, &#x27;PREV_RATE_DOWN_PAYMENT_MAX&#x27;, &#x27;PREV_RATE_DOWN_PAYMENT_MEAN&#x27;, &#x27;PREV_DAYS_DECISION_MEAN&#x27;, &#x27;PREV_CNT_PAYMENT_MEAN&#x27;, &#x27;PREV_NAME_CONTRACT_TYPE_Cash loans_MEAN&#x27;, &#x27;PREV_NAME_CONTRACT_TYPE_Consumer loans_MEAN&#x27;, &#x27;PREV_NAME_CONTRACT_TYPE_Revolving loans_MEAN&#x27;, &#x27;PREV_NAME_CONTRACT_TYPE_XNA_MEAN&#x27;, &#x27;PREV_WEEKDAY_APPR_PROCESS_START_FRIDAY_MEAN&#x27;, &#x27;PREV_WEEKDAY_APPR_PROCESS_START_MONDAY_MEAN&#x27;, &#x27;PREV_WEEKDAY_APPR_PROCESS_START_SATURDAY_MEAN&#x27;, &#x27;PREV_WEEKDAY_APPR_PROCESS_START_SUNDAY_MEAN&#x27;, &#x27;PREV_WEEKDAY_APPR_PROCESS_START_THURSDAY_MEAN&#x27;, &#x27;PREV_WEEKDAY_APPR_PROCESS_START_TUESDAY_MEAN&#x27;, &#x27;PREV_WEEKDAY_APPR_PROCESS_START_WEDNESDAY_MEAN&#x27;, &#x27;PREV_FLAG_LAST_APPL_PER_CONTRACT_N_MEAN&#x27;, &#x27;PREV_FLAG_LAST_APPL_PER_CONTRACT_Y_MEAN&#x27;, &#x27;PREV_NAME_CASH_LOAN_PURPOSE_Building a house or an annex_MEAN&#x27;, &#x27;PREV_NAME_CASH_LOAN_PURPOSE_Business development_MEAN&#x27;, &#x27;PREV_NAME_CASH_LOAN_PURPOSE_Buying a garage_MEAN&#x27;, &#x27;PREV_NAME_CASH_LOAN_PURPOSE_Buying a holiday home / land_MEAN&#x27;, &#x27;PREV_NAME_CASH_LOAN_PURPOSE_Buying a home_MEAN&#x27;, &#x27;PREV_NAME_CASH_LOAN_PURPOSE_Buying a new car_MEAN&#x27;, &#x27;PREV_NAME_CASH_LOAN_PURPOSE_Buying a used car_MEAN&#x27;, &#x27;PREV_NAME_CASH_LOAN_PURPOSE_Car repairs_MEAN&#x27;, &#x27;PREV_NAME_CASH_LOAN_PURPOSE_Education_MEAN&#x27;, &#x27;PREV_NAME_CASH_LOAN_PURPOSE_Everyday expenses_MEAN&#x27;, &#x27;PREV_NAME_CASH_LOAN_PURPOSE_Furniture_MEAN&#x27;, &#x27;PREV_NAME_CASH_LOAN_PURPOSE_Gasification / water supply_MEAN&#x27;, &#x27;PREV_NAME_CASH_LOAN_PURPOSE_Hobby_MEAN&#x27;, &#x27;PREV_NAME_CASH_LOAN_PURPOSE_Journey_MEAN&#x27;, &#x27;PREV_NAME_CASH_LOAN_PURPOSE_Medicine_MEAN&#x27;, &#x27;PREV_NAME_CASH_LOAN_PURPOSE_Money for a third person_MEAN&#x27;, &#x27;PREV_NAME_CASH_LOAN_PURPOSE_Other_MEAN&#x27;, &#x27;PREV_NAME_CASH_LOAN_PURPOSE_Payments on other loans_MEAN&#x27;, &#x27;PREV_NAME_CASH_LOAN_PURPOSE_Purchase of electronic equipment_MEAN&#x27;, &#x27;PREV_NAME_CASH_LOAN_PURPOSE_Refusal to name the goal_MEAN&#x27;, &#x27;PREV_NAME_CASH_LOAN_PURPOSE_Repairs_MEAN&#x27;, &#x27;PREV_NAME_CASH_LOAN_PURPOSE_Urgent needs_MEAN&#x27;, &#x27;PREV_NAME_CASH_LOAN_PURPOSE_Wedding / gift / holiday_MEAN&#x27;, &#x27;PREV_NAME_CASH_LOAN_PURPOSE_XAP_MEAN&#x27;, &#x27;PREV_NAME_CASH_LOAN_PURPOSE_XNA_MEAN&#x27;, &#x27;PREV_NAME_CONTRACT_STATUS_Approved_MEAN&#x27;, &#x27;PREV_NAME_CONTRACT_STATUS_Canceled_MEAN&#x27;, &#x27;PREV_NAME_CONTRACT_STATUS_Refused_MEAN&#x27;, &#x27;PREV_NAME_CONTRACT_STATUS_Unused offer_MEAN&#x27;, &#x27;PREV_NAME_PAYMENT_TYPE_Cash through the bank_MEAN&#x27;, &#x27;PREV_NAME_PAYMENT_TYPE_Cashless from the account of the employer_MEAN&#x27;, &#x27;PREV_NAME_PAYMENT_TYPE_Non-cash from your account_MEAN&#x27;, &#x27;PREV_NAME_PAYMENT_TYPE_XNA_MEAN&#x27;, &#x27;PREV_CODE_REJECT_REASON_CLIENT_MEAN&#x27;, &#x27;PREV_CODE_REJECT_REASON_HC_MEAN&#x27;, &#x27;PREV_CODE_REJECT_REASON_LIMIT_MEAN&#x27;, &#x27;PREV_CODE_REJECT_REASON_SCO_MEAN&#x27;, &#x27;PREV_CODE_REJECT_REASON_SCOFR_MEAN&#x27;, &#x27;PREV_CODE_REJECT_REASON_SYSTEM_MEAN&#x27;, &#x27;PREV_CODE_REJECT_REASON_VERIF_MEAN&#x27;, &#x27;PREV_CODE_REJECT_REASON_XAP_MEAN&#x27;, &#x27;PREV_CODE_REJECT_REASON_XNA_MEAN&#x27;, &#x27;PREV_NAME_TYPE_SUITE_Children_MEAN&#x27;, &#x27;PREV_NAME_TYPE_SUITE_Family_MEAN&#x27;, &#x27;PREV_NAME_TYPE_SUITE_Group of people_MEAN&#x27;, &#x27;PREV_NAME_TYPE_SUITE_Other_A_MEAN&#x27;, &#x27;PREV_NAME_TYPE_SUITE_Other_B_MEAN&#x27;, &#x27;PREV_NAME_TYPE_SUITE_Spouse, partner_MEAN&#x27;, &#x27;PREV_NAME_TYPE_SUITE_Unaccompanied_MEAN&#x27;, &#x27;PREV_NAME_TYPE_SUITE_nan_MEAN&#x27;, &#x27;PREV_NAME_CLIENT_TYPE_New_MEAN&#x27;, &#x27;PREV_NAME_CLIENT_TYPE_Refreshed_MEAN&#x27;, &#x27;PREV_NAME_CLIENT_TYPE_Repeater_MEAN&#x27;, &#x27;PREV_NAME_CLIENT_TYPE_XNA_MEAN&#x27;, &#x27;PREV_NAME_GOODS_CATEGORY_Additional Service_MEAN&#x27;, &#x27;PREV_NAME_GOODS_CATEGORY_Animals_MEAN&#x27;, &#x27;PREV_NAME_GOODS_CATEGORY_Audio/Video_MEAN&#x27;, &#x27;PREV_NAME_GOODS_CATEGORY_Auto Accessories_MEAN&#x27;, &#x27;PREV_NAME_GOODS_CATEGORY_Clothing and Accessories_MEAN&#x27;, &#x27;PREV_NAME_GOODS_CATEGORY_Computers_MEAN&#x27;, &#x27;PREV_NAME_GOODS_CATEGORY_Construction Materials_MEAN&#x27;, &#x27;PREV_NAME_GOODS_CATEGORY_Consumer Electronics_MEAN&#x27;, &#x27;PREV_NAME_GOODS_CATEGORY_Direct Sales_MEAN&#x27;, &#x27;PREV_NAME_GOODS_CATEGORY_Education_MEAN&#x27;, &#x27;PREV_NAME_GOODS_CATEGORY_Fitness_MEAN&#x27;, &#x27;PREV_NAME_GOODS_CATEGORY_Furniture_MEAN&#x27;, &#x27;PREV_NAME_GOODS_CATEGORY_Gardening_MEAN&#x27;, &#x27;PREV_NAME_GOODS_CATEGORY_Homewares_MEAN&#x27;, &#x27;PREV_NAME_GOODS_CATEGORY_Insurance_MEAN&#x27;, &#x27;PREV_NAME_GOODS_CATEGORY_Jewelry_MEAN&#x27;, &#x27;PREV_NAME_GOODS_CATEGORY_Medical Supplies_MEAN&#x27;, &#x27;PREV_NAME_GOODS_CATEGORY_Medicine_MEAN&#x27;, &#x27;PREV_NAME_GOODS_CATEGORY_Mobile_MEAN&#x27;, &#x27;PREV_NAME_GOODS_CATEGORY_Office Appliances_MEAN&#x27;, &#x27;PREV_NAME_GOODS_CATEGORY_Other_MEAN&#x27;, &#x27;PREV_NAME_GOODS_CATEGORY_Photo / Cinema Equipment_MEAN&#x27;, &#x27;PREV_NAME_GOODS_CATEGORY_Sport and Leisure_MEAN&#x27;, &#x27;PREV_NAME_GOODS_CATEGORY_Tourism_MEAN&#x27;, &#x27;PREV_NAME_GOODS_CATEGORY_Vehicles_MEAN&#x27;, &#x27;PREV_NAME_GOODS_CATEGORY_Weapon_MEAN&#x27;, &#x27;PREV_NAME_GOODS_CATEGORY_XNA_MEAN&#x27;, &#x27;PREV_NAME_PORTFOLIO_Cards_MEAN&#x27;, &#x27;PREV_NAME_PORTFOLIO_Cars_MEAN&#x27;, &#x27;PREV_NAME_PORTFOLIO_Cash_MEAN&#x27;, &#x27;PREV_NAME_PORTFOLIO_POS_MEAN&#x27;, &#x27;PREV_NAME_PORTFOLIO_XNA_MEAN&#x27;, &#x27;PREV_NAME_PRODUCT_TYPE_XNA_MEAN&#x27;, &#x27;PREV_NAME_PRODUCT_TYPE_walk-in_MEAN&#x27;, &#x27;PREV_NAME_PRODUCT_TYPE_x-sell_MEAN&#x27;, &#x27;PREV_CHANNEL_TYPE_AP+ (Cash loan)_MEAN&#x27;, &#x27;PREV_CHANNEL_TYPE_Car dealer_MEAN&#x27;, &#x27;PREV_CHANNEL_TYPE_Channel of corporate sales_MEAN&#x27;, &#x27;PREV_CHANNEL_TYPE_Contact center_MEAN&#x27;, &#x27;PREV_CHANNEL_TYPE_Country-wide_MEAN&#x27;, &#x27;PREV_CHANNEL_TYPE_Credit and cash offices_MEAN&#x27;, &#x27;PREV_CHANNEL_TYPE_Regional / Local_MEAN&#x27;, &#x27;PREV_CHANNEL_TYPE_Stone_MEAN&#x27;, &#x27;PREV_NAME_SELLER_INDUSTRY_Auto technology_MEAN&#x27;, &#x27;PREV_NAME_SELLER_INDUSTRY_Clothing_MEAN&#x27;, &#x27;PREV_NAME_SELLER_INDUSTRY_Connectivity_MEAN&#x27;, &#x27;PREV_NAME_SELLER_INDUSTRY_Construction_MEAN&#x27;, &#x27;PREV_NAME_SELLER_INDUSTRY_Consumer electronics_MEAN&#x27;, &#x27;PREV_NAME_SELLER_INDUSTRY_Furniture_MEAN&#x27;, &#x27;PREV_NAME_SELLER_INDUSTRY_Industry_MEAN&#x27;, &#x27;PREV_NAME_SELLER_INDUSTRY_Jewelry_MEAN&#x27;, &#x27;PREV_NAME_SELLER_INDUSTRY_MLM partners_MEAN&#x27;, &#x27;PREV_NAME_SELLER_INDUSTRY_Tourism_MEAN&#x27;, &#x27;PREV_NAME_SELLER_INDUSTRY_XNA_MEAN&#x27;, &#x27;PREV_NAME_YIELD_GROUP_XNA_MEAN&#x27;, &#x27;PREV_NAME_YIELD_GROUP_high_MEAN&#x27;, &#x27;PREV_NAME_YIELD_GROUP_low_action_MEAN&#x27;, &#x27;PREV_NAME_YIELD_GROUP_low_normal_MEAN&#x27;, &#x27;PREV_NAME_YIELD_GROUP_middle_MEAN&#x27;, &#x27;PREV_PRODUCT_COMBINATION_Card Street_MEAN&#x27;, &#x27;PREV_PRODUCT_COMBINATION_Card X-Sell_MEAN&#x27;, &#x27;PREV_PRODUCT_COMBINATION_Cash_MEAN&#x27;, &#x27;PREV_PRODUCT_COMBINATION_Cash Street: high_MEAN&#x27;, &#x27;PREV_PRODUCT_COMBINATION_Cash Street: low_MEAN&#x27;, &#x27;PREV_PRODUCT_COMBINATION_Cash Street: middle_MEAN&#x27;, &#x27;PREV_PRODUCT_COMBINATION_Cash X-Sell: high_MEAN&#x27;, &#x27;PREV_PRODUCT_COMBINATION_Cash X-Sell: low_MEAN&#x27;, &#x27;PREV_PRODUCT_COMBINATION_Cash X-Sell: middle_MEAN&#x27;, &#x27;PREV_PRODUCT_COMBINATION_POS household with interest_MEAN&#x27;, &#x27;PREV_PRODUCT_COMBINATION_POS household without interest_MEAN&#x27;, &#x27;PREV_PRODUCT_COMBINATION_POS industry with interest_MEAN&#x27;, &#x27;PREV_PRODUCT_COMBINATION_POS industry without interest_MEAN&#x27;, &#x27;PREV_PRODUCT_COMBINATION_POS mobile with interest_MEAN&#x27;, &#x27;PREV_PRODUCT_COMBINATION_POS mobile without interest_MEAN&#x27;, &#x27;PREV_PRODUCT_COMBINATION_POS other with interest_MEAN&#x27;, &#x27;PREV_PRODUCT_COMBINATION_POS others without interest_MEAN&#x27;, &#x27;PREV_PRODUCT_COMBINATION_nan_MEAN&#x27;, &#x27;APPROVED_AMT_ANNUITY_MIN&#x27;, &#x27;APPROVED_AMT_ANNUITY_MAX&#x27;, &#x27;APPROVED_AMT_ANNUITY_MEAN&#x27;, &#x27;APPROVED_AMT_APPLICATION_MIN&#x27;, &#x27;APPROVED_AMT_APPLICATION_MAX&#x27;, &#x27;APPROVED_AMT_APPLICATION_MEAN&#x27;, &#x27;APPROVED_AMT_CREDIT_MIN&#x27;, &#x27;APPROVED_AMT_CREDIT_MAX&#x27;, &#x27;APPROVED_AMT_CREDIT_MEAN&#x27;, &#x27;APPROVED_APP_CREDIT_PERC_MIN&#x27;, &#x27;APPROVED_APP_CREDIT_PERC_MAX&#x27;, &#x27;APPROVED_APP_CREDIT_PERC_MEAN&#x27;, &#x27;APPROVED_APP_CREDIT_PERC_VAR&#x27;, &#x27;APPROVED_AMT_DOWN_PAYMENT_MIN&#x27;, &#x27;APPROVED_AMT_DOWN_PAYMENT_MAX&#x27;, &#x27;APPROVED_AMT_DOWN_PAYMENT_MEAN&#x27;, &#x27;APPROVED_AMT_GOODS_PRICE_MIN&#x27;, &#x27;APPROVED_AMT_GOODS_PRICE_MAX&#x27;, &#x27;APPROVED_AMT_GOODS_PRICE_MEAN&#x27;, &#x27;APPROVED_HOUR_APPR_PROCESS_START_MEAN&#x27;, &#x27;APPROVED_RATE_DOWN_PAYMENT_MIN&#x27;, &#x27;APPROVED_RATE_DOWN_PAYMENT_MAX&#x27;, &#x27;APPROVED_RATE_DOWN_PAYMENT_MEAN&#x27;, &#x27;APPROVED_DAYS_DECISION_MEAN&#x27;, &#x27;APPROVED_CNT_PAYMENT_MEAN&#x27;, &#x27;REFUSED_AMT_ANNUITY_MIN&#x27;, &#x27;REFUSED_AMT_ANNUITY_MAX&#x27;, &#x27;REFUSED_AMT_ANNUITY_MEAN&#x27;, &#x27;REFUSED_AMT_APPLICATION_MIN&#x27;, &#x27;REFUSED_AMT_APPLICATION_MAX&#x27;, &#x27;REFUSED_AMT_APPLICATION_MEAN&#x27;, &#x27;REFUSED_AMT_CREDIT_MIN&#x27;, &#x27;REFUSED_AMT_CREDIT_MAX&#x27;, &#x27;REFUSED_AMT_CREDIT_MEAN&#x27;, &#x27;REFUSED_APP_CREDIT_PERC_MIN&#x27;, &#x27;REFUSED_APP_CREDIT_PERC_MAX&#x27;, &#x27;REFUSED_APP_CREDIT_PERC_MEAN&#x27;, &#x27;REFUSED_APP_CREDIT_PERC_VAR&#x27;, &#x27;REFUSED_AMT_DOWN_PAYMENT_MIN&#x27;, &#x27;REFUSED_AMT_DOWN_PAYMENT_MAX&#x27;, &#x27;REFUSED_AMT_DOWN_PAYMENT_MEAN&#x27;, &#x27;REFUSED_AMT_GOODS_PRICE_MIN&#x27;, &#x27;REFUSED_AMT_GOODS_PRICE_MAX&#x27;, &#x27;REFUSED_AMT_GOODS_PRICE_MEAN&#x27;, &#x27;REFUSED_HOUR_APPR_PROCESS_START_MEAN&#x27;, &#x27;REFUSED_RATE_DOWN_PAYMENT_MIN&#x27;, &#x27;REFUSED_RATE_DOWN_PAYMENT_MAX&#x27;, &#x27;REFUSED_RATE_DOWN_PAYMENT_MEAN&#x27;, &#x27;REFUSED_DAYS_DECISION_MEAN&#x27;, &#x27;REFUSED_CNT_PAYMENT_MEAN&#x27;, &#x27;POS_MONTHS_BALANCE_MEAN&#x27;, &#x27;POS_SK_DPD_MEAN&#x27;, &#x27;POS_SK_DPD_DEF_MEAN&#x27;, &#x27;POS_NAME_CONTRACT_STATUS_Active_MEAN&#x27;, &#x27;POS_NAME_CONTRACT_STATUS_Amortized debt_MEAN&#x27;, &#x27;POS_NAME_CONTRACT_STATUS_Approved_MEAN&#x27;, &#x27;POS_NAME_CONTRACT_STATUS_Canceled_MEAN&#x27;, &#x27;POS_NAME_CONTRACT_STATUS_Completed_MEAN&#x27;, &#x27;POS_NAME_CONTRACT_STATUS_Demand_MEAN&#x27;, &#x27;POS_NAME_CONTRACT_STATUS_Returned to the store_MEAN&#x27;, &#x27;POS_NAME_CONTRACT_STATUS_Signed_MEAN&#x27;, &#x27;INSTAL_DPD_MEAN&#x27;, &#x27;INSTAL_DBD_MEAN&#x27;, &#x27;INSTAL_PAYMENT_PERC_MAX&#x27;, &#x27;INSTAL_PAYMENT_PERC_MEAN&#x27;, &#x27;INSTAL_PAYMENT_PERC_SUM&#x27;, &#x27;INSTAL_PAYMENT_PERC_VAR&#x27;, &#x27;INSTAL_PAYMENT_DIFF_MAX&#x27;, &#x27;INSTAL_PAYMENT_DIFF_MEAN&#x27;, &#x27;INSTAL_PAYMENT_DIFF_SUM&#x27;, &#x27;INSTAL_PAYMENT_DIFF_VAR&#x27;, &#x27;INSTAL_AMT_INSTALMENT_MAX&#x27;, &#x27;INSTAL_AMT_INSTALMENT_MEAN&#x27;, &#x27;INSTAL_AMT_INSTALMENT_SUM&#x27;, &#x27;INSTAL_AMT_PAYMENT_MIN&#x27;, &#x27;INSTAL_AMT_PAYMENT_MAX&#x27;, &#x27;INSTAL_AMT_PAYMENT_MEAN&#x27;, &#x27;INSTAL_AMT_PAYMENT_SUM&#x27;, &#x27;INSTAL_DAYS_ENTRY_PAYMENT_MEAN&#x27;, &#x27;CC_MONTHS_BALANCE_MEAN&#x27;, &#x27;CC_MONTHS_BALANCE_VAR&#x27;, &#x27;CC_AMT_BALANCE_MIN&#x27;, &#x27;CC_AMT_BALANCE_MAX&#x27;, &#x27;CC_AMT_BALANCE_MEAN&#x27;, &#x27;CC_AMT_BALANCE_SUM&#x27;, &#x27;CC_AMT_BALANCE_VAR&#x27;, &#x27;CC_AMT_CREDIT_LIMIT_ACTUAL_MEAN&#x27;, &#x27;CC_AMT_CREDIT_LIMIT_ACTUAL_VAR&#x27;, &#x27;CC_AMT_DRAWINGS_ATM_CURRENT_MAX&#x27;, &#x27;CC_AMT_DRAWINGS_ATM_CURRENT_MEAN&#x27;, &#x27;CC_AMT_DRAWINGS_ATM_CURRENT_SUM&#x27;, &#x27;CC_AMT_DRAWINGS_ATM_CURRENT_VAR&#x27;, &#x27;CC_AMT_DRAWINGS_CURRENT_MIN&#x27;, &#x27;CC_AMT_DRAWINGS_CURRENT_MAX&#x27;, &#x27;CC_AMT_DRAWINGS_CURRENT_MEAN&#x27;, &#x27;CC_AMT_DRAWINGS_CURRENT_SUM&#x27;, &#x27;CC_AMT_DRAWINGS_CURRENT_VAR&#x27;, &#x27;CC_AMT_DRAWINGS_OTHER_CURRENT_MAX&#x27;, &#x27;CC_AMT_DRAWINGS_OTHER_CURRENT_MEAN&#x27;, &#x27;CC_AMT_DRAWINGS_OTHER_CURRENT_SUM&#x27;, &#x27;CC_AMT_DRAWINGS_OTHER_CURRENT_VAR&#x27;, &#x27;CC_AMT_DRAWINGS_POS_CURRENT_MIN&#x27;, &#x27;CC_AMT_DRAWINGS_POS_CURRENT_MAX&#x27;, &#x27;CC_AMT_DRAWINGS_POS_CURRENT_MEAN&#x27;, &#x27;CC_AMT_DRAWINGS_POS_CURRENT_SUM&#x27;, &#x27;CC_AMT_DRAWINGS_POS_CURRENT_VAR&#x27;, &#x27;CC_AMT_INST_MIN_REGULARITY_MIN&#x27;, &#x27;CC_AMT_INST_MIN_REGULARITY_MAX&#x27;, &#x27;CC_AMT_INST_MIN_REGULARITY_MEAN&#x27;, &#x27;CC_AMT_INST_MIN_REGULARITY_SUM&#x27;, &#x27;CC_AMT_INST_MIN_REGULARITY_VAR&#x27;, &#x27;CC_AMT_PAYMENT_CURRENT_MIN&#x27;, &#x27;CC_AMT_PAYMENT_CURRENT_MAX&#x27;, &#x27;CC_AMT_PAYMENT_CURRENT_MEAN&#x27;, &#x27;CC_AMT_PAYMENT_CURRENT_SUM&#x27;, &#x27;CC_AMT_PAYMENT_CURRENT_VAR&#x27;, &#x27;CC_AMT_PAYMENT_TOTAL_CURRENT_MIN&#x27;, &#x27;CC_AMT_PAYMENT_TOTAL_CURRENT_MAX&#x27;, &#x27;CC_AMT_PAYMENT_TOTAL_CURRENT_MEAN&#x27;, &#x27;CC_AMT_PAYMENT_TOTAL_CURRENT_SUM&#x27;, &#x27;CC_AMT_PAYMENT_TOTAL_CURRENT_VAR&#x27;, &#x27;CC_AMT_RECEIVABLE_PRINCIPAL_MIN&#x27;, &#x27;CC_AMT_RECEIVABLE_PRINCIPAL_MAX&#x27;, &#x27;CC_AMT_RECEIVABLE_PRINCIPAL_MEAN&#x27;, &#x27;CC_AMT_RECEIVABLE_PRINCIPAL_SUM&#x27;, &#x27;CC_AMT_RECEIVABLE_PRINCIPAL_VAR&#x27;, &#x27;CC_AMT_RECIVABLE_MIN&#x27;, &#x27;CC_AMT_RECIVABLE_MAX&#x27;, &#x27;CC_AMT_RECIVABLE_MEAN&#x27;, &#x27;CC_AMT_RECIVABLE_SUM&#x27;, &#x27;CC_AMT_RECIVABLE_VAR&#x27;, &#x27;CC_AMT_TOTAL_RECEIVABLE_MIN&#x27;, &#x27;CC_AMT_TOTAL_RECEIVABLE_MAX&#x27;, &#x27;CC_AMT_TOTAL_RECEIVABLE_MEAN&#x27;, &#x27;CC_AMT_TOTAL_RECEIVABLE_SUM&#x27;, &#x27;CC_AMT_TOTAL_RECEIVABLE_VAR&#x27;, &#x27;CC_CNT_DRAWINGS_ATM_CURRENT_MEAN&#x27;, &#x27;CC_CNT_DRAWINGS_ATM_CURRENT_VAR&#x27;, &#x27;CC_CNT_DRAWINGS_CURRENT_MEAN&#x27;, &#x27;CC_CNT_DRAWINGS_CURRENT_VAR&#x27;, &#x27;CC_CNT_DRAWINGS_OTHER_CURRENT_MEAN&#x27;, &#x27;CC_CNT_DRAWINGS_OTHER_CURRENT_VAR&#x27;, &#x27;CC_CNT_DRAWINGS_POS_CURRENT_MEAN&#x27;, &#x27;CC_CNT_DRAWINGS_POS_CURRENT_VAR&#x27;, &#x27;CC_CNT_INSTALMENT_MATURE_CUM_MEAN&#x27;, &#x27;CC_CNT_INSTALMENT_MATURE_CUM_VAR&#x27;, &#x27;CC_SK_DPD_MEAN&#x27;, &#x27;CC_SK_DPD_VAR&#x27;, &#x27;CC_SK_DPD_DEF_MEAN&#x27;, &#x27;CC_SK_DPD_DEF_VAR&#x27;, &#x27;CC_NAME_CONTRACT_STATUS_Active_MEAN&#x27;, &#x27;CC_NAME_CONTRACT_STATUS_Active_VAR&#x27;, &#x27;CC_NAME_CONTRACT_STATUS_Approved_MEAN&#x27;, &#x27;CC_NAME_CONTRACT_STATUS_Approved_VAR&#x27;, &#x27;CC_NAME_CONTRACT_STATUS_Completed_MEAN&#x27;, &#x27;CC_NAME_CONTRACT_STATUS_Completed_VAR&#x27;, &#x27;CC_NAME_CONTRACT_STATUS_Demand_MEAN&#x27;, &#x27;CC_NAME_CONTRACT_STATUS_Demand_VAR&#x27;, &#x27;CC_NAME_CONTRACT_STATUS_Refused_MEAN&#x27;, &#x27;CC_NAME_CONTRACT_STATUS_Refused_VAR&#x27;, &#x27;CC_NAME_CONTRACT_STATUS_Sent proposal_MEAN&#x27;, &#x27;CC_NAME_CONTRACT_STATUS_Sent proposal_VAR&#x27;, &#x27;CC_NAME_CONTRACT_STATUS_Signed_MEAN&#x27;, &#x27;CC_NAME_CONTRACT_STATUS_Signed_VAR&#x27;]</pre></div></div></div><div class=\"sk-serial\"><div class=\"sk-item\"><div class=\"sk-serial\"><div class=\"sk-item\"><div class=\"sk-estimator sk-toggleable\"><input class=\"sk-toggleable__control sk-hidden--visually\" id=\"376f0473-eee7-41e8-a25e-a8df0cced8f0\" type=\"checkbox\" ><label for=\"376f0473-eee7-41e8-a25e-a8df0cced8f0\" class=\"sk-toggleable__label sk-toggleable__label-arrow\">SimpleImputer</label><div class=\"sk-toggleable__content\"><pre>SimpleImputer(strategy=&#x27;median&#x27;)</pre></div></div></div><div class=\"sk-item\"><div class=\"sk-estimator sk-toggleable\"><input class=\"sk-toggleable__control sk-hidden--visually\" id=\"9a1df78c-f46b-402f-b6ed-405468065636\" type=\"checkbox\" ><label for=\"9a1df78c-f46b-402f-b6ed-405468065636\" class=\"sk-toggleable__label sk-toggleable__label-arrow\">RobustScaler</label><div class=\"sk-toggleable__content\"><pre>RobustScaler()</pre></div></div></div></div></div></div></div></div><div class=\"sk-parallel-item\"><div class=\"sk-item\"><div class=\"sk-label-container\"><div class=\"sk-label sk-toggleable\"><input class=\"sk-toggleable__control sk-hidden--visually\" id=\"a7e8feb0-d4b1-454f-b409-1da13a831fd3\" type=\"checkbox\" ><label for=\"a7e8feb0-d4b1-454f-b409-1da13a831fd3\" class=\"sk-toggleable__label sk-toggleable__label-arrow\">quali</label><div class=\"sk-toggleable__content\"><pre>[&#x27;NAME_CONTRACT_TYPE&#x27;, &#x27;CODE_GENDER&#x27;, &#x27;FLAG_OWN_CAR&#x27;, &#x27;FLAG_OWN_REALTY&#x27;, &#x27;NAME_TYPE_SUITE&#x27;, &#x27;NAME_INCOME_TYPE&#x27;, &#x27;NAME_EDUCATION_TYPE&#x27;, &#x27;NAME_FAMILY_STATUS&#x27;, &#x27;NAME_HOUSING_TYPE&#x27;, &#x27;OCCUPATION_TYPE&#x27;, &#x27;WEEKDAY_APPR_PROCESS_START&#x27;, &#x27;ORGANIZATION_TYPE&#x27;, &#x27;FONDKAPREMONT_MODE&#x27;, &#x27;HOUSETYPE_MODE&#x27;, &#x27;WALLSMATERIAL_MODE&#x27;, &#x27;EMERGENCYSTATE_MODE&#x27;]</pre></div></div></div><div class=\"sk-serial\"><div class=\"sk-item\"><div class=\"sk-serial\"><div class=\"sk-item\"><div class=\"sk-estimator sk-toggleable\"><input class=\"sk-toggleable__control sk-hidden--visually\" id=\"745d515a-4971-454d-922e-228e1d93f78c\" type=\"checkbox\" ><label for=\"745d515a-4971-454d-922e-228e1d93f78c\" class=\"sk-toggleable__label sk-toggleable__label-arrow\">SimpleImputer</label><div class=\"sk-toggleable__content\"><pre>SimpleImputer(fill_value=&#x27;manquant&#x27;, strategy=&#x27;constant&#x27;)</pre></div></div></div></div></div></div></div></div></div></div><div class=\"sk-item\"><div class=\"sk-estimator sk-toggleable\"><input class=\"sk-toggleable__control sk-hidden--visually\" id=\"cdf89190-1541-4847-9a0e-54b06d8e33db\" type=\"checkbox\" ><label for=\"cdf89190-1541-4847-9a0e-54b06d8e33db\" class=\"sk-toggleable__label sk-toggleable__label-arrow\">SMOTENC</label><div class=\"sk-toggleable__content\"><pre>SMOTENC(categorical_features=[661, 662, 663, 664, 665, 666, 667, 668, 669, 670,\n",
              "                              671, 672, 673, 674, 675, 676],\n",
              "        k_neighbors=2, sampling_strategy=0.1)</pre></div></div></div><div class=\"sk-item\"><div class=\"sk-estimator sk-toggleable\"><input class=\"sk-toggleable__control sk-hidden--visually\" id=\"77a84ce4-7646-4e05-8f55-df96f47ef671\" type=\"checkbox\" ><label for=\"77a84ce4-7646-4e05-8f55-df96f47ef671\" class=\"sk-toggleable__label sk-toggleable__label-arrow\">FunctionTransformer</label><div class=\"sk-toggleable__content\"><pre>FunctionTransformer(func=&lt;function Discret_SN_result at 0x7f9caac3d9e0&gt;)</pre></div></div></div><div class=\"sk-item sk-dashed-wrapped\"><div class=\"sk-label-container\"><div class=\"sk-label sk-toggleable\"><input class=\"sk-toggleable__control sk-hidden--visually\" id=\"5b4828a9-bcb8-43ad-9410-7fae2fb33c0f\" type=\"checkbox\" ><label for=\"5b4828a9-bcb8-43ad-9410-7fae2fb33c0f\" class=\"sk-toggleable__label sk-toggleable__label-arrow\">encode: ColumnTransformer</label><div class=\"sk-toggleable__content\"><pre>ColumnTransformer(remainder=&#x27;passthrough&#x27;,\n",
              "                  transformers=[(&#x27;quanti&#x27;,\n",
              "                                 OneHotEncoder(handle_unknown=&#x27;ignore&#x27;),\n",
              "                                 [&#x27;NAME_CONTRACT_TYPE&#x27;, &#x27;CODE_GENDER&#x27;,\n",
              "                                  &#x27;FLAG_OWN_CAR&#x27;, &#x27;FLAG_OWN_REALTY&#x27;,\n",
              "                                  &#x27;NAME_TYPE_SUITE&#x27;, &#x27;NAME_INCOME_TYPE&#x27;,\n",
              "                                  &#x27;NAME_EDUCATION_TYPE&#x27;, &#x27;NAME_FAMILY_STATUS&#x27;,\n",
              "                                  &#x27;NAME_HOUSING_TYPE&#x27;, &#x27;OCCUPATION_TYPE&#x27;,\n",
              "                                  &#x27;WEEKDAY_APPR_PROCESS_START&#x27;,\n",
              "                                  &#x27;ORGANIZATION_TYPE&#x27;, &#x27;FONDKAPREMONT_MODE&#x27;,\n",
              "                                  &#x27;HOUSETYPE_MODE&#x27;, &#x27;WALLSMATERIAL_MODE&#x27;,\n",
              "                                  &#x27;EMERGENCYSTATE_MODE&#x27;])])</pre></div></div></div><div class=\"sk-parallel\"><div class=\"sk-parallel-item\"><div class=\"sk-item\"><div class=\"sk-label-container\"><div class=\"sk-label sk-toggleable\"><input class=\"sk-toggleable__control sk-hidden--visually\" id=\"b9d5bf94-f396-4512-ba6e-125baa54c986\" type=\"checkbox\" ><label for=\"b9d5bf94-f396-4512-ba6e-125baa54c986\" class=\"sk-toggleable__label sk-toggleable__label-arrow\">quanti</label><div class=\"sk-toggleable__content\"><pre>[&#x27;NAME_CONTRACT_TYPE&#x27;, &#x27;CODE_GENDER&#x27;, &#x27;FLAG_OWN_CAR&#x27;, &#x27;FLAG_OWN_REALTY&#x27;, &#x27;NAME_TYPE_SUITE&#x27;, &#x27;NAME_INCOME_TYPE&#x27;, &#x27;NAME_EDUCATION_TYPE&#x27;, &#x27;NAME_FAMILY_STATUS&#x27;, &#x27;NAME_HOUSING_TYPE&#x27;, &#x27;OCCUPATION_TYPE&#x27;, &#x27;WEEKDAY_APPR_PROCESS_START&#x27;, &#x27;ORGANIZATION_TYPE&#x27;, &#x27;FONDKAPREMONT_MODE&#x27;, &#x27;HOUSETYPE_MODE&#x27;, &#x27;WALLSMATERIAL_MODE&#x27;, &#x27;EMERGENCYSTATE_MODE&#x27;]</pre></div></div></div><div class=\"sk-serial\"><div class=\"sk-item\"><div class=\"sk-estimator sk-toggleable\"><input class=\"sk-toggleable__control sk-hidden--visually\" id=\"f6e55dca-cfb6-49f8-97da-7dabb1a92290\" type=\"checkbox\" ><label for=\"f6e55dca-cfb6-49f8-97da-7dabb1a92290\" class=\"sk-toggleable__label sk-toggleable__label-arrow\">OneHotEncoder</label><div class=\"sk-toggleable__content\"><pre>OneHotEncoder(handle_unknown=&#x27;ignore&#x27;)</pre></div></div></div></div></div></div><div class=\"sk-parallel-item\"><div class=\"sk-item\"><div class=\"sk-label-container\"><div class=\"sk-label sk-toggleable\"><input class=\"sk-toggleable__control sk-hidden--visually\" id=\"d00c90c4-01e2-4f4a-83dd-cfbe0c9b7ae8\" type=\"checkbox\" ><label for=\"d00c90c4-01e2-4f4a-83dd-cfbe0c9b7ae8\" class=\"sk-toggleable__label sk-toggleable__label-arrow\">remainder</label><div class=\"sk-toggleable__content\"><pre>[&#x27;index&#x27;, &#x27;SK_ID_CURR&#x27;, &#x27;CNT_CHILDREN&#x27;, &#x27;DAYS_BIRTH&#x27;, &#x27;DAYS_EMPLOYED&#x27;, &#x27;DAYS_REGISTRATION&#x27;, &#x27;DAYS_ID_PUBLISH&#x27;, &#x27;OWN_CAR_AGE&#x27;, &#x27;FLAG_MOBIL&#x27;, &#x27;FLAG_EMP_PHONE&#x27;, &#x27;FLAG_WORK_PHONE&#x27;, &#x27;FLAG_CONT_MOBILE&#x27;, &#x27;FLAG_PHONE&#x27;, &#x27;FLAG_EMAIL&#x27;, &#x27;CNT_FAM_MEMBERS&#x27;, &#x27;REGION_RATING_CLIENT&#x27;, &#x27;REGION_RATING_CLIENT_W_CITY&#x27;, &#x27;HOUR_APPR_PROCESS_START&#x27;, &#x27;REG_REGION_NOT_LIVE_REGION&#x27;, &#x27;REG_REGION_NOT_WORK_REGION&#x27;, &#x27;LIVE_REGION_NOT_WORK_REGION&#x27;, &#x27;REG_CITY_NOT_LIVE_CITY&#x27;, &#x27;REG_CITY_NOT_WORK_CITY&#x27;, &#x27;LIVE_CITY_NOT_WORK_CITY&#x27;, &#x27;OBS_30_CNT_SOCIAL_CIRCLE&#x27;, &#x27;DEF_30_CNT_SOCIAL_CIRCLE&#x27;, &#x27;OBS_60_CNT_SOCIAL_CIRCLE&#x27;, &#x27;DEF_60_CNT_SOCIAL_CIRCLE&#x27;, &#x27;DAYS_LAST_PHONE_CHANGE&#x27;, &#x27;FLAG_DOCUMENT_2&#x27;, &#x27;FLAG_DOCUMENT_3&#x27;, &#x27;FLAG_DOCUMENT_4&#x27;, &#x27;FLAG_DOCUMENT_5&#x27;, &#x27;FLAG_DOCUMENT_6&#x27;, &#x27;FLAG_DOCUMENT_7&#x27;, &#x27;FLAG_DOCUMENT_8&#x27;, &#x27;FLAG_DOCUMENT_9&#x27;, &#x27;FLAG_DOCUMENT_10&#x27;, &#x27;FLAG_DOCUMENT_11&#x27;, &#x27;FLAG_DOCUMENT_12&#x27;, &#x27;FLAG_DOCUMENT_13&#x27;, &#x27;FLAG_DOCUMENT_14&#x27;, &#x27;FLAG_DOCUMENT_15&#x27;, &#x27;FLAG_DOCUMENT_16&#x27;, &#x27;FLAG_DOCUMENT_17&#x27;, &#x27;FLAG_DOCUMENT_18&#x27;, &#x27;FLAG_DOCUMENT_19&#x27;, &#x27;FLAG_DOCUMENT_20&#x27;, &#x27;FLAG_DOCUMENT_21&#x27;, &#x27;AMT_REQ_CREDIT_BUREAU_HOUR&#x27;, &#x27;AMT_REQ_CREDIT_BUREAU_DAY&#x27;, &#x27;AMT_REQ_CREDIT_BUREAU_WEEK&#x27;, &#x27;AMT_REQ_CREDIT_BUREAU_MON&#x27;, &#x27;AMT_REQ_CREDIT_BUREAU_QRT&#x27;, &#x27;AMT_REQ_CREDIT_BUREAU_YEAR&#x27;, &#x27;BURO_DAYS_CREDIT_MIN&#x27;, &#x27;BURO_DAYS_CREDIT_MAX&#x27;, &#x27;BURO_DAYS_CREDIT_ENDDATE_MIN&#x27;, &#x27;BURO_DAYS_CREDIT_ENDDATE_MAX&#x27;, &#x27;BURO_CREDIT_DAY_OVERDUE_MAX&#x27;, &#x27;BURO_CNT_CREDIT_PROLONG_SUM&#x27;, &#x27;BURO_MONTHS_BALANCE_MIN_MIN&#x27;, &#x27;BURO_MONTHS_BALANCE_MAX_MAX&#x27;, &#x27;BURO_MONTHS_BALANCE_SIZE_SUM&#x27;, &#x27;BURO_CREDIT_ACTIVE_nan_MEAN&#x27;, &#x27;BURO_CREDIT_CURRENCY_nan_MEAN&#x27;, &#x27;BURO_CREDIT_TYPE_Mobile operator loan_MEAN&#x27;, &#x27;BURO_CREDIT_TYPE_nan_MEAN&#x27;, &#x27;BURO_STATUS_nan_MEAN_MEAN&#x27;, &#x27;ACTIVE_DAYS_CREDIT_MIN&#x27;, &#x27;ACTIVE_DAYS_CREDIT_MAX&#x27;, &#x27;ACTIVE_DAYS_CREDIT_ENDDATE_MIN&#x27;, &#x27;ACTIVE_DAYS_CREDIT_ENDDATE_MAX&#x27;, &#x27;ACTIVE_CREDIT_DAY_OVERDUE_MAX&#x27;, &#x27;ACTIVE_CNT_CREDIT_PROLONG_SUM&#x27;, &#x27;ACTIVE_MONTHS_BALANCE_MIN_MIN&#x27;, &#x27;ACTIVE_MONTHS_BALANCE_MAX_MAX&#x27;, &#x27;ACTIVE_MONTHS_BALANCE_SIZE_SUM&#x27;, &#x27;CLOSED_DAYS_CREDIT_MIN&#x27;, &#x27;CLOSED_DAYS_CREDIT_MAX&#x27;, &#x27;CLOSED_DAYS_CREDIT_ENDDATE_MIN&#x27;, &#x27;CLOSED_DAYS_CREDIT_ENDDATE_MAX&#x27;, &#x27;CLOSED_CREDIT_DAY_OVERDUE_MAX&#x27;, &#x27;CLOSED_CNT_CREDIT_PROLONG_SUM&#x27;, &#x27;CLOSED_MONTHS_BALANCE_MIN_MIN&#x27;, &#x27;CLOSED_MONTHS_BALANCE_MAX_MAX&#x27;, &#x27;CLOSED_MONTHS_BALANCE_SIZE_SUM&#x27;, &#x27;PREV_HOUR_APPR_PROCESS_START_MIN&#x27;, &#x27;PREV_HOUR_APPR_PROCESS_START_MAX&#x27;, &#x27;PREV_DAYS_DECISION_MIN&#x27;, &#x27;PREV_DAYS_DECISION_MAX&#x27;, &#x27;PREV_CNT_PAYMENT_SUM&#x27;, &#x27;PREV_NAME_CONTRACT_TYPE_nan_MEAN&#x27;, &#x27;PREV_WEEKDAY_APPR_PROCESS_START_nan_MEAN&#x27;, &#x27;PREV_FLAG_LAST_APPL_PER_CONTRACT_nan_MEAN&#x27;, &#x27;PREV_NAME_CASH_LOAN_PURPOSE_nan_MEAN&#x27;, &#x27;PREV_NAME_CONTRACT_STATUS_nan_MEAN&#x27;, &#x27;PREV_NAME_PAYMENT_TYPE_nan_MEAN&#x27;, &#x27;PREV_CODE_REJECT_REASON_nan_MEAN&#x27;, &#x27;PREV_NAME_CLIENT_TYPE_nan_MEAN&#x27;, &#x27;PREV_NAME_GOODS_CATEGORY_House Construction_MEAN&#x27;, &#x27;PREV_NAME_GOODS_CATEGORY_nan_MEAN&#x27;, &#x27;PREV_NAME_PORTFOLIO_nan_MEAN&#x27;, &#x27;PREV_NAME_PRODUCT_TYPE_nan_MEAN&#x27;, &#x27;PREV_CHANNEL_TYPE_nan_MEAN&#x27;, &#x27;PREV_NAME_SELLER_INDUSTRY_nan_MEAN&#x27;, &#x27;PREV_NAME_YIELD_GROUP_nan_MEAN&#x27;, &#x27;APPROVED_HOUR_APPR_PROCESS_START_MIN&#x27;, &#x27;APPROVED_HOUR_APPR_PROCESS_START_MAX&#x27;, &#x27;APPROVED_DAYS_DECISION_MIN&#x27;, &#x27;APPROVED_DAYS_DECISION_MAX&#x27;, &#x27;APPROVED_CNT_PAYMENT_SUM&#x27;, &#x27;REFUSED_HOUR_APPR_PROCESS_START_MIN&#x27;, &#x27;REFUSED_HOUR_APPR_PROCESS_START_MAX&#x27;, &#x27;REFUSED_DAYS_DECISION_MIN&#x27;, &#x27;REFUSED_DAYS_DECISION_MAX&#x27;, &#x27;REFUSED_CNT_PAYMENT_SUM&#x27;, &#x27;POS_MONTHS_BALANCE_MAX&#x27;, &#x27;POS_MONTHS_BALANCE_SIZE&#x27;, &#x27;POS_SK_DPD_MAX&#x27;, &#x27;POS_SK_DPD_DEF_MAX&#x27;, &#x27;POS_NAME_CONTRACT_STATUS_XNA_MEAN&#x27;, &#x27;POS_NAME_CONTRACT_STATUS_nan_MEAN&#x27;, &#x27;POS_COUNT&#x27;, &#x27;INSTAL_NUM_INSTALMENT_VERSION_NUNIQUE&#x27;, &#x27;INSTAL_DPD_MAX&#x27;, &#x27;INSTAL_DPD_SUM&#x27;, &#x27;INSTAL_DBD_MAX&#x27;, &#x27;INSTAL_DBD_SUM&#x27;, &#x27;INSTAL_DAYS_ENTRY_PAYMENT_MAX&#x27;, &#x27;INSTAL_DAYS_ENTRY_PAYMENT_SUM&#x27;, &#x27;INSTAL_COUNT&#x27;, &#x27;CC_MONTHS_BALANCE_MIN&#x27;, &#x27;CC_MONTHS_BALANCE_MAX&#x27;, &#x27;CC_MONTHS_BALANCE_SUM&#x27;, &#x27;CC_AMT_CREDIT_LIMIT_ACTUAL_MIN&#x27;, &#x27;CC_AMT_CREDIT_LIMIT_ACTUAL_MAX&#x27;, &#x27;CC_AMT_CREDIT_LIMIT_ACTUAL_SUM&#x27;, &#x27;CC_AMT_DRAWINGS_ATM_CURRENT_MIN&#x27;, &#x27;CC_AMT_DRAWINGS_OTHER_CURRENT_MIN&#x27;, &#x27;CC_CNT_DRAWINGS_ATM_CURRENT_MIN&#x27;, &#x27;CC_CNT_DRAWINGS_ATM_CURRENT_MAX&#x27;, &#x27;CC_CNT_DRAWINGS_ATM_CURRENT_SUM&#x27;, &#x27;CC_CNT_DRAWINGS_CURRENT_MIN&#x27;, &#x27;CC_CNT_DRAWINGS_CURRENT_MAX&#x27;, &#x27;CC_CNT_DRAWINGS_CURRENT_SUM&#x27;, &#x27;CC_CNT_DRAWINGS_OTHER_CURRENT_MIN&#x27;, &#x27;CC_CNT_DRAWINGS_OTHER_CURRENT_MAX&#x27;, &#x27;CC_CNT_DRAWINGS_OTHER_CURRENT_SUM&#x27;, &#x27;CC_CNT_DRAWINGS_POS_CURRENT_MIN&#x27;, &#x27;CC_CNT_DRAWINGS_POS_CURRENT_MAX&#x27;, &#x27;CC_CNT_DRAWINGS_POS_CURRENT_SUM&#x27;, &#x27;CC_CNT_INSTALMENT_MATURE_CUM_MIN&#x27;, &#x27;CC_CNT_INSTALMENT_MATURE_CUM_MAX&#x27;, &#x27;CC_CNT_INSTALMENT_MATURE_CUM_SUM&#x27;, &#x27;CC_SK_DPD_MIN&#x27;, &#x27;CC_SK_DPD_MAX&#x27;, &#x27;CC_SK_DPD_SUM&#x27;, &#x27;CC_SK_DPD_DEF_MIN&#x27;, &#x27;CC_SK_DPD_DEF_MAX&#x27;, &#x27;CC_SK_DPD_DEF_SUM&#x27;, &#x27;CC_NAME_CONTRACT_STATUS_Active_MIN&#x27;, &#x27;CC_NAME_CONTRACT_STATUS_Active_MAX&#x27;, &#x27;CC_NAME_CONTRACT_STATUS_Active_SUM&#x27;, &#x27;CC_NAME_CONTRACT_STATUS_Approved_MIN&#x27;, &#x27;CC_NAME_CONTRACT_STATUS_Approved_MAX&#x27;, &#x27;CC_NAME_CONTRACT_STATUS_Approved_SUM&#x27;, &#x27;CC_NAME_CONTRACT_STATUS_Completed_MIN&#x27;, &#x27;CC_NAME_CONTRACT_STATUS_Completed_MAX&#x27;, &#x27;CC_NAME_CONTRACT_STATUS_Completed_SUM&#x27;, &#x27;CC_NAME_CONTRACT_STATUS_Demand_MIN&#x27;, &#x27;CC_NAME_CONTRACT_STATUS_Demand_MAX&#x27;, &#x27;CC_NAME_CONTRACT_STATUS_Demand_SUM&#x27;, &#x27;CC_NAME_CONTRACT_STATUS_Refused_MIN&#x27;, &#x27;CC_NAME_CONTRACT_STATUS_Refused_MAX&#x27;, &#x27;CC_NAME_CONTRACT_STATUS_Refused_SUM&#x27;, &#x27;CC_NAME_CONTRACT_STATUS_Sent proposal_MIN&#x27;, &#x27;CC_NAME_CONTRACT_STATUS_Sent proposal_MAX&#x27;, &#x27;CC_NAME_CONTRACT_STATUS_Sent proposal_SUM&#x27;, &#x27;CC_NAME_CONTRACT_STATUS_Signed_MIN&#x27;, &#x27;CC_NAME_CONTRACT_STATUS_Signed_MAX&#x27;, &#x27;CC_NAME_CONTRACT_STATUS_Signed_SUM&#x27;, &#x27;CC_NAME_CONTRACT_STATUS_nan_MIN&#x27;, &#x27;CC_NAME_CONTRACT_STATUS_nan_MAX&#x27;, &#x27;CC_NAME_CONTRACT_STATUS_nan_MEAN&#x27;, &#x27;CC_NAME_CONTRACT_STATUS_nan_SUM&#x27;, &#x27;CC_NAME_CONTRACT_STATUS_nan_VAR&#x27;, &#x27;CC_COUNT&#x27;, &#x27;AMT_INCOME_TOTAL&#x27;, &#x27;AMT_CREDIT&#x27;, &#x27;AMT_ANNUITY&#x27;, &#x27;AMT_GOODS_PRICE&#x27;, &#x27;REGION_POPULATION_RELATIVE&#x27;, &#x27;EXT_SOURCE_1&#x27;, &#x27;EXT_SOURCE_2&#x27;, &#x27;EXT_SOURCE_3&#x27;, &#x27;APARTMENTS_AVG&#x27;, &#x27;BASEMENTAREA_AVG&#x27;, &#x27;YEARS_BEGINEXPLUATATION_AVG&#x27;, &#x27;YEARS_BUILD_AVG&#x27;, &#x27;COMMONAREA_AVG&#x27;, &#x27;ELEVATORS_AVG&#x27;, &#x27;ENTRANCES_AVG&#x27;, &#x27;FLOORSMAX_AVG&#x27;, &#x27;FLOORSMIN_AVG&#x27;, &#x27;LANDAREA_AVG&#x27;, &#x27;LIVINGAPARTMENTS_AVG&#x27;, &#x27;LIVINGAREA_AVG&#x27;, &#x27;NONLIVINGAPARTMENTS_AVG&#x27;, &#x27;NONLIVINGAREA_AVG&#x27;, &#x27;APARTMENTS_MODE&#x27;, &#x27;BASEMENTAREA_MODE&#x27;, &#x27;YEARS_BEGINEXPLUATATION_MODE&#x27;, &#x27;YEARS_BUILD_MODE&#x27;, &#x27;COMMONAREA_MODE&#x27;, &#x27;ELEVATORS_MODE&#x27;, &#x27;ENTRANCES_MODE&#x27;, &#x27;FLOORSMAX_MODE&#x27;, &#x27;FLOORSMIN_MODE&#x27;, &#x27;LANDAREA_MODE&#x27;, &#x27;LIVINGAPARTMENTS_MODE&#x27;, &#x27;LIVINGAREA_MODE&#x27;, &#x27;NONLIVINGAPARTMENTS_MODE&#x27;, &#x27;NONLIVINGAREA_MODE&#x27;, &#x27;APARTMENTS_MEDI&#x27;, &#x27;BASEMENTAREA_MEDI&#x27;, &#x27;YEARS_BEGINEXPLUATATION_MEDI&#x27;, &#x27;YEARS_BUILD_MEDI&#x27;, &#x27;COMMONAREA_MEDI&#x27;, &#x27;ELEVATORS_MEDI&#x27;, &#x27;ENTRANCES_MEDI&#x27;, &#x27;FLOORSMAX_MEDI&#x27;, &#x27;FLOORSMIN_MEDI&#x27;, &#x27;LANDAREA_MEDI&#x27;, &#x27;LIVINGAPARTMENTS_MEDI&#x27;, &#x27;LIVINGAREA_MEDI&#x27;, &#x27;NONLIVINGAPARTMENTS_MEDI&#x27;, &#x27;NONLIVINGAREA_MEDI&#x27;, &#x27;TOTALAREA_MODE&#x27;, &#x27;DAYS_EMPLOYED_PERC&#x27;, &#x27;INCOME_CREDIT_PERC&#x27;, &#x27;INCOME_PER_PERSON&#x27;, &#x27;ANNUITY_INCOME_PERC&#x27;, &#x27;PAYMENT_RATE&#x27;, &#x27;BURO_DAYS_CREDIT_MEAN&#x27;, &#x27;BURO_DAYS_CREDIT_VAR&#x27;, &#x27;BURO_DAYS_CREDIT_ENDDATE_MEAN&#x27;, &#x27;BURO_DAYS_CREDIT_UPDATE_MEAN&#x27;, &#x27;BURO_CREDIT_DAY_OVERDUE_MEAN&#x27;, &#x27;BURO_AMT_CREDIT_MAX_OVERDUE_MEAN&#x27;, &#x27;BURO_AMT_CREDIT_SUM_MAX&#x27;, &#x27;BURO_AMT_CREDIT_SUM_MEAN&#x27;, &#x27;BURO_AMT_CREDIT_SUM_SUM&#x27;, &#x27;BURO_AMT_CREDIT_SUM_DEBT_MAX&#x27;, &#x27;BURO_AMT_CREDIT_SUM_DEBT_MEAN&#x27;, &#x27;BURO_AMT_CREDIT_SUM_DEBT_SUM&#x27;, &#x27;BURO_AMT_CREDIT_SUM_OVERDUE_MEAN&#x27;, &#x27;BURO_AMT_CREDIT_SUM_LIMIT_MEAN&#x27;, &#x27;BURO_AMT_CREDIT_SUM_LIMIT_SUM&#x27;, &#x27;BURO_AMT_ANNUITY_MAX&#x27;, &#x27;BURO_AMT_ANNUITY_MEAN&#x27;, &#x27;BURO_MONTHS_BALANCE_SIZE_MEAN&#x27;, &#x27;BURO_CREDIT_ACTIVE_Active_MEAN&#x27;, &#x27;BURO_CREDIT_ACTIVE_Bad debt_MEAN&#x27;, &#x27;BURO_CREDIT_ACTIVE_Closed_MEAN&#x27;, &#x27;BURO_CREDIT_ACTIVE_Sold_MEAN&#x27;, &#x27;BURO_CREDIT_CURRENCY_currency 1_MEAN&#x27;, &#x27;BURO_CREDIT_CURRENCY_currency 2_MEAN&#x27;, &#x27;BURO_CREDIT_CURRENCY_currency 3_MEAN&#x27;, &#x27;BURO_CREDIT_CURRENCY_currency 4_MEAN&#x27;, &#x27;BURO_CREDIT_TYPE_Another type of loan_MEAN&#x27;, &#x27;BURO_CREDIT_TYPE_Car loan_MEAN&#x27;, &#x27;BURO_CREDIT_TYPE_Cash loan (non-earmarked)_MEAN&#x27;, &#x27;BURO_CREDIT_TYPE_Consumer credit_MEAN&#x27;, &#x27;BURO_CREDIT_TYPE_Credit card_MEAN&#x27;, &#x27;BURO_CREDIT_TYPE_Interbank credit_MEAN&#x27;, &#x27;BURO_CREDIT_TYPE_Loan for business development_MEAN&#x27;, &#x27;BURO_CREDIT_TYPE_Loan for purchase of shares (margin lending)_MEAN&#x27;, &#x27;BURO_CREDIT_TYPE_Loan for the purchase of equipment_MEAN&#x27;, &#x27;BURO_CREDIT_TYPE_Loan for working capital replenishment_MEAN&#x27;, &#x27;BURO_CREDIT_TYPE_Microloan_MEAN&#x27;, &#x27;BURO_CREDIT_TYPE_Mortgage_MEAN&#x27;, &#x27;BURO_CREDIT_TYPE_Real estate loan_MEAN&#x27;, &#x27;BURO_CREDIT_TYPE_Unknown type of loan_MEAN&#x27;, &#x27;BURO_STATUS_0_MEAN_MEAN&#x27;, &#x27;BURO_STATUS_1_MEAN_MEAN&#x27;, &#x27;BURO_STATUS_2_MEAN_MEAN&#x27;, &#x27;BURO_STATUS_3_MEAN_MEAN&#x27;, &#x27;BURO_STATUS_4_MEAN_MEAN&#x27;, &#x27;BURO_STATUS_5_MEAN_MEAN&#x27;, &#x27;BURO_STATUS_C_MEAN_MEAN&#x27;, &#x27;BURO_STATUS_X_MEAN_MEAN&#x27;, &#x27;ACTIVE_DAYS_CREDIT_MEAN&#x27;, &#x27;ACTIVE_DAYS_CREDIT_VAR&#x27;, &#x27;ACTIVE_DAYS_CREDIT_ENDDATE_MEAN&#x27;, &#x27;ACTIVE_DAYS_CREDIT_UPDATE_MEAN&#x27;, &#x27;ACTIVE_CREDIT_DAY_OVERDUE_MEAN&#x27;, &#x27;ACTIVE_AMT_CREDIT_MAX_OVERDUE_MEAN&#x27;, &#x27;ACTIVE_AMT_CREDIT_SUM_MAX&#x27;, &#x27;ACTIVE_AMT_CREDIT_SUM_MEAN&#x27;, &#x27;ACTIVE_AMT_CREDIT_SUM_SUM&#x27;, &#x27;ACTIVE_AMT_CREDIT_SUM_DEBT_MAX&#x27;, &#x27;ACTIVE_AMT_CREDIT_SUM_DEBT_MEAN&#x27;, &#x27;ACTIVE_AMT_CREDIT_SUM_DEBT_SUM&#x27;, &#x27;ACTIVE_AMT_CREDIT_SUM_OVERDUE_MEAN&#x27;, &#x27;ACTIVE_AMT_CREDIT_SUM_LIMIT_MEAN&#x27;, &#x27;ACTIVE_AMT_CREDIT_SUM_LIMIT_SUM&#x27;, &#x27;ACTIVE_AMT_ANNUITY_MAX&#x27;, &#x27;ACTIVE_AMT_ANNUITY_MEAN&#x27;, &#x27;ACTIVE_MONTHS_BALANCE_SIZE_MEAN&#x27;, &#x27;CLOSED_DAYS_CREDIT_MEAN&#x27;, &#x27;CLOSED_DAYS_CREDIT_VAR&#x27;, &#x27;CLOSED_DAYS_CREDIT_ENDDATE_MEAN&#x27;, &#x27;CLOSED_DAYS_CREDIT_UPDATE_MEAN&#x27;, &#x27;CLOSED_CREDIT_DAY_OVERDUE_MEAN&#x27;, &#x27;CLOSED_AMT_CREDIT_MAX_OVERDUE_MEAN&#x27;, &#x27;CLOSED_AMT_CREDIT_SUM_MAX&#x27;, &#x27;CLOSED_AMT_CREDIT_SUM_MEAN&#x27;, &#x27;CLOSED_AMT_CREDIT_SUM_SUM&#x27;, &#x27;CLOSED_AMT_CREDIT_SUM_DEBT_MAX&#x27;, &#x27;CLOSED_AMT_CREDIT_SUM_DEBT_MEAN&#x27;, &#x27;CLOSED_AMT_CREDIT_SUM_DEBT_SUM&#x27;, &#x27;CLOSED_AMT_CREDIT_SUM_OVERDUE_MEAN&#x27;, &#x27;CLOSED_AMT_CREDIT_SUM_LIMIT_MEAN&#x27;, &#x27;CLOSED_AMT_CREDIT_SUM_LIMIT_SUM&#x27;, &#x27;CLOSED_AMT_ANNUITY_MAX&#x27;, &#x27;CLOSED_AMT_ANNUITY_MEAN&#x27;, &#x27;CLOSED_MONTHS_BALANCE_SIZE_MEAN&#x27;, &#x27;PREV_AMT_ANNUITY_MIN&#x27;, &#x27;PREV_AMT_ANNUITY_MAX&#x27;, &#x27;PREV_AMT_ANNUITY_MEAN&#x27;, &#x27;PREV_AMT_APPLICATION_MIN&#x27;, &#x27;PREV_AMT_APPLICATION_MAX&#x27;, &#x27;PREV_AMT_APPLICATION_MEAN&#x27;, &#x27;PREV_AMT_CREDIT_MIN&#x27;, &#x27;PREV_AMT_CREDIT_MAX&#x27;, &#x27;PREV_AMT_CREDIT_MEAN&#x27;, &#x27;PREV_APP_CREDIT_PERC_MIN&#x27;, &#x27;PREV_APP_CREDIT_PERC_MAX&#x27;, &#x27;PREV_APP_CREDIT_PERC_MEAN&#x27;, &#x27;PREV_APP_CREDIT_PERC_VAR&#x27;, &#x27;PREV_AMT_DOWN_PAYMENT_MIN&#x27;, &#x27;PREV_AMT_DOWN_PAYMENT_MAX&#x27;, &#x27;PREV_AMT_DOWN_PAYMENT_MEAN&#x27;, &#x27;PREV_AMT_GOODS_PRICE_MIN&#x27;, &#x27;PREV_AMT_GOODS_PRICE_MAX&#x27;, &#x27;PREV_AMT_GOODS_PRICE_MEAN&#x27;, &#x27;PREV_HOUR_APPR_PROCESS_START_MEAN&#x27;, &#x27;PREV_RATE_DOWN_PAYMENT_MIN&#x27;, &#x27;PREV_RATE_DOWN_PAYMENT_MAX&#x27;, &#x27;PREV_RATE_DOWN_PAYMENT_MEAN&#x27;, &#x27;PREV_DAYS_DECISION_MEAN&#x27;, &#x27;PREV_CNT_PAYMENT_MEAN&#x27;, &#x27;PREV_NAME_CONTRACT_TYPE_Cash loans_MEAN&#x27;, &#x27;PREV_NAME_CONTRACT_TYPE_Consumer loans_MEAN&#x27;, &#x27;PREV_NAME_CONTRACT_TYPE_Revolving loans_MEAN&#x27;, &#x27;PREV_NAME_CONTRACT_TYPE_XNA_MEAN&#x27;, &#x27;PREV_WEEKDAY_APPR_PROCESS_START_FRIDAY_MEAN&#x27;, &#x27;PREV_WEEKDAY_APPR_PROCESS_START_MONDAY_MEAN&#x27;, &#x27;PREV_WEEKDAY_APPR_PROCESS_START_SATURDAY_MEAN&#x27;, &#x27;PREV_WEEKDAY_APPR_PROCESS_START_SUNDAY_MEAN&#x27;, &#x27;PREV_WEEKDAY_APPR_PROCESS_START_THURSDAY_MEAN&#x27;, &#x27;PREV_WEEKDAY_APPR_PROCESS_START_TUESDAY_MEAN&#x27;, &#x27;PREV_WEEKDAY_APPR_PROCESS_START_WEDNESDAY_MEAN&#x27;, &#x27;PREV_FLAG_LAST_APPL_PER_CONTRACT_N_MEAN&#x27;, &#x27;PREV_FLAG_LAST_APPL_PER_CONTRACT_Y_MEAN&#x27;, &#x27;PREV_NAME_CASH_LOAN_PURPOSE_Building a house or an annex_MEAN&#x27;, &#x27;PREV_NAME_CASH_LOAN_PURPOSE_Business development_MEAN&#x27;, &#x27;PREV_NAME_CASH_LOAN_PURPOSE_Buying a garage_MEAN&#x27;, &#x27;PREV_NAME_CASH_LOAN_PURPOSE_Buying a holiday home / land_MEAN&#x27;, &#x27;PREV_NAME_CASH_LOAN_PURPOSE_Buying a home_MEAN&#x27;, &#x27;PREV_NAME_CASH_LOAN_PURPOSE_Buying a new car_MEAN&#x27;, &#x27;PREV_NAME_CASH_LOAN_PURPOSE_Buying a used car_MEAN&#x27;, &#x27;PREV_NAME_CASH_LOAN_PURPOSE_Car repairs_MEAN&#x27;, &#x27;PREV_NAME_CASH_LOAN_PURPOSE_Education_MEAN&#x27;, &#x27;PREV_NAME_CASH_LOAN_PURPOSE_Everyday expenses_MEAN&#x27;, &#x27;PREV_NAME_CASH_LOAN_PURPOSE_Furniture_MEAN&#x27;, &#x27;PREV_NAME_CASH_LOAN_PURPOSE_Gasification / water supply_MEAN&#x27;, &#x27;PREV_NAME_CASH_LOAN_PURPOSE_Hobby_MEAN&#x27;, &#x27;PREV_NAME_CASH_LOAN_PURPOSE_Journey_MEAN&#x27;, &#x27;PREV_NAME_CASH_LOAN_PURPOSE_Medicine_MEAN&#x27;, &#x27;PREV_NAME_CASH_LOAN_PURPOSE_Money for a third person_MEAN&#x27;, &#x27;PREV_NAME_CASH_LOAN_PURPOSE_Other_MEAN&#x27;, &#x27;PREV_NAME_CASH_LOAN_PURPOSE_Payments on other loans_MEAN&#x27;, &#x27;PREV_NAME_CASH_LOAN_PURPOSE_Purchase of electronic equipment_MEAN&#x27;, &#x27;PREV_NAME_CASH_LOAN_PURPOSE_Refusal to name the goal_MEAN&#x27;, &#x27;PREV_NAME_CASH_LOAN_PURPOSE_Repairs_MEAN&#x27;, &#x27;PREV_NAME_CASH_LOAN_PURPOSE_Urgent needs_MEAN&#x27;, &#x27;PREV_NAME_CASH_LOAN_PURPOSE_Wedding / gift / holiday_MEAN&#x27;, &#x27;PREV_NAME_CASH_LOAN_PURPOSE_XAP_MEAN&#x27;, &#x27;PREV_NAME_CASH_LOAN_PURPOSE_XNA_MEAN&#x27;, &#x27;PREV_NAME_CONTRACT_STATUS_Approved_MEAN&#x27;, &#x27;PREV_NAME_CONTRACT_STATUS_Canceled_MEAN&#x27;, &#x27;PREV_NAME_CONTRACT_STATUS_Refused_MEAN&#x27;, &#x27;PREV_NAME_CONTRACT_STATUS_Unused offer_MEAN&#x27;, &#x27;PREV_NAME_PAYMENT_TYPE_Cash through the bank_MEAN&#x27;, &#x27;PREV_NAME_PAYMENT_TYPE_Cashless from the account of the employer_MEAN&#x27;, &#x27;PREV_NAME_PAYMENT_TYPE_Non-cash from your account_MEAN&#x27;, &#x27;PREV_NAME_PAYMENT_TYPE_XNA_MEAN&#x27;, &#x27;PREV_CODE_REJECT_REASON_CLIENT_MEAN&#x27;, &#x27;PREV_CODE_REJECT_REASON_HC_MEAN&#x27;, &#x27;PREV_CODE_REJECT_REASON_LIMIT_MEAN&#x27;, &#x27;PREV_CODE_REJECT_REASON_SCO_MEAN&#x27;, &#x27;PREV_CODE_REJECT_REASON_SCOFR_MEAN&#x27;, &#x27;PREV_CODE_REJECT_REASON_SYSTEM_MEAN&#x27;, &#x27;PREV_CODE_REJECT_REASON_VERIF_MEAN&#x27;, &#x27;PREV_CODE_REJECT_REASON_XAP_MEAN&#x27;, &#x27;PREV_CODE_REJECT_REASON_XNA_MEAN&#x27;, &#x27;PREV_NAME_TYPE_SUITE_Children_MEAN&#x27;, &#x27;PREV_NAME_TYPE_SUITE_Family_MEAN&#x27;, &#x27;PREV_NAME_TYPE_SUITE_Group of people_MEAN&#x27;, &#x27;PREV_NAME_TYPE_SUITE_Other_A_MEAN&#x27;, &#x27;PREV_NAME_TYPE_SUITE_Other_B_MEAN&#x27;, &#x27;PREV_NAME_TYPE_SUITE_Spouse, partner_MEAN&#x27;, &#x27;PREV_NAME_TYPE_SUITE_Unaccompanied_MEAN&#x27;, &#x27;PREV_NAME_TYPE_SUITE_nan_MEAN&#x27;, &#x27;PREV_NAME_CLIENT_TYPE_New_MEAN&#x27;, &#x27;PREV_NAME_CLIENT_TYPE_Refreshed_MEAN&#x27;, &#x27;PREV_NAME_CLIENT_TYPE_Repeater_MEAN&#x27;, &#x27;PREV_NAME_CLIENT_TYPE_XNA_MEAN&#x27;, &#x27;PREV_NAME_GOODS_CATEGORY_Additional Service_MEAN&#x27;, &#x27;PREV_NAME_GOODS_CATEGORY_Animals_MEAN&#x27;, &#x27;PREV_NAME_GOODS_CATEGORY_Audio/Video_MEAN&#x27;, &#x27;PREV_NAME_GOODS_CATEGORY_Auto Accessories_MEAN&#x27;, &#x27;PREV_NAME_GOODS_CATEGORY_Clothing and Accessories_MEAN&#x27;, &#x27;PREV_NAME_GOODS_CATEGORY_Computers_MEAN&#x27;, &#x27;PREV_NAME_GOODS_CATEGORY_Construction Materials_MEAN&#x27;, &#x27;PREV_NAME_GOODS_CATEGORY_Consumer Electronics_MEAN&#x27;, &#x27;PREV_NAME_GOODS_CATEGORY_Direct Sales_MEAN&#x27;, &#x27;PREV_NAME_GOODS_CATEGORY_Education_MEAN&#x27;, &#x27;PREV_NAME_GOODS_CATEGORY_Fitness_MEAN&#x27;, &#x27;PREV_NAME_GOODS_CATEGORY_Furniture_MEAN&#x27;, &#x27;PREV_NAME_GOODS_CATEGORY_Gardening_MEAN&#x27;, &#x27;PREV_NAME_GOODS_CATEGORY_Homewares_MEAN&#x27;, &#x27;PREV_NAME_GOODS_CATEGORY_Insurance_MEAN&#x27;, &#x27;PREV_NAME_GOODS_CATEGORY_Jewelry_MEAN&#x27;, &#x27;PREV_NAME_GOODS_CATEGORY_Medical Supplies_MEAN&#x27;, &#x27;PREV_NAME_GOODS_CATEGORY_Medicine_MEAN&#x27;, &#x27;PREV_NAME_GOODS_CATEGORY_Mobile_MEAN&#x27;, &#x27;PREV_NAME_GOODS_CATEGORY_Office Appliances_MEAN&#x27;, &#x27;PREV_NAME_GOODS_CATEGORY_Other_MEAN&#x27;, &#x27;PREV_NAME_GOODS_CATEGORY_Photo / Cinema Equipment_MEAN&#x27;, &#x27;PREV_NAME_GOODS_CATEGORY_Sport and Leisure_MEAN&#x27;, &#x27;PREV_NAME_GOODS_CATEGORY_Tourism_MEAN&#x27;, &#x27;PREV_NAME_GOODS_CATEGORY_Vehicles_MEAN&#x27;, &#x27;PREV_NAME_GOODS_CATEGORY_Weapon_MEAN&#x27;, &#x27;PREV_NAME_GOODS_CATEGORY_XNA_MEAN&#x27;, &#x27;PREV_NAME_PORTFOLIO_Cards_MEAN&#x27;, &#x27;PREV_NAME_PORTFOLIO_Cars_MEAN&#x27;, &#x27;PREV_NAME_PORTFOLIO_Cash_MEAN&#x27;, &#x27;PREV_NAME_PORTFOLIO_POS_MEAN&#x27;, &#x27;PREV_NAME_PORTFOLIO_XNA_MEAN&#x27;, &#x27;PREV_NAME_PRODUCT_TYPE_XNA_MEAN&#x27;, &#x27;PREV_NAME_PRODUCT_TYPE_walk-in_MEAN&#x27;, &#x27;PREV_NAME_PRODUCT_TYPE_x-sell_MEAN&#x27;, &#x27;PREV_CHANNEL_TYPE_AP+ (Cash loan)_MEAN&#x27;, &#x27;PREV_CHANNEL_TYPE_Car dealer_MEAN&#x27;, &#x27;PREV_CHANNEL_TYPE_Channel of corporate sales_MEAN&#x27;, &#x27;PREV_CHANNEL_TYPE_Contact center_MEAN&#x27;, &#x27;PREV_CHANNEL_TYPE_Country-wide_MEAN&#x27;, &#x27;PREV_CHANNEL_TYPE_Credit and cash offices_MEAN&#x27;, &#x27;PREV_CHANNEL_TYPE_Regional / Local_MEAN&#x27;, &#x27;PREV_CHANNEL_TYPE_Stone_MEAN&#x27;, &#x27;PREV_NAME_SELLER_INDUSTRY_Auto technology_MEAN&#x27;, &#x27;PREV_NAME_SELLER_INDUSTRY_Clothing_MEAN&#x27;, &#x27;PREV_NAME_SELLER_INDUSTRY_Connectivity_MEAN&#x27;, &#x27;PREV_NAME_SELLER_INDUSTRY_Construction_MEAN&#x27;, &#x27;PREV_NAME_SELLER_INDUSTRY_Consumer electronics_MEAN&#x27;, &#x27;PREV_NAME_SELLER_INDUSTRY_Furniture_MEAN&#x27;, &#x27;PREV_NAME_SELLER_INDUSTRY_Industry_MEAN&#x27;, &#x27;PREV_NAME_SELLER_INDUSTRY_Jewelry_MEAN&#x27;, &#x27;PREV_NAME_SELLER_INDUSTRY_MLM partners_MEAN&#x27;, &#x27;PREV_NAME_SELLER_INDUSTRY_Tourism_MEAN&#x27;, &#x27;PREV_NAME_SELLER_INDUSTRY_XNA_MEAN&#x27;, &#x27;PREV_NAME_YIELD_GROUP_XNA_MEAN&#x27;, &#x27;PREV_NAME_YIELD_GROUP_high_MEAN&#x27;, &#x27;PREV_NAME_YIELD_GROUP_low_action_MEAN&#x27;, &#x27;PREV_NAME_YIELD_GROUP_low_normal_MEAN&#x27;, &#x27;PREV_NAME_YIELD_GROUP_middle_MEAN&#x27;, &#x27;PREV_PRODUCT_COMBINATION_Card Street_MEAN&#x27;, &#x27;PREV_PRODUCT_COMBINATION_Card X-Sell_MEAN&#x27;, &#x27;PREV_PRODUCT_COMBINATION_Cash_MEAN&#x27;, &#x27;PREV_PRODUCT_COMBINATION_Cash Street: high_MEAN&#x27;, &#x27;PREV_PRODUCT_COMBINATION_Cash Street: low_MEAN&#x27;, &#x27;PREV_PRODUCT_COMBINATION_Cash Street: middle_MEAN&#x27;, &#x27;PREV_PRODUCT_COMBINATION_Cash X-Sell: high_MEAN&#x27;, &#x27;PREV_PRODUCT_COMBINATION_Cash X-Sell: low_MEAN&#x27;, &#x27;PREV_PRODUCT_COMBINATION_Cash X-Sell: middle_MEAN&#x27;, &#x27;PREV_PRODUCT_COMBINATION_POS household with interest_MEAN&#x27;, &#x27;PREV_PRODUCT_COMBINATION_POS household without interest_MEAN&#x27;, &#x27;PREV_PRODUCT_COMBINATION_POS industry with interest_MEAN&#x27;, &#x27;PREV_PRODUCT_COMBINATION_POS industry without interest_MEAN&#x27;, &#x27;PREV_PRODUCT_COMBINATION_POS mobile with interest_MEAN&#x27;, &#x27;PREV_PRODUCT_COMBINATION_POS mobile without interest_MEAN&#x27;, &#x27;PREV_PRODUCT_COMBINATION_POS other with interest_MEAN&#x27;, &#x27;PREV_PRODUCT_COMBINATION_POS others without interest_MEAN&#x27;, &#x27;PREV_PRODUCT_COMBINATION_nan_MEAN&#x27;, &#x27;APPROVED_AMT_ANNUITY_MIN&#x27;, &#x27;APPROVED_AMT_ANNUITY_MAX&#x27;, &#x27;APPROVED_AMT_ANNUITY_MEAN&#x27;, &#x27;APPROVED_AMT_APPLICATION_MIN&#x27;, &#x27;APPROVED_AMT_APPLICATION_MAX&#x27;, &#x27;APPROVED_AMT_APPLICATION_MEAN&#x27;, &#x27;APPROVED_AMT_CREDIT_MIN&#x27;, &#x27;APPROVED_AMT_CREDIT_MAX&#x27;, &#x27;APPROVED_AMT_CREDIT_MEAN&#x27;, &#x27;APPROVED_APP_CREDIT_PERC_MIN&#x27;, &#x27;APPROVED_APP_CREDIT_PERC_MAX&#x27;, &#x27;APPROVED_APP_CREDIT_PERC_MEAN&#x27;, &#x27;APPROVED_APP_CREDIT_PERC_VAR&#x27;, &#x27;APPROVED_AMT_DOWN_PAYMENT_MIN&#x27;, &#x27;APPROVED_AMT_DOWN_PAYMENT_MAX&#x27;, &#x27;APPROVED_AMT_DOWN_PAYMENT_MEAN&#x27;, &#x27;APPROVED_AMT_GOODS_PRICE_MIN&#x27;, &#x27;APPROVED_AMT_GOODS_PRICE_MAX&#x27;, &#x27;APPROVED_AMT_GOODS_PRICE_MEAN&#x27;, &#x27;APPROVED_HOUR_APPR_PROCESS_START_MEAN&#x27;, &#x27;APPROVED_RATE_DOWN_PAYMENT_MIN&#x27;, &#x27;APPROVED_RATE_DOWN_PAYMENT_MAX&#x27;, &#x27;APPROVED_RATE_DOWN_PAYMENT_MEAN&#x27;, &#x27;APPROVED_DAYS_DECISION_MEAN&#x27;, &#x27;APPROVED_CNT_PAYMENT_MEAN&#x27;, &#x27;REFUSED_AMT_ANNUITY_MIN&#x27;, &#x27;REFUSED_AMT_ANNUITY_MAX&#x27;, &#x27;REFUSED_AMT_ANNUITY_MEAN&#x27;, &#x27;REFUSED_AMT_APPLICATION_MIN&#x27;, &#x27;REFUSED_AMT_APPLICATION_MAX&#x27;, &#x27;REFUSED_AMT_APPLICATION_MEAN&#x27;, &#x27;REFUSED_AMT_CREDIT_MIN&#x27;, &#x27;REFUSED_AMT_CREDIT_MAX&#x27;, &#x27;REFUSED_AMT_CREDIT_MEAN&#x27;, &#x27;REFUSED_APP_CREDIT_PERC_MIN&#x27;, &#x27;REFUSED_APP_CREDIT_PERC_MAX&#x27;, &#x27;REFUSED_APP_CREDIT_PERC_MEAN&#x27;, &#x27;REFUSED_APP_CREDIT_PERC_VAR&#x27;, &#x27;REFUSED_AMT_DOWN_PAYMENT_MIN&#x27;, &#x27;REFUSED_AMT_DOWN_PAYMENT_MAX&#x27;, &#x27;REFUSED_AMT_DOWN_PAYMENT_MEAN&#x27;, &#x27;REFUSED_AMT_GOODS_PRICE_MIN&#x27;, &#x27;REFUSED_AMT_GOODS_PRICE_MAX&#x27;, &#x27;REFUSED_AMT_GOODS_PRICE_MEAN&#x27;, &#x27;REFUSED_HOUR_APPR_PROCESS_START_MEAN&#x27;, &#x27;REFUSED_RATE_DOWN_PAYMENT_MIN&#x27;, &#x27;REFUSED_RATE_DOWN_PAYMENT_MAX&#x27;, &#x27;REFUSED_RATE_DOWN_PAYMENT_MEAN&#x27;, &#x27;REFUSED_DAYS_DECISION_MEAN&#x27;, &#x27;REFUSED_CNT_PAYMENT_MEAN&#x27;, &#x27;POS_MONTHS_BALANCE_MEAN&#x27;, &#x27;POS_SK_DPD_MEAN&#x27;, &#x27;POS_SK_DPD_DEF_MEAN&#x27;, &#x27;POS_NAME_CONTRACT_STATUS_Active_MEAN&#x27;, &#x27;POS_NAME_CONTRACT_STATUS_Amortized debt_MEAN&#x27;, &#x27;POS_NAME_CONTRACT_STATUS_Approved_MEAN&#x27;, &#x27;POS_NAME_CONTRACT_STATUS_Canceled_MEAN&#x27;, &#x27;POS_NAME_CONTRACT_STATUS_Completed_MEAN&#x27;, &#x27;POS_NAME_CONTRACT_STATUS_Demand_MEAN&#x27;, &#x27;POS_NAME_CONTRACT_STATUS_Returned to the store_MEAN&#x27;, &#x27;POS_NAME_CONTRACT_STATUS_Signed_MEAN&#x27;, &#x27;INSTAL_DPD_MEAN&#x27;, &#x27;INSTAL_DBD_MEAN&#x27;, &#x27;INSTAL_PAYMENT_PERC_MAX&#x27;, &#x27;INSTAL_PAYMENT_PERC_MEAN&#x27;, &#x27;INSTAL_PAYMENT_PERC_SUM&#x27;, &#x27;INSTAL_PAYMENT_PERC_VAR&#x27;, &#x27;INSTAL_PAYMENT_DIFF_MAX&#x27;, &#x27;INSTAL_PAYMENT_DIFF_MEAN&#x27;, &#x27;INSTAL_PAYMENT_DIFF_SUM&#x27;, &#x27;INSTAL_PAYMENT_DIFF_VAR&#x27;, &#x27;INSTAL_AMT_INSTALMENT_MAX&#x27;, &#x27;INSTAL_AMT_INSTALMENT_MEAN&#x27;, &#x27;INSTAL_AMT_INSTALMENT_SUM&#x27;, &#x27;INSTAL_AMT_PAYMENT_MIN&#x27;, &#x27;INSTAL_AMT_PAYMENT_MAX&#x27;, &#x27;INSTAL_AMT_PAYMENT_MEAN&#x27;, &#x27;INSTAL_AMT_PAYMENT_SUM&#x27;, &#x27;INSTAL_DAYS_ENTRY_PAYMENT_MEAN&#x27;, &#x27;CC_MONTHS_BALANCE_MEAN&#x27;, &#x27;CC_MONTHS_BALANCE_VAR&#x27;, &#x27;CC_AMT_BALANCE_MIN&#x27;, &#x27;CC_AMT_BALANCE_MAX&#x27;, &#x27;CC_AMT_BALANCE_MEAN&#x27;, &#x27;CC_AMT_BALANCE_SUM&#x27;, &#x27;CC_AMT_BALANCE_VAR&#x27;, &#x27;CC_AMT_CREDIT_LIMIT_ACTUAL_MEAN&#x27;, &#x27;CC_AMT_CREDIT_LIMIT_ACTUAL_VAR&#x27;, &#x27;CC_AMT_DRAWINGS_ATM_CURRENT_MAX&#x27;, &#x27;CC_AMT_DRAWINGS_ATM_CURRENT_MEAN&#x27;, &#x27;CC_AMT_DRAWINGS_ATM_CURRENT_SUM&#x27;, &#x27;CC_AMT_DRAWINGS_ATM_CURRENT_VAR&#x27;, &#x27;CC_AMT_DRAWINGS_CURRENT_MIN&#x27;, &#x27;CC_AMT_DRAWINGS_CURRENT_MAX&#x27;, &#x27;CC_AMT_DRAWINGS_CURRENT_MEAN&#x27;, &#x27;CC_AMT_DRAWINGS_CURRENT_SUM&#x27;, &#x27;CC_AMT_DRAWINGS_CURRENT_VAR&#x27;, &#x27;CC_AMT_DRAWINGS_OTHER_CURRENT_MAX&#x27;, &#x27;CC_AMT_DRAWINGS_OTHER_CURRENT_MEAN&#x27;, &#x27;CC_AMT_DRAWINGS_OTHER_CURRENT_SUM&#x27;, &#x27;CC_AMT_DRAWINGS_OTHER_CURRENT_VAR&#x27;, &#x27;CC_AMT_DRAWINGS_POS_CURRENT_MIN&#x27;, &#x27;CC_AMT_DRAWINGS_POS_CURRENT_MAX&#x27;, &#x27;CC_AMT_DRAWINGS_POS_CURRENT_MEAN&#x27;, &#x27;CC_AMT_DRAWINGS_POS_CURRENT_SUM&#x27;, &#x27;CC_AMT_DRAWINGS_POS_CURRENT_VAR&#x27;, &#x27;CC_AMT_INST_MIN_REGULARITY_MIN&#x27;, &#x27;CC_AMT_INST_MIN_REGULARITY_MAX&#x27;, &#x27;CC_AMT_INST_MIN_REGULARITY_MEAN&#x27;, &#x27;CC_AMT_INST_MIN_REGULARITY_SUM&#x27;, &#x27;CC_AMT_INST_MIN_REGULARITY_VAR&#x27;, &#x27;CC_AMT_PAYMENT_CURRENT_MIN&#x27;, &#x27;CC_AMT_PAYMENT_CURRENT_MAX&#x27;, &#x27;CC_AMT_PAYMENT_CURRENT_MEAN&#x27;, &#x27;CC_AMT_PAYMENT_CURRENT_SUM&#x27;, &#x27;CC_AMT_PAYMENT_CURRENT_VAR&#x27;, &#x27;CC_AMT_PAYMENT_TOTAL_CURRENT_MIN&#x27;, &#x27;CC_AMT_PAYMENT_TOTAL_CURRENT_MAX&#x27;, &#x27;CC_AMT_PAYMENT_TOTAL_CURRENT_MEAN&#x27;, &#x27;CC_AMT_PAYMENT_TOTAL_CURRENT_SUM&#x27;, &#x27;CC_AMT_PAYMENT_TOTAL_CURRENT_VAR&#x27;, &#x27;CC_AMT_RECEIVABLE_PRINCIPAL_MIN&#x27;, &#x27;CC_AMT_RECEIVABLE_PRINCIPAL_MAX&#x27;, &#x27;CC_AMT_RECEIVABLE_PRINCIPAL_MEAN&#x27;, &#x27;CC_AMT_RECEIVABLE_PRINCIPAL_SUM&#x27;, &#x27;CC_AMT_RECEIVABLE_PRINCIPAL_VAR&#x27;, &#x27;CC_AMT_RECIVABLE_MIN&#x27;, &#x27;CC_AMT_RECIVABLE_MAX&#x27;, &#x27;CC_AMT_RECIVABLE_MEAN&#x27;, &#x27;CC_AMT_RECIVABLE_SUM&#x27;, &#x27;CC_AMT_RECIVABLE_VAR&#x27;, &#x27;CC_AMT_TOTAL_RECEIVABLE_MIN&#x27;, &#x27;CC_AMT_TOTAL_RECEIVABLE_MAX&#x27;, &#x27;CC_AMT_TOTAL_RECEIVABLE_MEAN&#x27;, &#x27;CC_AMT_TOTAL_RECEIVABLE_SUM&#x27;, &#x27;CC_AMT_TOTAL_RECEIVABLE_VAR&#x27;, &#x27;CC_CNT_DRAWINGS_ATM_CURRENT_MEAN&#x27;, &#x27;CC_CNT_DRAWINGS_ATM_CURRENT_VAR&#x27;, &#x27;CC_CNT_DRAWINGS_CURRENT_MEAN&#x27;, &#x27;CC_CNT_DRAWINGS_CURRENT_VAR&#x27;, &#x27;CC_CNT_DRAWINGS_OTHER_CURRENT_MEAN&#x27;, &#x27;CC_CNT_DRAWINGS_OTHER_CURRENT_VAR&#x27;, &#x27;CC_CNT_DRAWINGS_POS_CURRENT_MEAN&#x27;, &#x27;CC_CNT_DRAWINGS_POS_CURRENT_VAR&#x27;, &#x27;CC_CNT_INSTALMENT_MATURE_CUM_MEAN&#x27;, &#x27;CC_CNT_INSTALMENT_MATURE_CUM_VAR&#x27;, &#x27;CC_SK_DPD_MEAN&#x27;, &#x27;CC_SK_DPD_VAR&#x27;, &#x27;CC_SK_DPD_DEF_MEAN&#x27;, &#x27;CC_SK_DPD_DEF_VAR&#x27;, &#x27;CC_NAME_CONTRACT_STATUS_Active_MEAN&#x27;, &#x27;CC_NAME_CONTRACT_STATUS_Active_VAR&#x27;, &#x27;CC_NAME_CONTRACT_STATUS_Approved_MEAN&#x27;, &#x27;CC_NAME_CONTRACT_STATUS_Approved_VAR&#x27;, &#x27;CC_NAME_CONTRACT_STATUS_Completed_MEAN&#x27;, &#x27;CC_NAME_CONTRACT_STATUS_Completed_VAR&#x27;, &#x27;CC_NAME_CONTRACT_STATUS_Demand_MEAN&#x27;, &#x27;CC_NAME_CONTRACT_STATUS_Demand_VAR&#x27;, &#x27;CC_NAME_CONTRACT_STATUS_Refused_MEAN&#x27;, &#x27;CC_NAME_CONTRACT_STATUS_Refused_VAR&#x27;, &#x27;CC_NAME_CONTRACT_STATUS_Sent proposal_MEAN&#x27;, &#x27;CC_NAME_CONTRACT_STATUS_Sent proposal_VAR&#x27;, &#x27;CC_NAME_CONTRACT_STATUS_Signed_MEAN&#x27;, &#x27;CC_NAME_CONTRACT_STATUS_Signed_VAR&#x27;]</pre></div></div></div><div class=\"sk-serial\"><div class=\"sk-item\"><div class=\"sk-estimator sk-toggleable\"><input class=\"sk-toggleable__control sk-hidden--visually\" id=\"265a25c7-c942-4e5b-bb81-24092ff7f7bc\" type=\"checkbox\" ><label for=\"265a25c7-c942-4e5b-bb81-24092ff7f7bc\" class=\"sk-toggleable__label sk-toggleable__label-arrow\">passthrough</label><div class=\"sk-toggleable__content\"><pre>passthrough</pre></div></div></div></div></div></div></div></div><div class=\"sk-item\"><div class=\"sk-estimator sk-toggleable\"><input class=\"sk-toggleable__control sk-hidden--visually\" id=\"6b1aa434-fdad-4906-8d01-006529fe85af\" type=\"checkbox\" ><label for=\"6b1aa434-fdad-4906-8d01-006529fe85af\" class=\"sk-toggleable__label sk-toggleable__label-arrow\">LogisticRegression</label><div class=\"sk-toggleable__content\"><pre>LogisticRegression()</pre></div></div></div></div></div></div></div>"
            ]
          },
          "metadata": {},
          "execution_count": 22
        }
      ]
    },
    {
      "cell_type": "code",
      "source": [
        "\n",
        "y_pred = SN_transfo.predict(X_train)\n"
      ],
      "metadata": {
        "id": "Y9MMcvIB6g5e"
      },
      "id": "Y9MMcvIB6g5e",
      "execution_count": 24,
      "outputs": []
    },
    {
      "cell_type": "code",
      "source": [
        "y_pred"
      ],
      "metadata": {
        "colab": {
          "base_uri": "https://localhost:8080/"
        },
        "id": "1ibLwKxSYNEh",
        "outputId": "2d81e106-e546-4c2e-ba2a-23331f5ee788"
      },
      "id": "1ibLwKxSYNEh",
      "execution_count": 26,
      "outputs": [
        {
          "output_type": "execute_result",
          "data": {
            "text/plain": [
              "array([0, 0, 0, ..., 0, 1, 0])"
            ]
          },
          "metadata": {},
          "execution_count": 26
        }
      ]
    },
    {
      "cell_type": "code",
      "source": [
        "print(len(y_pred))\n",
        "print(X_train.shape)"
      ],
      "metadata": {
        "colab": {
          "base_uri": "https://localhost:8080/"
        },
        "id": "g7P8Nplp0u6U",
        "outputId": "a5d756b7-3a4c-4a23-e6ab-575e7f3b148d"
      },
      "id": "g7P8Nplp0u6U",
      "execution_count": 28,
      "outputs": [
        {
          "output_type": "stream",
          "name": "stdout",
          "text": [
            "61502\n",
            "(61502, 677)\n"
          ]
        }
      ]
    },
    {
      "cell_type": "code",
      "source": [
        "SN_transfo.score(X_train,y_pred)"
      ],
      "metadata": {
        "colab": {
          "base_uri": "https://localhost:8080/"
        },
        "id": "DFhl6mieXhHv",
        "outputId": "35497c07-984a-43aa-ceeb-6e66ddaa71f4"
      },
      "id": "DFhl6mieXhHv",
      "execution_count": 25,
      "outputs": [
        {
          "output_type": "execute_result",
          "data": {
            "text/plain": [
              "1.0"
            ]
          },
          "metadata": {},
          "execution_count": 25
        }
      ]
    },
    {
      "cell_type": "code",
      "source": [
        "X_stan_for_Smotenc = SN_transfo.transform(X_train)"
      ],
      "metadata": {
        "id": "ARs5g5cmYwQM"
      },
      "id": "ARs5g5cmYwQM",
      "execution_count": 17,
      "outputs": []
    },
    {
      "cell_type": "code",
      "source": [
        "len(SN_transfo['encode'].get_feature_names_out().tolist())\n"
      ],
      "metadata": {
        "colab": {
          "base_uri": "https://localhost:8080/"
        },
        "id": "jnbhK3t11WC0",
        "outputId": "d27e4fd0-5cb2-47a9-abdd-f2633fc59b5e"
      },
      "id": "jnbhK3t11WC0",
      "execution_count": 28,
      "outputs": [
        {
          "output_type": "execute_result",
          "data": {
            "text/plain": [
              "804"
            ]
          },
          "metadata": {},
          "execution_count": 28
        }
      ]
    },
    {
      "cell_type": "code",
      "source": [
        "list_cols = pd.Series(SN_transfo['encode'].get_feature_names_out().tolist())\n",
        "# print(list_cols)\n",
        "list_cols = list_cols.str.replace('quanti__','').str.replace('remainder__','')\n",
        "list_cols = list_cols.tolist()\n",
        "print(list_cols)"
      ],
      "metadata": {
        "colab": {
          "base_uri": "https://localhost:8080/"
        },
        "id": "T4bZ4YI44K11",
        "outputId": "316e7351-18d6-47d2-9e75-68f42154a2e6"
      },
      "id": "T4bZ4YI44K11",
      "execution_count": 29,
      "outputs": [
        {
          "output_type": "stream",
          "name": "stdout",
          "text": [
            "['NAME_CONTRACT_TYPE_Cash loans', 'NAME_CONTRACT_TYPE_Revolving loans', 'CODE_GENDER_F', 'CODE_GENDER_M', 'FLAG_OWN_CAR_N', 'FLAG_OWN_CAR_Y', 'FLAG_OWN_REALTY_N', 'FLAG_OWN_REALTY_Y', 'NAME_TYPE_SUITE_Children', 'NAME_TYPE_SUITE_Family', 'NAME_TYPE_SUITE_Group of people', 'NAME_TYPE_SUITE_Other_A', 'NAME_TYPE_SUITE_Other_B', 'NAME_TYPE_SUITE_Spouse, partner', 'NAME_TYPE_SUITE_Unaccompanied', 'NAME_TYPE_SUITE_manquant', 'NAME_INCOME_TYPE_Businessman', 'NAME_INCOME_TYPE_Commercial associate', 'NAME_INCOME_TYPE_Pensioner', 'NAME_INCOME_TYPE_State servant', 'NAME_INCOME_TYPE_Student', 'NAME_INCOME_TYPE_Unemployed', 'NAME_INCOME_TYPE_Working', 'NAME_EDUCATION_TYPE_Academic degree', 'NAME_EDUCATION_TYPE_Higher education', 'NAME_EDUCATION_TYPE_Incomplete higher', 'NAME_EDUCATION_TYPE_Lower secondary', 'NAME_EDUCATION_TYPE_Secondary / secondary special', 'NAME_FAMILY_STATUS_Civil marriage', 'NAME_FAMILY_STATUS_Married', 'NAME_FAMILY_STATUS_Separated', 'NAME_FAMILY_STATUS_Single / not married', 'NAME_FAMILY_STATUS_Widow', 'NAME_HOUSING_TYPE_Co-op apartment', 'NAME_HOUSING_TYPE_House / apartment', 'NAME_HOUSING_TYPE_Municipal apartment', 'NAME_HOUSING_TYPE_Office apartment', 'NAME_HOUSING_TYPE_Rented apartment', 'NAME_HOUSING_TYPE_With parents', 'OCCUPATION_TYPE_Accountants', 'OCCUPATION_TYPE_Cleaning staff', 'OCCUPATION_TYPE_Cooking staff', 'OCCUPATION_TYPE_Core staff', 'OCCUPATION_TYPE_Drivers', 'OCCUPATION_TYPE_HR staff', 'OCCUPATION_TYPE_High skill tech staff', 'OCCUPATION_TYPE_IT staff', 'OCCUPATION_TYPE_Laborers', 'OCCUPATION_TYPE_Low-skill Laborers', 'OCCUPATION_TYPE_Managers', 'OCCUPATION_TYPE_Medicine staff', 'OCCUPATION_TYPE_Private service staff', 'OCCUPATION_TYPE_Realty agents', 'OCCUPATION_TYPE_Sales staff', 'OCCUPATION_TYPE_Secretaries', 'OCCUPATION_TYPE_Security staff', 'OCCUPATION_TYPE_Waiters/barmen staff', 'OCCUPATION_TYPE_manquant', 'WEEKDAY_APPR_PROCESS_START_FRIDAY', 'WEEKDAY_APPR_PROCESS_START_MONDAY', 'WEEKDAY_APPR_PROCESS_START_SATURDAY', 'WEEKDAY_APPR_PROCESS_START_SUNDAY', 'WEEKDAY_APPR_PROCESS_START_THURSDAY', 'WEEKDAY_APPR_PROCESS_START_TUESDAY', 'WEEKDAY_APPR_PROCESS_START_WEDNESDAY', 'ORGANIZATION_TYPE_Advertising', 'ORGANIZATION_TYPE_Agriculture', 'ORGANIZATION_TYPE_Bank', 'ORGANIZATION_TYPE_Business Entity Type 1', 'ORGANIZATION_TYPE_Business Entity Type 2', 'ORGANIZATION_TYPE_Business Entity Type 3', 'ORGANIZATION_TYPE_Cleaning', 'ORGANIZATION_TYPE_Construction', 'ORGANIZATION_TYPE_Culture', 'ORGANIZATION_TYPE_Electricity', 'ORGANIZATION_TYPE_Emergency', 'ORGANIZATION_TYPE_Government', 'ORGANIZATION_TYPE_Hotel', 'ORGANIZATION_TYPE_Housing', 'ORGANIZATION_TYPE_Industry: type 1', 'ORGANIZATION_TYPE_Industry: type 10', 'ORGANIZATION_TYPE_Industry: type 11', 'ORGANIZATION_TYPE_Industry: type 12', 'ORGANIZATION_TYPE_Industry: type 13', 'ORGANIZATION_TYPE_Industry: type 2', 'ORGANIZATION_TYPE_Industry: type 3', 'ORGANIZATION_TYPE_Industry: type 4', 'ORGANIZATION_TYPE_Industry: type 5', 'ORGANIZATION_TYPE_Industry: type 6', 'ORGANIZATION_TYPE_Industry: type 7', 'ORGANIZATION_TYPE_Industry: type 8', 'ORGANIZATION_TYPE_Industry: type 9', 'ORGANIZATION_TYPE_Insurance', 'ORGANIZATION_TYPE_Kindergarten', 'ORGANIZATION_TYPE_Legal Services', 'ORGANIZATION_TYPE_Medicine', 'ORGANIZATION_TYPE_Military', 'ORGANIZATION_TYPE_Mobile', 'ORGANIZATION_TYPE_Other', 'ORGANIZATION_TYPE_Police', 'ORGANIZATION_TYPE_Postal', 'ORGANIZATION_TYPE_Realtor', 'ORGANIZATION_TYPE_Religion', 'ORGANIZATION_TYPE_Restaurant', 'ORGANIZATION_TYPE_School', 'ORGANIZATION_TYPE_Security', 'ORGANIZATION_TYPE_Security Ministries', 'ORGANIZATION_TYPE_Self-employed', 'ORGANIZATION_TYPE_Services', 'ORGANIZATION_TYPE_Telecom', 'ORGANIZATION_TYPE_Trade: type 1', 'ORGANIZATION_TYPE_Trade: type 2', 'ORGANIZATION_TYPE_Trade: type 3', 'ORGANIZATION_TYPE_Trade: type 4', 'ORGANIZATION_TYPE_Trade: type 5', 'ORGANIZATION_TYPE_Trade: type 6', 'ORGANIZATION_TYPE_Trade: type 7', 'ORGANIZATION_TYPE_Transport: type 1', 'ORGANIZATION_TYPE_Transport: type 2', 'ORGANIZATION_TYPE_Transport: type 3', 'ORGANIZATION_TYPE_Transport: type 4', 'ORGANIZATION_TYPE_University', 'ORGANIZATION_TYPE_XNA', 'FONDKAPREMONT_MODE_manquant', 'FONDKAPREMONT_MODE_not specified', 'FONDKAPREMONT_MODE_org spec account', 'FONDKAPREMONT_MODE_reg oper account', 'FONDKAPREMONT_MODE_reg oper spec account', 'HOUSETYPE_MODE_block of flats', 'HOUSETYPE_MODE_manquant', 'HOUSETYPE_MODE_specific housing', 'HOUSETYPE_MODE_terraced house', 'WALLSMATERIAL_MODE_Block', 'WALLSMATERIAL_MODE_Mixed', 'WALLSMATERIAL_MODE_Monolithic', 'WALLSMATERIAL_MODE_Others', 'WALLSMATERIAL_MODE_Panel', 'WALLSMATERIAL_MODE_Stone, brick', 'WALLSMATERIAL_MODE_Wooden', 'WALLSMATERIAL_MODE_manquant', 'EMERGENCYSTATE_MODE_No', 'EMERGENCYSTATE_MODE_Yes', 'EMERGENCYSTATE_MODE_manquant', 'index', 'SK_ID_CURR', 'CNT_CHILDREN', 'DAYS_BIRTH', 'DAYS_EMPLOYED', 'DAYS_REGISTRATION', 'DAYS_ID_PUBLISH', 'OWN_CAR_AGE', 'FLAG_MOBIL', 'FLAG_EMP_PHONE', 'FLAG_WORK_PHONE', 'FLAG_CONT_MOBILE', 'FLAG_PHONE', 'FLAG_EMAIL', 'CNT_FAM_MEMBERS', 'REGION_RATING_CLIENT', 'REGION_RATING_CLIENT_W_CITY', 'HOUR_APPR_PROCESS_START', 'REG_REGION_NOT_LIVE_REGION', 'REG_REGION_NOT_WORK_REGION', 'LIVE_REGION_NOT_WORK_REGION', 'REG_CITY_NOT_LIVE_CITY', 'REG_CITY_NOT_WORK_CITY', 'LIVE_CITY_NOT_WORK_CITY', 'OBS_30_CNT_SOCIAL_CIRCLE', 'DEF_30_CNT_SOCIAL_CIRCLE', 'OBS_60_CNT_SOCIAL_CIRCLE', 'DEF_60_CNT_SOCIAL_CIRCLE', 'DAYS_LAST_PHONE_CHANGE', 'FLAG_DOCUMENT_2', 'FLAG_DOCUMENT_3', 'FLAG_DOCUMENT_4', 'FLAG_DOCUMENT_5', 'FLAG_DOCUMENT_6', 'FLAG_DOCUMENT_7', 'FLAG_DOCUMENT_8', 'FLAG_DOCUMENT_9', 'FLAG_DOCUMENT_10', 'FLAG_DOCUMENT_11', 'FLAG_DOCUMENT_12', 'FLAG_DOCUMENT_13', 'FLAG_DOCUMENT_14', 'FLAG_DOCUMENT_15', 'FLAG_DOCUMENT_16', 'FLAG_DOCUMENT_17', 'FLAG_DOCUMENT_18', 'FLAG_DOCUMENT_19', 'FLAG_DOCUMENT_20', 'FLAG_DOCUMENT_21', 'AMT_REQ_CREDIT_BUREAU_HOUR', 'AMT_REQ_CREDIT_BUREAU_DAY', 'AMT_REQ_CREDIT_BUREAU_WEEK', 'AMT_REQ_CREDIT_BUREAU_MON', 'AMT_REQ_CREDIT_BUREAU_QRT', 'AMT_REQ_CREDIT_BUREAU_YEAR', 'BURO_DAYS_CREDIT_MIN', 'BURO_DAYS_CREDIT_MAX', 'BURO_DAYS_CREDIT_ENDDATE_MIN', 'BURO_DAYS_CREDIT_ENDDATE_MAX', 'BURO_CREDIT_DAY_OVERDUE_MAX', 'BURO_CNT_CREDIT_PROLONG_SUM', 'BURO_MONTHS_BALANCE_MIN_MIN', 'BURO_MONTHS_BALANCE_MAX_MAX', 'BURO_MONTHS_BALANCE_SIZE_SUM', 'BURO_CREDIT_ACTIVE_nan_MEAN', 'BURO_CREDIT_CURRENCY_nan_MEAN', 'BURO_CREDIT_TYPE_Mobile operator loan_MEAN', 'BURO_CREDIT_TYPE_nan_MEAN', 'BURO_STATUS_nan_MEAN_MEAN', 'ACTIVE_DAYS_CREDIT_MIN', 'ACTIVE_DAYS_CREDIT_MAX', 'ACTIVE_DAYS_CREDIT_ENDDATE_MIN', 'ACTIVE_DAYS_CREDIT_ENDDATE_MAX', 'ACTIVE_CREDIT_DAY_OVERDUE_MAX', 'ACTIVE_CNT_CREDIT_PROLONG_SUM', 'ACTIVE_MONTHS_BALANCE_MIN_MIN', 'ACTIVE_MONTHS_BALANCE_MAX_MAX', 'ACTIVE_MONTHS_BALANCE_SIZE_SUM', 'CLOSED_DAYS_CREDIT_MIN', 'CLOSED_DAYS_CREDIT_MAX', 'CLOSED_DAYS_CREDIT_ENDDATE_MIN', 'CLOSED_DAYS_CREDIT_ENDDATE_MAX', 'CLOSED_CREDIT_DAY_OVERDUE_MAX', 'CLOSED_CNT_CREDIT_PROLONG_SUM', 'CLOSED_MONTHS_BALANCE_MIN_MIN', 'CLOSED_MONTHS_BALANCE_MAX_MAX', 'CLOSED_MONTHS_BALANCE_SIZE_SUM', 'PREV_HOUR_APPR_PROCESS_START_MIN', 'PREV_HOUR_APPR_PROCESS_START_MAX', 'PREV_DAYS_DECISION_MIN', 'PREV_DAYS_DECISION_MAX', 'PREV_CNT_PAYMENT_SUM', 'PREV_NAME_CONTRACT_TYPE_nan_MEAN', 'PREV_WEEKDAY_APPR_PROCESS_START_nan_MEAN', 'PREV_FLAG_LAST_APPL_PER_CONTRACT_nan_MEAN', 'PREV_NAME_CASH_LOAN_PURPOSE_nan_MEAN', 'PREV_NAME_CONTRACT_STATUS_nan_MEAN', 'PREV_NAME_PAYMENT_TYPE_nan_MEAN', 'PREV_CODE_REJECT_REASON_nan_MEAN', 'PREV_NAME_CLIENT_TYPE_nan_MEAN', 'PREV_NAME_GOODS_CATEGORY_House Construction_MEAN', 'PREV_NAME_GOODS_CATEGORY_nan_MEAN', 'PREV_NAME_PORTFOLIO_nan_MEAN', 'PREV_NAME_PRODUCT_TYPE_nan_MEAN', 'PREV_CHANNEL_TYPE_nan_MEAN', 'PREV_NAME_SELLER_INDUSTRY_nan_MEAN', 'PREV_NAME_YIELD_GROUP_nan_MEAN', 'APPROVED_HOUR_APPR_PROCESS_START_MIN', 'APPROVED_HOUR_APPR_PROCESS_START_MAX', 'APPROVED_DAYS_DECISION_MIN', 'APPROVED_DAYS_DECISION_MAX', 'APPROVED_CNT_PAYMENT_SUM', 'REFUSED_HOUR_APPR_PROCESS_START_MIN', 'REFUSED_HOUR_APPR_PROCESS_START_MAX', 'REFUSED_DAYS_DECISION_MIN', 'REFUSED_DAYS_DECISION_MAX', 'REFUSED_CNT_PAYMENT_SUM', 'POS_MONTHS_BALANCE_MAX', 'POS_MONTHS_BALANCE_SIZE', 'POS_SK_DPD_MAX', 'POS_SK_DPD_DEF_MAX', 'POS_NAME_CONTRACT_STATUS_XNA_MEAN', 'POS_NAME_CONTRACT_STATUS_nan_MEAN', 'POS_COUNT', 'INSTAL_NUM_INSTALMENT_VERSION_NUNIQUE', 'INSTAL_DPD_MAX', 'INSTAL_DPD_SUM', 'INSTAL_DBD_MAX', 'INSTAL_DBD_SUM', 'INSTAL_DAYS_ENTRY_PAYMENT_MAX', 'INSTAL_DAYS_ENTRY_PAYMENT_SUM', 'INSTAL_COUNT', 'CC_MONTHS_BALANCE_MIN', 'CC_MONTHS_BALANCE_MAX', 'CC_MONTHS_BALANCE_SUM', 'CC_AMT_CREDIT_LIMIT_ACTUAL_MIN', 'CC_AMT_CREDIT_LIMIT_ACTUAL_MAX', 'CC_AMT_CREDIT_LIMIT_ACTUAL_SUM', 'CC_AMT_DRAWINGS_ATM_CURRENT_MIN', 'CC_AMT_DRAWINGS_OTHER_CURRENT_MIN', 'CC_CNT_DRAWINGS_ATM_CURRENT_MIN', 'CC_CNT_DRAWINGS_ATM_CURRENT_MAX', 'CC_CNT_DRAWINGS_ATM_CURRENT_SUM', 'CC_CNT_DRAWINGS_CURRENT_MIN', 'CC_CNT_DRAWINGS_CURRENT_MAX', 'CC_CNT_DRAWINGS_CURRENT_SUM', 'CC_CNT_DRAWINGS_OTHER_CURRENT_MIN', 'CC_CNT_DRAWINGS_OTHER_CURRENT_MAX', 'CC_CNT_DRAWINGS_OTHER_CURRENT_SUM', 'CC_CNT_DRAWINGS_POS_CURRENT_MIN', 'CC_CNT_DRAWINGS_POS_CURRENT_MAX', 'CC_CNT_DRAWINGS_POS_CURRENT_SUM', 'CC_CNT_INSTALMENT_MATURE_CUM_MIN', 'CC_CNT_INSTALMENT_MATURE_CUM_MAX', 'CC_CNT_INSTALMENT_MATURE_CUM_SUM', 'CC_SK_DPD_MIN', 'CC_SK_DPD_MAX', 'CC_SK_DPD_SUM', 'CC_SK_DPD_DEF_MIN', 'CC_SK_DPD_DEF_MAX', 'CC_SK_DPD_DEF_SUM', 'CC_NAME_CONTRACT_STATUS_Active_MIN', 'CC_NAME_CONTRACT_STATUS_Active_MAX', 'CC_NAME_CONTRACT_STATUS_Active_SUM', 'CC_NAME_CONTRACT_STATUS_Approved_MIN', 'CC_NAME_CONTRACT_STATUS_Approved_MAX', 'CC_NAME_CONTRACT_STATUS_Approved_SUM', 'CC_NAME_CONTRACT_STATUS_Completed_MIN', 'CC_NAME_CONTRACT_STATUS_Completed_MAX', 'CC_NAME_CONTRACT_STATUS_Completed_SUM', 'CC_NAME_CONTRACT_STATUS_Demand_MIN', 'CC_NAME_CONTRACT_STATUS_Demand_MAX', 'CC_NAME_CONTRACT_STATUS_Demand_SUM', 'CC_NAME_CONTRACT_STATUS_Refused_MIN', 'CC_NAME_CONTRACT_STATUS_Refused_MAX', 'CC_NAME_CONTRACT_STATUS_Refused_SUM', 'CC_NAME_CONTRACT_STATUS_Sent proposal_MIN', 'CC_NAME_CONTRACT_STATUS_Sent proposal_MAX', 'CC_NAME_CONTRACT_STATUS_Sent proposal_SUM', 'CC_NAME_CONTRACT_STATUS_Signed_MIN', 'CC_NAME_CONTRACT_STATUS_Signed_MAX', 'CC_NAME_CONTRACT_STATUS_Signed_SUM', 'CC_NAME_CONTRACT_STATUS_nan_MIN', 'CC_NAME_CONTRACT_STATUS_nan_MAX', 'CC_NAME_CONTRACT_STATUS_nan_MEAN', 'CC_NAME_CONTRACT_STATUS_nan_SUM', 'CC_NAME_CONTRACT_STATUS_nan_VAR', 'CC_COUNT', 'AMT_INCOME_TOTAL', 'AMT_CREDIT', 'AMT_ANNUITY', 'AMT_GOODS_PRICE', 'REGION_POPULATION_RELATIVE', 'EXT_SOURCE_1', 'EXT_SOURCE_2', 'EXT_SOURCE_3', 'APARTMENTS_AVG', 'BASEMENTAREA_AVG', 'YEARS_BEGINEXPLUATATION_AVG', 'YEARS_BUILD_AVG', 'COMMONAREA_AVG', 'ELEVATORS_AVG', 'ENTRANCES_AVG', 'FLOORSMAX_AVG', 'FLOORSMIN_AVG', 'LANDAREA_AVG', 'LIVINGAPARTMENTS_AVG', 'LIVINGAREA_AVG', 'NONLIVINGAPARTMENTS_AVG', 'NONLIVINGAREA_AVG', 'APARTMENTS_MODE', 'BASEMENTAREA_MODE', 'YEARS_BEGINEXPLUATATION_MODE', 'YEARS_BUILD_MODE', 'COMMONAREA_MODE', 'ELEVATORS_MODE', 'ENTRANCES_MODE', 'FLOORSMAX_MODE', 'FLOORSMIN_MODE', 'LANDAREA_MODE', 'LIVINGAPARTMENTS_MODE', 'LIVINGAREA_MODE', 'NONLIVINGAPARTMENTS_MODE', 'NONLIVINGAREA_MODE', 'APARTMENTS_MEDI', 'BASEMENTAREA_MEDI', 'YEARS_BEGINEXPLUATATION_MEDI', 'YEARS_BUILD_MEDI', 'COMMONAREA_MEDI', 'ELEVATORS_MEDI', 'ENTRANCES_MEDI', 'FLOORSMAX_MEDI', 'FLOORSMIN_MEDI', 'LANDAREA_MEDI', 'LIVINGAPARTMENTS_MEDI', 'LIVINGAREA_MEDI', 'NONLIVINGAPARTMENTS_MEDI', 'NONLIVINGAREA_MEDI', 'TOTALAREA_MODE', 'DAYS_EMPLOYED_PERC', 'INCOME_CREDIT_PERC', 'INCOME_PER_PERSON', 'ANNUITY_INCOME_PERC', 'PAYMENT_RATE', 'BURO_DAYS_CREDIT_MEAN', 'BURO_DAYS_CREDIT_VAR', 'BURO_DAYS_CREDIT_ENDDATE_MEAN', 'BURO_DAYS_CREDIT_UPDATE_MEAN', 'BURO_CREDIT_DAY_OVERDUE_MEAN', 'BURO_AMT_CREDIT_MAX_OVERDUE_MEAN', 'BURO_AMT_CREDIT_SUM_MAX', 'BURO_AMT_CREDIT_SUM_MEAN', 'BURO_AMT_CREDIT_SUM_SUM', 'BURO_AMT_CREDIT_SUM_DEBT_MAX', 'BURO_AMT_CREDIT_SUM_DEBT_MEAN', 'BURO_AMT_CREDIT_SUM_DEBT_SUM', 'BURO_AMT_CREDIT_SUM_OVERDUE_MEAN', 'BURO_AMT_CREDIT_SUM_LIMIT_MEAN', 'BURO_AMT_CREDIT_SUM_LIMIT_SUM', 'BURO_AMT_ANNUITY_MAX', 'BURO_AMT_ANNUITY_MEAN', 'BURO_MONTHS_BALANCE_SIZE_MEAN', 'BURO_CREDIT_ACTIVE_Active_MEAN', 'BURO_CREDIT_ACTIVE_Bad debt_MEAN', 'BURO_CREDIT_ACTIVE_Closed_MEAN', 'BURO_CREDIT_ACTIVE_Sold_MEAN', 'BURO_CREDIT_CURRENCY_currency 1_MEAN', 'BURO_CREDIT_CURRENCY_currency 2_MEAN', 'BURO_CREDIT_CURRENCY_currency 3_MEAN', 'BURO_CREDIT_CURRENCY_currency 4_MEAN', 'BURO_CREDIT_TYPE_Another type of loan_MEAN', 'BURO_CREDIT_TYPE_Car loan_MEAN', 'BURO_CREDIT_TYPE_Cash loan (non-earmarked)_MEAN', 'BURO_CREDIT_TYPE_Consumer credit_MEAN', 'BURO_CREDIT_TYPE_Credit card_MEAN', 'BURO_CREDIT_TYPE_Interbank credit_MEAN', 'BURO_CREDIT_TYPE_Loan for business development_MEAN', 'BURO_CREDIT_TYPE_Loan for purchase of shares (margin lending)_MEAN', 'BURO_CREDIT_TYPE_Loan for the purchase of equipment_MEAN', 'BURO_CREDIT_TYPE_Loan for working capital replenishment_MEAN', 'BURO_CREDIT_TYPE_Microloan_MEAN', 'BURO_CREDIT_TYPE_Mortgage_MEAN', 'BURO_CREDIT_TYPE_Real estate loan_MEAN', 'BURO_CREDIT_TYPE_Unknown type of loan_MEAN', 'BURO_STATUS_0_MEAN_MEAN', 'BURO_STATUS_1_MEAN_MEAN', 'BURO_STATUS_2_MEAN_MEAN', 'BURO_STATUS_3_MEAN_MEAN', 'BURO_STATUS_4_MEAN_MEAN', 'BURO_STATUS_5_MEAN_MEAN', 'BURO_STATUS_C_MEAN_MEAN', 'BURO_STATUS_X_MEAN_MEAN', 'ACTIVE_DAYS_CREDIT_MEAN', 'ACTIVE_DAYS_CREDIT_VAR', 'ACTIVE_DAYS_CREDIT_ENDDATE_MEAN', 'ACTIVE_DAYS_CREDIT_UPDATE_MEAN', 'ACTIVE_CREDIT_DAY_OVERDUE_MEAN', 'ACTIVE_AMT_CREDIT_MAX_OVERDUE_MEAN', 'ACTIVE_AMT_CREDIT_SUM_MAX', 'ACTIVE_AMT_CREDIT_SUM_MEAN', 'ACTIVE_AMT_CREDIT_SUM_SUM', 'ACTIVE_AMT_CREDIT_SUM_DEBT_MAX', 'ACTIVE_AMT_CREDIT_SUM_DEBT_MEAN', 'ACTIVE_AMT_CREDIT_SUM_DEBT_SUM', 'ACTIVE_AMT_CREDIT_SUM_OVERDUE_MEAN', 'ACTIVE_AMT_CREDIT_SUM_LIMIT_MEAN', 'ACTIVE_AMT_CREDIT_SUM_LIMIT_SUM', 'ACTIVE_AMT_ANNUITY_MAX', 'ACTIVE_AMT_ANNUITY_MEAN', 'ACTIVE_MONTHS_BALANCE_SIZE_MEAN', 'CLOSED_DAYS_CREDIT_MEAN', 'CLOSED_DAYS_CREDIT_VAR', 'CLOSED_DAYS_CREDIT_ENDDATE_MEAN', 'CLOSED_DAYS_CREDIT_UPDATE_MEAN', 'CLOSED_CREDIT_DAY_OVERDUE_MEAN', 'CLOSED_AMT_CREDIT_MAX_OVERDUE_MEAN', 'CLOSED_AMT_CREDIT_SUM_MAX', 'CLOSED_AMT_CREDIT_SUM_MEAN', 'CLOSED_AMT_CREDIT_SUM_SUM', 'CLOSED_AMT_CREDIT_SUM_DEBT_MAX', 'CLOSED_AMT_CREDIT_SUM_DEBT_MEAN', 'CLOSED_AMT_CREDIT_SUM_DEBT_SUM', 'CLOSED_AMT_CREDIT_SUM_OVERDUE_MEAN', 'CLOSED_AMT_CREDIT_SUM_LIMIT_MEAN', 'CLOSED_AMT_CREDIT_SUM_LIMIT_SUM', 'CLOSED_AMT_ANNUITY_MAX', 'CLOSED_AMT_ANNUITY_MEAN', 'CLOSED_MONTHS_BALANCE_SIZE_MEAN', 'PREV_AMT_ANNUITY_MIN', 'PREV_AMT_ANNUITY_MAX', 'PREV_AMT_ANNUITY_MEAN', 'PREV_AMT_APPLICATION_MIN', 'PREV_AMT_APPLICATION_MAX', 'PREV_AMT_APPLICATION_MEAN', 'PREV_AMT_CREDIT_MIN', 'PREV_AMT_CREDIT_MAX', 'PREV_AMT_CREDIT_MEAN', 'PREV_APP_CREDIT_PERC_MIN', 'PREV_APP_CREDIT_PERC_MAX', 'PREV_APP_CREDIT_PERC_MEAN', 'PREV_APP_CREDIT_PERC_VAR', 'PREV_AMT_DOWN_PAYMENT_MIN', 'PREV_AMT_DOWN_PAYMENT_MAX', 'PREV_AMT_DOWN_PAYMENT_MEAN', 'PREV_AMT_GOODS_PRICE_MIN', 'PREV_AMT_GOODS_PRICE_MAX', 'PREV_AMT_GOODS_PRICE_MEAN', 'PREV_HOUR_APPR_PROCESS_START_MEAN', 'PREV_RATE_DOWN_PAYMENT_MIN', 'PREV_RATE_DOWN_PAYMENT_MAX', 'PREV_RATE_DOWN_PAYMENT_MEAN', 'PREV_DAYS_DECISION_MEAN', 'PREV_CNT_PAYMENT_MEAN', 'PREV_NAME_CONTRACT_TYPE_Cash loans_MEAN', 'PREV_NAME_CONTRACT_TYPE_Consumer loans_MEAN', 'PREV_NAME_CONTRACT_TYPE_Revolving loans_MEAN', 'PREV_NAME_CONTRACT_TYPE_XNA_MEAN', 'PREV_WEEKDAY_APPR_PROCESS_START_FRIDAY_MEAN', 'PREV_WEEKDAY_APPR_PROCESS_START_MONDAY_MEAN', 'PREV_WEEKDAY_APPR_PROCESS_START_SATURDAY_MEAN', 'PREV_WEEKDAY_APPR_PROCESS_START_SUNDAY_MEAN', 'PREV_WEEKDAY_APPR_PROCESS_START_THURSDAY_MEAN', 'PREV_WEEKDAY_APPR_PROCESS_START_TUESDAY_MEAN', 'PREV_WEEKDAY_APPR_PROCESS_START_WEDNESDAY_MEAN', 'PREV_FLAG_LAST_APPL_PER_CONTRACT_N_MEAN', 'PREV_FLAG_LAST_APPL_PER_CONTRACT_Y_MEAN', 'PREV_NAME_CASH_LOAN_PURPOSE_Building a house or an annex_MEAN', 'PREV_NAME_CASH_LOAN_PURPOSE_Business development_MEAN', 'PREV_NAME_CASH_LOAN_PURPOSE_Buying a garage_MEAN', 'PREV_NAME_CASH_LOAN_PURPOSE_Buying a holiday home / land_MEAN', 'PREV_NAME_CASH_LOAN_PURPOSE_Buying a home_MEAN', 'PREV_NAME_CASH_LOAN_PURPOSE_Buying a new car_MEAN', 'PREV_NAME_CASH_LOAN_PURPOSE_Buying a used car_MEAN', 'PREV_NAME_CASH_LOAN_PURPOSE_Car repairs_MEAN', 'PREV_NAME_CASH_LOAN_PURPOSE_Education_MEAN', 'PREV_NAME_CASH_LOAN_PURPOSE_Everyday expenses_MEAN', 'PREV_NAME_CASH_LOAN_PURPOSE_Furniture_MEAN', 'PREV_NAME_CASH_LOAN_PURPOSE_Gasification / water supply_MEAN', 'PREV_NAME_CASH_LOAN_PURPOSE_Hobby_MEAN', 'PREV_NAME_CASH_LOAN_PURPOSE_Journey_MEAN', 'PREV_NAME_CASH_LOAN_PURPOSE_Medicine_MEAN', 'PREV_NAME_CASH_LOAN_PURPOSE_Money for a third person_MEAN', 'PREV_NAME_CASH_LOAN_PURPOSE_Other_MEAN', 'PREV_NAME_CASH_LOAN_PURPOSE_Payments on other loans_MEAN', 'PREV_NAME_CASH_LOAN_PURPOSE_Purchase of electronic equipment_MEAN', 'PREV_NAME_CASH_LOAN_PURPOSE_Refusal to name the goal_MEAN', 'PREV_NAME_CASH_LOAN_PURPOSE_Repairs_MEAN', 'PREV_NAME_CASH_LOAN_PURPOSE_Urgent needs_MEAN', 'PREV_NAME_CASH_LOAN_PURPOSE_Wedding / gift / holiday_MEAN', 'PREV_NAME_CASH_LOAN_PURPOSE_XAP_MEAN', 'PREV_NAME_CASH_LOAN_PURPOSE_XNA_MEAN', 'PREV_NAME_CONTRACT_STATUS_Approved_MEAN', 'PREV_NAME_CONTRACT_STATUS_Canceled_MEAN', 'PREV_NAME_CONTRACT_STATUS_Refused_MEAN', 'PREV_NAME_CONTRACT_STATUS_Unused offer_MEAN', 'PREV_NAME_PAYMENT_TYPE_Cash through the bank_MEAN', 'PREV_NAME_PAYMENT_TYPE_Cashless from the account of the employer_MEAN', 'PREV_NAME_PAYMENT_TYPE_Non-cash from your account_MEAN', 'PREV_NAME_PAYMENT_TYPE_XNA_MEAN', 'PREV_CODE_REJECT_REASON_CLIENT_MEAN', 'PREV_CODE_REJECT_REASON_HC_MEAN', 'PREV_CODE_REJECT_REASON_LIMIT_MEAN', 'PREV_CODE_REJECT_REASON_SCO_MEAN', 'PREV_CODE_REJECT_REASON_SCOFR_MEAN', 'PREV_CODE_REJECT_REASON_SYSTEM_MEAN', 'PREV_CODE_REJECT_REASON_VERIF_MEAN', 'PREV_CODE_REJECT_REASON_XAP_MEAN', 'PREV_CODE_REJECT_REASON_XNA_MEAN', 'PREV_NAME_TYPE_SUITE_Children_MEAN', 'PREV_NAME_TYPE_SUITE_Family_MEAN', 'PREV_NAME_TYPE_SUITE_Group of people_MEAN', 'PREV_NAME_TYPE_SUITE_Other_A_MEAN', 'PREV_NAME_TYPE_SUITE_Other_B_MEAN', 'PREV_NAME_TYPE_SUITE_Spouse, partner_MEAN', 'PREV_NAME_TYPE_SUITE_Unaccompanied_MEAN', 'PREV_NAME_TYPE_SUITE_nan_MEAN', 'PREV_NAME_CLIENT_TYPE_New_MEAN', 'PREV_NAME_CLIENT_TYPE_Refreshed_MEAN', 'PREV_NAME_CLIENT_TYPE_Repeater_MEAN', 'PREV_NAME_CLIENT_TYPE_XNA_MEAN', 'PREV_NAME_GOODS_CATEGORY_Additional Service_MEAN', 'PREV_NAME_GOODS_CATEGORY_Animals_MEAN', 'PREV_NAME_GOODS_CATEGORY_Audio/Video_MEAN', 'PREV_NAME_GOODS_CATEGORY_Auto Accessories_MEAN', 'PREV_NAME_GOODS_CATEGORY_Clothing and Accessories_MEAN', 'PREV_NAME_GOODS_CATEGORY_Computers_MEAN', 'PREV_NAME_GOODS_CATEGORY_Construction Materials_MEAN', 'PREV_NAME_GOODS_CATEGORY_Consumer Electronics_MEAN', 'PREV_NAME_GOODS_CATEGORY_Direct Sales_MEAN', 'PREV_NAME_GOODS_CATEGORY_Education_MEAN', 'PREV_NAME_GOODS_CATEGORY_Fitness_MEAN', 'PREV_NAME_GOODS_CATEGORY_Furniture_MEAN', 'PREV_NAME_GOODS_CATEGORY_Gardening_MEAN', 'PREV_NAME_GOODS_CATEGORY_Homewares_MEAN', 'PREV_NAME_GOODS_CATEGORY_Insurance_MEAN', 'PREV_NAME_GOODS_CATEGORY_Jewelry_MEAN', 'PREV_NAME_GOODS_CATEGORY_Medical Supplies_MEAN', 'PREV_NAME_GOODS_CATEGORY_Medicine_MEAN', 'PREV_NAME_GOODS_CATEGORY_Mobile_MEAN', 'PREV_NAME_GOODS_CATEGORY_Office Appliances_MEAN', 'PREV_NAME_GOODS_CATEGORY_Other_MEAN', 'PREV_NAME_GOODS_CATEGORY_Photo / Cinema Equipment_MEAN', 'PREV_NAME_GOODS_CATEGORY_Sport and Leisure_MEAN', 'PREV_NAME_GOODS_CATEGORY_Tourism_MEAN', 'PREV_NAME_GOODS_CATEGORY_Vehicles_MEAN', 'PREV_NAME_GOODS_CATEGORY_Weapon_MEAN', 'PREV_NAME_GOODS_CATEGORY_XNA_MEAN', 'PREV_NAME_PORTFOLIO_Cards_MEAN', 'PREV_NAME_PORTFOLIO_Cars_MEAN', 'PREV_NAME_PORTFOLIO_Cash_MEAN', 'PREV_NAME_PORTFOLIO_POS_MEAN', 'PREV_NAME_PORTFOLIO_XNA_MEAN', 'PREV_NAME_PRODUCT_TYPE_XNA_MEAN', 'PREV_NAME_PRODUCT_TYPE_walk-in_MEAN', 'PREV_NAME_PRODUCT_TYPE_x-sell_MEAN', 'PREV_CHANNEL_TYPE_AP+ (Cash loan)_MEAN', 'PREV_CHANNEL_TYPE_Car dealer_MEAN', 'PREV_CHANNEL_TYPE_Channel of corporate sales_MEAN', 'PREV_CHANNEL_TYPE_Contact center_MEAN', 'PREV_CHANNEL_TYPE_Country-wide_MEAN', 'PREV_CHANNEL_TYPE_Credit and cash offices_MEAN', 'PREV_CHANNEL_TYPE_Regional / Local_MEAN', 'PREV_CHANNEL_TYPE_Stone_MEAN', 'PREV_NAME_SELLER_INDUSTRY_Auto technology_MEAN', 'PREV_NAME_SELLER_INDUSTRY_Clothing_MEAN', 'PREV_NAME_SELLER_INDUSTRY_Connectivity_MEAN', 'PREV_NAME_SELLER_INDUSTRY_Construction_MEAN', 'PREV_NAME_SELLER_INDUSTRY_Consumer electronics_MEAN', 'PREV_NAME_SELLER_INDUSTRY_Furniture_MEAN', 'PREV_NAME_SELLER_INDUSTRY_Industry_MEAN', 'PREV_NAME_SELLER_INDUSTRY_Jewelry_MEAN', 'PREV_NAME_SELLER_INDUSTRY_MLM partners_MEAN', 'PREV_NAME_SELLER_INDUSTRY_Tourism_MEAN', 'PREV_NAME_SELLER_INDUSTRY_XNA_MEAN', 'PREV_NAME_YIELD_GROUP_XNA_MEAN', 'PREV_NAME_YIELD_GROUP_high_MEAN', 'PREV_NAME_YIELD_GROUP_low_action_MEAN', 'PREV_NAME_YIELD_GROUP_low_normal_MEAN', 'PREV_NAME_YIELD_GROUP_middle_MEAN', 'PREV_PRODUCT_COMBINATION_Card Street_MEAN', 'PREV_PRODUCT_COMBINATION_Card X-Sell_MEAN', 'PREV_PRODUCT_COMBINATION_Cash_MEAN', 'PREV_PRODUCT_COMBINATION_Cash Street: high_MEAN', 'PREV_PRODUCT_COMBINATION_Cash Street: low_MEAN', 'PREV_PRODUCT_COMBINATION_Cash Street: middle_MEAN', 'PREV_PRODUCT_COMBINATION_Cash X-Sell: high_MEAN', 'PREV_PRODUCT_COMBINATION_Cash X-Sell: low_MEAN', 'PREV_PRODUCT_COMBINATION_Cash X-Sell: middle_MEAN', 'PREV_PRODUCT_COMBINATION_POS household with interest_MEAN', 'PREV_PRODUCT_COMBINATION_POS household without interest_MEAN', 'PREV_PRODUCT_COMBINATION_POS industry with interest_MEAN', 'PREV_PRODUCT_COMBINATION_POS industry without interest_MEAN', 'PREV_PRODUCT_COMBINATION_POS mobile with interest_MEAN', 'PREV_PRODUCT_COMBINATION_POS mobile without interest_MEAN', 'PREV_PRODUCT_COMBINATION_POS other with interest_MEAN', 'PREV_PRODUCT_COMBINATION_POS others without interest_MEAN', 'PREV_PRODUCT_COMBINATION_nan_MEAN', 'APPROVED_AMT_ANNUITY_MIN', 'APPROVED_AMT_ANNUITY_MAX', 'APPROVED_AMT_ANNUITY_MEAN', 'APPROVED_AMT_APPLICATION_MIN', 'APPROVED_AMT_APPLICATION_MAX', 'APPROVED_AMT_APPLICATION_MEAN', 'APPROVED_AMT_CREDIT_MIN', 'APPROVED_AMT_CREDIT_MAX', 'APPROVED_AMT_CREDIT_MEAN', 'APPROVED_APP_CREDIT_PERC_MIN', 'APPROVED_APP_CREDIT_PERC_MAX', 'APPROVED_APP_CREDIT_PERC_MEAN', 'APPROVED_APP_CREDIT_PERC_VAR', 'APPROVED_AMT_DOWN_PAYMENT_MIN', 'APPROVED_AMT_DOWN_PAYMENT_MAX', 'APPROVED_AMT_DOWN_PAYMENT_MEAN', 'APPROVED_AMT_GOODS_PRICE_MIN', 'APPROVED_AMT_GOODS_PRICE_MAX', 'APPROVED_AMT_GOODS_PRICE_MEAN', 'APPROVED_HOUR_APPR_PROCESS_START_MEAN', 'APPROVED_RATE_DOWN_PAYMENT_MIN', 'APPROVED_RATE_DOWN_PAYMENT_MAX', 'APPROVED_RATE_DOWN_PAYMENT_MEAN', 'APPROVED_DAYS_DECISION_MEAN', 'APPROVED_CNT_PAYMENT_MEAN', 'REFUSED_AMT_ANNUITY_MIN', 'REFUSED_AMT_ANNUITY_MAX', 'REFUSED_AMT_ANNUITY_MEAN', 'REFUSED_AMT_APPLICATION_MIN', 'REFUSED_AMT_APPLICATION_MAX', 'REFUSED_AMT_APPLICATION_MEAN', 'REFUSED_AMT_CREDIT_MIN', 'REFUSED_AMT_CREDIT_MAX', 'REFUSED_AMT_CREDIT_MEAN', 'REFUSED_APP_CREDIT_PERC_MIN', 'REFUSED_APP_CREDIT_PERC_MAX', 'REFUSED_APP_CREDIT_PERC_MEAN', 'REFUSED_APP_CREDIT_PERC_VAR', 'REFUSED_AMT_DOWN_PAYMENT_MIN', 'REFUSED_AMT_DOWN_PAYMENT_MAX', 'REFUSED_AMT_DOWN_PAYMENT_MEAN', 'REFUSED_AMT_GOODS_PRICE_MIN', 'REFUSED_AMT_GOODS_PRICE_MAX', 'REFUSED_AMT_GOODS_PRICE_MEAN', 'REFUSED_HOUR_APPR_PROCESS_START_MEAN', 'REFUSED_RATE_DOWN_PAYMENT_MIN', 'REFUSED_RATE_DOWN_PAYMENT_MAX', 'REFUSED_RATE_DOWN_PAYMENT_MEAN', 'REFUSED_DAYS_DECISION_MEAN', 'REFUSED_CNT_PAYMENT_MEAN', 'POS_MONTHS_BALANCE_MEAN', 'POS_SK_DPD_MEAN', 'POS_SK_DPD_DEF_MEAN', 'POS_NAME_CONTRACT_STATUS_Active_MEAN', 'POS_NAME_CONTRACT_STATUS_Amortized debt_MEAN', 'POS_NAME_CONTRACT_STATUS_Approved_MEAN', 'POS_NAME_CONTRACT_STATUS_Canceled_MEAN', 'POS_NAME_CONTRACT_STATUS_Completed_MEAN', 'POS_NAME_CONTRACT_STATUS_Demand_MEAN', 'POS_NAME_CONTRACT_STATUS_Returned to the store_MEAN', 'POS_NAME_CONTRACT_STATUS_Signed_MEAN', 'INSTAL_DPD_MEAN', 'INSTAL_DBD_MEAN', 'INSTAL_PAYMENT_PERC_MAX', 'INSTAL_PAYMENT_PERC_MEAN', 'INSTAL_PAYMENT_PERC_SUM', 'INSTAL_PAYMENT_PERC_VAR', 'INSTAL_PAYMENT_DIFF_MAX', 'INSTAL_PAYMENT_DIFF_MEAN', 'INSTAL_PAYMENT_DIFF_SUM', 'INSTAL_PAYMENT_DIFF_VAR', 'INSTAL_AMT_INSTALMENT_MAX', 'INSTAL_AMT_INSTALMENT_MEAN', 'INSTAL_AMT_INSTALMENT_SUM', 'INSTAL_AMT_PAYMENT_MIN', 'INSTAL_AMT_PAYMENT_MAX', 'INSTAL_AMT_PAYMENT_MEAN', 'INSTAL_AMT_PAYMENT_SUM', 'INSTAL_DAYS_ENTRY_PAYMENT_MEAN', 'CC_MONTHS_BALANCE_MEAN', 'CC_MONTHS_BALANCE_VAR', 'CC_AMT_BALANCE_MIN', 'CC_AMT_BALANCE_MAX', 'CC_AMT_BALANCE_MEAN', 'CC_AMT_BALANCE_SUM', 'CC_AMT_BALANCE_VAR', 'CC_AMT_CREDIT_LIMIT_ACTUAL_MEAN', 'CC_AMT_CREDIT_LIMIT_ACTUAL_VAR', 'CC_AMT_DRAWINGS_ATM_CURRENT_MAX', 'CC_AMT_DRAWINGS_ATM_CURRENT_MEAN', 'CC_AMT_DRAWINGS_ATM_CURRENT_SUM', 'CC_AMT_DRAWINGS_ATM_CURRENT_VAR', 'CC_AMT_DRAWINGS_CURRENT_MIN', 'CC_AMT_DRAWINGS_CURRENT_MAX', 'CC_AMT_DRAWINGS_CURRENT_MEAN', 'CC_AMT_DRAWINGS_CURRENT_SUM', 'CC_AMT_DRAWINGS_CURRENT_VAR', 'CC_AMT_DRAWINGS_OTHER_CURRENT_MAX', 'CC_AMT_DRAWINGS_OTHER_CURRENT_MEAN', 'CC_AMT_DRAWINGS_OTHER_CURRENT_SUM', 'CC_AMT_DRAWINGS_OTHER_CURRENT_VAR', 'CC_AMT_DRAWINGS_POS_CURRENT_MIN', 'CC_AMT_DRAWINGS_POS_CURRENT_MAX', 'CC_AMT_DRAWINGS_POS_CURRENT_MEAN', 'CC_AMT_DRAWINGS_POS_CURRENT_SUM', 'CC_AMT_DRAWINGS_POS_CURRENT_VAR', 'CC_AMT_INST_MIN_REGULARITY_MIN', 'CC_AMT_INST_MIN_REGULARITY_MAX', 'CC_AMT_INST_MIN_REGULARITY_MEAN', 'CC_AMT_INST_MIN_REGULARITY_SUM', 'CC_AMT_INST_MIN_REGULARITY_VAR', 'CC_AMT_PAYMENT_CURRENT_MIN', 'CC_AMT_PAYMENT_CURRENT_MAX', 'CC_AMT_PAYMENT_CURRENT_MEAN', 'CC_AMT_PAYMENT_CURRENT_SUM', 'CC_AMT_PAYMENT_CURRENT_VAR', 'CC_AMT_PAYMENT_TOTAL_CURRENT_MIN', 'CC_AMT_PAYMENT_TOTAL_CURRENT_MAX', 'CC_AMT_PAYMENT_TOTAL_CURRENT_MEAN', 'CC_AMT_PAYMENT_TOTAL_CURRENT_SUM', 'CC_AMT_PAYMENT_TOTAL_CURRENT_VAR', 'CC_AMT_RECEIVABLE_PRINCIPAL_MIN', 'CC_AMT_RECEIVABLE_PRINCIPAL_MAX', 'CC_AMT_RECEIVABLE_PRINCIPAL_MEAN', 'CC_AMT_RECEIVABLE_PRINCIPAL_SUM', 'CC_AMT_RECEIVABLE_PRINCIPAL_VAR', 'CC_AMT_RECIVABLE_MIN', 'CC_AMT_RECIVABLE_MAX', 'CC_AMT_RECIVABLE_MEAN', 'CC_AMT_RECIVABLE_SUM', 'CC_AMT_RECIVABLE_VAR', 'CC_AMT_TOTAL_RECEIVABLE_MIN', 'CC_AMT_TOTAL_RECEIVABLE_MAX', 'CC_AMT_TOTAL_RECEIVABLE_MEAN', 'CC_AMT_TOTAL_RECEIVABLE_SUM', 'CC_AMT_TOTAL_RECEIVABLE_VAR', 'CC_CNT_DRAWINGS_ATM_CURRENT_MEAN', 'CC_CNT_DRAWINGS_ATM_CURRENT_VAR', 'CC_CNT_DRAWINGS_CURRENT_MEAN', 'CC_CNT_DRAWINGS_CURRENT_VAR', 'CC_CNT_DRAWINGS_OTHER_CURRENT_MEAN', 'CC_CNT_DRAWINGS_OTHER_CURRENT_VAR', 'CC_CNT_DRAWINGS_POS_CURRENT_MEAN', 'CC_CNT_DRAWINGS_POS_CURRENT_VAR', 'CC_CNT_INSTALMENT_MATURE_CUM_MEAN', 'CC_CNT_INSTALMENT_MATURE_CUM_VAR', 'CC_SK_DPD_MEAN', 'CC_SK_DPD_VAR', 'CC_SK_DPD_DEF_MEAN', 'CC_SK_DPD_DEF_VAR', 'CC_NAME_CONTRACT_STATUS_Active_MEAN', 'CC_NAME_CONTRACT_STATUS_Active_VAR', 'CC_NAME_CONTRACT_STATUS_Approved_MEAN', 'CC_NAME_CONTRACT_STATUS_Approved_VAR', 'CC_NAME_CONTRACT_STATUS_Completed_MEAN', 'CC_NAME_CONTRACT_STATUS_Completed_VAR', 'CC_NAME_CONTRACT_STATUS_Demand_MEAN', 'CC_NAME_CONTRACT_STATUS_Demand_VAR', 'CC_NAME_CONTRACT_STATUS_Refused_MEAN', 'CC_NAME_CONTRACT_STATUS_Refused_VAR', 'CC_NAME_CONTRACT_STATUS_Sent proposal_MEAN', 'CC_NAME_CONTRACT_STATUS_Sent proposal_VAR', 'CC_NAME_CONTRACT_STATUS_Signed_MEAN', 'CC_NAME_CONTRACT_STATUS_Signed_VAR']\n"
          ]
        }
      ]
    },
    {
      "cell_type": "code",
      "source": [
        "X_stan_for_Smotenc = pd.DataFrame(X_stan_for_Smotenc,columns= list_cols)"
      ],
      "metadata": {
        "id": "pfJwskKo4cF3"
      },
      "id": "pfJwskKo4cF3",
      "execution_count": 30,
      "outputs": []
    },
    {
      "cell_type": "code",
      "source": [
        "X_stan_for_Smotenc.shape"
      ],
      "metadata": {
        "colab": {
          "base_uri": "https://localhost:8080/"
        },
        "id": "zlH3sHefhxtn",
        "outputId": "633c442f-3397-4d2a-d46f-7575a37f3d1a"
      },
      "id": "zlH3sHefhxtn",
      "execution_count": 31,
      "outputs": [
        {
          "output_type": "execute_result",
          "data": {
            "text/plain": [
              "(61502, 804)"
            ]
          },
          "metadata": {},
          "execution_count": 31
        }
      ]
    },
    {
      "cell_type": "code",
      "source": [],
      "metadata": {
        "id": "H0IVnktI5Gb3"
      },
      "id": "H0IVnktI5Gb3",
      "execution_count": null,
      "outputs": []
    },
    {
      "cell_type": "code",
      "source": [],
      "metadata": {
        "id": "edMc5anN5GoH"
      },
      "id": "edMc5anN5GoH",
      "execution_count": null,
      "outputs": []
    },
    {
      "cell_type": "code",
      "source": [],
      "metadata": {
        "id": "uR3phvgE5Gyy"
      },
      "id": "uR3phvgE5Gyy",
      "execution_count": null,
      "outputs": []
    },
    {
      "cell_type": "code",
      "source": [],
      "metadata": {
        "id": "5Zdl-wk45G-l"
      },
      "id": "5Zdl-wk45G-l",
      "execution_count": null,
      "outputs": []
    },
    {
      "cell_type": "code",
      "source": [
        "new_liste_cols = X_train_numeric_colonnes + X_train_categorical_columns"
      ],
      "metadata": {
        "id": "IH1NjqKQdhiI"
      },
      "id": "IH1NjqKQdhiI",
      "execution_count": 48,
      "outputs": []
    },
    {
      "cell_type": "code",
      "source": [
        "X_stan_for_Smotenc = pd.DataFrame(X_stan_for_Smotenc,columns= new_liste_cols)"
      ],
      "metadata": {
        "id": "-V9CAbaDd_9D"
      },
      "id": "-V9CAbaDd_9D",
      "execution_count": 50,
      "outputs": []
    },
    {
      "cell_type": "code",
      "source": [
        "categorical_columns, discret_columns, float_columns = df_list_colonnes(X_stan_for_Smotenc)\n",
        "num_col = discret_columns + float_columns\n",
        "#sm = SMOTENC(categorical_features=[i for i in range(len(num_col),len(X_train_categorical_columns+X_train_numeric_colonnes))], sampling_strategy=0.1, k_neighbors=2)\n",
        "# X_res_SMOTENC, y_res_SMOTENC = sm.fit_resample(X_stan_for_Smotenc, y_train)"
      ],
      "metadata": {
        "id": "LaQ34QgKZGMJ"
      },
      "id": "LaQ34QgKZGMJ",
      "execution_count": 76,
      "outputs": []
    },
    {
      "cell_type": "code",
      "source": [
        "range(661,677)"
      ],
      "metadata": {
        "colab": {
          "base_uri": "https://localhost:8080/"
        },
        "id": "oUvwLNI-TQ2b",
        "outputId": "32399622-68f7-4e3d-daea-f2605c07e279"
      },
      "id": "oUvwLNI-TQ2b",
      "execution_count": 83,
      "outputs": [
        {
          "output_type": "execute_result",
          "data": {
            "text/plain": [
              "range(661, 677)"
            ]
          },
          "metadata": {},
          "execution_count": 83
        }
      ]
    },
    {
      "cell_type": "code",
      "source": [
        "X_res_SMOTENC, y_res_SMOTENC = sm.fit_resample(X_stan_for_Smotenc, y_train)"
      ],
      "metadata": {
        "id": "oF7EMDOHgH2Q"
      },
      "id": "oF7EMDOHgH2Q",
      "execution_count": 77,
      "outputs": []
    },
    {
      "cell_type": "code",
      "source": [
        "X_res_SMOTENC.shape"
      ],
      "metadata": {
        "colab": {
          "base_uri": "https://localhost:8080/"
        },
        "id": "cOk17yCG89Yi",
        "outputId": "bd280bfd-1de7-458f-9112-e5284165daa8"
      },
      "id": "cOk17yCG89Yi",
      "execution_count": 78,
      "outputs": [
        {
          "output_type": "execute_result",
          "data": {
            "text/plain": [
              "(62190, 677)"
            ]
          },
          "metadata": {},
          "execution_count": 78
        }
      ]
    },
    {
      "cell_type": "code",
      "source": [
        "X_stan_for_Smotenc.head()"
      ],
      "metadata": {
        "colab": {
          "base_uri": "https://localhost:8080/",
          "height": 352
        },
        "id": "dft9l7d7f8QN",
        "outputId": "da421bcd-27c7-4445-de96-065920ce3bd1"
      },
      "id": "dft9l7d7f8QN",
      "execution_count": 56,
      "outputs": [
        {
          "output_type": "execute_result",
          "data": {
            "text/plain": [
              "      index SK_ID_CURR CNT_CHILDREN DAYS_BIRTH DAYS_EMPLOYED  \\\n",
              "0  0.110819   0.110894          0.0   0.738314      0.751762   \n",
              "1  0.209424   0.209971          0.0   -0.73611      0.498645   \n",
              "2 -0.373928  -0.373339          1.0   0.587303      -0.42439   \n",
              "3  -0.64368  -0.644514          0.0  -0.735007      0.785908   \n",
              "4  -0.94431  -0.945144          0.0  -0.716544     -3.604878   \n",
              "\n",
              "  DAYS_REGISTRATION DAYS_ID_PUBLISH OWN_CAR_AGE FLAG_MOBIL FLAG_EMP_PHONE  \\\n",
              "0          0.726789        0.141318         0.0        0.0            0.0   \n",
              "1         -0.802202       -0.485684         0.0        0.0            0.0   \n",
              "2          0.003303       -0.240318         0.0        0.0            0.0   \n",
              "3          0.589174       -0.533825         0.0        0.0            0.0   \n",
              "4          0.152294       -0.478307         0.0        0.0            0.0   \n",
              "\n",
              "   ...            NAME_EDUCATION_TYPE NAME_FAMILY_STATUS  NAME_HOUSING_TYPE  \\\n",
              "0  ...  Secondary / secondary special     Civil marriage  House / apartment   \n",
              "1  ...               Higher education            Married  House / apartment   \n",
              "2  ...  Secondary / secondary special            Married  House / apartment   \n",
              "3  ...  Secondary / secondary special     Civil marriage  House / apartment   \n",
              "4  ...               Higher education          Separated  House / apartment   \n",
              "\n",
              "         OCCUPATION_TYPE WEEKDAY_APPR_PROCESS_START       ORGANIZATION_TYPE  \\\n",
              "0               Laborers                     MONDAY  Business Entity Type 3   \n",
              "1  High skill tech staff                    TUESDAY                  Police   \n",
              "2               Laborers                     FRIDAY  Business Entity Type 2   \n",
              "3               manquant                    TUESDAY           Self-employed   \n",
              "4            Accountants                     MONDAY              Government   \n",
              "\n",
              "  FONDKAPREMONT_MODE  HOUSETYPE_MODE WALLSMATERIAL_MODE EMERGENCYSTATE_MODE  \n",
              "0           manquant  block of flats       Stone, brick                  No  \n",
              "1   reg oper account  block of flats              Panel                  No  \n",
              "2   reg oper account  block of flats              Panel                  No  \n",
              "3           manquant        manquant           manquant            manquant  \n",
              "4   reg oper account  block of flats              Panel                  No  \n",
              "\n",
              "[5 rows x 677 columns]"
            ],
            "text/html": [
              "\n",
              "  <div id=\"df-938ad3d3-d2b3-410d-8742-b7569bbf9313\">\n",
              "    <div class=\"colab-df-container\">\n",
              "      <div>\n",
              "<style scoped>\n",
              "    .dataframe tbody tr th:only-of-type {\n",
              "        vertical-align: middle;\n",
              "    }\n",
              "\n",
              "    .dataframe tbody tr th {\n",
              "        vertical-align: top;\n",
              "    }\n",
              "\n",
              "    .dataframe thead th {\n",
              "        text-align: right;\n",
              "    }\n",
              "</style>\n",
              "<table border=\"1\" class=\"dataframe\">\n",
              "  <thead>\n",
              "    <tr style=\"text-align: right;\">\n",
              "      <th></th>\n",
              "      <th>index</th>\n",
              "      <th>SK_ID_CURR</th>\n",
              "      <th>CNT_CHILDREN</th>\n",
              "      <th>DAYS_BIRTH</th>\n",
              "      <th>DAYS_EMPLOYED</th>\n",
              "      <th>DAYS_REGISTRATION</th>\n",
              "      <th>DAYS_ID_PUBLISH</th>\n",
              "      <th>OWN_CAR_AGE</th>\n",
              "      <th>FLAG_MOBIL</th>\n",
              "      <th>FLAG_EMP_PHONE</th>\n",
              "      <th>...</th>\n",
              "      <th>NAME_EDUCATION_TYPE</th>\n",
              "      <th>NAME_FAMILY_STATUS</th>\n",
              "      <th>NAME_HOUSING_TYPE</th>\n",
              "      <th>OCCUPATION_TYPE</th>\n",
              "      <th>WEEKDAY_APPR_PROCESS_START</th>\n",
              "      <th>ORGANIZATION_TYPE</th>\n",
              "      <th>FONDKAPREMONT_MODE</th>\n",
              "      <th>HOUSETYPE_MODE</th>\n",
              "      <th>WALLSMATERIAL_MODE</th>\n",
              "      <th>EMERGENCYSTATE_MODE</th>\n",
              "    </tr>\n",
              "  </thead>\n",
              "  <tbody>\n",
              "    <tr>\n",
              "      <th>0</th>\n",
              "      <td>0.110819</td>\n",
              "      <td>0.110894</td>\n",
              "      <td>0.0</td>\n",
              "      <td>0.738314</td>\n",
              "      <td>0.751762</td>\n",
              "      <td>0.726789</td>\n",
              "      <td>0.141318</td>\n",
              "      <td>0.0</td>\n",
              "      <td>0.0</td>\n",
              "      <td>0.0</td>\n",
              "      <td>...</td>\n",
              "      <td>Secondary / secondary special</td>\n",
              "      <td>Civil marriage</td>\n",
              "      <td>House / apartment</td>\n",
              "      <td>Laborers</td>\n",
              "      <td>MONDAY</td>\n",
              "      <td>Business Entity Type 3</td>\n",
              "      <td>manquant</td>\n",
              "      <td>block of flats</td>\n",
              "      <td>Stone, brick</td>\n",
              "      <td>No</td>\n",
              "    </tr>\n",
              "    <tr>\n",
              "      <th>1</th>\n",
              "      <td>0.209424</td>\n",
              "      <td>0.209971</td>\n",
              "      <td>0.0</td>\n",
              "      <td>-0.73611</td>\n",
              "      <td>0.498645</td>\n",
              "      <td>-0.802202</td>\n",
              "      <td>-0.485684</td>\n",
              "      <td>0.0</td>\n",
              "      <td>0.0</td>\n",
              "      <td>0.0</td>\n",
              "      <td>...</td>\n",
              "      <td>Higher education</td>\n",
              "      <td>Married</td>\n",
              "      <td>House / apartment</td>\n",
              "      <td>High skill tech staff</td>\n",
              "      <td>TUESDAY</td>\n",
              "      <td>Police</td>\n",
              "      <td>reg oper account</td>\n",
              "      <td>block of flats</td>\n",
              "      <td>Panel</td>\n",
              "      <td>No</td>\n",
              "    </tr>\n",
              "    <tr>\n",
              "      <th>2</th>\n",
              "      <td>-0.373928</td>\n",
              "      <td>-0.373339</td>\n",
              "      <td>1.0</td>\n",
              "      <td>0.587303</td>\n",
              "      <td>-0.42439</td>\n",
              "      <td>0.003303</td>\n",
              "      <td>-0.240318</td>\n",
              "      <td>0.0</td>\n",
              "      <td>0.0</td>\n",
              "      <td>0.0</td>\n",
              "      <td>...</td>\n",
              "      <td>Secondary / secondary special</td>\n",
              "      <td>Married</td>\n",
              "      <td>House / apartment</td>\n",
              "      <td>Laborers</td>\n",
              "      <td>FRIDAY</td>\n",
              "      <td>Business Entity Type 2</td>\n",
              "      <td>reg oper account</td>\n",
              "      <td>block of flats</td>\n",
              "      <td>Panel</td>\n",
              "      <td>No</td>\n",
              "    </tr>\n",
              "    <tr>\n",
              "      <th>3</th>\n",
              "      <td>-0.64368</td>\n",
              "      <td>-0.644514</td>\n",
              "      <td>0.0</td>\n",
              "      <td>-0.735007</td>\n",
              "      <td>0.785908</td>\n",
              "      <td>0.589174</td>\n",
              "      <td>-0.533825</td>\n",
              "      <td>0.0</td>\n",
              "      <td>0.0</td>\n",
              "      <td>0.0</td>\n",
              "      <td>...</td>\n",
              "      <td>Secondary / secondary special</td>\n",
              "      <td>Civil marriage</td>\n",
              "      <td>House / apartment</td>\n",
              "      <td>manquant</td>\n",
              "      <td>TUESDAY</td>\n",
              "      <td>Self-employed</td>\n",
              "      <td>manquant</td>\n",
              "      <td>manquant</td>\n",
              "      <td>manquant</td>\n",
              "      <td>manquant</td>\n",
              "    </tr>\n",
              "    <tr>\n",
              "      <th>4</th>\n",
              "      <td>-0.94431</td>\n",
              "      <td>-0.945144</td>\n",
              "      <td>0.0</td>\n",
              "      <td>-0.716544</td>\n",
              "      <td>-3.604878</td>\n",
              "      <td>0.152294</td>\n",
              "      <td>-0.478307</td>\n",
              "      <td>0.0</td>\n",
              "      <td>0.0</td>\n",
              "      <td>0.0</td>\n",
              "      <td>...</td>\n",
              "      <td>Higher education</td>\n",
              "      <td>Separated</td>\n",
              "      <td>House / apartment</td>\n",
              "      <td>Accountants</td>\n",
              "      <td>MONDAY</td>\n",
              "      <td>Government</td>\n",
              "      <td>reg oper account</td>\n",
              "      <td>block of flats</td>\n",
              "      <td>Panel</td>\n",
              "      <td>No</td>\n",
              "    </tr>\n",
              "  </tbody>\n",
              "</table>\n",
              "<p>5 rows × 677 columns</p>\n",
              "</div>\n",
              "      <button class=\"colab-df-convert\" onclick=\"convertToInteractive('df-938ad3d3-d2b3-410d-8742-b7569bbf9313')\"\n",
              "              title=\"Convert this dataframe to an interactive table.\"\n",
              "              style=\"display:none;\">\n",
              "        \n",
              "  <svg xmlns=\"http://www.w3.org/2000/svg\" height=\"24px\"viewBox=\"0 0 24 24\"\n",
              "       width=\"24px\">\n",
              "    <path d=\"M0 0h24v24H0V0z\" fill=\"none\"/>\n",
              "    <path d=\"M18.56 5.44l.94 2.06.94-2.06 2.06-.94-2.06-.94-.94-2.06-.94 2.06-2.06.94zm-11 1L8.5 8.5l.94-2.06 2.06-.94-2.06-.94L8.5 2.5l-.94 2.06-2.06.94zm10 10l.94 2.06.94-2.06 2.06-.94-2.06-.94-.94-2.06-.94 2.06-2.06.94z\"/><path d=\"M17.41 7.96l-1.37-1.37c-.4-.4-.92-.59-1.43-.59-.52 0-1.04.2-1.43.59L10.3 9.45l-7.72 7.72c-.78.78-.78 2.05 0 2.83L4 21.41c.39.39.9.59 1.41.59.51 0 1.02-.2 1.41-.59l7.78-7.78 2.81-2.81c.8-.78.8-2.07 0-2.86zM5.41 20L4 18.59l7.72-7.72 1.47 1.35L5.41 20z\"/>\n",
              "  </svg>\n",
              "      </button>\n",
              "      \n",
              "  <style>\n",
              "    .colab-df-container {\n",
              "      display:flex;\n",
              "      flex-wrap:wrap;\n",
              "      gap: 12px;\n",
              "    }\n",
              "\n",
              "    .colab-df-convert {\n",
              "      background-color: #E8F0FE;\n",
              "      border: none;\n",
              "      border-radius: 50%;\n",
              "      cursor: pointer;\n",
              "      display: none;\n",
              "      fill: #1967D2;\n",
              "      height: 32px;\n",
              "      padding: 0 0 0 0;\n",
              "      width: 32px;\n",
              "    }\n",
              "\n",
              "    .colab-df-convert:hover {\n",
              "      background-color: #E2EBFA;\n",
              "      box-shadow: 0px 1px 2px rgba(60, 64, 67, 0.3), 0px 1px 3px 1px rgba(60, 64, 67, 0.15);\n",
              "      fill: #174EA6;\n",
              "    }\n",
              "\n",
              "    [theme=dark] .colab-df-convert {\n",
              "      background-color: #3B4455;\n",
              "      fill: #D2E3FC;\n",
              "    }\n",
              "\n",
              "    [theme=dark] .colab-df-convert:hover {\n",
              "      background-color: #434B5C;\n",
              "      box-shadow: 0px 1px 3px 1px rgba(0, 0, 0, 0.15);\n",
              "      filter: drop-shadow(0px 1px 2px rgba(0, 0, 0, 0.3));\n",
              "      fill: #FFFFFF;\n",
              "    }\n",
              "  </style>\n",
              "\n",
              "      <script>\n",
              "        const buttonEl =\n",
              "          document.querySelector('#df-938ad3d3-d2b3-410d-8742-b7569bbf9313 button.colab-df-convert');\n",
              "        buttonEl.style.display =\n",
              "          google.colab.kernel.accessAllowed ? 'block' : 'none';\n",
              "\n",
              "        async function convertToInteractive(key) {\n",
              "          const element = document.querySelector('#df-938ad3d3-d2b3-410d-8742-b7569bbf9313');\n",
              "          const dataTable =\n",
              "            await google.colab.kernel.invokeFunction('convertToInteractive',\n",
              "                                                     [key], {});\n",
              "          if (!dataTable) return;\n",
              "\n",
              "          const docLinkHtml = 'Like what you see? Visit the ' +\n",
              "            '<a target=\"_blank\" href=https://colab.research.google.com/notebooks/data_table.ipynb>data table notebook</a>'\n",
              "            + ' to learn more about interactive tables.';\n",
              "          element.innerHTML = '';\n",
              "          dataTable['output_type'] = 'display_data';\n",
              "          await google.colab.output.renderOutput(dataTable, element);\n",
              "          const docLink = document.createElement('div');\n",
              "          docLink.innerHTML = docLinkHtml;\n",
              "          element.appendChild(docLink);\n",
              "        }\n",
              "      </script>\n",
              "    </div>\n",
              "  </div>\n",
              "  "
            ]
          },
          "metadata": {},
          "execution_count": 56
        }
      ]
    },
    {
      "cell_type": "code",
      "source": [
        "categorical_columns"
      ],
      "metadata": {
        "colab": {
          "base_uri": "https://localhost:8080/"
        },
        "id": "vSQ2KP7Kfy0_",
        "outputId": "45c1cf02-b8e6-43a5-f951-645c4839eac6"
      },
      "id": "vSQ2KP7Kfy0_",
      "execution_count": 55,
      "outputs": [
        {
          "output_type": "execute_result",
          "data": {
            "text/plain": [
              "['NAME_CONTRACT_TYPE',\n",
              " 'CODE_GENDER',\n",
              " 'FLAG_OWN_CAR',\n",
              " 'FLAG_OWN_REALTY',\n",
              " 'NAME_TYPE_SUITE',\n",
              " 'NAME_INCOME_TYPE',\n",
              " 'NAME_EDUCATION_TYPE',\n",
              " 'NAME_FAMILY_STATUS',\n",
              " 'NAME_HOUSING_TYPE',\n",
              " 'OCCUPATION_TYPE',\n",
              " 'WEEKDAY_APPR_PROCESS_START',\n",
              " 'ORGANIZATION_TYPE',\n",
              " 'FONDKAPREMONT_MODE',\n",
              " 'HOUSETYPE_MODE',\n",
              " 'WALLSMATERIAL_MODE',\n",
              " 'EMERGENCYSTATE_MODE']"
            ]
          },
          "metadata": {},
          "execution_count": 55
        }
      ]
    },
    {
      "cell_type": "code",
      "execution_count": 1,
      "id": "e3372cb7",
      "metadata": {
        "id": "e3372cb7"
      },
      "outputs": [],
      "source": []
    },
    {
      "cell_type": "markdown",
      "id": "7e1c70b8",
      "metadata": {
        "id": "7e1c70b8"
      },
      "source": [
        "## <span id=\"s1\" style=\"font-family:Latin fonts;font-size:1.6em;\">Métriques</span><br>\n",
        "recall / sensibilité et F_score, matrice de confusion F1_score (favoriser à égalité précision et rappel <br>\n",
        "prendre tout et retravailler le seuil d'affectation ?<br>\n",
        "[Sommaire](#rt)"
      ]
    },
    {
      "cell_type": "raw",
      "id": "cfa0e194",
      "metadata": {
        "id": "cfa0e194"
      },
      "source": [
        "modifier le seuil d'affectation de classe\n",
        "predict_proba\n",
        "https://scikit-learn.org/stable/modules/generated/sklearn.linear_model.LogisticRegression.html"
      ]
    },
    {
      "cell_type": "markdown",
      "id": "75639670",
      "metadata": {
        "id": "75639670"
      },
      "source": [
        "# <span id=\"s2\" style=\"font-family:Latin fonts;font-size:1.8em;\"> 2. Classification supervisée</span><br>\n",
        "[Sommaire](#rt)"
      ]
    },
    {
      "cell_type": "markdown",
      "id": "0a278725",
      "metadata": {
        "id": "0a278725"
      },
      "source": [
        "# <span id=\"s3\" style=\"font-family:Latin fonts;font-size:1.8em;\"> 3. Fixer les hypers-paramètres</span><br>\n",
        "[Sommaire](#rt)"
      ]
    },
    {
      "cell_type": "markdown",
      "id": "5130c094",
      "metadata": {
        "id": "5130c094"
      },
      "source": [
        "# <span id=\"s4\" style=\"font-family:Latin fonts;font-size:1.8em;\"> 4. Choix de l'algorythme</span><br>\n",
        "[Sommaire](#rt)"
      ]
    },
    {
      "cell_type": "raw",
      "id": "37f63ec6",
      "metadata": {
        "id": "37f63ec6"
      },
      "source": [
        "https://kobia.fr/imbalanced-data-et-machine-learning/\n",
        "utiliser SMOTE-NC car données mixtes (numériques continues et catégorielles ou discrètes)\n",
        "Après la standardisation des variables continues\n",
        "https://kobia.fr/imbalanced-data-smote/#1\n",
        "https://kobia.fr/imbalanced-data-smote-numerical-variable/\n",
        "L’utilisation du SMOTE permet d’améliorer l’entraînement du modèle mais il faut faire attention à son utilisation dans les autres étapes de modélisation, et notamment la validation et le test.\n",
        "Les effets du SMOTE sur l’apprentissage des modèles dépendent largement de la façon dont les données numériques sont processées. L’idéal est de normaliser les variables continues en amont du SMOTE et de transformer les variables discrètes en aval.\n",
        "\n",
        "SVM One class\n",
        "http://cedric.cnam.fr/vertigo/cours/ml2/tpAlgosNoyaux.html\n",
        "https://scikit-learn.org/stable/modules/generated/sklearn.svm.OneClassSVM.html\n",
        "\n",
        "affecter un poid:\n",
        "scale_pos_weight"
      ]
    },
    {
      "cell_type": "markdown",
      "source": [],
      "metadata": {
        "id": "KM826H3tRN08"
      },
      "id": "KM826H3tRN08"
    },
    {
      "cell_type": "raw",
      "id": "9aa64660",
      "metadata": {
        "id": "9aa64660"
      },
      "source": [
        "pip install lightgbm"
      ]
    },
    {
      "cell_type": "code",
      "execution_count": null,
      "id": "0abb9c15",
      "metadata": {
        "id": "0abb9c15"
      },
      "outputs": [],
      "source": [
        "df = pd.read_csv(chemin+'application_train.csv')"
      ]
    },
    {
      "cell_type": "code",
      "execution_count": null,
      "id": "c0ea9980",
      "metadata": {
        "id": "c0ea9980",
        "outputId": "e7a56bea-7ff7-4929-a72f-f74b1ac2bada"
      },
      "outputs": [
        {
          "name": "stdout",
          "output_type": "stream",
          "text": [
            "F      202448\n",
            "M      105059\n",
            "XNA         4\n",
            "Name: CODE_GENDER, dtype: int64\n",
            "N    202924\n",
            "Y    104587\n",
            "Name: FLAG_OWN_CAR, dtype: int64\n",
            "Y    213312\n",
            "N     94199\n",
            "Name: FLAG_OWN_REALTY, dtype: int64\n"
          ]
        }
      ],
      "source": [
        "print(df['CODE_GENDER'].value_counts())\n",
        "print(df['FLAG_OWN_CAR'].value_counts())\n",
        "print(df['FLAG_OWN_REALTY'].value_counts())"
      ]
    },
    {
      "cell_type": "code",
      "execution_count": null,
      "id": "b7b55646",
      "metadata": {
        "id": "b7b55646"
      },
      "outputs": [],
      "source": [
        "for bin_feature in ['CODE_GENDER', 'FLAG_OWN_CAR', 'FLAG_OWN_REALTY']:\n",
        "        df[bin_feature], uniques = pd.factorize(df[bin_feature])"
      ]
    },
    {
      "cell_type": "code",
      "execution_count": null,
      "id": "8cf62c6f",
      "metadata": {
        "id": "8cf62c6f",
        "outputId": "fe8ea372-db10-44b1-ff43-d76915e172bf"
      },
      "outputs": [
        {
          "data": {
            "text/plain": [
              "Index(['SK_ID_CURR', 'TARGET', 'NAME_CONTRACT_TYPE', 'CODE_GENDER',\n",
              "       'FLAG_OWN_CAR', 'FLAG_OWN_REALTY', 'CNT_CHILDREN', 'AMT_INCOME_TOTAL',\n",
              "       'AMT_CREDIT', 'AMT_ANNUITY',\n",
              "       ...\n",
              "       'FLAG_DOCUMENT_18', 'FLAG_DOCUMENT_19', 'FLAG_DOCUMENT_20',\n",
              "       'FLAG_DOCUMENT_21', 'AMT_REQ_CREDIT_BUREAU_HOUR',\n",
              "       'AMT_REQ_CREDIT_BUREAU_DAY', 'AMT_REQ_CREDIT_BUREAU_WEEK',\n",
              "       'AMT_REQ_CREDIT_BUREAU_MON', 'AMT_REQ_CREDIT_BUREAU_QRT',\n",
              "       'AMT_REQ_CREDIT_BUREAU_YEAR'],\n",
              "      dtype='object', length=122)"
            ]
          },
          "execution_count": 8,
          "metadata": {},
          "output_type": "execute_result"
        }
      ],
      "source": [
        "df.columns"
      ]
    },
    {
      "cell_type": "code",
      "execution_count": null,
      "id": "76948f5d",
      "metadata": {
        "id": "76948f5d"
      },
      "outputs": [],
      "source": [
        "\n",
        "\n",
        "\n",
        "# One-hot encoding for categorical columns with get_dummies\n",
        "def one_hot_encoder(df, nan_as_category = True):\n",
        "    original_columns = list(df.columns)\n",
        "    categorical_columns = [col for col in df.columns if df[col].dtype == 'object']\n",
        "    df = pd.get_dummies(df, columns= categorical_columns, dummy_na= nan_as_category)\n",
        "    new_columns = [c for c in df.columns if c not in original_columns]\n",
        "    return df, new_columns\n",
        "\n",
        "# Preprocess application_train.csv and application_test.csv\n",
        "def application_train_test(num_rows = None, nan_as_category = False):\n",
        "    # Read data and merge\n",
        "    df = pd.read_csv(chemin+'application_train.csv', nrows= num_rows)\n",
        "    test_df = pd.read_csv(chemin+'application_test.csv', nrows= num_rows)\n",
        "    print(\"Train samples: {}, test samples: {}\".format(len(df), len(test_df)))\n",
        "    df = df.append(test_df).reset_index()\n",
        "    # Optional: Remove 4 applications with XNA CODE_GENDER (train set)\n",
        "    df = df[df['CODE_GENDER'] != 'XNA']\n",
        "    \n",
        "    # Categorical features with Binary encode (0 or 1; two categories)\n",
        "    for bin_feature in ['CODE_GENDER', 'FLAG_OWN_CAR', 'FLAG_OWN_REALTY']:\n",
        "        df[bin_feature], uniques = pd.factorize(df[bin_feature])\n",
        "    # Categorical features with One-Hot encode\n",
        "    df, cat_cols = one_hot_encoder(df, nan_as_category)\n",
        "    \n",
        "    # NaN values for DAYS_EMPLOYED: 365.243 -> nan\n",
        "    df['DAYS_EMPLOYED'].replace(365243, np.nan, inplace= True)\n",
        "    # Some simple new features (percentages)\n",
        "    df['DAYS_EMPLOYED_PERC'] = df['DAYS_EMPLOYED'] / df['DAYS_BIRTH']\n",
        "    df['INCOME_CREDIT_PERC'] = df['AMT_INCOME_TOTAL'] / df['AMT_CREDIT']\n",
        "    df['INCOME_PER_PERSON'] = df['AMT_INCOME_TOTAL'] / df['CNT_FAM_MEMBERS']\n",
        "    df['ANNUITY_INCOME_PERC'] = df['AMT_ANNUITY'] / df['AMT_INCOME_TOTAL']\n",
        "    df['PAYMENT_RATE'] = df['AMT_ANNUITY'] / df['AMT_CREDIT']\n",
        "    del test_df\n",
        "    gc.collect()\n",
        "    return df\n",
        "\n",
        "# Preprocess bureau.csv and bureau_balance.csv\n",
        "def bureau_and_balance(num_rows = None, nan_as_category = True):\n",
        "    bureau = pd.read_csv(chemin+'bureau.csv', nrows = num_rows)\n",
        "    bb = pd.read_csv(chemin+'bureau_balance.csv', nrows = num_rows)\n",
        "    bb, bb_cat = one_hot_encoder(bb, nan_as_category)\n",
        "    bureau, bureau_cat = one_hot_encoder(bureau, nan_as_category)\n",
        "    \n",
        "    # Bureau balance: Perform aggregations and merge with bureau.csv\n",
        "    bb_aggregations = {'MONTHS_BALANCE': ['min', 'max', 'size']}\n",
        "    for col in bb_cat:\n",
        "        bb_aggregations[col] = ['mean']\n",
        "    bb_agg = bb.groupby('SK_ID_BUREAU').agg(bb_aggregations)\n",
        "    bb_agg.columns = pd.Index([e[0] + \"_\" + e[1].upper() for e in bb_agg.columns.tolist()])\n",
        "    bureau = bureau.join(bb_agg, how='left', on='SK_ID_BUREAU')\n",
        "    bureau.drop(['SK_ID_BUREAU'], axis=1, inplace= True)\n",
        "    del bb, bb_agg\n",
        "    gc.collect()\n",
        "    \n",
        "    # Bureau and bureau_balance numeric features\n",
        "    num_aggregations = {\n",
        "        'DAYS_CREDIT': ['min', 'max', 'mean', 'var'],\n",
        "        'DAYS_CREDIT_ENDDATE': ['min', 'max', 'mean'],\n",
        "        'DAYS_CREDIT_UPDATE': ['mean'],\n",
        "        'CREDIT_DAY_OVERDUE': ['max', 'mean'],\n",
        "        'AMT_CREDIT_MAX_OVERDUE': ['mean'],\n",
        "        'AMT_CREDIT_SUM': ['max', 'mean', 'sum'],\n",
        "        'AMT_CREDIT_SUM_DEBT': ['max', 'mean', 'sum'],\n",
        "        'AMT_CREDIT_SUM_OVERDUE': ['mean'],\n",
        "        'AMT_CREDIT_SUM_LIMIT': ['mean', 'sum'],\n",
        "        'AMT_ANNUITY': ['max', 'mean'],\n",
        "        'CNT_CREDIT_PROLONG': ['sum'],\n",
        "        'MONTHS_BALANCE_MIN': ['min'],\n",
        "        'MONTHS_BALANCE_MAX': ['max'],\n",
        "        'MONTHS_BALANCE_SIZE': ['mean', 'sum']\n",
        "    }\n",
        "    # Bureau and bureau_balance categorical features\n",
        "    cat_aggregations = {}\n",
        "    for cat in bureau_cat: cat_aggregations[cat] = ['mean']\n",
        "    for cat in bb_cat: cat_aggregations[cat + \"_MEAN\"] = ['mean']\n",
        "    \n",
        "    bureau_agg = bureau.groupby('SK_ID_CURR').agg({**num_aggregations, **cat_aggregations})\n",
        "    bureau_agg.columns = pd.Index(['BURO_' + e[0] + \"_\" + e[1].upper() for e in bureau_agg.columns.tolist()])\n",
        "    # Bureau: Active credits - using only numerical aggregations\n",
        "    active = bureau[bureau['CREDIT_ACTIVE_Active'] == 1]\n",
        "    active_agg = active.groupby('SK_ID_CURR').agg(num_aggregations)\n",
        "    active_agg.columns = pd.Index(['ACTIVE_' + e[0] + \"_\" + e[1].upper() for e in active_agg.columns.tolist()])\n",
        "    bureau_agg = bureau_agg.join(active_agg, how='left', on='SK_ID_CURR')\n",
        "    del active, active_agg\n",
        "    gc.collect()\n",
        "    # Bureau: Closed credits - using only numerical aggregations\n",
        "    closed = bureau[bureau['CREDIT_ACTIVE_Closed'] == 1]\n",
        "    closed_agg = closed.groupby('SK_ID_CURR').agg(num_aggregations)\n",
        "    closed_agg.columns = pd.Index(['CLOSED_' + e[0] + \"_\" + e[1].upper() for e in closed_agg.columns.tolist()])\n",
        "    bureau_agg = bureau_agg.join(closed_agg, how='left', on='SK_ID_CURR')\n",
        "    del closed, closed_agg, bureau\n",
        "    gc.collect()\n",
        "    return bureau_agg\n",
        "\n",
        "# Preprocess previous_applications.csv\n",
        "def previous_applications(num_rows = None, nan_as_category = True):\n",
        "    prev = pd.read_csv(chemin+'previous_application.csv', nrows = num_rows)\n",
        "    prev, cat_cols = one_hot_encoder(prev, nan_as_category= True)\n",
        "    # Days 365.243 values -> nan\n",
        "    prev['DAYS_FIRST_DRAWING'].replace(365243, np.nan, inplace= True)\n",
        "    prev['DAYS_FIRST_DUE'].replace(365243, np.nan, inplace= True)\n",
        "    prev['DAYS_LAST_DUE_1ST_VERSION'].replace(365243, np.nan, inplace= True)\n",
        "    prev['DAYS_LAST_DUE'].replace(365243, np.nan, inplace= True)\n",
        "    prev['DAYS_TERMINATION'].replace(365243, np.nan, inplace= True)\n",
        "    # Add feature: value ask / value received percentage\n",
        "    prev['APP_CREDIT_PERC'] = prev['AMT_APPLICATION'] / prev['AMT_CREDIT']\n",
        "    # Previous applications numeric features\n",
        "    num_aggregations = {\n",
        "        'AMT_ANNUITY': ['min', 'max', 'mean'],\n",
        "        'AMT_APPLICATION': ['min', 'max', 'mean'],\n",
        "        'AMT_CREDIT': ['min', 'max', 'mean'],\n",
        "        'APP_CREDIT_PERC': ['min', 'max', 'mean', 'var'],\n",
        "        'AMT_DOWN_PAYMENT': ['min', 'max', 'mean'],\n",
        "        'AMT_GOODS_PRICE': ['min', 'max', 'mean'],\n",
        "        'HOUR_APPR_PROCESS_START': ['min', 'max', 'mean'],\n",
        "        'RATE_DOWN_PAYMENT': ['min', 'max', 'mean'],\n",
        "        'DAYS_DECISION': ['min', 'max', 'mean'],\n",
        "        'CNT_PAYMENT': ['mean', 'sum'],\n",
        "    }\n",
        "    # Previous applications categorical features\n",
        "    cat_aggregations = {}\n",
        "    for cat in cat_cols:\n",
        "        cat_aggregations[cat] = ['mean']\n",
        "    \n",
        "    prev_agg = prev.groupby('SK_ID_CURR').agg({**num_aggregations, **cat_aggregations})\n",
        "    prev_agg.columns = pd.Index(['PREV_' + e[0] + \"_\" + e[1].upper() for e in prev_agg.columns.tolist()])\n",
        "    # Previous Applications: Approved Applications - only numerical features\n",
        "    approved = prev[prev['NAME_CONTRACT_STATUS_Approved'] == 1]\n",
        "    approved_agg = approved.groupby('SK_ID_CURR').agg(num_aggregations)\n",
        "    approved_agg.columns = pd.Index(['APPROVED_' + e[0] + \"_\" + e[1].upper() for e in approved_agg.columns.tolist()])\n",
        "    prev_agg = prev_agg.join(approved_agg, how='left', on='SK_ID_CURR')\n",
        "    # Previous Applications: Refused Applications - only numerical features\n",
        "    refused = prev[prev['NAME_CONTRACT_STATUS_Refused'] == 1]\n",
        "    refused_agg = refused.groupby('SK_ID_CURR').agg(num_aggregations)\n",
        "    refused_agg.columns = pd.Index(['REFUSED_' + e[0] + \"_\" + e[1].upper() for e in refused_agg.columns.tolist()])\n",
        "    prev_agg = prev_agg.join(refused_agg, how='left', on='SK_ID_CURR')\n",
        "    del refused, refused_agg, approved, approved_agg, prev\n",
        "    gc.collect()\n",
        "    return prev_agg\n",
        "\n",
        "# Preprocess POS_CASH_balance.csv\n",
        "def pos_cash(num_rows = None, nan_as_category = True):\n",
        "    pos = pd.read_csv(chemin+'POS_CASH_balance.csv', nrows = num_rows)\n",
        "    pos, cat_cols = one_hot_encoder(pos, nan_as_category= True)\n",
        "    # Features\n",
        "    aggregations = {\n",
        "        'MONTHS_BALANCE': ['max', 'mean', 'size'],\n",
        "        'SK_DPD': ['max', 'mean'],\n",
        "        'SK_DPD_DEF': ['max', 'mean']\n",
        "    }\n",
        "    for cat in cat_cols:\n",
        "        aggregations[cat] = ['mean']\n",
        "    \n",
        "    pos_agg = pos.groupby('SK_ID_CURR').agg(aggregations)\n",
        "    pos_agg.columns = pd.Index(['POS_' + e[0] + \"_\" + e[1].upper() for e in pos_agg.columns.tolist()])\n",
        "    # Count pos cash accounts\n",
        "    pos_agg['POS_COUNT'] = pos.groupby('SK_ID_CURR').size()\n",
        "    del pos\n",
        "    gc.collect()\n",
        "    return pos_agg\n",
        "    \n",
        "# Preprocess installments_payments.csv\n",
        "def installments_payments(num_rows = None, nan_as_category = True):\n",
        "    ins = pd.read_csv(chemin+'installments_payments.csv', nrows = num_rows)\n",
        "    ins, cat_cols = one_hot_encoder(ins, nan_as_category= True)\n",
        "    # Percentage and difference paid in each installment (amount paid and installment value)\n",
        "    ins['PAYMENT_PERC'] = ins['AMT_PAYMENT'] / ins['AMT_INSTALMENT']\n",
        "    ins['PAYMENT_DIFF'] = ins['AMT_INSTALMENT'] - ins['AMT_PAYMENT']\n",
        "    # Days past due and days before due (no negative values)\n",
        "    ins['DPD'] = ins['DAYS_ENTRY_PAYMENT'] - ins['DAYS_INSTALMENT']\n",
        "    ins['DBD'] = ins['DAYS_INSTALMENT'] - ins['DAYS_ENTRY_PAYMENT']\n",
        "    ins['DPD'] = ins['DPD'].apply(lambda x: x if x > 0 else 0)\n",
        "    ins['DBD'] = ins['DBD'].apply(lambda x: x if x > 0 else 0)\n",
        "    # Features: Perform aggregations\n",
        "    aggregations = {\n",
        "        'NUM_INSTALMENT_VERSION': ['nunique'],\n",
        "        'DPD': ['max', 'mean', 'sum'],\n",
        "        'DBD': ['max', 'mean', 'sum'],\n",
        "        'PAYMENT_PERC': ['max', 'mean', 'sum', 'var'],\n",
        "        'PAYMENT_DIFF': ['max', 'mean', 'sum', 'var'],\n",
        "        'AMT_INSTALMENT': ['max', 'mean', 'sum'],\n",
        "        'AMT_PAYMENT': ['min', 'max', 'mean', 'sum'],\n",
        "        'DAYS_ENTRY_PAYMENT': ['max', 'mean', 'sum']\n",
        "    }\n",
        "    for cat in cat_cols:\n",
        "        aggregations[cat] = ['mean']\n",
        "    ins_agg = ins.groupby('SK_ID_CURR').agg(aggregations)\n",
        "    ins_agg.columns = pd.Index(['INSTAL_' + e[0] + \"_\" + e[1].upper() for e in ins_agg.columns.tolist()])\n",
        "    # Count installments accounts\n",
        "    ins_agg['INSTAL_COUNT'] = ins.groupby('SK_ID_CURR').size()\n",
        "    del ins\n",
        "    gc.collect()\n",
        "    return ins_agg\n",
        "\n",
        "# Preprocess credit_card_balance.csv\n",
        "def credit_card_balance(num_rows = None, nan_as_category = True):\n",
        "    cc = pd.read_csv(chemin+'credit_card_balance.csv', nrows = num_rows)\n",
        "    cc, cat_cols = one_hot_encoder(cc, nan_as_category= True)\n",
        "    # General aggregations\n",
        "    cc.drop(['SK_ID_PREV'], axis= 1, inplace = True)\n",
        "    cc_agg = cc.groupby('SK_ID_CURR').agg(['min', 'max', 'mean', 'sum', 'var'])\n",
        "    cc_agg.columns = pd.Index(['CC_' + e[0] + \"_\" + e[1].upper() for e in cc_agg.columns.tolist()])\n",
        "    # Count credit card lines\n",
        "    cc_agg['CC_COUNT'] = cc.groupby('SK_ID_CURR').size()\n",
        "    del cc\n",
        "    gc.collect()\n",
        "    return cc_agg\n",
        "\n",
        "# LightGBM GBDT with KFold or Stratified KFold\n",
        "# Parameters from Tilii kernel: https://www.kaggle.com/tilii7/olivier-lightgbm-parameters-by-bayesian-opt/code\n",
        "def kfold_lightgbm(df, num_folds, stratified = False, debug= False):\n",
        "    # Divide in training/validation and test data\n",
        "    train_df = df[df['TARGET'].notnull()]\n",
        "    test_df = df[df['TARGET'].isnull()]\n",
        "    print(\"Starting LightGBM. Train shape: {}, test shape: {}\".format(train_df.shape, test_df.shape))\n",
        "    del df\n",
        "    gc.collect()\n",
        "    # Cross validation model\n",
        "    if stratified:\n",
        "        folds = StratifiedKFold(n_splits= num_folds, shuffle=True, random_state=1001)\n",
        "    else:\n",
        "        folds = KFold(n_splits= num_folds, shuffle=True, random_state=1001)\n",
        "    # Create arrays and dataframes to store results\n",
        "    oof_preds = np.zeros(train_df.shape[0])\n",
        "    sub_preds = np.zeros(test_df.shape[0])\n",
        "    feature_importance_df = pd.DataFrame()\n",
        "    feats = [f for f in train_df.columns if f not in ['TARGET','SK_ID_CURR','SK_ID_BUREAU','SK_ID_PREV','index']]\n",
        "    \n",
        "    for n_fold, (train_idx, valid_idx) in enumerate(folds.split(train_df[feats], train_df['TARGET'])):\n",
        "        train_x, train_y = train_df[feats].iloc[train_idx], train_df['TARGET'].iloc[train_idx]\n",
        "        valid_x, valid_y = train_df[feats].iloc[valid_idx], train_df['TARGET'].iloc[valid_idx]\n",
        "\n",
        "        # LightGBM parameters found by Bayesian optimization\n",
        "        clf = LGBMClassifier(\n",
        "            nthread=4,\n",
        "            n_estimators=10000,\n",
        "            learning_rate=0.02,\n",
        "            num_leaves=34,\n",
        "            colsample_bytree=0.9497036,\n",
        "            subsample=0.8715623,\n",
        "            max_depth=8,\n",
        "            reg_alpha=0.041545473,\n",
        "            reg_lambda=0.0735294,\n",
        "            min_split_gain=0.0222415,\n",
        "            min_child_weight=39.3259775,\n",
        "            silent=-1,\n",
        "            verbose=-1, )\n",
        "\n",
        "        clf.fit(train_x, train_y, eval_set=[(train_x, train_y), (valid_x, valid_y)], \n",
        "            eval_metric= 'auc', verbose= 200, early_stopping_rounds= 200)\n",
        "\n",
        "        oof_preds[valid_idx] = clf.predict_proba(valid_x, num_iteration=clf.best_iteration_)[:, 1]\n",
        "        sub_preds += clf.predict_proba(test_df[feats], num_iteration=clf.best_iteration_)[:, 1] / folds.n_splits\n",
        "\n",
        "        fold_importance_df = pd.DataFrame()\n",
        "        fold_importance_df[\"feature\"] = feats\n",
        "        fold_importance_df[\"importance\"] = clf.feature_importances_\n",
        "        fold_importance_df[\"fold\"] = n_fold + 1\n",
        "        feature_importance_df = pd.concat([feature_importance_df, fold_importance_df], axis=0)\n",
        "        print('Fold %2d AUC : %.6f' % (n_fold + 1, roc_auc_score(valid_y, oof_preds[valid_idx])))\n",
        "        del clf, train_x, train_y, valid_x, valid_y\n",
        "        gc.collect()\n",
        "\n",
        "    print('Full AUC score %.6f' % roc_auc_score(train_df['TARGET'], oof_preds))\n",
        "    # Write submission file and plot feature importance\n",
        "    if not debug:\n",
        "        test_df['TARGET'] = sub_preds\n",
        "        test_df[['SK_ID_CURR', 'TARGET']].to_csv(submission_file_name, index= False)\n",
        "    display_importances(feature_importance_df)\n",
        "    return feature_importance_df\n",
        "\n",
        "# Display/plot feature importance\n",
        "def display_importances(feature_importance_df_):\n",
        "    cols = feature_importance_df_[[\"feature\", \"importance\"]].groupby(\"feature\").mean().sort_values(by=\"importance\", ascending=False)[:40].index\n",
        "    best_features = feature_importance_df_.loc[feature_importance_df_.feature.isin(cols)]\n",
        "    plt.figure(figsize=(8, 10))\n",
        "    sns.barplot(x=\"importance\", y=\"feature\", data=best_features.sort_values(by=\"importance\", ascending=False))\n",
        "    plt.title('LightGBM Features (avg over folds)')\n",
        "    plt.tight_layout()\n",
        "    plt.savefig('lgbm_importances01.png')\n",
        "\n",
        "\n",
        "def main(debug = False):\n",
        "    num_rows = 10000 if debug else None\n",
        "    df = application_train_test(num_rows)\n",
        "    with timer(\"Process bureau and bureau_balance\"):\n",
        "        bureau = bureau_and_balance(num_rows)\n",
        "        print(\"Bureau df shape:\", bureau.shape)\n",
        "        df = df.join(bureau, how='left', on='SK_ID_CURR')\n",
        "        del bureau\n",
        "        gc.collect()\n",
        "    with timer(\"Process previous_applications\"):\n",
        "        prev = previous_applications(num_rows)\n",
        "        print(\"Previous applications df shape:\", prev.shape)\n",
        "        df = df.join(prev, how='left', on='SK_ID_CURR')\n",
        "        del prev\n",
        "        gc.collect()\n",
        "    with timer(\"Process POS-CASH balance\"):\n",
        "        pos = pos_cash(num_rows)\n",
        "        print(\"Pos-cash balance df shape:\", pos.shape)\n",
        "        df = df.join(pos, how='left', on='SK_ID_CURR')\n",
        "        del pos\n",
        "        gc.collect()\n",
        "    with timer(\"Process installments payments\"):\n",
        "        ins = installments_payments(num_rows)\n",
        "        print(\"Installments payments df shape:\", ins.shape)\n",
        "        df = df.join(ins, how='left', on='SK_ID_CURR')\n",
        "        del ins\n",
        "        gc.collect()\n",
        "    with timer(\"Process credit card balance\"):\n",
        "        cc = credit_card_balance(num_rows)\n",
        "        print(\"Credit card balance df shape:\", cc.shape)\n",
        "        df = df.join(cc, how='left', on='SK_ID_CURR')\n",
        "        del cc\n",
        "        gc.collect()\n",
        "    #with timer(\"Run LightGBM with kfold\"):\n",
        "    #    feat_importance = kfold_lightgbm(df, num_folds= 10, stratified= False, debug= debug)\n",
        "    return df\n"
      ]
    },
    {
      "cell_type": "code",
      "execution_count": null,
      "id": "a91cd561",
      "metadata": {
        "id": "a91cd561",
        "outputId": "59d31622-47e2-4650-d379-5869959a36a0"
      },
      "outputs": [
        {
          "name": "stdout",
          "output_type": "stream",
          "text": [
            "Train samples: 307511, test samples: 48744\n",
            "Bureau df shape: (305811, 116)\n",
            "Process bureau and bureau_balance - done in 42s\n",
            "Previous applications df shape: (338857, 249)\n",
            "Process previous_applications - done in 50s\n",
            "Pos-cash balance df shape: (337252, 18)\n",
            "Process POS-CASH balance - done in 26s\n",
            "Installments payments df shape: (339587, 26)\n",
            "Process installments payments - done in 62s\n",
            "Credit card balance df shape: (103558, 141)\n",
            "Process credit card balance - done in 49s\n",
            "Full model run - done in 459s\n"
          ]
        }
      ],
      "source": [
        "submission_file_name = \"submission_kernel02.csv\"\n",
        "with timer(\"Full model run\"):\n",
        "    df = main()\n",
        "    df.to_csv(\"df_final.csv\", index= False)"
      ]
    },
    {
      "cell_type": "code",
      "execution_count": null,
      "id": "962c8922",
      "metadata": {
        "id": "962c8922",
        "outputId": "ac610900-ec09-4d1c-d522-266b30718a22"
      },
      "outputs": [
        {
          "data": {
            "text/html": [
              "<div>\n",
              "<style scoped>\n",
              "    .dataframe tbody tr th:only-of-type {\n",
              "        vertical-align: middle;\n",
              "    }\n",
              "\n",
              "    .dataframe tbody tr th {\n",
              "        vertical-align: top;\n",
              "    }\n",
              "\n",
              "    .dataframe thead th {\n",
              "        text-align: right;\n",
              "    }\n",
              "</style>\n",
              "<table border=\"1\" class=\"dataframe\">\n",
              "  <thead>\n",
              "    <tr style=\"text-align: right;\">\n",
              "      <th></th>\n",
              "      <th>index</th>\n",
              "      <th>SK_ID_CURR</th>\n",
              "      <th>TARGET</th>\n",
              "      <th>CODE_GENDER</th>\n",
              "      <th>FLAG_OWN_CAR</th>\n",
              "      <th>FLAG_OWN_REALTY</th>\n",
              "      <th>CNT_CHILDREN</th>\n",
              "      <th>AMT_INCOME_TOTAL</th>\n",
              "      <th>AMT_CREDIT</th>\n",
              "      <th>AMT_ANNUITY</th>\n",
              "      <th>...</th>\n",
              "      <th>CC_NAME_CONTRACT_STATUS_Signed_MAX</th>\n",
              "      <th>CC_NAME_CONTRACT_STATUS_Signed_MEAN</th>\n",
              "      <th>CC_NAME_CONTRACT_STATUS_Signed_SUM</th>\n",
              "      <th>CC_NAME_CONTRACT_STATUS_Signed_VAR</th>\n",
              "      <th>CC_NAME_CONTRACT_STATUS_nan_MIN</th>\n",
              "      <th>CC_NAME_CONTRACT_STATUS_nan_MAX</th>\n",
              "      <th>CC_NAME_CONTRACT_STATUS_nan_MEAN</th>\n",
              "      <th>CC_NAME_CONTRACT_STATUS_nan_SUM</th>\n",
              "      <th>CC_NAME_CONTRACT_STATUS_nan_VAR</th>\n",
              "      <th>CC_COUNT</th>\n",
              "    </tr>\n",
              "  </thead>\n",
              "  <tbody>\n",
              "    <tr>\n",
              "      <th>0</th>\n",
              "      <td>0</td>\n",
              "      <td>100002</td>\n",
              "      <td>1.0</td>\n",
              "      <td>0</td>\n",
              "      <td>0</td>\n",
              "      <td>0</td>\n",
              "      <td>0</td>\n",
              "      <td>202500.0</td>\n",
              "      <td>406597.5</td>\n",
              "      <td>24700.5</td>\n",
              "      <td>...</td>\n",
              "      <td>NaN</td>\n",
              "      <td>NaN</td>\n",
              "      <td>NaN</td>\n",
              "      <td>NaN</td>\n",
              "      <td>NaN</td>\n",
              "      <td>NaN</td>\n",
              "      <td>NaN</td>\n",
              "      <td>NaN</td>\n",
              "      <td>NaN</td>\n",
              "      <td>NaN</td>\n",
              "    </tr>\n",
              "    <tr>\n",
              "      <th>1</th>\n",
              "      <td>1</td>\n",
              "      <td>100003</td>\n",
              "      <td>0.0</td>\n",
              "      <td>1</td>\n",
              "      <td>0</td>\n",
              "      <td>1</td>\n",
              "      <td>0</td>\n",
              "      <td>270000.0</td>\n",
              "      <td>1293502.5</td>\n",
              "      <td>35698.5</td>\n",
              "      <td>...</td>\n",
              "      <td>NaN</td>\n",
              "      <td>NaN</td>\n",
              "      <td>NaN</td>\n",
              "      <td>NaN</td>\n",
              "      <td>NaN</td>\n",
              "      <td>NaN</td>\n",
              "      <td>NaN</td>\n",
              "      <td>NaN</td>\n",
              "      <td>NaN</td>\n",
              "      <td>NaN</td>\n",
              "    </tr>\n",
              "    <tr>\n",
              "      <th>2</th>\n",
              "      <td>2</td>\n",
              "      <td>100004</td>\n",
              "      <td>0.0</td>\n",
              "      <td>0</td>\n",
              "      <td>1</td>\n",
              "      <td>0</td>\n",
              "      <td>0</td>\n",
              "      <td>67500.0</td>\n",
              "      <td>135000.0</td>\n",
              "      <td>6750.0</td>\n",
              "      <td>...</td>\n",
              "      <td>NaN</td>\n",
              "      <td>NaN</td>\n",
              "      <td>NaN</td>\n",
              "      <td>NaN</td>\n",
              "      <td>NaN</td>\n",
              "      <td>NaN</td>\n",
              "      <td>NaN</td>\n",
              "      <td>NaN</td>\n",
              "      <td>NaN</td>\n",
              "      <td>NaN</td>\n",
              "    </tr>\n",
              "    <tr>\n",
              "      <th>3</th>\n",
              "      <td>3</td>\n",
              "      <td>100006</td>\n",
              "      <td>0.0</td>\n",
              "      <td>1</td>\n",
              "      <td>0</td>\n",
              "      <td>0</td>\n",
              "      <td>0</td>\n",
              "      <td>135000.0</td>\n",
              "      <td>312682.5</td>\n",
              "      <td>29686.5</td>\n",
              "      <td>...</td>\n",
              "      <td>0.0</td>\n",
              "      <td>0.0</td>\n",
              "      <td>0.0</td>\n",
              "      <td>0.0</td>\n",
              "      <td>0.0</td>\n",
              "      <td>0.0</td>\n",
              "      <td>0.0</td>\n",
              "      <td>0.0</td>\n",
              "      <td>0.0</td>\n",
              "      <td>6.0</td>\n",
              "    </tr>\n",
              "    <tr>\n",
              "      <th>4</th>\n",
              "      <td>4</td>\n",
              "      <td>100007</td>\n",
              "      <td>0.0</td>\n",
              "      <td>0</td>\n",
              "      <td>0</td>\n",
              "      <td>0</td>\n",
              "      <td>0</td>\n",
              "      <td>121500.0</td>\n",
              "      <td>513000.0</td>\n",
              "      <td>21865.5</td>\n",
              "      <td>...</td>\n",
              "      <td>NaN</td>\n",
              "      <td>NaN</td>\n",
              "      <td>NaN</td>\n",
              "      <td>NaN</td>\n",
              "      <td>NaN</td>\n",
              "      <td>NaN</td>\n",
              "      <td>NaN</td>\n",
              "      <td>NaN</td>\n",
              "      <td>NaN</td>\n",
              "      <td>NaN</td>\n",
              "    </tr>\n",
              "  </tbody>\n",
              "</table>\n",
              "<p>5 rows × 798 columns</p>\n",
              "</div>"
            ],
            "text/plain": [
              "   index  SK_ID_CURR  TARGET  CODE_GENDER  FLAG_OWN_CAR  FLAG_OWN_REALTY  \\\n",
              "0      0      100002     1.0            0             0                0   \n",
              "1      1      100003     0.0            1             0                1   \n",
              "2      2      100004     0.0            0             1                0   \n",
              "3      3      100006     0.0            1             0                0   \n",
              "4      4      100007     0.0            0             0                0   \n",
              "\n",
              "   CNT_CHILDREN  AMT_INCOME_TOTAL  AMT_CREDIT  AMT_ANNUITY  ...  \\\n",
              "0             0          202500.0    406597.5      24700.5  ...   \n",
              "1             0          270000.0   1293502.5      35698.5  ...   \n",
              "2             0           67500.0    135000.0       6750.0  ...   \n",
              "3             0          135000.0    312682.5      29686.5  ...   \n",
              "4             0          121500.0    513000.0      21865.5  ...   \n",
              "\n",
              "   CC_NAME_CONTRACT_STATUS_Signed_MAX  CC_NAME_CONTRACT_STATUS_Signed_MEAN  \\\n",
              "0                                 NaN                                  NaN   \n",
              "1                                 NaN                                  NaN   \n",
              "2                                 NaN                                  NaN   \n",
              "3                                 0.0                                  0.0   \n",
              "4                                 NaN                                  NaN   \n",
              "\n",
              "   CC_NAME_CONTRACT_STATUS_Signed_SUM  CC_NAME_CONTRACT_STATUS_Signed_VAR  \\\n",
              "0                                 NaN                                 NaN   \n",
              "1                                 NaN                                 NaN   \n",
              "2                                 NaN                                 NaN   \n",
              "3                                 0.0                                 0.0   \n",
              "4                                 NaN                                 NaN   \n",
              "\n",
              "   CC_NAME_CONTRACT_STATUS_nan_MIN  CC_NAME_CONTRACT_STATUS_nan_MAX  \\\n",
              "0                              NaN                              NaN   \n",
              "1                              NaN                              NaN   \n",
              "2                              NaN                              NaN   \n",
              "3                              0.0                              0.0   \n",
              "4                              NaN                              NaN   \n",
              "\n",
              "   CC_NAME_CONTRACT_STATUS_nan_MEAN  CC_NAME_CONTRACT_STATUS_nan_SUM  \\\n",
              "0                               NaN                              NaN   \n",
              "1                               NaN                              NaN   \n",
              "2                               NaN                              NaN   \n",
              "3                               0.0                              0.0   \n",
              "4                               NaN                              NaN   \n",
              "\n",
              "   CC_NAME_CONTRACT_STATUS_nan_VAR  CC_COUNT  \n",
              "0                              NaN       NaN  \n",
              "1                              NaN       NaN  \n",
              "2                              NaN       NaN  \n",
              "3                              0.0       6.0  \n",
              "4                              NaN       NaN  \n",
              "\n",
              "[5 rows x 798 columns]"
            ]
          },
          "execution_count": 8,
          "metadata": {},
          "output_type": "execute_result"
        }
      ],
      "source": [
        "df.head()"
      ]
    },
    {
      "cell_type": "code",
      "execution_count": null,
      "id": "2573729a",
      "metadata": {
        "id": "2573729a",
        "outputId": "808574a4-4735-4745-e215-97ea70db0eef"
      },
      "outputs": [
        {
          "data": {
            "text/plain": [
              "798"
            ]
          },
          "execution_count": 10,
          "metadata": {},
          "output_type": "execute_result"
        }
      ],
      "source": [
        "len(df.columns.tolist())"
      ]
    },
    {
      "cell_type": "code",
      "execution_count": null,
      "id": "c6538c95",
      "metadata": {
        "id": "c6538c95",
        "outputId": "37cc3304-a30a-45f4-a859-4a3467909a23"
      },
      "outputs": [
        {
          "data": {
            "text/plain": [
              "['index',\n",
              " 'SK_ID_CURR',\n",
              " 'TARGET',\n",
              " 'CODE_GENDER',\n",
              " 'FLAG_OWN_CAR',\n",
              " 'FLAG_OWN_REALTY',\n",
              " 'CNT_CHILDREN',\n",
              " 'AMT_INCOME_TOTAL',\n",
              " 'AMT_CREDIT',\n",
              " 'AMT_ANNUITY',\n",
              " 'AMT_GOODS_PRICE',\n",
              " 'REGION_POPULATION_RELATIVE',\n",
              " 'DAYS_BIRTH',\n",
              " 'DAYS_EMPLOYED',\n",
              " 'DAYS_REGISTRATION',\n",
              " 'DAYS_ID_PUBLISH',\n",
              " 'OWN_CAR_AGE',\n",
              " 'FLAG_MOBIL',\n",
              " 'FLAG_EMP_PHONE',\n",
              " 'FLAG_WORK_PHONE',\n",
              " 'FLAG_CONT_MOBILE',\n",
              " 'FLAG_PHONE',\n",
              " 'FLAG_EMAIL',\n",
              " 'CNT_FAM_MEMBERS',\n",
              " 'REGION_RATING_CLIENT',\n",
              " 'REGION_RATING_CLIENT_W_CITY',\n",
              " 'HOUR_APPR_PROCESS_START',\n",
              " 'REG_REGION_NOT_LIVE_REGION',\n",
              " 'REG_REGION_NOT_WORK_REGION',\n",
              " 'LIVE_REGION_NOT_WORK_REGION',\n",
              " 'REG_CITY_NOT_LIVE_CITY',\n",
              " 'REG_CITY_NOT_WORK_CITY',\n",
              " 'LIVE_CITY_NOT_WORK_CITY',\n",
              " 'EXT_SOURCE_1',\n",
              " 'EXT_SOURCE_2',\n",
              " 'EXT_SOURCE_3',\n",
              " 'APARTMENTS_AVG',\n",
              " 'BASEMENTAREA_AVG',\n",
              " 'YEARS_BEGINEXPLUATATION_AVG',\n",
              " 'YEARS_BUILD_AVG',\n",
              " 'COMMONAREA_AVG',\n",
              " 'ELEVATORS_AVG',\n",
              " 'ENTRANCES_AVG',\n",
              " 'FLOORSMAX_AVG',\n",
              " 'FLOORSMIN_AVG',\n",
              " 'LANDAREA_AVG',\n",
              " 'LIVINGAPARTMENTS_AVG',\n",
              " 'LIVINGAREA_AVG',\n",
              " 'NONLIVINGAPARTMENTS_AVG',\n",
              " 'NONLIVINGAREA_AVG',\n",
              " 'APARTMENTS_MODE',\n",
              " 'BASEMENTAREA_MODE',\n",
              " 'YEARS_BEGINEXPLUATATION_MODE',\n",
              " 'YEARS_BUILD_MODE',\n",
              " 'COMMONAREA_MODE',\n",
              " 'ELEVATORS_MODE',\n",
              " 'ENTRANCES_MODE',\n",
              " 'FLOORSMAX_MODE',\n",
              " 'FLOORSMIN_MODE',\n",
              " 'LANDAREA_MODE',\n",
              " 'LIVINGAPARTMENTS_MODE',\n",
              " 'LIVINGAREA_MODE',\n",
              " 'NONLIVINGAPARTMENTS_MODE',\n",
              " 'NONLIVINGAREA_MODE',\n",
              " 'APARTMENTS_MEDI',\n",
              " 'BASEMENTAREA_MEDI',\n",
              " 'YEARS_BEGINEXPLUATATION_MEDI',\n",
              " 'YEARS_BUILD_MEDI',\n",
              " 'COMMONAREA_MEDI',\n",
              " 'ELEVATORS_MEDI',\n",
              " 'ENTRANCES_MEDI',\n",
              " 'FLOORSMAX_MEDI',\n",
              " 'FLOORSMIN_MEDI',\n",
              " 'LANDAREA_MEDI',\n",
              " 'LIVINGAPARTMENTS_MEDI',\n",
              " 'LIVINGAREA_MEDI',\n",
              " 'NONLIVINGAPARTMENTS_MEDI',\n",
              " 'NONLIVINGAREA_MEDI',\n",
              " 'TOTALAREA_MODE',\n",
              " 'OBS_30_CNT_SOCIAL_CIRCLE',\n",
              " 'DEF_30_CNT_SOCIAL_CIRCLE',\n",
              " 'OBS_60_CNT_SOCIAL_CIRCLE',\n",
              " 'DEF_60_CNT_SOCIAL_CIRCLE',\n",
              " 'DAYS_LAST_PHONE_CHANGE',\n",
              " 'FLAG_DOCUMENT_2',\n",
              " 'FLAG_DOCUMENT_3',\n",
              " 'FLAG_DOCUMENT_4',\n",
              " 'FLAG_DOCUMENT_5',\n",
              " 'FLAG_DOCUMENT_6',\n",
              " 'FLAG_DOCUMENT_7',\n",
              " 'FLAG_DOCUMENT_8',\n",
              " 'FLAG_DOCUMENT_9',\n",
              " 'FLAG_DOCUMENT_10',\n",
              " 'FLAG_DOCUMENT_11',\n",
              " 'FLAG_DOCUMENT_12',\n",
              " 'FLAG_DOCUMENT_13',\n",
              " 'FLAG_DOCUMENT_14',\n",
              " 'FLAG_DOCUMENT_15',\n",
              " 'FLAG_DOCUMENT_16',\n",
              " 'FLAG_DOCUMENT_17',\n",
              " 'FLAG_DOCUMENT_18',\n",
              " 'FLAG_DOCUMENT_19',\n",
              " 'FLAG_DOCUMENT_20',\n",
              " 'FLAG_DOCUMENT_21',\n",
              " 'AMT_REQ_CREDIT_BUREAU_HOUR',\n",
              " 'AMT_REQ_CREDIT_BUREAU_DAY',\n",
              " 'AMT_REQ_CREDIT_BUREAU_WEEK',\n",
              " 'AMT_REQ_CREDIT_BUREAU_MON',\n",
              " 'AMT_REQ_CREDIT_BUREAU_QRT',\n",
              " 'AMT_REQ_CREDIT_BUREAU_YEAR',\n",
              " 'NAME_CONTRACT_TYPE_Cash loans',\n",
              " 'NAME_CONTRACT_TYPE_Revolving loans',\n",
              " 'NAME_TYPE_SUITE_Children',\n",
              " 'NAME_TYPE_SUITE_Family',\n",
              " 'NAME_TYPE_SUITE_Group of people',\n",
              " 'NAME_TYPE_SUITE_Other_A',\n",
              " 'NAME_TYPE_SUITE_Other_B',\n",
              " 'NAME_TYPE_SUITE_Spouse, partner',\n",
              " 'NAME_TYPE_SUITE_Unaccompanied',\n",
              " 'NAME_INCOME_TYPE_Businessman',\n",
              " 'NAME_INCOME_TYPE_Commercial associate',\n",
              " 'NAME_INCOME_TYPE_Maternity leave',\n",
              " 'NAME_INCOME_TYPE_Pensioner',\n",
              " 'NAME_INCOME_TYPE_State servant',\n",
              " 'NAME_INCOME_TYPE_Student',\n",
              " 'NAME_INCOME_TYPE_Unemployed',\n",
              " 'NAME_INCOME_TYPE_Working',\n",
              " 'NAME_EDUCATION_TYPE_Academic degree',\n",
              " 'NAME_EDUCATION_TYPE_Higher education',\n",
              " 'NAME_EDUCATION_TYPE_Incomplete higher',\n",
              " 'NAME_EDUCATION_TYPE_Lower secondary',\n",
              " 'NAME_EDUCATION_TYPE_Secondary / secondary special',\n",
              " 'NAME_FAMILY_STATUS_Civil marriage',\n",
              " 'NAME_FAMILY_STATUS_Married',\n",
              " 'NAME_FAMILY_STATUS_Separated',\n",
              " 'NAME_FAMILY_STATUS_Single / not married',\n",
              " 'NAME_FAMILY_STATUS_Unknown',\n",
              " 'NAME_FAMILY_STATUS_Widow',\n",
              " 'NAME_HOUSING_TYPE_Co-op apartment',\n",
              " 'NAME_HOUSING_TYPE_House / apartment',\n",
              " 'NAME_HOUSING_TYPE_Municipal apartment',\n",
              " 'NAME_HOUSING_TYPE_Office apartment',\n",
              " 'NAME_HOUSING_TYPE_Rented apartment',\n",
              " 'NAME_HOUSING_TYPE_With parents',\n",
              " 'OCCUPATION_TYPE_Accountants',\n",
              " 'OCCUPATION_TYPE_Cleaning staff',\n",
              " 'OCCUPATION_TYPE_Cooking staff',\n",
              " 'OCCUPATION_TYPE_Core staff',\n",
              " 'OCCUPATION_TYPE_Drivers',\n",
              " 'OCCUPATION_TYPE_HR staff',\n",
              " 'OCCUPATION_TYPE_High skill tech staff',\n",
              " 'OCCUPATION_TYPE_IT staff',\n",
              " 'OCCUPATION_TYPE_Laborers',\n",
              " 'OCCUPATION_TYPE_Low-skill Laborers',\n",
              " 'OCCUPATION_TYPE_Managers',\n",
              " 'OCCUPATION_TYPE_Medicine staff',\n",
              " 'OCCUPATION_TYPE_Private service staff',\n",
              " 'OCCUPATION_TYPE_Realty agents',\n",
              " 'OCCUPATION_TYPE_Sales staff',\n",
              " 'OCCUPATION_TYPE_Secretaries',\n",
              " 'OCCUPATION_TYPE_Security staff',\n",
              " 'OCCUPATION_TYPE_Waiters/barmen staff',\n",
              " 'WEEKDAY_APPR_PROCESS_START_FRIDAY',\n",
              " 'WEEKDAY_APPR_PROCESS_START_MONDAY',\n",
              " 'WEEKDAY_APPR_PROCESS_START_SATURDAY',\n",
              " 'WEEKDAY_APPR_PROCESS_START_SUNDAY',\n",
              " 'WEEKDAY_APPR_PROCESS_START_THURSDAY',\n",
              " 'WEEKDAY_APPR_PROCESS_START_TUESDAY',\n",
              " 'WEEKDAY_APPR_PROCESS_START_WEDNESDAY',\n",
              " 'ORGANIZATION_TYPE_Advertising',\n",
              " 'ORGANIZATION_TYPE_Agriculture',\n",
              " 'ORGANIZATION_TYPE_Bank',\n",
              " 'ORGANIZATION_TYPE_Business Entity Type 1',\n",
              " 'ORGANIZATION_TYPE_Business Entity Type 2',\n",
              " 'ORGANIZATION_TYPE_Business Entity Type 3',\n",
              " 'ORGANIZATION_TYPE_Cleaning',\n",
              " 'ORGANIZATION_TYPE_Construction',\n",
              " 'ORGANIZATION_TYPE_Culture',\n",
              " 'ORGANIZATION_TYPE_Electricity',\n",
              " 'ORGANIZATION_TYPE_Emergency',\n",
              " 'ORGANIZATION_TYPE_Government',\n",
              " 'ORGANIZATION_TYPE_Hotel',\n",
              " 'ORGANIZATION_TYPE_Housing',\n",
              " 'ORGANIZATION_TYPE_Industry: type 1',\n",
              " 'ORGANIZATION_TYPE_Industry: type 10',\n",
              " 'ORGANIZATION_TYPE_Industry: type 11',\n",
              " 'ORGANIZATION_TYPE_Industry: type 12',\n",
              " 'ORGANIZATION_TYPE_Industry: type 13',\n",
              " 'ORGANIZATION_TYPE_Industry: type 2',\n",
              " 'ORGANIZATION_TYPE_Industry: type 3',\n",
              " 'ORGANIZATION_TYPE_Industry: type 4',\n",
              " 'ORGANIZATION_TYPE_Industry: type 5',\n",
              " 'ORGANIZATION_TYPE_Industry: type 6',\n",
              " 'ORGANIZATION_TYPE_Industry: type 7',\n",
              " 'ORGANIZATION_TYPE_Industry: type 8',\n",
              " 'ORGANIZATION_TYPE_Industry: type 9',\n",
              " 'ORGANIZATION_TYPE_Insurance',\n",
              " 'ORGANIZATION_TYPE_Kindergarten',\n",
              " 'ORGANIZATION_TYPE_Legal Services',\n",
              " 'ORGANIZATION_TYPE_Medicine',\n",
              " 'ORGANIZATION_TYPE_Military',\n",
              " 'ORGANIZATION_TYPE_Mobile',\n",
              " 'ORGANIZATION_TYPE_Other',\n",
              " 'ORGANIZATION_TYPE_Police',\n",
              " 'ORGANIZATION_TYPE_Postal',\n",
              " 'ORGANIZATION_TYPE_Realtor',\n",
              " 'ORGANIZATION_TYPE_Religion',\n",
              " 'ORGANIZATION_TYPE_Restaurant',\n",
              " 'ORGANIZATION_TYPE_School',\n",
              " 'ORGANIZATION_TYPE_Security',\n",
              " 'ORGANIZATION_TYPE_Security Ministries',\n",
              " 'ORGANIZATION_TYPE_Self-employed',\n",
              " 'ORGANIZATION_TYPE_Services',\n",
              " 'ORGANIZATION_TYPE_Telecom',\n",
              " 'ORGANIZATION_TYPE_Trade: type 1',\n",
              " 'ORGANIZATION_TYPE_Trade: type 2',\n",
              " 'ORGANIZATION_TYPE_Trade: type 3',\n",
              " 'ORGANIZATION_TYPE_Trade: type 4',\n",
              " 'ORGANIZATION_TYPE_Trade: type 5',\n",
              " 'ORGANIZATION_TYPE_Trade: type 6',\n",
              " 'ORGANIZATION_TYPE_Trade: type 7',\n",
              " 'ORGANIZATION_TYPE_Transport: type 1',\n",
              " 'ORGANIZATION_TYPE_Transport: type 2',\n",
              " 'ORGANIZATION_TYPE_Transport: type 3',\n",
              " 'ORGANIZATION_TYPE_Transport: type 4',\n",
              " 'ORGANIZATION_TYPE_University',\n",
              " 'ORGANIZATION_TYPE_XNA',\n",
              " 'FONDKAPREMONT_MODE_not specified',\n",
              " 'FONDKAPREMONT_MODE_org spec account',\n",
              " 'FONDKAPREMONT_MODE_reg oper account',\n",
              " 'FONDKAPREMONT_MODE_reg oper spec account',\n",
              " 'HOUSETYPE_MODE_block of flats',\n",
              " 'HOUSETYPE_MODE_specific housing',\n",
              " 'HOUSETYPE_MODE_terraced house',\n",
              " 'WALLSMATERIAL_MODE_Block',\n",
              " 'WALLSMATERIAL_MODE_Mixed',\n",
              " 'WALLSMATERIAL_MODE_Monolithic',\n",
              " 'WALLSMATERIAL_MODE_Others',\n",
              " 'WALLSMATERIAL_MODE_Panel',\n",
              " 'WALLSMATERIAL_MODE_Stone, brick',\n",
              " 'WALLSMATERIAL_MODE_Wooden',\n",
              " 'EMERGENCYSTATE_MODE_No',\n",
              " 'EMERGENCYSTATE_MODE_Yes',\n",
              " 'DAYS_EMPLOYED_PERC',\n",
              " 'INCOME_CREDIT_PERC',\n",
              " 'INCOME_PER_PERSON',\n",
              " 'ANNUITY_INCOME_PERC',\n",
              " 'PAYMENT_RATE',\n",
              " 'BURO_DAYS_CREDIT_MIN',\n",
              " 'BURO_DAYS_CREDIT_MAX',\n",
              " 'BURO_DAYS_CREDIT_MEAN',\n",
              " 'BURO_DAYS_CREDIT_VAR',\n",
              " 'BURO_DAYS_CREDIT_ENDDATE_MIN',\n",
              " 'BURO_DAYS_CREDIT_ENDDATE_MAX',\n",
              " 'BURO_DAYS_CREDIT_ENDDATE_MEAN',\n",
              " 'BURO_DAYS_CREDIT_UPDATE_MEAN',\n",
              " 'BURO_CREDIT_DAY_OVERDUE_MAX',\n",
              " 'BURO_CREDIT_DAY_OVERDUE_MEAN',\n",
              " 'BURO_AMT_CREDIT_MAX_OVERDUE_MEAN',\n",
              " 'BURO_AMT_CREDIT_SUM_MAX',\n",
              " 'BURO_AMT_CREDIT_SUM_MEAN',\n",
              " 'BURO_AMT_CREDIT_SUM_SUM',\n",
              " 'BURO_AMT_CREDIT_SUM_DEBT_MAX',\n",
              " 'BURO_AMT_CREDIT_SUM_DEBT_MEAN',\n",
              " 'BURO_AMT_CREDIT_SUM_DEBT_SUM',\n",
              " 'BURO_AMT_CREDIT_SUM_OVERDUE_MEAN',\n",
              " 'BURO_AMT_CREDIT_SUM_LIMIT_MEAN',\n",
              " 'BURO_AMT_CREDIT_SUM_LIMIT_SUM',\n",
              " 'BURO_AMT_ANNUITY_MAX',\n",
              " 'BURO_AMT_ANNUITY_MEAN',\n",
              " 'BURO_CNT_CREDIT_PROLONG_SUM',\n",
              " 'BURO_MONTHS_BALANCE_MIN_MIN',\n",
              " 'BURO_MONTHS_BALANCE_MAX_MAX',\n",
              " 'BURO_MONTHS_BALANCE_SIZE_MEAN',\n",
              " 'BURO_MONTHS_BALANCE_SIZE_SUM',\n",
              " 'BURO_CREDIT_ACTIVE_Active_MEAN',\n",
              " 'BURO_CREDIT_ACTIVE_Bad debt_MEAN',\n",
              " 'BURO_CREDIT_ACTIVE_Closed_MEAN',\n",
              " 'BURO_CREDIT_ACTIVE_Sold_MEAN',\n",
              " 'BURO_CREDIT_ACTIVE_nan_MEAN',\n",
              " 'BURO_CREDIT_CURRENCY_currency 1_MEAN',\n",
              " 'BURO_CREDIT_CURRENCY_currency 2_MEAN',\n",
              " 'BURO_CREDIT_CURRENCY_currency 3_MEAN',\n",
              " 'BURO_CREDIT_CURRENCY_currency 4_MEAN',\n",
              " 'BURO_CREDIT_CURRENCY_nan_MEAN',\n",
              " 'BURO_CREDIT_TYPE_Another type of loan_MEAN',\n",
              " 'BURO_CREDIT_TYPE_Car loan_MEAN',\n",
              " 'BURO_CREDIT_TYPE_Cash loan (non-earmarked)_MEAN',\n",
              " 'BURO_CREDIT_TYPE_Consumer credit_MEAN',\n",
              " 'BURO_CREDIT_TYPE_Credit card_MEAN',\n",
              " 'BURO_CREDIT_TYPE_Interbank credit_MEAN',\n",
              " 'BURO_CREDIT_TYPE_Loan for business development_MEAN',\n",
              " 'BURO_CREDIT_TYPE_Loan for purchase of shares (margin lending)_MEAN',\n",
              " 'BURO_CREDIT_TYPE_Loan for the purchase of equipment_MEAN',\n",
              " 'BURO_CREDIT_TYPE_Loan for working capital replenishment_MEAN',\n",
              " 'BURO_CREDIT_TYPE_Microloan_MEAN',\n",
              " 'BURO_CREDIT_TYPE_Mobile operator loan_MEAN',\n",
              " 'BURO_CREDIT_TYPE_Mortgage_MEAN',\n",
              " 'BURO_CREDIT_TYPE_Real estate loan_MEAN',\n",
              " 'BURO_CREDIT_TYPE_Unknown type of loan_MEAN',\n",
              " 'BURO_CREDIT_TYPE_nan_MEAN',\n",
              " 'BURO_STATUS_0_MEAN_MEAN',\n",
              " 'BURO_STATUS_1_MEAN_MEAN',\n",
              " 'BURO_STATUS_2_MEAN_MEAN',\n",
              " 'BURO_STATUS_3_MEAN_MEAN',\n",
              " 'BURO_STATUS_4_MEAN_MEAN',\n",
              " 'BURO_STATUS_5_MEAN_MEAN',\n",
              " 'BURO_STATUS_C_MEAN_MEAN',\n",
              " 'BURO_STATUS_X_MEAN_MEAN',\n",
              " 'BURO_STATUS_nan_MEAN_MEAN',\n",
              " 'ACTIVE_DAYS_CREDIT_MIN',\n",
              " 'ACTIVE_DAYS_CREDIT_MAX',\n",
              " 'ACTIVE_DAYS_CREDIT_MEAN',\n",
              " 'ACTIVE_DAYS_CREDIT_VAR',\n",
              " 'ACTIVE_DAYS_CREDIT_ENDDATE_MIN',\n",
              " 'ACTIVE_DAYS_CREDIT_ENDDATE_MAX',\n",
              " 'ACTIVE_DAYS_CREDIT_ENDDATE_MEAN',\n",
              " 'ACTIVE_DAYS_CREDIT_UPDATE_MEAN',\n",
              " 'ACTIVE_CREDIT_DAY_OVERDUE_MAX',\n",
              " 'ACTIVE_CREDIT_DAY_OVERDUE_MEAN',\n",
              " 'ACTIVE_AMT_CREDIT_MAX_OVERDUE_MEAN',\n",
              " 'ACTIVE_AMT_CREDIT_SUM_MAX',\n",
              " 'ACTIVE_AMT_CREDIT_SUM_MEAN',\n",
              " 'ACTIVE_AMT_CREDIT_SUM_SUM',\n",
              " 'ACTIVE_AMT_CREDIT_SUM_DEBT_MAX',\n",
              " 'ACTIVE_AMT_CREDIT_SUM_DEBT_MEAN',\n",
              " 'ACTIVE_AMT_CREDIT_SUM_DEBT_SUM',\n",
              " 'ACTIVE_AMT_CREDIT_SUM_OVERDUE_MEAN',\n",
              " 'ACTIVE_AMT_CREDIT_SUM_LIMIT_MEAN',\n",
              " 'ACTIVE_AMT_CREDIT_SUM_LIMIT_SUM',\n",
              " 'ACTIVE_AMT_ANNUITY_MAX',\n",
              " 'ACTIVE_AMT_ANNUITY_MEAN',\n",
              " 'ACTIVE_CNT_CREDIT_PROLONG_SUM',\n",
              " 'ACTIVE_MONTHS_BALANCE_MIN_MIN',\n",
              " 'ACTIVE_MONTHS_BALANCE_MAX_MAX',\n",
              " 'ACTIVE_MONTHS_BALANCE_SIZE_MEAN',\n",
              " 'ACTIVE_MONTHS_BALANCE_SIZE_SUM',\n",
              " 'CLOSED_DAYS_CREDIT_MIN',\n",
              " 'CLOSED_DAYS_CREDIT_MAX',\n",
              " 'CLOSED_DAYS_CREDIT_MEAN',\n",
              " 'CLOSED_DAYS_CREDIT_VAR',\n",
              " 'CLOSED_DAYS_CREDIT_ENDDATE_MIN',\n",
              " 'CLOSED_DAYS_CREDIT_ENDDATE_MAX',\n",
              " 'CLOSED_DAYS_CREDIT_ENDDATE_MEAN',\n",
              " 'CLOSED_DAYS_CREDIT_UPDATE_MEAN',\n",
              " 'CLOSED_CREDIT_DAY_OVERDUE_MAX',\n",
              " 'CLOSED_CREDIT_DAY_OVERDUE_MEAN',\n",
              " 'CLOSED_AMT_CREDIT_MAX_OVERDUE_MEAN',\n",
              " 'CLOSED_AMT_CREDIT_SUM_MAX',\n",
              " 'CLOSED_AMT_CREDIT_SUM_MEAN',\n",
              " 'CLOSED_AMT_CREDIT_SUM_SUM',\n",
              " 'CLOSED_AMT_CREDIT_SUM_DEBT_MAX',\n",
              " 'CLOSED_AMT_CREDIT_SUM_DEBT_MEAN',\n",
              " 'CLOSED_AMT_CREDIT_SUM_DEBT_SUM',\n",
              " 'CLOSED_AMT_CREDIT_SUM_OVERDUE_MEAN',\n",
              " 'CLOSED_AMT_CREDIT_SUM_LIMIT_MEAN',\n",
              " 'CLOSED_AMT_CREDIT_SUM_LIMIT_SUM',\n",
              " 'CLOSED_AMT_ANNUITY_MAX',\n",
              " 'CLOSED_AMT_ANNUITY_MEAN',\n",
              " 'CLOSED_CNT_CREDIT_PROLONG_SUM',\n",
              " 'CLOSED_MONTHS_BALANCE_MIN_MIN',\n",
              " 'CLOSED_MONTHS_BALANCE_MAX_MAX',\n",
              " 'CLOSED_MONTHS_BALANCE_SIZE_MEAN',\n",
              " 'CLOSED_MONTHS_BALANCE_SIZE_SUM',\n",
              " 'PREV_AMT_ANNUITY_MIN',\n",
              " 'PREV_AMT_ANNUITY_MAX',\n",
              " 'PREV_AMT_ANNUITY_MEAN',\n",
              " 'PREV_AMT_APPLICATION_MIN',\n",
              " 'PREV_AMT_APPLICATION_MAX',\n",
              " 'PREV_AMT_APPLICATION_MEAN',\n",
              " 'PREV_AMT_CREDIT_MIN',\n",
              " 'PREV_AMT_CREDIT_MAX',\n",
              " 'PREV_AMT_CREDIT_MEAN',\n",
              " 'PREV_APP_CREDIT_PERC_MIN',\n",
              " 'PREV_APP_CREDIT_PERC_MAX',\n",
              " 'PREV_APP_CREDIT_PERC_MEAN',\n",
              " 'PREV_APP_CREDIT_PERC_VAR',\n",
              " 'PREV_AMT_DOWN_PAYMENT_MIN',\n",
              " 'PREV_AMT_DOWN_PAYMENT_MAX',\n",
              " 'PREV_AMT_DOWN_PAYMENT_MEAN',\n",
              " 'PREV_AMT_GOODS_PRICE_MIN',\n",
              " 'PREV_AMT_GOODS_PRICE_MAX',\n",
              " 'PREV_AMT_GOODS_PRICE_MEAN',\n",
              " 'PREV_HOUR_APPR_PROCESS_START_MIN',\n",
              " 'PREV_HOUR_APPR_PROCESS_START_MAX',\n",
              " 'PREV_HOUR_APPR_PROCESS_START_MEAN',\n",
              " 'PREV_RATE_DOWN_PAYMENT_MIN',\n",
              " 'PREV_RATE_DOWN_PAYMENT_MAX',\n",
              " 'PREV_RATE_DOWN_PAYMENT_MEAN',\n",
              " 'PREV_DAYS_DECISION_MIN',\n",
              " 'PREV_DAYS_DECISION_MAX',\n",
              " 'PREV_DAYS_DECISION_MEAN',\n",
              " 'PREV_CNT_PAYMENT_MEAN',\n",
              " 'PREV_CNT_PAYMENT_SUM',\n",
              " 'PREV_NAME_CONTRACT_TYPE_Cash loans_MEAN',\n",
              " 'PREV_NAME_CONTRACT_TYPE_Consumer loans_MEAN',\n",
              " 'PREV_NAME_CONTRACT_TYPE_Revolving loans_MEAN',\n",
              " 'PREV_NAME_CONTRACT_TYPE_XNA_MEAN',\n",
              " 'PREV_NAME_CONTRACT_TYPE_nan_MEAN',\n",
              " 'PREV_WEEKDAY_APPR_PROCESS_START_FRIDAY_MEAN',\n",
              " 'PREV_WEEKDAY_APPR_PROCESS_START_MONDAY_MEAN',\n",
              " 'PREV_WEEKDAY_APPR_PROCESS_START_SATURDAY_MEAN',\n",
              " 'PREV_WEEKDAY_APPR_PROCESS_START_SUNDAY_MEAN',\n",
              " 'PREV_WEEKDAY_APPR_PROCESS_START_THURSDAY_MEAN',\n",
              " 'PREV_WEEKDAY_APPR_PROCESS_START_TUESDAY_MEAN',\n",
              " 'PREV_WEEKDAY_APPR_PROCESS_START_WEDNESDAY_MEAN',\n",
              " 'PREV_WEEKDAY_APPR_PROCESS_START_nan_MEAN',\n",
              " 'PREV_FLAG_LAST_APPL_PER_CONTRACT_N_MEAN',\n",
              " 'PREV_FLAG_LAST_APPL_PER_CONTRACT_Y_MEAN',\n",
              " 'PREV_FLAG_LAST_APPL_PER_CONTRACT_nan_MEAN',\n",
              " 'PREV_NAME_CASH_LOAN_PURPOSE_Building a house or an annex_MEAN',\n",
              " 'PREV_NAME_CASH_LOAN_PURPOSE_Business development_MEAN',\n",
              " 'PREV_NAME_CASH_LOAN_PURPOSE_Buying a garage_MEAN',\n",
              " 'PREV_NAME_CASH_LOAN_PURPOSE_Buying a holiday home / land_MEAN',\n",
              " 'PREV_NAME_CASH_LOAN_PURPOSE_Buying a home_MEAN',\n",
              " 'PREV_NAME_CASH_LOAN_PURPOSE_Buying a new car_MEAN',\n",
              " 'PREV_NAME_CASH_LOAN_PURPOSE_Buying a used car_MEAN',\n",
              " 'PREV_NAME_CASH_LOAN_PURPOSE_Car repairs_MEAN',\n",
              " 'PREV_NAME_CASH_LOAN_PURPOSE_Education_MEAN',\n",
              " 'PREV_NAME_CASH_LOAN_PURPOSE_Everyday expenses_MEAN',\n",
              " 'PREV_NAME_CASH_LOAN_PURPOSE_Furniture_MEAN',\n",
              " 'PREV_NAME_CASH_LOAN_PURPOSE_Gasification / water supply_MEAN',\n",
              " 'PREV_NAME_CASH_LOAN_PURPOSE_Hobby_MEAN',\n",
              " 'PREV_NAME_CASH_LOAN_PURPOSE_Journey_MEAN',\n",
              " 'PREV_NAME_CASH_LOAN_PURPOSE_Medicine_MEAN',\n",
              " 'PREV_NAME_CASH_LOAN_PURPOSE_Money for a third person_MEAN',\n",
              " 'PREV_NAME_CASH_LOAN_PURPOSE_Other_MEAN',\n",
              " 'PREV_NAME_CASH_LOAN_PURPOSE_Payments on other loans_MEAN',\n",
              " 'PREV_NAME_CASH_LOAN_PURPOSE_Purchase of electronic equipment_MEAN',\n",
              " 'PREV_NAME_CASH_LOAN_PURPOSE_Refusal to name the goal_MEAN',\n",
              " 'PREV_NAME_CASH_LOAN_PURPOSE_Repairs_MEAN',\n",
              " 'PREV_NAME_CASH_LOAN_PURPOSE_Urgent needs_MEAN',\n",
              " 'PREV_NAME_CASH_LOAN_PURPOSE_Wedding / gift / holiday_MEAN',\n",
              " 'PREV_NAME_CASH_LOAN_PURPOSE_XAP_MEAN',\n",
              " 'PREV_NAME_CASH_LOAN_PURPOSE_XNA_MEAN',\n",
              " 'PREV_NAME_CASH_LOAN_PURPOSE_nan_MEAN',\n",
              " 'PREV_NAME_CONTRACT_STATUS_Approved_MEAN',\n",
              " 'PREV_NAME_CONTRACT_STATUS_Canceled_MEAN',\n",
              " 'PREV_NAME_CONTRACT_STATUS_Refused_MEAN',\n",
              " 'PREV_NAME_CONTRACT_STATUS_Unused offer_MEAN',\n",
              " 'PREV_NAME_CONTRACT_STATUS_nan_MEAN',\n",
              " 'PREV_NAME_PAYMENT_TYPE_Cash through the bank_MEAN',\n",
              " 'PREV_NAME_PAYMENT_TYPE_Cashless from the account of the employer_MEAN',\n",
              " 'PREV_NAME_PAYMENT_TYPE_Non-cash from your account_MEAN',\n",
              " 'PREV_NAME_PAYMENT_TYPE_XNA_MEAN',\n",
              " 'PREV_NAME_PAYMENT_TYPE_nan_MEAN',\n",
              " 'PREV_CODE_REJECT_REASON_CLIENT_MEAN',\n",
              " 'PREV_CODE_REJECT_REASON_HC_MEAN',\n",
              " 'PREV_CODE_REJECT_REASON_LIMIT_MEAN',\n",
              " 'PREV_CODE_REJECT_REASON_SCO_MEAN',\n",
              " 'PREV_CODE_REJECT_REASON_SCOFR_MEAN',\n",
              " 'PREV_CODE_REJECT_REASON_SYSTEM_MEAN',\n",
              " 'PREV_CODE_REJECT_REASON_VERIF_MEAN',\n",
              " 'PREV_CODE_REJECT_REASON_XAP_MEAN',\n",
              " 'PREV_CODE_REJECT_REASON_XNA_MEAN',\n",
              " 'PREV_CODE_REJECT_REASON_nan_MEAN',\n",
              " 'PREV_NAME_TYPE_SUITE_Children_MEAN',\n",
              " 'PREV_NAME_TYPE_SUITE_Family_MEAN',\n",
              " 'PREV_NAME_TYPE_SUITE_Group of people_MEAN',\n",
              " 'PREV_NAME_TYPE_SUITE_Other_A_MEAN',\n",
              " 'PREV_NAME_TYPE_SUITE_Other_B_MEAN',\n",
              " 'PREV_NAME_TYPE_SUITE_Spouse, partner_MEAN',\n",
              " 'PREV_NAME_TYPE_SUITE_Unaccompanied_MEAN',\n",
              " 'PREV_NAME_TYPE_SUITE_nan_MEAN',\n",
              " 'PREV_NAME_CLIENT_TYPE_New_MEAN',\n",
              " 'PREV_NAME_CLIENT_TYPE_Refreshed_MEAN',\n",
              " 'PREV_NAME_CLIENT_TYPE_Repeater_MEAN',\n",
              " 'PREV_NAME_CLIENT_TYPE_XNA_MEAN',\n",
              " 'PREV_NAME_CLIENT_TYPE_nan_MEAN',\n",
              " 'PREV_NAME_GOODS_CATEGORY_Additional Service_MEAN',\n",
              " 'PREV_NAME_GOODS_CATEGORY_Animals_MEAN',\n",
              " 'PREV_NAME_GOODS_CATEGORY_Audio/Video_MEAN',\n",
              " 'PREV_NAME_GOODS_CATEGORY_Auto Accessories_MEAN',\n",
              " 'PREV_NAME_GOODS_CATEGORY_Clothing and Accessories_MEAN',\n",
              " 'PREV_NAME_GOODS_CATEGORY_Computers_MEAN',\n",
              " 'PREV_NAME_GOODS_CATEGORY_Construction Materials_MEAN',\n",
              " 'PREV_NAME_GOODS_CATEGORY_Consumer Electronics_MEAN',\n",
              " 'PREV_NAME_GOODS_CATEGORY_Direct Sales_MEAN',\n",
              " 'PREV_NAME_GOODS_CATEGORY_Education_MEAN',\n",
              " 'PREV_NAME_GOODS_CATEGORY_Fitness_MEAN',\n",
              " 'PREV_NAME_GOODS_CATEGORY_Furniture_MEAN',\n",
              " 'PREV_NAME_GOODS_CATEGORY_Gardening_MEAN',\n",
              " 'PREV_NAME_GOODS_CATEGORY_Homewares_MEAN',\n",
              " 'PREV_NAME_GOODS_CATEGORY_House Construction_MEAN',\n",
              " 'PREV_NAME_GOODS_CATEGORY_Insurance_MEAN',\n",
              " 'PREV_NAME_GOODS_CATEGORY_Jewelry_MEAN',\n",
              " 'PREV_NAME_GOODS_CATEGORY_Medical Supplies_MEAN',\n",
              " 'PREV_NAME_GOODS_CATEGORY_Medicine_MEAN',\n",
              " 'PREV_NAME_GOODS_CATEGORY_Mobile_MEAN',\n",
              " 'PREV_NAME_GOODS_CATEGORY_Office Appliances_MEAN',\n",
              " 'PREV_NAME_GOODS_CATEGORY_Other_MEAN',\n",
              " 'PREV_NAME_GOODS_CATEGORY_Photo / Cinema Equipment_MEAN',\n",
              " 'PREV_NAME_GOODS_CATEGORY_Sport and Leisure_MEAN',\n",
              " 'PREV_NAME_GOODS_CATEGORY_Tourism_MEAN',\n",
              " 'PREV_NAME_GOODS_CATEGORY_Vehicles_MEAN',\n",
              " 'PREV_NAME_GOODS_CATEGORY_Weapon_MEAN',\n",
              " 'PREV_NAME_GOODS_CATEGORY_XNA_MEAN',\n",
              " 'PREV_NAME_GOODS_CATEGORY_nan_MEAN',\n",
              " 'PREV_NAME_PORTFOLIO_Cards_MEAN',\n",
              " 'PREV_NAME_PORTFOLIO_Cars_MEAN',\n",
              " 'PREV_NAME_PORTFOLIO_Cash_MEAN',\n",
              " 'PREV_NAME_PORTFOLIO_POS_MEAN',\n",
              " 'PREV_NAME_PORTFOLIO_XNA_MEAN',\n",
              " 'PREV_NAME_PORTFOLIO_nan_MEAN',\n",
              " 'PREV_NAME_PRODUCT_TYPE_XNA_MEAN',\n",
              " 'PREV_NAME_PRODUCT_TYPE_walk-in_MEAN',\n",
              " 'PREV_NAME_PRODUCT_TYPE_x-sell_MEAN',\n",
              " 'PREV_NAME_PRODUCT_TYPE_nan_MEAN',\n",
              " 'PREV_CHANNEL_TYPE_AP+ (Cash loan)_MEAN',\n",
              " 'PREV_CHANNEL_TYPE_Car dealer_MEAN',\n",
              " 'PREV_CHANNEL_TYPE_Channel of corporate sales_MEAN',\n",
              " 'PREV_CHANNEL_TYPE_Contact center_MEAN',\n",
              " 'PREV_CHANNEL_TYPE_Country-wide_MEAN',\n",
              " 'PREV_CHANNEL_TYPE_Credit and cash offices_MEAN',\n",
              " 'PREV_CHANNEL_TYPE_Regional / Local_MEAN',\n",
              " 'PREV_CHANNEL_TYPE_Stone_MEAN',\n",
              " 'PREV_CHANNEL_TYPE_nan_MEAN',\n",
              " 'PREV_NAME_SELLER_INDUSTRY_Auto technology_MEAN',\n",
              " 'PREV_NAME_SELLER_INDUSTRY_Clothing_MEAN',\n",
              " 'PREV_NAME_SELLER_INDUSTRY_Connectivity_MEAN',\n",
              " 'PREV_NAME_SELLER_INDUSTRY_Construction_MEAN',\n",
              " 'PREV_NAME_SELLER_INDUSTRY_Consumer electronics_MEAN',\n",
              " 'PREV_NAME_SELLER_INDUSTRY_Furniture_MEAN',\n",
              " 'PREV_NAME_SELLER_INDUSTRY_Industry_MEAN',\n",
              " 'PREV_NAME_SELLER_INDUSTRY_Jewelry_MEAN',\n",
              " 'PREV_NAME_SELLER_INDUSTRY_MLM partners_MEAN',\n",
              " 'PREV_NAME_SELLER_INDUSTRY_Tourism_MEAN',\n",
              " 'PREV_NAME_SELLER_INDUSTRY_XNA_MEAN',\n",
              " 'PREV_NAME_SELLER_INDUSTRY_nan_MEAN',\n",
              " 'PREV_NAME_YIELD_GROUP_XNA_MEAN',\n",
              " 'PREV_NAME_YIELD_GROUP_high_MEAN',\n",
              " 'PREV_NAME_YIELD_GROUP_low_action_MEAN',\n",
              " 'PREV_NAME_YIELD_GROUP_low_normal_MEAN',\n",
              " 'PREV_NAME_YIELD_GROUP_middle_MEAN',\n",
              " 'PREV_NAME_YIELD_GROUP_nan_MEAN',\n",
              " 'PREV_PRODUCT_COMBINATION_Card Street_MEAN',\n",
              " 'PREV_PRODUCT_COMBINATION_Card X-Sell_MEAN',\n",
              " 'PREV_PRODUCT_COMBINATION_Cash_MEAN',\n",
              " 'PREV_PRODUCT_COMBINATION_Cash Street: high_MEAN',\n",
              " 'PREV_PRODUCT_COMBINATION_Cash Street: low_MEAN',\n",
              " 'PREV_PRODUCT_COMBINATION_Cash Street: middle_MEAN',\n",
              " 'PREV_PRODUCT_COMBINATION_Cash X-Sell: high_MEAN',\n",
              " 'PREV_PRODUCT_COMBINATION_Cash X-Sell: low_MEAN',\n",
              " 'PREV_PRODUCT_COMBINATION_Cash X-Sell: middle_MEAN',\n",
              " 'PREV_PRODUCT_COMBINATION_POS household with interest_MEAN',\n",
              " 'PREV_PRODUCT_COMBINATION_POS household without interest_MEAN',\n",
              " 'PREV_PRODUCT_COMBINATION_POS industry with interest_MEAN',\n",
              " 'PREV_PRODUCT_COMBINATION_POS industry without interest_MEAN',\n",
              " 'PREV_PRODUCT_COMBINATION_POS mobile with interest_MEAN',\n",
              " 'PREV_PRODUCT_COMBINATION_POS mobile without interest_MEAN',\n",
              " 'PREV_PRODUCT_COMBINATION_POS other with interest_MEAN',\n",
              " 'PREV_PRODUCT_COMBINATION_POS others without interest_MEAN',\n",
              " 'PREV_PRODUCT_COMBINATION_nan_MEAN',\n",
              " 'APPROVED_AMT_ANNUITY_MIN',\n",
              " 'APPROVED_AMT_ANNUITY_MAX',\n",
              " 'APPROVED_AMT_ANNUITY_MEAN',\n",
              " 'APPROVED_AMT_APPLICATION_MIN',\n",
              " 'APPROVED_AMT_APPLICATION_MAX',\n",
              " 'APPROVED_AMT_APPLICATION_MEAN',\n",
              " 'APPROVED_AMT_CREDIT_MIN',\n",
              " 'APPROVED_AMT_CREDIT_MAX',\n",
              " 'APPROVED_AMT_CREDIT_MEAN',\n",
              " 'APPROVED_APP_CREDIT_PERC_MIN',\n",
              " 'APPROVED_APP_CREDIT_PERC_MAX',\n",
              " 'APPROVED_APP_CREDIT_PERC_MEAN',\n",
              " 'APPROVED_APP_CREDIT_PERC_VAR',\n",
              " 'APPROVED_AMT_DOWN_PAYMENT_MIN',\n",
              " 'APPROVED_AMT_DOWN_PAYMENT_MAX',\n",
              " 'APPROVED_AMT_DOWN_PAYMENT_MEAN',\n",
              " 'APPROVED_AMT_GOODS_PRICE_MIN',\n",
              " 'APPROVED_AMT_GOODS_PRICE_MAX',\n",
              " 'APPROVED_AMT_GOODS_PRICE_MEAN',\n",
              " 'APPROVED_HOUR_APPR_PROCESS_START_MIN',\n",
              " 'APPROVED_HOUR_APPR_PROCESS_START_MAX',\n",
              " 'APPROVED_HOUR_APPR_PROCESS_START_MEAN',\n",
              " 'APPROVED_RATE_DOWN_PAYMENT_MIN',\n",
              " 'APPROVED_RATE_DOWN_PAYMENT_MAX',\n",
              " 'APPROVED_RATE_DOWN_PAYMENT_MEAN',\n",
              " 'APPROVED_DAYS_DECISION_MIN',\n",
              " 'APPROVED_DAYS_DECISION_MAX',\n",
              " 'APPROVED_DAYS_DECISION_MEAN',\n",
              " 'APPROVED_CNT_PAYMENT_MEAN',\n",
              " 'APPROVED_CNT_PAYMENT_SUM',\n",
              " 'REFUSED_AMT_ANNUITY_MIN',\n",
              " 'REFUSED_AMT_ANNUITY_MAX',\n",
              " 'REFUSED_AMT_ANNUITY_MEAN',\n",
              " 'REFUSED_AMT_APPLICATION_MIN',\n",
              " 'REFUSED_AMT_APPLICATION_MAX',\n",
              " 'REFUSED_AMT_APPLICATION_MEAN',\n",
              " 'REFUSED_AMT_CREDIT_MIN',\n",
              " 'REFUSED_AMT_CREDIT_MAX',\n",
              " 'REFUSED_AMT_CREDIT_MEAN',\n",
              " 'REFUSED_APP_CREDIT_PERC_MIN',\n",
              " 'REFUSED_APP_CREDIT_PERC_MAX',\n",
              " 'REFUSED_APP_CREDIT_PERC_MEAN',\n",
              " 'REFUSED_APP_CREDIT_PERC_VAR',\n",
              " 'REFUSED_AMT_DOWN_PAYMENT_MIN',\n",
              " 'REFUSED_AMT_DOWN_PAYMENT_MAX',\n",
              " 'REFUSED_AMT_DOWN_PAYMENT_MEAN',\n",
              " 'REFUSED_AMT_GOODS_PRICE_MIN',\n",
              " 'REFUSED_AMT_GOODS_PRICE_MAX',\n",
              " 'REFUSED_AMT_GOODS_PRICE_MEAN',\n",
              " 'REFUSED_HOUR_APPR_PROCESS_START_MIN',\n",
              " 'REFUSED_HOUR_APPR_PROCESS_START_MAX',\n",
              " 'REFUSED_HOUR_APPR_PROCESS_START_MEAN',\n",
              " 'REFUSED_RATE_DOWN_PAYMENT_MIN',\n",
              " 'REFUSED_RATE_DOWN_PAYMENT_MAX',\n",
              " 'REFUSED_RATE_DOWN_PAYMENT_MEAN',\n",
              " 'REFUSED_DAYS_DECISION_MIN',\n",
              " 'REFUSED_DAYS_DECISION_MAX',\n",
              " 'REFUSED_DAYS_DECISION_MEAN',\n",
              " 'REFUSED_CNT_PAYMENT_MEAN',\n",
              " 'REFUSED_CNT_PAYMENT_SUM',\n",
              " 'POS_MONTHS_BALANCE_MAX',\n",
              " 'POS_MONTHS_BALANCE_MEAN',\n",
              " 'POS_MONTHS_BALANCE_SIZE',\n",
              " 'POS_SK_DPD_MAX',\n",
              " 'POS_SK_DPD_MEAN',\n",
              " 'POS_SK_DPD_DEF_MAX',\n",
              " 'POS_SK_DPD_DEF_MEAN',\n",
              " 'POS_NAME_CONTRACT_STATUS_Active_MEAN',\n",
              " 'POS_NAME_CONTRACT_STATUS_Amortized debt_MEAN',\n",
              " 'POS_NAME_CONTRACT_STATUS_Approved_MEAN',\n",
              " 'POS_NAME_CONTRACT_STATUS_Canceled_MEAN',\n",
              " 'POS_NAME_CONTRACT_STATUS_Completed_MEAN',\n",
              " 'POS_NAME_CONTRACT_STATUS_Demand_MEAN',\n",
              " 'POS_NAME_CONTRACT_STATUS_Returned to the store_MEAN',\n",
              " 'POS_NAME_CONTRACT_STATUS_Signed_MEAN',\n",
              " 'POS_NAME_CONTRACT_STATUS_XNA_MEAN',\n",
              " 'POS_NAME_CONTRACT_STATUS_nan_MEAN',\n",
              " 'POS_COUNT',\n",
              " 'INSTAL_NUM_INSTALMENT_VERSION_NUNIQUE',\n",
              " 'INSTAL_DPD_MAX',\n",
              " 'INSTAL_DPD_MEAN',\n",
              " 'INSTAL_DPD_SUM',\n",
              " 'INSTAL_DBD_MAX',\n",
              " 'INSTAL_DBD_MEAN',\n",
              " 'INSTAL_DBD_SUM',\n",
              " 'INSTAL_PAYMENT_PERC_MAX',\n",
              " 'INSTAL_PAYMENT_PERC_MEAN',\n",
              " 'INSTAL_PAYMENT_PERC_SUM',\n",
              " 'INSTAL_PAYMENT_PERC_VAR',\n",
              " 'INSTAL_PAYMENT_DIFF_MAX',\n",
              " 'INSTAL_PAYMENT_DIFF_MEAN',\n",
              " 'INSTAL_PAYMENT_DIFF_SUM',\n",
              " 'INSTAL_PAYMENT_DIFF_VAR',\n",
              " 'INSTAL_AMT_INSTALMENT_MAX',\n",
              " 'INSTAL_AMT_INSTALMENT_MEAN',\n",
              " 'INSTAL_AMT_INSTALMENT_SUM',\n",
              " 'INSTAL_AMT_PAYMENT_MIN',\n",
              " 'INSTAL_AMT_PAYMENT_MAX',\n",
              " 'INSTAL_AMT_PAYMENT_MEAN',\n",
              " 'INSTAL_AMT_PAYMENT_SUM',\n",
              " 'INSTAL_DAYS_ENTRY_PAYMENT_MAX',\n",
              " 'INSTAL_DAYS_ENTRY_PAYMENT_MEAN',\n",
              " 'INSTAL_DAYS_ENTRY_PAYMENT_SUM',\n",
              " 'INSTAL_COUNT',\n",
              " 'CC_MONTHS_BALANCE_MIN',\n",
              " 'CC_MONTHS_BALANCE_MAX',\n",
              " 'CC_MONTHS_BALANCE_MEAN',\n",
              " 'CC_MONTHS_BALANCE_SUM',\n",
              " 'CC_MONTHS_BALANCE_VAR',\n",
              " 'CC_AMT_BALANCE_MIN',\n",
              " 'CC_AMT_BALANCE_MAX',\n",
              " 'CC_AMT_BALANCE_MEAN',\n",
              " 'CC_AMT_BALANCE_SUM',\n",
              " 'CC_AMT_BALANCE_VAR',\n",
              " 'CC_AMT_CREDIT_LIMIT_ACTUAL_MIN',\n",
              " 'CC_AMT_CREDIT_LIMIT_ACTUAL_MAX',\n",
              " 'CC_AMT_CREDIT_LIMIT_ACTUAL_MEAN',\n",
              " 'CC_AMT_CREDIT_LIMIT_ACTUAL_SUM',\n",
              " 'CC_AMT_CREDIT_LIMIT_ACTUAL_VAR',\n",
              " 'CC_AMT_DRAWINGS_ATM_CURRENT_MIN',\n",
              " 'CC_AMT_DRAWINGS_ATM_CURRENT_MAX',\n",
              " 'CC_AMT_DRAWINGS_ATM_CURRENT_MEAN',\n",
              " 'CC_AMT_DRAWINGS_ATM_CURRENT_SUM',\n",
              " 'CC_AMT_DRAWINGS_ATM_CURRENT_VAR',\n",
              " 'CC_AMT_DRAWINGS_CURRENT_MIN',\n",
              " 'CC_AMT_DRAWINGS_CURRENT_MAX',\n",
              " 'CC_AMT_DRAWINGS_CURRENT_MEAN',\n",
              " 'CC_AMT_DRAWINGS_CURRENT_SUM',\n",
              " 'CC_AMT_DRAWINGS_CURRENT_VAR',\n",
              " 'CC_AMT_DRAWINGS_OTHER_CURRENT_MIN',\n",
              " 'CC_AMT_DRAWINGS_OTHER_CURRENT_MAX',\n",
              " 'CC_AMT_DRAWINGS_OTHER_CURRENT_MEAN',\n",
              " 'CC_AMT_DRAWINGS_OTHER_CURRENT_SUM',\n",
              " 'CC_AMT_DRAWINGS_OTHER_CURRENT_VAR',\n",
              " 'CC_AMT_DRAWINGS_POS_CURRENT_MIN',\n",
              " 'CC_AMT_DRAWINGS_POS_CURRENT_MAX',\n",
              " 'CC_AMT_DRAWINGS_POS_CURRENT_MEAN',\n",
              " 'CC_AMT_DRAWINGS_POS_CURRENT_SUM',\n",
              " 'CC_AMT_DRAWINGS_POS_CURRENT_VAR',\n",
              " 'CC_AMT_INST_MIN_REGULARITY_MIN',\n",
              " 'CC_AMT_INST_MIN_REGULARITY_MAX',\n",
              " 'CC_AMT_INST_MIN_REGULARITY_MEAN',\n",
              " 'CC_AMT_INST_MIN_REGULARITY_SUM',\n",
              " 'CC_AMT_INST_MIN_REGULARITY_VAR',\n",
              " 'CC_AMT_PAYMENT_CURRENT_MIN',\n",
              " 'CC_AMT_PAYMENT_CURRENT_MAX',\n",
              " 'CC_AMT_PAYMENT_CURRENT_MEAN',\n",
              " 'CC_AMT_PAYMENT_CURRENT_SUM',\n",
              " 'CC_AMT_PAYMENT_CURRENT_VAR',\n",
              " 'CC_AMT_PAYMENT_TOTAL_CURRENT_MIN',\n",
              " 'CC_AMT_PAYMENT_TOTAL_CURRENT_MAX',\n",
              " 'CC_AMT_PAYMENT_TOTAL_CURRENT_MEAN',\n",
              " 'CC_AMT_PAYMENT_TOTAL_CURRENT_SUM',\n",
              " 'CC_AMT_PAYMENT_TOTAL_CURRENT_VAR',\n",
              " 'CC_AMT_RECEIVABLE_PRINCIPAL_MIN',\n",
              " 'CC_AMT_RECEIVABLE_PRINCIPAL_MAX',\n",
              " 'CC_AMT_RECEIVABLE_PRINCIPAL_MEAN',\n",
              " 'CC_AMT_RECEIVABLE_PRINCIPAL_SUM',\n",
              " 'CC_AMT_RECEIVABLE_PRINCIPAL_VAR',\n",
              " 'CC_AMT_RECIVABLE_MIN',\n",
              " 'CC_AMT_RECIVABLE_MAX',\n",
              " 'CC_AMT_RECIVABLE_MEAN',\n",
              " 'CC_AMT_RECIVABLE_SUM',\n",
              " 'CC_AMT_RECIVABLE_VAR',\n",
              " 'CC_AMT_TOTAL_RECEIVABLE_MIN',\n",
              " 'CC_AMT_TOTAL_RECEIVABLE_MAX',\n",
              " 'CC_AMT_TOTAL_RECEIVABLE_MEAN',\n",
              " 'CC_AMT_TOTAL_RECEIVABLE_SUM',\n",
              " 'CC_AMT_TOTAL_RECEIVABLE_VAR',\n",
              " 'CC_CNT_DRAWINGS_ATM_CURRENT_MIN',\n",
              " 'CC_CNT_DRAWINGS_ATM_CURRENT_MAX',\n",
              " 'CC_CNT_DRAWINGS_ATM_CURRENT_MEAN',\n",
              " 'CC_CNT_DRAWINGS_ATM_CURRENT_SUM',\n",
              " 'CC_CNT_DRAWINGS_ATM_CURRENT_VAR',\n",
              " 'CC_CNT_DRAWINGS_CURRENT_MIN',\n",
              " 'CC_CNT_DRAWINGS_CURRENT_MAX',\n",
              " 'CC_CNT_DRAWINGS_CURRENT_MEAN',\n",
              " 'CC_CNT_DRAWINGS_CURRENT_SUM',\n",
              " 'CC_CNT_DRAWINGS_CURRENT_VAR',\n",
              " 'CC_CNT_DRAWINGS_OTHER_CURRENT_MIN',\n",
              " 'CC_CNT_DRAWINGS_OTHER_CURRENT_MAX',\n",
              " 'CC_CNT_DRAWINGS_OTHER_CURRENT_MEAN',\n",
              " 'CC_CNT_DRAWINGS_OTHER_CURRENT_SUM',\n",
              " 'CC_CNT_DRAWINGS_OTHER_CURRENT_VAR',\n",
              " 'CC_CNT_DRAWINGS_POS_CURRENT_MIN',\n",
              " 'CC_CNT_DRAWINGS_POS_CURRENT_MAX',\n",
              " 'CC_CNT_DRAWINGS_POS_CURRENT_MEAN',\n",
              " 'CC_CNT_DRAWINGS_POS_CURRENT_SUM',\n",
              " 'CC_CNT_DRAWINGS_POS_CURRENT_VAR',\n",
              " 'CC_CNT_INSTALMENT_MATURE_CUM_MIN',\n",
              " 'CC_CNT_INSTALMENT_MATURE_CUM_MAX',\n",
              " 'CC_CNT_INSTALMENT_MATURE_CUM_MEAN',\n",
              " 'CC_CNT_INSTALMENT_MATURE_CUM_SUM',\n",
              " 'CC_CNT_INSTALMENT_MATURE_CUM_VAR',\n",
              " 'CC_SK_DPD_MIN',\n",
              " 'CC_SK_DPD_MAX',\n",
              " 'CC_SK_DPD_MEAN',\n",
              " 'CC_SK_DPD_SUM',\n",
              " 'CC_SK_DPD_VAR',\n",
              " 'CC_SK_DPD_DEF_MIN',\n",
              " 'CC_SK_DPD_DEF_MAX',\n",
              " 'CC_SK_DPD_DEF_MEAN',\n",
              " 'CC_SK_DPD_DEF_SUM',\n",
              " 'CC_SK_DPD_DEF_VAR',\n",
              " 'CC_NAME_CONTRACT_STATUS_Active_MIN',\n",
              " 'CC_NAME_CONTRACT_STATUS_Active_MAX',\n",
              " 'CC_NAME_CONTRACT_STATUS_Active_MEAN',\n",
              " 'CC_NAME_CONTRACT_STATUS_Active_SUM',\n",
              " 'CC_NAME_CONTRACT_STATUS_Active_VAR',\n",
              " 'CC_NAME_CONTRACT_STATUS_Approved_MIN',\n",
              " 'CC_NAME_CONTRACT_STATUS_Approved_MAX',\n",
              " 'CC_NAME_CONTRACT_STATUS_Approved_MEAN',\n",
              " 'CC_NAME_CONTRACT_STATUS_Approved_SUM',\n",
              " 'CC_NAME_CONTRACT_STATUS_Approved_VAR',\n",
              " 'CC_NAME_CONTRACT_STATUS_Completed_MIN',\n",
              " 'CC_NAME_CONTRACT_STATUS_Completed_MAX',\n",
              " 'CC_NAME_CONTRACT_STATUS_Completed_MEAN',\n",
              " 'CC_NAME_CONTRACT_STATUS_Completed_SUM',\n",
              " 'CC_NAME_CONTRACT_STATUS_Completed_VAR',\n",
              " 'CC_NAME_CONTRACT_STATUS_Demand_MIN',\n",
              " 'CC_NAME_CONTRACT_STATUS_Demand_MAX',\n",
              " 'CC_NAME_CONTRACT_STATUS_Demand_MEAN',\n",
              " 'CC_NAME_CONTRACT_STATUS_Demand_SUM',\n",
              " 'CC_NAME_CONTRACT_STATUS_Demand_VAR',\n",
              " 'CC_NAME_CONTRACT_STATUS_Refused_MIN',\n",
              " 'CC_NAME_CONTRACT_STATUS_Refused_MAX',\n",
              " 'CC_NAME_CONTRACT_STATUS_Refused_MEAN',\n",
              " 'CC_NAME_CONTRACT_STATUS_Refused_SUM',\n",
              " 'CC_NAME_CONTRACT_STATUS_Refused_VAR',\n",
              " 'CC_NAME_CONTRACT_STATUS_Sent proposal_MIN',\n",
              " 'CC_NAME_CONTRACT_STATUS_Sent proposal_MAX',\n",
              " 'CC_NAME_CONTRACT_STATUS_Sent proposal_MEAN',\n",
              " 'CC_NAME_CONTRACT_STATUS_Sent proposal_SUM',\n",
              " 'CC_NAME_CONTRACT_STATUS_Sent proposal_VAR',\n",
              " 'CC_NAME_CONTRACT_STATUS_Signed_MIN',\n",
              " 'CC_NAME_CONTRACT_STATUS_Signed_MAX',\n",
              " 'CC_NAME_CONTRACT_STATUS_Signed_MEAN',\n",
              " 'CC_NAME_CONTRACT_STATUS_Signed_SUM',\n",
              " 'CC_NAME_CONTRACT_STATUS_Signed_VAR',\n",
              " 'CC_NAME_CONTRACT_STATUS_nan_MIN',\n",
              " 'CC_NAME_CONTRACT_STATUS_nan_MAX',\n",
              " 'CC_NAME_CONTRACT_STATUS_nan_MEAN',\n",
              " 'CC_NAME_CONTRACT_STATUS_nan_SUM',\n",
              " 'CC_NAME_CONTRACT_STATUS_nan_VAR',\n",
              " 'CC_COUNT']"
            ]
          },
          "execution_count": 13,
          "metadata": {},
          "output_type": "execute_result"
        }
      ],
      "source": [
        "df.columns.tolist()"
      ]
    },
    {
      "cell_type": "code",
      "execution_count": null,
      "id": "26da2b5d",
      "metadata": {
        "id": "26da2b5d",
        "outputId": "922597b8-9499-4f58-defc-0d5c0f9df88c"
      },
      "outputs": [
        {
          "data": {
            "text/plain": [
              "0.0    282682\n",
              "1.0     24825\n",
              "Name: TARGET, dtype: int64"
            ]
          },
          "execution_count": 14,
          "metadata": {},
          "output_type": "execute_result"
        }
      ],
      "source": [
        "df[\"TARGET\"].value_counts()"
      ]
    },
    {
      "cell_type": "code",
      "execution_count": null,
      "id": "4af5d65b",
      "metadata": {
        "id": "4af5d65b"
      },
      "outputs": [],
      "source": [
        "test_df = df[df['TARGET'].isnull()]\n",
        "test_df.to_csv(\"df_whithout_target.csv\", index= False)"
      ]
    },
    {
      "cell_type": "code",
      "execution_count": null,
      "id": "4a201633",
      "metadata": {
        "id": "4a201633",
        "outputId": "a9a4b956-ec73-4f70-bddf-d4618bb2bbc4"
      },
      "outputs": [
        {
          "data": {
            "text/plain": [
              "(48744, 798)"
            ]
          },
          "execution_count": 16,
          "metadata": {},
          "output_type": "execute_result"
        }
      ],
      "source": [
        "test_df.shape"
      ]
    },
    {
      "cell_type": "code",
      "execution_count": null,
      "id": "6ec84b7e",
      "metadata": {
        "id": "6ec84b7e"
      },
      "outputs": [],
      "source": [
        "df_with_target = df[df['TARGET'].notnull()]\n",
        "df_with_target.to_csv(\"df_whith_target.csv\", index= False)"
      ]
    },
    {
      "cell_type": "code",
      "execution_count": null,
      "id": "8d5e57f4",
      "metadata": {
        "id": "8d5e57f4"
      },
      "outputs": [],
      "source": [
        "def kfold_lightgbm(df, num_folds, stratified = False, debug= False):\n",
        "    # Divide in training/validation and test data\n",
        "    train_df = df[df['TARGET'].notnull()]\n",
        "    test_df = df[df['TARGET'].isnull()]\n",
        "    print(\"Starting LightGBM. Train shape: {}, test shape: {}\".format(train_df.shape, test_df.shape))\n",
        "    del df\n",
        "    gc.collect()\n",
        "    # Cross validation model\n",
        "    if stratified:\n",
        "        folds = StratifiedKFold(n_splits= num_folds, shuffle=True, random_state=1001)\n",
        "    else:\n",
        "        folds = KFold(n_splits= num_folds, shuffle=True, random_state=1001)\n",
        "    # Create arrays and dataframes to store results\n",
        "    oof_preds = np.zeros(train_df.shape[0])\n",
        "    sub_preds = np.zeros(test_df.shape[0])\n",
        "    feature_importance_df = pd.DataFrame()\n",
        "    feats = [f for f in train_df.columns if f not in ['TARGET','SK_ID_CURR','SK_ID_BUREAU','SK_ID_PREV','index']]\n",
        "    \n",
        "    for n_fold, (train_idx, valid_idx) in enumerate(folds.split(train_df[feats], train_df['TARGET'])):\n",
        "        train_x, train_y = train_df[feats].iloc[train_idx], train_df['TARGET'].iloc[train_idx]\n",
        "        valid_x, valid_y = train_df[feats].iloc[valid_idx], train_df['TARGET'].iloc[valid_idx]\n",
        "\n",
        "        # LightGBM parameters found by Bayesian optimization\n",
        "        clf = LGBMClassifier(\n",
        "            nthread=4,\n",
        "            n_estimators=10000,\n",
        "            learning_rate=0.02,\n",
        "            num_leaves=34,\n",
        "            colsample_bytree=0.9497036,\n",
        "            subsample=0.8715623,\n",
        "            max_depth=8,\n",
        "            reg_alpha=0.041545473,\n",
        "            reg_lambda=0.0735294,\n",
        "            min_split_gain=0.0222415,\n",
        "            min_child_weight=39.3259775,\n",
        "            silent=-1,\n",
        "            verbose=-1, )\n",
        "\n",
        "        clf.fit(train_x, train_y, eval_set=[(train_x, train_y), (valid_x, valid_y)], \n",
        "            eval_metric= 'auc', verbose= 200, early_stopping_rounds= 200)\n",
        "\n",
        "        oof_preds[valid_idx] = clf.predict_proba(valid_x, num_iteration=clf.best_iteration_)[:, 1]\n",
        "        sub_preds += clf.predict_proba(test_df[feats], num_iteration=clf.best_iteration_)[:, 1] / folds.n_splits\n",
        "\n",
        "        fold_importance_df = pd.DataFrame()\n",
        "        fold_importance_df[\"feature\"] = feats\n",
        "        fold_importance_df[\"importance\"] = clf.feature_importances_\n",
        "        fold_importance_df[\"fold\"] = n_fold + 1\n",
        "        feature_importance_df = pd.concat([feature_importance_df, fold_importance_df], axis=0)\n",
        "        print('Fold %2d AUC : %.6f' % (n_fold + 1, roc_auc_score(valid_y, oof_preds[valid_idx])))\n",
        "        del clf, train_x, train_y, valid_x, valid_y\n",
        "        gc.collect()\n",
        "\n",
        "    print('Full AUC score %.6f' % roc_auc_score(train_df['TARGET'], oof_preds))\n",
        "    # Write submission file and plot feature importance\n",
        "    if not debug:\n",
        "        test_df['TARGET'] = sub_preds\n",
        "        test_df[['SK_ID_CURR', 'TARGET']].to_csv(submission_file_name, index= False)\n",
        "    display_importances(feature_importance_df)\n",
        "    return feature_importance_df\n"
      ]
    },
    {
      "cell_type": "code",
      "execution_count": null,
      "id": "254054d0",
      "metadata": {
        "id": "254054d0"
      },
      "outputs": [],
      "source": [
        "from imblearn.over_sampling import SMOTE\n",
        "\n",
        "# Utilisation du SMOTE sur les données d'apprentissage\n",
        "smote = SMOTE(sampling_strategy=0.5)\n",
        "X_train_res, y_train_res = smote.fit_resample(X_train, y_train)\n",
        "\n",
        "# Liste contenant les indices des variables numériques discrètes\n",
        "numeric_discrete_col_list = [3, 4]\n",
        "\n",
        "for numeric_discrete_col in numeric_discrete_col_list:\n",
        "    X_train_res[:, numeric_discrete_col] = re_discretize(\n",
        "        np.unique(X_train[:, numeric_discrete_col]),\n",
        "        X_train_res[:, numeric_discrete_col],\n",
        "    )"
      ]
    },
    {
      "cell_type": "code",
      "execution_count": null,
      "id": "f008cd5a",
      "metadata": {
        "id": "f008cd5a"
      },
      "outputs": [],
      "source": [
        "# Preprocess POS_CASH_balance.csv\n",
        "def pos_cash_t(num_rows = None, nan_as_category = True):\n",
        "    pos = pd.read_csv(chemin+'POS_CASH_balance.csv', nrows = num_rows)\n",
        "    pos, cat_cols = one_hot_encoder(pos, nan_as_category= True)\n",
        "    # Features\n",
        "    aggregations = {\n",
        "        'MONTHS_BALANCE': ['max', 'mean', 'size'],\n",
        "        'SK_DPD': ['max', 'mean'],\n",
        "        'SK_DPD_DEF': ['max', 'mean']\n",
        "    }\n",
        "    for cat in cat_cols:\n",
        "        aggregations[cat] = ['mean']\n",
        "    \n",
        "    pos_agg = pos.groupby('SK_ID_CURR').agg(aggregations)\n",
        "    pos_agg.columns = pd.Index(['POS_' + e[0] + \"_\" + e[1].upper() for e in pos_agg.columns.tolist()])\n",
        "    # Count pos cash accounts\n",
        "    pos_agg['POS_COUNT'] = pos.groupby('SK_ID_CURR').size()\n",
        "    del pos\n",
        "    gc.collect()\n",
        "    return pos_agg"
      ]
    },
    {
      "cell_type": "code",
      "execution_count": null,
      "id": "ee62474d",
      "metadata": {
        "id": "ee62474d"
      },
      "outputs": [],
      "source": [
        "df_test = pos_cash_t()"
      ]
    },
    {
      "cell_type": "code",
      "execution_count": null,
      "id": "dc3cf080",
      "metadata": {
        "id": "dc3cf080",
        "outputId": "2dd3515b-5667-42ff-d54b-d6da86e54db6"
      },
      "outputs": [
        {
          "name": "stdout",
          "output_type": "stream",
          "text": [
            "POS_MONTHS_BALANCE_MAX\n",
            "POS_MONTHS_BALANCE_MEAN\n",
            "POS_MONTHS_BALANCE_SIZE\n",
            "POS_SK_DPD_MAX\n",
            "POS_SK_DPD_MEAN\n",
            "POS_SK_DPD_DEF_MAX\n",
            "POS_SK_DPD_DEF_MEAN\n",
            "POS_NAME_CONTRACT_STATUS_Active_MEAN\n",
            "POS_NAME_CONTRACT_STATUS_Amortized debt_MEAN\n",
            "POS_NAME_CONTRACT_STATUS_Approved_MEAN\n",
            "POS_NAME_CONTRACT_STATUS_Canceled_MEAN\n",
            "POS_NAME_CONTRACT_STATUS_Completed_MEAN\n",
            "POS_NAME_CONTRACT_STATUS_Demand_MEAN\n",
            "POS_NAME_CONTRACT_STATUS_Returned to the store_MEAN\n",
            "POS_NAME_CONTRACT_STATUS_Signed_MEAN\n",
            "POS_NAME_CONTRACT_STATUS_XNA_MEAN\n",
            "POS_NAME_CONTRACT_STATUS_nan_MEAN\n",
            "POS_COUNT\n"
          ]
        }
      ],
      "source": [
        "for r in df_test.columns.tolist() :\n",
        "    print(r)"
      ]
    },
    {
      "cell_type": "code",
      "execution_count": null,
      "id": "ba9a6000",
      "metadata": {
        "id": "ba9a6000",
        "outputId": "39811717-b064-42e0-b9e0-3398649c7bc9"
      },
      "outputs": [
        {
          "name": "stdout",
          "output_type": "stream",
          "text": [
            "[0.         0.33333333 0.5        0.77777778 0.66666667 0.4\n",
            " 0.75       0.16666667 0.625      0.86363636 0.2        0.88888889\n",
            " 0.25       1.         0.83333333 0.9        0.7826087  0.28571429\n",
            " 0.6        0.85714286 0.96153846 0.8        0.42857143 0.3\n",
            " 0.21428571 0.46666667 0.76923077 0.81818182 0.36363636 0.55555556\n",
            " 0.54545455 0.57142857 0.76470588 0.72727273 0.71428571 0.41176471\n",
            " 0.78571429 0.30769231 0.88235294 0.6875     0.82608696 0.14285714\n",
            " 0.73333333 0.94117647 0.875      0.90909091 0.85185185 0.41666667\n",
            " 0.4375     0.84615385 0.44444444 0.27272727 0.92307692 0.26666667\n",
            " 0.47368421 0.95454545 0.45454545 0.09090909 0.63636364 0.125\n",
            " 0.1        0.38461538 0.69230769 0.22222222 0.7        0.18181818\n",
            " 0.91666667 0.64285714 0.9375     0.92857143 0.58333333 0.82352941\n",
            " 0.47058824 0.31578947 0.375      0.73913043 0.95652174 0.86666667\n",
            " 0.95       0.46153846 0.93333333 0.95238095 0.9047619  0.94736842\n",
            " 0.70588235 0.11111111 0.52631579 0.07692308 0.53846154 0.68421053\n",
            " 0.73684211 0.89655172 0.64705882 0.91428571 0.96       0.72222222\n",
            " 0.85       0.48       0.61111111 0.90322581 0.78947368 0.94444444\n",
            " 0.94871795 0.63157895 0.13333333 0.92       0.08333333 0.91304348\n",
            " 0.94       0.90697674 0.61538462 0.58823529 0.8125     0.89285714\n",
            " 0.23076923 0.80952381 0.55       0.86956522 0.97222222 0.82758621\n",
            " 0.89473684 0.5625     0.02325581 0.65       0.77272727 0.88\n",
            " 0.96969697 0.11764706 0.53333333 0.79166667 0.92592593 0.84375\n",
            " 0.52380952 0.82926829 0.15384615 0.65384615 0.96551724 0.57894737\n",
            " 0.87931034 0.76190476 0.35294118 0.07142857 0.62962963 0.95833333\n",
            " 0.68       0.60869565 0.47619048 0.89189189 0.93103448 0.96666667\n",
            " 0.35714286 0.96296296 0.61904762 0.1875     0.57692308 0.0625\n",
            " 0.76       0.23809524 0.67741935 0.97674419 0.12       0.52941176\n",
            " 0.65217391 0.24       0.825      0.75862069 0.68181818 0.84782609\n",
            " 0.84210526 0.7037037  0.77419355 0.80769231 0.72       0.2173913\n",
            " 0.79310345 0.74285714 0.15789474 0.38888889 0.23529412 0.96875\n",
            " 0.3125     0.96428571 0.04761905 0.29411765 0.56       0.90625\n",
            " 0.21052632 0.70833333 0.54166667 0.86206897 0.84       0.17391304\n",
            " 0.71875    0.46875    0.37037037 0.42105263 0.06666667 0.97058824\n",
            " 0.38095238 0.76666667 0.68965517 0.5862069  0.87878788 0.87804878\n",
            " 0.69565217 0.97368421 0.80487805 0.51724138 0.17647059 0.32258065\n",
            " 0.10526316 0.97297297 0.39130435 0.88461538 0.45       0.74074074\n",
            " 0.26315789 0.52173913 0.79411765 0.97619048 0.975      0.96774194\n",
            " 0.74193548 0.81481481 0.95121951 0.59090909 0.82857143 0.36\n",
            " 0.12121212 0.17857143 0.35       0.05882353 0.08695652 0.88372093\n",
            " 0.72093023 0.82142857 0.04545455 0.83870968 0.36666667 0.78125\n",
            " 0.31818182 0.5483871  0.65517241 0.59259259 0.36842105 0.52777778\n",
            " 0.87096774 0.39285714 0.52       0.59459459 0.27777778 0.15\n",
            " 0.86111111 0.93939394 0.55172414 0.93548387 0.20833333 0.44\n",
            " 0.91176471 0.64       0.8961039  0.86842105 0.97142857 0.85294118\n",
            " 0.55882353 0.20930233 0.47222222 0.51851852 0.80555556 0.82539683\n",
            " 0.32       0.04347826 0.7027027  0.91891892 0.56521739 0.70454545\n",
            " 0.48275862 0.6097561  0.19047619 0.74545455 0.75757576 0.95522388\n",
            " 0.88333333 0.47826087 0.37931034 0.18518519 0.0952381  0.77142857\n",
            " 0.40625    0.72413793 0.73076923 0.43478261 0.94285714 0.30434783\n",
            " 0.84848485 0.62068966 0.08       0.28       0.93478261 0.34782609\n",
            " 0.94594595 0.925      0.60714286 0.98360656 0.26086957 0.89830508\n",
            " 0.61764706 0.45833333 0.40909091 0.43333333 0.19230769 0.05263158\n",
            " 0.61290323 0.80645161 0.97727273 0.98       0.63333333 0.23333333\n",
            " 0.79452055 0.59375    0.04       0.83783784 0.38235294 0.8372093\n",
            " 0.85106383 0.44117647 0.36585366 0.58064516 0.90163934 0.56666667\n",
            " 0.25925926 0.78787879 0.05555556 0.71794872 0.73809524 0.72972973\n",
            " 0.725      0.92105263 0.88636364 0.86486486 0.98148148 0.9787234\n",
            " 0.6969697  0.62857143 0.13636364 0.8974359  0.87234043 0.05\n",
            " 0.67647059 0.50980392 0.03571429 0.65625    0.22727273 0.11538462\n",
            " 0.34482759 0.60606061 0.75609756 0.85365854 0.88709677 0.97826087\n",
            " 0.90243902 0.62790698 0.40740741 0.88095238 0.73529412 0.19512195\n",
            " 0.78378378 0.89090909 0.34090909 0.41025641 0.68571429 0.3877551\n",
            " 0.78723404 0.97560976 0.53571429 0.94915254 0.97777778 0.26923077\n",
            " 0.88571429 0.04166667 0.45714286 0.87179487 0.4137931  0.9245283\n",
            " 0.41935484 0.48484848 0.91935484 0.42307692 0.70967742]\n",
            "389\n"
          ]
        }
      ],
      "source": [
        "col = 'PREV_NAME_GOODS_CATEGORY_XNA_MEAN'\n",
        "print(df_test[col].unique())\n",
        "print(len(df_test[col].unique()))\n"
      ]
    },
    {
      "cell_type": "code",
      "execution_count": null,
      "id": "5f6e9d81",
      "metadata": {
        "id": "5f6e9d81"
      },
      "outputs": [],
      "source": [
        "def bureau_and_balance_test2(num_rows = None, nan_as_category = True):\n",
        "    bureau = pd.read_csv(chemin+'bureau.csv', nrows = num_rows)\n",
        "    bb = pd.read_csv(chemin+'bureau_balance.csv', nrows = num_rows)\n",
        "    bbt, bb_cat = one_hot_encoder(bb, nan_as_category)\n",
        "    bureaut, bureau_cat = one_hot_encoder(bureau, nan_as_category)\n",
        "    \n",
        "    # Bureau balance: Perform aggregations and merge with bureau.csv\n",
        "    bb_aggregations = {'MONTHS_BALANCE': ['min', 'max', 'size']}\n",
        "    for col in bb_cat:\n",
        "        bb_aggregations[col] = ['mean']\n",
        "    bb_agg = bb.groupby('SK_ID_BUREAU').agg(bb_aggregations)\n",
        "    bb_agg.columns = pd.Index([e[0] + \"_\" + e[1].upper() for e in bb_agg.columns.tolist()])\n",
        "    bureau = bureau.join(bb_agg, how='left', on='SK_ID_BUREAU')\n",
        "    bureau.drop(['SK_ID_BUREAU'], axis=1, inplace= True)\n",
        "    del bb, bb_agg\n",
        "    gc.collect()\n",
        "    \n",
        "    # Bureau and bureau_balance numeric features\n",
        "    num_aggregations = {\n",
        "        'DAYS_CREDIT': ['min', 'max', 'mean', 'var'],\n",
        "        'DAYS_CREDIT_ENDDATE': ['min', 'max', 'mean'],\n",
        "        'DAYS_CREDIT_UPDATE': ['mean'],\n",
        "        'CREDIT_DAY_OVERDUE': ['max', 'mean'],\n",
        "        'AMT_CREDIT_MAX_OVERDUE': ['mean'],\n",
        "        'AMT_CREDIT_SUM': ['max', 'mean', 'sum'],\n",
        "        'AMT_CREDIT_SUM_DEBT': ['max', 'mean', 'sum'],\n",
        "        'AMT_CREDIT_SUM_OVERDUE': ['mean'],\n",
        "        'AMT_CREDIT_SUM_LIMIT': ['mean', 'sum'],\n",
        "        'AMT_ANNUITY': ['max', 'mean'],\n",
        "        'CNT_CREDIT_PROLONG': ['sum'],\n",
        "        'MONTHS_BALANCE_MIN': ['min'],\n",
        "        'MONTHS_BALANCE_MAX': ['max'],\n",
        "        'MONTHS_BALANCE_SIZE': ['mean', 'sum']\n",
        "    }\n",
        "    # Bureau and bureau_balance categorical features\n",
        "    cat_aggregations = {}\n",
        "    for cat in bureau_cat: cat_aggregations[cat] = ['mean']\n",
        "    for cat in bb_cat: cat_aggregations[cat + \"_MEAN\"] = ['mean']\n",
        "    \n",
        "    bureau_agg = bureau.groupby('SK_ID_CURR').agg({**num_aggregations, **cat_aggregations})\n",
        "    bureau_agg.columns = pd.Index(['BURO_' + e[0] + \"_\" + e[1].upper() for e in bureau_agg.columns.tolist()])\n",
        "    # Bureau: Active credits - using only numerical aggregations\n",
        "    active = bureau[bureau['CREDIT_ACTIVE_Active'] == 1]\n",
        "    active_agg = active.groupby('SK_ID_CURR').agg(num_aggregations)\n",
        "    active_agg.columns = pd.Index(['ACTIVE_' + e[0] + \"_\" + e[1].upper() for e in active_agg.columns.tolist()])\n",
        "    bureau_agg = bureau_agg.join(active_agg, how='left', on='SK_ID_CURR')\n",
        "    del active, active_agg\n",
        "    gc.collect()\n",
        "    # Bureau: Closed credits - using only numerical aggregations\n",
        "    closed = bureau[bureau['CREDIT_ACTIVE_Closed'] == 1]\n",
        "    closed_agg = closed.groupby('SK_ID_CURR').agg(num_aggregations)\n",
        "    closed_agg.columns = pd.Index(['CLOSED_' + e[0] + \"_\" + e[1].upper() for e in closed_agg.columns.tolist()])\n",
        "    bureau_agg = bureau_agg.join(closed_agg, how='left', on='SK_ID_CURR')\n",
        "    del closed, closed_agg, bureau\n",
        "    gc.collect()\n",
        "    return bureau_agg"
      ]
    },
    {
      "cell_type": "code",
      "execution_count": null,
      "id": "ceae11ac",
      "metadata": {
        "id": "ceae11ac",
        "outputId": "a5ff2ba3-a2b4-43a1-baf6-abc42a78c53a"
      },
      "outputs": [
        {
          "ename": "KeyError",
          "evalue": "\"Column(s) ['STATUS_0', 'STATUS_1', 'STATUS_2', 'STATUS_3', 'STATUS_4', 'STATUS_5', 'STATUS_C', 'STATUS_X', 'STATUS_nan'] do not exist\"",
          "output_type": "error",
          "traceback": [
            "\u001b[1;31m---------------------------------------------------------------------------\u001b[0m",
            "\u001b[1;31mKeyError\u001b[0m                                  Traceback (most recent call last)",
            "Input \u001b[1;32mIn [21]\u001b[0m, in \u001b[0;36m<cell line: 1>\u001b[1;34m()\u001b[0m\n\u001b[1;32m----> 1\u001b[0m df_bureau \u001b[38;5;241m=\u001b[39m \u001b[43mbureau_and_balance_test2\u001b[49m\u001b[43m(\u001b[49m\u001b[43m)\u001b[49m\n",
            "Input \u001b[1;32mIn [20]\u001b[0m, in \u001b[0;36mbureau_and_balance_test2\u001b[1;34m(num_rows, nan_as_category)\u001b[0m\n\u001b[0;32m      9\u001b[0m \u001b[38;5;28;01mfor\u001b[39;00m col \u001b[38;5;129;01min\u001b[39;00m bb_cat:\n\u001b[0;32m     10\u001b[0m     bb_aggregations[col] \u001b[38;5;241m=\u001b[39m [\u001b[38;5;124m'\u001b[39m\u001b[38;5;124mmean\u001b[39m\u001b[38;5;124m'\u001b[39m]\n\u001b[1;32m---> 11\u001b[0m bb_agg \u001b[38;5;241m=\u001b[39m \u001b[43mbb\u001b[49m\u001b[38;5;241;43m.\u001b[39;49m\u001b[43mgroupby\u001b[49m\u001b[43m(\u001b[49m\u001b[38;5;124;43m'\u001b[39;49m\u001b[38;5;124;43mSK_ID_BUREAU\u001b[39;49m\u001b[38;5;124;43m'\u001b[39;49m\u001b[43m)\u001b[49m\u001b[38;5;241;43m.\u001b[39;49m\u001b[43magg\u001b[49m\u001b[43m(\u001b[49m\u001b[43mbb_aggregations\u001b[49m\u001b[43m)\u001b[49m\n\u001b[0;32m     12\u001b[0m bb_agg\u001b[38;5;241m.\u001b[39mcolumns \u001b[38;5;241m=\u001b[39m pd\u001b[38;5;241m.\u001b[39mIndex([e[\u001b[38;5;241m0\u001b[39m] \u001b[38;5;241m+\u001b[39m \u001b[38;5;124m\"\u001b[39m\u001b[38;5;124m_\u001b[39m\u001b[38;5;124m\"\u001b[39m \u001b[38;5;241m+\u001b[39m e[\u001b[38;5;241m1\u001b[39m]\u001b[38;5;241m.\u001b[39mupper() \u001b[38;5;28;01mfor\u001b[39;00m e \u001b[38;5;129;01min\u001b[39;00m bb_agg\u001b[38;5;241m.\u001b[39mcolumns\u001b[38;5;241m.\u001b[39mtolist()])\n\u001b[0;32m     13\u001b[0m bureau \u001b[38;5;241m=\u001b[39m bureau\u001b[38;5;241m.\u001b[39mjoin(bb_agg, how\u001b[38;5;241m=\u001b[39m\u001b[38;5;124m'\u001b[39m\u001b[38;5;124mleft\u001b[39m\u001b[38;5;124m'\u001b[39m, on\u001b[38;5;241m=\u001b[39m\u001b[38;5;124m'\u001b[39m\u001b[38;5;124mSK_ID_BUREAU\u001b[39m\u001b[38;5;124m'\u001b[39m)\n",
            "File \u001b[1;32mD:\\DataScientist\\Anaconda\\lib\\site-packages\\pandas\\core\\groupby\\generic.py:869\u001b[0m, in \u001b[0;36mDataFrameGroupBy.aggregate\u001b[1;34m(self, func, engine, engine_kwargs, *args, **kwargs)\u001b[0m\n\u001b[0;32m    866\u001b[0m func \u001b[38;5;241m=\u001b[39m maybe_mangle_lambdas(func)\n\u001b[0;32m    868\u001b[0m op \u001b[38;5;241m=\u001b[39m GroupByApply(\u001b[38;5;28mself\u001b[39m, func, args, kwargs)\n\u001b[1;32m--> 869\u001b[0m result \u001b[38;5;241m=\u001b[39m \u001b[43mop\u001b[49m\u001b[38;5;241;43m.\u001b[39;49m\u001b[43magg\u001b[49m\u001b[43m(\u001b[49m\u001b[43m)\u001b[49m\n\u001b[0;32m    870\u001b[0m \u001b[38;5;28;01mif\u001b[39;00m \u001b[38;5;129;01mnot\u001b[39;00m is_dict_like(func) \u001b[38;5;129;01mand\u001b[39;00m result \u001b[38;5;129;01mis\u001b[39;00m \u001b[38;5;129;01mnot\u001b[39;00m \u001b[38;5;28;01mNone\u001b[39;00m:\n\u001b[0;32m    871\u001b[0m     \u001b[38;5;28;01mreturn\u001b[39;00m result\n",
            "File \u001b[1;32mD:\\DataScientist\\Anaconda\\lib\\site-packages\\pandas\\core\\apply.py:168\u001b[0m, in \u001b[0;36mApply.agg\u001b[1;34m(self)\u001b[0m\n\u001b[0;32m    165\u001b[0m     \u001b[38;5;28;01mreturn\u001b[39;00m \u001b[38;5;28mself\u001b[39m\u001b[38;5;241m.\u001b[39mapply_str()\n\u001b[0;32m    167\u001b[0m \u001b[38;5;28;01mif\u001b[39;00m is_dict_like(arg):\n\u001b[1;32m--> 168\u001b[0m     \u001b[38;5;28;01mreturn\u001b[39;00m \u001b[38;5;28;43mself\u001b[39;49m\u001b[38;5;241;43m.\u001b[39;49m\u001b[43magg_dict_like\u001b[49m\u001b[43m(\u001b[49m\u001b[43m)\u001b[49m\n\u001b[0;32m    169\u001b[0m \u001b[38;5;28;01melif\u001b[39;00m is_list_like(arg):\n\u001b[0;32m    170\u001b[0m     \u001b[38;5;66;03m# we require a list, but not a 'str'\u001b[39;00m\n\u001b[0;32m    171\u001b[0m     \u001b[38;5;28;01mreturn\u001b[39;00m \u001b[38;5;28mself\u001b[39m\u001b[38;5;241m.\u001b[39magg_list_like()\n",
            "File \u001b[1;32mD:\\DataScientist\\Anaconda\\lib\\site-packages\\pandas\\core\\apply.py:473\u001b[0m, in \u001b[0;36mApply.agg_dict_like\u001b[1;34m(self)\u001b[0m\n\u001b[0;32m    470\u001b[0m     selected_obj \u001b[38;5;241m=\u001b[39m obj\u001b[38;5;241m.\u001b[39m_selected_obj\n\u001b[0;32m    471\u001b[0m     selection \u001b[38;5;241m=\u001b[39m obj\u001b[38;5;241m.\u001b[39m_selection\n\u001b[1;32m--> 473\u001b[0m arg \u001b[38;5;241m=\u001b[39m \u001b[38;5;28;43mself\u001b[39;49m\u001b[38;5;241;43m.\u001b[39;49m\u001b[43mnormalize_dictlike_arg\u001b[49m\u001b[43m(\u001b[49m\u001b[38;5;124;43m\"\u001b[39;49m\u001b[38;5;124;43magg\u001b[39;49m\u001b[38;5;124;43m\"\u001b[39;49m\u001b[43m,\u001b[49m\u001b[43m \u001b[49m\u001b[43mselected_obj\u001b[49m\u001b[43m,\u001b[49m\u001b[43m \u001b[49m\u001b[43marg\u001b[49m\u001b[43m)\u001b[49m\n\u001b[0;32m    475\u001b[0m \u001b[38;5;28;01mif\u001b[39;00m selected_obj\u001b[38;5;241m.\u001b[39mndim \u001b[38;5;241m==\u001b[39m \u001b[38;5;241m1\u001b[39m:\n\u001b[0;32m    476\u001b[0m     \u001b[38;5;66;03m# key only used for output\u001b[39;00m\n\u001b[0;32m    477\u001b[0m     colg \u001b[38;5;241m=\u001b[39m obj\u001b[38;5;241m.\u001b[39m_gotitem(selection, ndim\u001b[38;5;241m=\u001b[39m\u001b[38;5;241m1\u001b[39m)\n",
            "File \u001b[1;32mD:\\DataScientist\\Anaconda\\lib\\site-packages\\pandas\\core\\apply.py:591\u001b[0m, in \u001b[0;36mApply.normalize_dictlike_arg\u001b[1;34m(self, how, obj, func)\u001b[0m\n\u001b[0;32m    589\u001b[0m     \u001b[38;5;28;01mif\u001b[39;00m \u001b[38;5;28mlen\u001b[39m(cols) \u001b[38;5;241m>\u001b[39m \u001b[38;5;241m0\u001b[39m:\n\u001b[0;32m    590\u001b[0m         cols_sorted \u001b[38;5;241m=\u001b[39m \u001b[38;5;28mlist\u001b[39m(safe_sort(\u001b[38;5;28mlist\u001b[39m(cols)))\n\u001b[1;32m--> 591\u001b[0m         \u001b[38;5;28;01mraise\u001b[39;00m \u001b[38;5;167;01mKeyError\u001b[39;00m(\u001b[38;5;124mf\u001b[39m\u001b[38;5;124m\"\u001b[39m\u001b[38;5;124mColumn(s) \u001b[39m\u001b[38;5;132;01m{\u001b[39;00mcols_sorted\u001b[38;5;132;01m}\u001b[39;00m\u001b[38;5;124m do not exist\u001b[39m\u001b[38;5;124m\"\u001b[39m)\n\u001b[0;32m    593\u001b[0m is_aggregator \u001b[38;5;241m=\u001b[39m \u001b[38;5;28;01mlambda\u001b[39;00m x: \u001b[38;5;28misinstance\u001b[39m(x, (\u001b[38;5;28mlist\u001b[39m, \u001b[38;5;28mtuple\u001b[39m, \u001b[38;5;28mdict\u001b[39m))\n\u001b[0;32m    595\u001b[0m \u001b[38;5;66;03m# if we have a dict of any non-scalars\u001b[39;00m\n\u001b[0;32m    596\u001b[0m \u001b[38;5;66;03m# eg. {'A' : ['mean']}, normalize all to\u001b[39;00m\n\u001b[0;32m    597\u001b[0m \u001b[38;5;66;03m# be list-likes\u001b[39;00m\n\u001b[0;32m    598\u001b[0m \u001b[38;5;66;03m# Cannot use func.values() because arg may be a Series\u001b[39;00m\n",
            "\u001b[1;31mKeyError\u001b[0m: \"Column(s) ['STATUS_0', 'STATUS_1', 'STATUS_2', 'STATUS_3', 'STATUS_4', 'STATUS_5', 'STATUS_C', 'STATUS_X', 'STATUS_nan'] do not exist\""
          ]
        }
      ],
      "source": [
        "df_bureau = bureau_and_balance_test2()"
      ]
    },
    {
      "cell_type": "code",
      "execution_count": null,
      "id": "6e9875c1",
      "metadata": {
        "id": "6e9875c1"
      },
      "outputs": [],
      "source": []
    }
  ],
  "metadata": {
    "kernelspec": {
      "display_name": "Python 3 (ipykernel)",
      "language": "python",
      "name": "python3"
    },
    "language_info": {
      "codemirror_mode": {
        "name": "ipython",
        "version": 3
      },
      "file_extension": ".py",
      "mimetype": "text/x-python",
      "name": "python",
      "nbconvert_exporter": "python",
      "pygments_lexer": "ipython3",
      "version": "3.9.12"
    },
    "colab": {
      "provenance": [],
      "collapsed_sections": [],
      "include_colab_link": true
    }
  },
  "nbformat": 4,
  "nbformat_minor": 5
}